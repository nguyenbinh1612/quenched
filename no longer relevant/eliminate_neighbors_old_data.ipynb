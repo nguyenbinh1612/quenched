{
 "cells": [
  {
   "cell_type": "code",
   "execution_count": 1,
   "id": "511616df-454a-4743-b69b-93ccccfede49",
   "metadata": {},
   "outputs": [],
   "source": [
    "# this sets up basic packages\n",
    "import numpy as np\n",
    "import pandas as pd\n",
    "import astropy.units as u\n",
    "import astropy.cosmology.units as cu\n",
    "\n",
    "# this sets up matplotlib\n",
    "import matplotlib.pyplot as plt\n",
    "%matplotlib inline\n",
    "\n",
    "# this sets up astropy\n",
    "from astropy.io import fits\n",
    "from astropy.table import Table\n",
    "from astropy.wcs import WCS\n",
    "from astropy.wcs.utils import pixel_to_skycoord, skycoord_to_pixel\n",
    "from astropy.utils.data import get_pkg_data_filename\n",
    "from astropy.coordinates import SkyCoord, Angle, match_coordinates_sky, Distance"
   ]
  },
  {
   "cell_type": "code",
   "execution_count": 2,
   "id": "36e13460-b56d-49ee-8b63-4a2829e22503",
   "metadata": {},
   "outputs": [],
   "source": [
    "# this reads in the new neighbor catalog, originally made for CIGALE\n",
    "df = pd.read_csv('post_correction_data.csv')"
   ]
  },
  {
   "cell_type": "code",
   "execution_count": 3,
   "id": "9520e728-c08d-48d7-93a1-d32cd224b176",
   "metadata": {},
   "outputs": [
    {
     "name": "stdout",
     "output_type": "stream",
     "text": [
      "Before all the eliminations, there are a total of 994 sources.\n"
     ]
    }
   ],
   "source": [
    "print('Before all the eliminations, there are a total of', df.shape[0], 'sources.')"
   ]
  },
  {
   "cell_type": "markdown",
   "id": "76f0fae3-4633-4751-82d5-6c0a6bfb534d",
   "metadata": {},
   "source": [
    "# <b>CRITERION 1</b>: Minimum of 3 detections, or less if there's A3COSMOS/ALMA data"
   ]
  },
  {
   "cell_type": "code",
   "execution_count": 5,
   "id": "104839bf-2c11-4a59-a580-b1c736306ca9",
   "metadata": {},
   "outputs": [],
   "source": [
    "# in a previous .csv file, all the neighbors are id'd based on their central galaxy.\n",
    "# since this id is such a minor part of our work and isn't present in our later .csv or .txt files,\n",
    "# we just retrieve these \"our_id\" values from the old .csv file, and then use them for our new work.\n",
    "df2 = pd.read_csv('neighbor_data.csv')\n",
    "df2 = df2[df2['id'].duplicated(keep='first')==False]\n",
    "catalog_id = df2['id']\n",
    "our_id = df2['our_id']\n",
    "our_ra = df2['ra']\n",
    "our_dec = df2['dec']\n",
    "our_z = df2['z_spec']"
   ]
  },
  {
   "cell_type": "code",
   "execution_count": 6,
   "id": "dbf390be-873f-48c4-9ca9-8db191b2fca7",
   "metadata": {},
   "outputs": [
    {
     "name": "stdout",
     "output_type": "stream",
     "text": [
      "Filename: /Volumes/LaCie/COSMOS_DATA/a3cosmos_blind.fits\n",
      "No.    Name      Ver    Type      Cards   Dimensions   Format\n",
      "  0  PRIMARY       1 PrimaryHDU      45   ()      \n",
      "  1  J_ApJS_244_40_blind    1 BinTableHDU    115   1134R x 16C   [D, D, D, D, E, E, E, E, E, E, E, D, E, E, E, B]   \n"
     ]
    }
   ],
   "source": [
    "# this opens the HDU list of the .fits catalog from A3COSMOS\n",
    "hdu_list = fits.open('/Volumes/LaCie/COSMOS_DATA/a3cosmos_blind.fits')\n",
    "hdu_list.info()\n",
    "\n",
    "# this gets the data of the catalog\n",
    "a3cosmos = hdu_list[1].data"
   ]
  },
  {
   "cell_type": "code",
   "execution_count": 7,
   "id": "adb14330-b418-47dc-a1ed-2796c86bc4fe",
   "metadata": {},
   "outputs": [
    {
     "name": "stdout",
     "output_type": "stream",
     "text": [
      "2 is the number of matches between the A3COSMOS and the spectroscopic catalogs.\n"
     ]
    }
   ],
   "source": [
    "### matching coords from the A3COSMOS catalog using SkyCoord \n",
    "# create SkyCoord arrays (?) with the RA and Dec of the galaxies in both catalogs\n",
    "radio_cat = SkyCoord(ra=a3cosmos['RAJ2000']*u.degree, dec=a3cosmos['DEJ2000']*u.degree)\n",
    "spec_cat = SkyCoord(ra=our_ra.values*u.degree, dec=our_dec.values*u.degree)\n",
    "\n",
    "# use search_around_sky to find matching indices (matching in RA and Dec) in each catalog\n",
    "idx_radio, idx_spec, d2d, d3d = spec_cat.search_around_sky(radio_cat, 1*u.arcsec)\n",
    "\n",
    "# use the matching indices to the new catalog to see where we have ground-based data of our neighbors\n",
    "print(np.size(idx_radio), 'is the number of matches between the A3COSMOS and the spectroscopic catalogs.')"
   ]
  },
  {
   "cell_type": "code",
   "execution_count": 8,
   "id": "ac828be5-9d63-4467-b1c2-68a99bd3e7b7",
   "metadata": {},
   "outputs": [],
   "source": [
    "# this calls the names of all the columns with flux measurements for all the galaxies\n",
    "f_cols = [col for col in df.columns if '_err' not in col and col != 'id' and col != 'redshift']"
   ]
  },
  {
   "cell_type": "code",
   "execution_count": 9,
   "id": "f82af9b3-8c48-4148-8f90-c0e132d92cc7",
   "metadata": {},
   "outputs": [
    {
     "name": "stdout",
     "output_type": "stream",
     "text": [
      "849 is the total amount of neighbors that pass criterion 1.\n"
     ]
    }
   ],
   "source": [
    "# this saves all the neighbor ids that pass criterion 1\n",
    "crit1_neigh_id = []\n",
    "\n",
    "# this loops over all the galaxies from the .csv file, then reads their corresponding fluxes\n",
    "# in all our bands to see if each of them has at least 3 different detections. if said galaxy does, \n",
    "# then we save the id of that galaxy, meaning that it passes criterion 1.\n",
    "\n",
    "# this loops over each of the 9 QGs in our sample group\n",
    "for id in catalog_id.values:\n",
    "    \n",
    "    # this retrieves all the corresponding fluxes of the galaxy with the id called\n",
    "    all_bands = df[df['id'] == id][f_cols].values\n",
    "\n",
    "    # this counts how many of these fluxes are non-zeros (i.e. how many detections there are)\n",
    "    available_fluxes = np.count_nonzero(all_bands)\n",
    "\n",
    "    # this adds the galaxy's id into crit1_neigh_id if the galaxy has more than 3 detections\n",
    "    if available_fluxes >= 3:\n",
    "        crit1_neigh_id.append(id)\n",
    "        \n",
    "print(len(crit1_neigh_id), 'is the total amount of neighbors that pass criterion 1.')"
   ]
  },
  {
   "cell_type": "markdown",
   "id": "001d2227-6910-4180-85d9-25ca7a1ea5af",
   "metadata": {},
   "source": [
    "# <b>CRITERION 2:</b> |z$_{QG}$ - z$_{gal}$| < 0.5"
   ]
  },
  {
   "cell_type": "code",
   "execution_count": 11,
   "id": "ea9c5d16-3ce7-4713-88e0-a88699e19d7c",
   "metadata": {},
   "outputs": [
    {
     "name": "stdout",
     "output_type": "stream",
     "text": [
      "Filename: out_all 2.35.35 PM/results.fits\n",
      "No.    Name      Ver    Type      Cards   Dimensions   Format\n",
      "  0  PRIMARY       1 PrimaryHDU       4   ()      \n",
      "  1                1 BinTableHDU    386   994R x 127C   [K, D, D, D, D, D, D, D, D, D, D, D, D, D, D, D, D, D, D, D, D, D, D, D, D, D, D, D, D, D, D, D, D, D, D, D, D, D, D, D, D, D, D, D, D, D, D, D, D, D, D, D, D, D, D, D, D, D, D, D, D, D, D, D, D, D, D, D, D, D, D, D, D, D, D, D, D, D, D, D, D, D, D, D, D, D, D, D, D, D, D, D, D, D, D, D, D, D, D, D, D, D, D, D, D, D, D, D, D, D, D, D, D, D, D, D, D, D, D, D, D, D, D, D, D, D, D]   \n"
     ]
    }
   ],
   "source": [
    "# this reads in the results FITS file that CIGALE made\n",
    "cigale_results = fits.open('out_all 2.35.35 PM/results.fits')\n",
    "cigale_results.info()"
   ]
  },
  {
   "cell_type": "code",
   "execution_count": 12,
   "id": "ae8ead10-8c7c-4fbf-b78d-bb1b77a9ed72",
   "metadata": {},
   "outputs": [],
   "source": [
    "# this gets the data from the results FITS file\n",
    "cigale_data = Table(cigale_results[1].data).to_pandas()"
   ]
  },
  {
   "cell_type": "code",
   "execution_count": 13,
   "id": "883b0a51-87b1-4dbf-a3df-299a4c82e2f1",
   "metadata": {},
   "outputs": [],
   "source": [
    "# this selects only the rows in cigale_data and our_id\n",
    "# whose corresponding source already passed criterion 1\n",
    "reduced_cigale = cigale_data.loc[cigale_data['id'].isin(crit1_neigh_id)]\n",
    "reduced_our_id = our_id[catalog_id.isin(crit1_neigh_id)]"
   ]
  },
  {
   "cell_type": "code",
   "execution_count": 14,
   "id": "4a17ec0d-e2aa-4f02-8c2b-85739575b561",
   "metadata": {},
   "outputs": [],
   "source": [
    "cigale_id = reduced_cigale['id'].values\n",
    "cigale_z = reduced_cigale['bayes.universe.redshift'].values\n",
    "cigale_z_err = reduced_cigale['bayes.universe.redshift_err'].values"
   ]
  },
  {
   "cell_type": "code",
   "execution_count": 15,
   "id": "7bc8af90-3cbb-493a-8955-820615d3fa30",
   "metadata": {},
   "outputs": [],
   "source": [
    "# now read in the RAs and Decs of our 9 galaxies\n",
    "info = np.genfromtxt('basic_data.txt', delimiter=' ', dtype=['U15', '<f8','<f8', '<f8'])\n",
    "\n",
    "# this gets the galaxy redshifts for all the 9 galaxies\n",
    "galaxy_redshift = np.zeros(np.size(info), dtype=float)\n",
    "for i in range(np.size(info)):\n",
    "    galaxy_redshift[i] = info[i][3]"
   ]
  },
  {
   "cell_type": "code",
   "execution_count": 16,
   "id": "65b292ea-23a0-4abe-8b77-050e65f4f8c2",
   "metadata": {},
   "outputs": [
    {
     "name": "stdout",
     "output_type": "stream",
     "text": [
      "160 is the total amount of neighbors that pass criterion 2.\n"
     ]
    }
   ],
   "source": [
    "# this saves all the neighbor ids that pass criterion 2\n",
    "crit2_neigh_id = []\n",
    "\n",
    "# this loops over each of the 9 QGs in our sample group\n",
    "for our_galaxy in range(np.size(galaxy_redshift)):\n",
    "    # this selects the neighbor IDs, ONLY the ones that passed criterion 1\n",
    "    neigh_id = np.array(cigale_id[reduced_our_id==our_galaxy])\n",
    "\n",
    "    # this reads in the estimated z and errors of all the neighbors around each galaxy that passed criterion 1\n",
    "    neigh_z = np.array(cigale_z[reduced_our_id==our_galaxy])\n",
    "    neigh_z_err = np.array(cigale_z_err[reduced_our_id==our_galaxy])\n",
    "\n",
    "    # this sets criterion 2\n",
    "    criteria = (np.abs(neigh_z + neigh_z_err - galaxy_redshift[our_galaxy]) <= 0.5) | (np.abs(neigh_z - neigh_z_err - galaxy_redshift[our_galaxy]) <= 0.5)\n",
    "\n",
    "    # this finds neighbor IDs that pass criterion 2\n",
    "    ok_neigh_id = neigh_id[criteria]\n",
    "\n",
    "    # this saves the indices of the neighbors that pass criterion 2\n",
    "    crit2_neigh_id.extend(ok_neigh_id)\n",
    "\n",
    "print(len(crit2_neigh_id), 'is the total amount of neighbors that pass criterion 2.')"
   ]
  },
  {
   "cell_type": "code",
   "execution_count": 17,
   "id": "b7c7549a-1d9c-4361-b282-f59c9efe2a29",
   "metadata": {},
   "outputs": [],
   "source": [
    "with open('old_data_potential_neighbors.txt', 'w') as f:\n",
    "    for id in crit2_neigh_id:\n",
    "        f.write(f\"{id}\\n\")"
   ]
  },
  {
   "cell_type": "markdown",
   "id": "10c8adaa-1091-4070-a50e-d9e8448b1f60",
   "metadata": {},
   "source": [
    "# <b>Penultimate Elimination</b>\n",
    "\n",
    "After visually inspecting all the 160 fits, we separate them into good fits, fits that need to be rerun without nebular emissions, fits that need to be checked by looking at the postage stamp (and later rerunning without nebular emissions), and completely bad fits. Below are the IDs that belong to each category."
   ]
  },
  {
   "cell_type": "code",
   "execution_count": 23,
   "id": "2ef0f602-77bb-4904-84e7-59ac5cddde07",
   "metadata": {},
   "outputs": [],
   "source": [
    "nebular_rerun = np.array([659622, 756994, 661909, 642604, 614224, 614320, 614548, 614670, \n",
    "                 659534, 661661, 661662, 661988, 661989, 662092, 756380, 756650, \n",
    "                 757025, 759202, 781608, 781845, 784642, 784663, 823371, 759485, \n",
    "                 759140, 759207, 829990, 780261, 757435, 757212, 659693, 614256, \n",
    "                 641835, 641328, 614660, 614700], dtype='object')"
   ]
  },
  {
   "cell_type": "code",
   "execution_count": 24,
   "id": "0a995eff-3313-4e2c-aedf-7c9210b5373b",
   "metadata": {},
   "outputs": [],
   "source": [
    "postage_check = np.array([614453, 660158, 661580, 661675, 661906, 780995, 759290, 824112,\n",
    "                         781056, 642340, 642380, 614114], dtype='object')"
   ]
  },
  {
   "cell_type": "code",
   "execution_count": 25,
   "id": "23bff759-c2b6-431a-acba-9aa39326e26e",
   "metadata": {},
   "outputs": [],
   "source": [
    "garbage = np.array([614134, 614257, 641889, 642233, 642502, 642581, 642605,\n",
    "                    659467, 661883, 661884, 683294, 683364, 684046, 684102, 756594, \n",
    "                    757210, 782194, 782746, 783117, 783144, 783257, 784766, 823655, 823981, 830151, 680965], dtype='object')"
   ]
  },
  {
   "cell_type": "code",
   "execution_count": 26,
   "id": "f2f67dec-0263-4d4a-8206-b733e85d1be7",
   "metadata": {},
   "outputs": [],
   "source": [
    "good_fits_nebular = np.setdiff1d(crit2_neigh_id, np.concatenate((nebular_rerun, postage_check, garbage)))"
   ]
  },
  {
   "cell_type": "markdown",
   "id": "b50794a3-ea09-4620-ac44-ca6cd1071a8f",
   "metadata": {},
   "source": [
    "# <b>Final Elimination</b>\n",
    "\n",
    "After rerunning both the nebular and postage categories, we select the fits that should be selected without nebular emissions. We also decide which fits with nebular emissions should be kept. Their IDs are entered manually downhere, then combined with the good_fits array."
   ]
  },
  {
   "cell_type": "code",
   "execution_count": 28,
   "id": "cb8a5aaf-4713-4467-b21f-e7ce7fdc8d33",
   "metadata": {},
   "outputs": [],
   "source": [
    "keep_no_nebular = np.array([614224, 614660, 614670, 614700, 659622, 661909, 662092, 756650, 756994, \n",
    "                            757025, 757212, 757435, 659693, 661989, 759140, 759202, \n",
    "                            784663, 824112, 780995], dtype='object')"
   ]
  },
  {
   "cell_type": "code",
   "execution_count": 29,
   "id": "0de50eb3-c41e-4278-a912-6f6f59f9c585",
   "metadata": {},
   "outputs": [],
   "source": [
    "keep_nebular = np.array([756380, 781608, 780261, 823371, 829990, 614114, 781056], dtype='object')"
   ]
  },
  {
   "cell_type": "code",
   "execution_count": 111,
   "id": "2d6d532e-5cf0-4cc0-83f7-2fa4c6cc29d5",
   "metadata": {},
   "outputs": [],
   "source": [
    "good_fits_nebular = np.concatenate((good_fits_nebular, keep_nebular))\n",
    "good_fits_no_nebular = keep_no_nebular"
   ]
  },
  {
   "cell_type": "code",
   "execution_count": 115,
   "id": "097871de-eeca-4400-bb12-e9744cb14eda",
   "metadata": {},
   "outputs": [],
   "source": [
    "good_fits_list = np.concatenate((good_fits_nebular, good_fits_no_nebular)).tolist()"
   ]
  },
  {
   "cell_type": "code",
   "execution_count": 117,
   "id": "50546d54-2e6a-496f-b4a8-640ebb335688",
   "metadata": {},
   "outputs": [],
   "source": [
    "with open('old_good_fits.txt', 'w') as f:\n",
    "    for idx in good_fits_list:\n",
    "        f.write(f\"{idx}\\n\")"
   ]
  },
  {
   "cell_type": "markdown",
   "id": "620ce6c9-8531-4102-b7ff-d16f13a25083",
   "metadata": {},
   "source": [
    "That is done! Let's move on to the new sample, which took 1.5 days to be made."
   ]
  },
  {
   "cell_type": "code",
   "execution_count": 31,
   "id": "e27a3473-6c7a-4db1-a1cc-d6c072aa2ef5",
   "metadata": {},
   "outputs": [
    {
     "name": "stdout",
     "output_type": "stream",
     "text": [
      "Filename: out_no_nebular/results.fits\n",
      "No.    Name      Ver    Type      Cards   Dimensions   Format\n",
      "  0  PRIMARY       1 PrimaryHDU       4   ()      \n",
      "  1                1 BinTableHDU    368   36R x 121C   [K, D, D, D, D, D, D, D, D, D, D, D, D, D, D, D, D, D, D, D, D, D, D, D, D, D, D, D, D, D, D, D, D, D, D, D, D, D, D, D, D, D, D, D, D, D, D, D, D, D, D, D, D, D, D, D, D, D, D, D, D, D, D, D, D, D, D, D, D, D, D, D, D, D, D, D, D, D, D, D, D, D, D, D, D, D, D, D, D, D, D, D, D, D, D, D, D, D, D, D, D, D, D, D, D, D, D, D, D, D, D, D, D, D, D, D, D, D, D, D, D]   \n"
     ]
    }
   ],
   "source": [
    "# this reads in the FIRST results.fits file that CIGALE made without nebular emissions\n",
    "cigale_noneb1 = fits.open('out_no_nebular/results.fits')\n",
    "cigale_noneb1.info()\n",
    "\n",
    "# this gets the data from the FIRST results.fits file\n",
    "cigale_data_noneb1 = Table(cigale_noneb1[1].data).to_pandas()\n",
    "\n",
    "# this takes the CIGALE-generated info\n",
    "info_good_fits_noneb1 = cigale_data_noneb1.loc[cigale_data_noneb1['id'].isin(good_fits_no_nebular)]"
   ]
  },
  {
   "cell_type": "code",
   "execution_count": 32,
   "id": "15125d5a-102d-4735-8abd-cba1e52878f3",
   "metadata": {},
   "outputs": [
    {
     "name": "stdout",
     "output_type": "stream",
     "text": [
      "Filename: out_postage_recheck/results.fits\n",
      "No.    Name      Ver    Type      Cards   Dimensions   Format\n",
      "  0  PRIMARY       1 PrimaryHDU       4   ()      \n",
      "  1                1 BinTableHDU    368   12R x 121C   [K, D, D, D, D, D, D, D, D, D, D, D, D, D, D, D, D, D, D, D, D, D, D, D, D, D, D, D, D, D, D, D, D, D, D, D, D, D, D, D, D, D, D, D, D, D, D, D, D, D, D, D, D, D, D, D, D, D, D, D, D, D, D, D, D, D, D, D, D, D, D, D, D, D, D, D, D, D, D, D, D, D, D, D, D, D, D, D, D, D, D, D, D, D, D, D, D, D, D, D, D, D, D, D, D, D, D, D, D, D, D, D, D, D, D, D, D, D, D, D, D]   \n"
     ]
    }
   ],
   "source": [
    "# this reads in the SECOND results.fits file that CIGALE made without nebular emissions\n",
    "cigale_noneb2 = fits.open('out_postage_recheck/results.fits')\n",
    "cigale_noneb2.info()\n",
    "\n",
    "# this gets the data from the SECOND results.fits file\n",
    "cigale_data_noneb2 = Table(cigale_noneb2[1].data).to_pandas()\n",
    "\n",
    "# this takes the CIGALE-generated info\n",
    "info_good_fits_noneb2 = cigale_data_noneb2.loc[cigale_data_noneb2['id'].isin(good_fits_no_nebular)]"
   ]
  },
  {
   "cell_type": "code",
   "execution_count": 33,
   "id": "7e7549e6-8e25-4839-8b00-e6791b610925",
   "metadata": {},
   "outputs": [],
   "source": [
    "# now, make one mega DataFrame with all the good no-nebular fits\n",
    "info_good_fits_noneb = pd.concat([info_good_fits_noneb1, info_good_fits_noneb2])"
   ]
  },
  {
   "cell_type": "code",
   "execution_count": 34,
   "id": "2c6a773b-7d1b-4522-967a-1a85ccb9683e",
   "metadata": {},
   "outputs": [],
   "source": [
    "# finally, make one mega DataFrame with all the good with-nebular fits\n",
    "info_good_fits_nebular = cigale_data.loc[cigale_data['id'].isin(good_fits_nebular)]"
   ]
  },
  {
   "cell_type": "markdown",
   "id": "02375610-e603-4e18-b913-cb907f9c5785",
   "metadata": {},
   "source": [
    "# <b>Final DataFrame</b>\n",
    "\n",
    "Now, we make one FINAL DataFrame with all our potential neighbors. We also retrieve their RA and Dec from the original <b>neighbor_data.csv</b> file.\n"
   ]
  },
  {
   "cell_type": "code",
   "execution_count": 36,
   "id": "a0e5bd4a-fb98-40c0-8f12-64911fbb8652",
   "metadata": {},
   "outputs": [],
   "source": [
    "info_good_fits = pd.concat([info_good_fits_noneb, info_good_fits_nebular])"
   ]
  },
  {
   "cell_type": "code",
   "execution_count": 37,
   "id": "f6d1b2d6-5fa8-43ff-818a-2b0bb8827f82",
   "metadata": {},
   "outputs": [],
   "source": [
    "# these lines retrieve their RA and Dec from the original neighbor_data.csv file\n",
    "good_fits_ra = df2[['id', 'ra']].loc[catalog_id.isin(info_good_fits['id'].values)]\n",
    "good_fits_dec = df2[['id', 'dec']].loc[catalog_id.isin(info_good_fits['id'].values)]"
   ]
  },
  {
   "cell_type": "code",
   "execution_count": 38,
   "id": "a0445cc1-e6e4-4b89-aeb0-59c56aae8938",
   "metadata": {},
   "outputs": [],
   "source": [
    "# this creates a DataFrame with the RA and Dec of our good-fits neighbors\n",
    "good_fits_df = pd.merge(pd.merge(info_good_fits, good_fits_ra, on=\"id\", how=\"left\"), good_fits_dec, on=\"id\", how=\"left\")"
   ]
  },
  {
   "cell_type": "code",
   "execution_count": 39,
   "id": "a565aea9-3cd6-4c39-956d-8629eb5cf049",
   "metadata": {},
   "outputs": [],
   "source": [
    "final_df = good_fits_df[['id', 'ra', 'dec', 'bayes.universe.redshift', 'bayes.universe.redshift_err', \n",
    "                         'bayes.stellar.m_star', 'bayes.stellar.m_star_err', 'bayes.sfh.sfr', \n",
    "                         'bayes.sfh.sfr_err', 'bayes.sfh.sfr100Myrs', 'bayes.sfh.sfr100Myrs_err', \n",
    "                         'bayes.attenuation.E_BVs', 'bayes.attenuation.E_BVs_err']]"
   ]
  },
  {
   "cell_type": "markdown",
   "id": "11583e4c-c138-4089-8ee6-bcfb722c504a",
   "metadata": {},
   "source": [
    "## <b>BEHOLD!</b> Our final table!"
   ]
  },
  {
   "cell_type": "code",
   "execution_count": 41,
   "id": "fbe7a257-e63a-4fde-9eb1-c6b2f55b3282",
   "metadata": {},
   "outputs": [
    {
     "name": "stdout",
     "output_type": "stream",
     "text": [
      "         id          ra       dec  bayes.universe.redshift  \\\n",
      "0    756650  150.059622  2.379230                 4.857374   \n",
      "1    756994  150.065793  2.380723                 4.937202   \n",
      "2    757025  150.066598  2.380856                 4.934577   \n",
      "3    757212  150.066115  2.383224                 2.310612   \n",
      "4    757435  150.069042  2.384513                 1.660271   \n",
      "..      ...         ...       ...                      ...   \n",
      "136  823918  150.112749  2.330474                 4.032831   \n",
      "137  823998  150.106560  2.333423                 4.083596   \n",
      "138  824034  150.108001  2.333181                 2.498904   \n",
      "139  824065  150.112878  2.331558                 2.273188   \n",
      "140  824190  150.108294  2.334233                 4.166410   \n",
      "\n",
      "     bayes.universe.redshift_err  bayes.stellar.m_star  \\\n",
      "0                       0.210896          2.476156e+09   \n",
      "1                       0.129637          1.921869e+09   \n",
      "2                       0.160069          3.589874e+09   \n",
      "3                       1.975078          4.860648e+07   \n",
      "4                       1.714578          4.740173e+07   \n",
      "..                           ...                   ...   \n",
      "136                     1.201176          2.390376e+08   \n",
      "137                     1.173910          1.780884e+08   \n",
      "138                     0.274120          3.332183e+07   \n",
      "139                     1.373480          1.765787e+07   \n",
      "140                     0.535599          1.475570e+08   \n",
      "\n",
      "     bayes.stellar.m_star_err  bayes.sfh.sfr  bayes.sfh.sfr_err  \\\n",
      "0                5.776453e+08       4.082569           6.926329   \n",
      "1                2.773408e+08       5.041217           1.369508   \n",
      "2                4.712428e+08       2.005455           1.520948   \n",
      "3                5.570443e+07       0.701450           0.888249   \n",
      "4                7.491466e+07       0.347077           0.620998   \n",
      "..                        ...            ...                ...   \n",
      "136              1.329441e+08       1.164570           0.704235   \n",
      "137              1.112675e+08       1.449340           0.713589   \n",
      "138              1.174775e+07       0.222789           0.081977   \n",
      "139              1.262856e+07       0.352016           0.271054   \n",
      "140              5.801090e+07       1.160095           0.513051   \n",
      "\n",
      "     bayes.sfh.sfr100Myrs  bayes.sfh.sfr100Myrs_err  bayes.attenuation.E_BVs  \\\n",
      "0                3.818634                  4.494412                 0.041253   \n",
      "1                5.432712                  1.651806                 0.014609   \n",
      "2                2.937276                  1.231834                 0.030491   \n",
      "3                0.477021                  0.564688                 0.009082   \n",
      "4                0.300302                  0.483135                 0.016500   \n",
      "..                    ...                       ...                      ...   \n",
      "136              1.157165                  0.566211                 0.012505   \n",
      "137              1.243425                  0.516095                 0.004613   \n",
      "138              0.210762                  0.049898                 0.007213   \n",
      "139              0.210013                  0.158681                 0.004606   \n",
      "140              0.986643                  0.248689                 0.018393   \n",
      "\n",
      "     bayes.attenuation.E_BVs_err  \n",
      "0                       0.076094  \n",
      "1                       0.026910  \n",
      "2                       0.030979  \n",
      "3                       0.027108  \n",
      "4                       0.035044  \n",
      "..                           ...  \n",
      "136                     0.028165  \n",
      "137                     0.016457  \n",
      "138                     0.019318  \n",
      "139                     0.018501  \n",
      "140                     0.030994  \n",
      "\n",
      "[141 rows x 13 columns]\n"
     ]
    }
   ],
   "source": [
    "print(final_df)"
   ]
  },
  {
   "cell_type": "code",
   "execution_count": 42,
   "id": "b751fec6-fd38-4ee7-8660-4349dd0b1c3b",
   "metadata": {},
   "outputs": [
    {
     "name": "stdout",
     "output_type": "stream",
     "text": [
      "[-8.78284444 -8.58118825 -9.25286631 -7.84069773 -8.1353689  -9.15455099\n",
      " -9.27045804 -8.43667232 -8.52604757 -8.1688732  -8.56711234 -8.09363406\n",
      " -8.61743984 -8.52839381 -9.26771525 -8.46765442 -7.86749392 -8.27318666\n",
      " -7.70013198 -8.29227087 -8.34852384 -7.6589975  -8.10439758 -7.68472539\n",
      " -8.61164513 -7.84421944 -7.67226654 -7.78965721 -8.22190167 -7.81346115\n",
      " -7.8839835  -7.72657463 -8.2510691  -7.67824205 -7.99171926 -7.72559107\n",
      " -8.45504363 -8.45358373 -7.97081842 -8.60673853 -7.65101139 -7.81276136\n",
      " -7.66879259 -8.50908295 -8.32677748 -7.68615341 -8.18376831 -7.75501265\n",
      " -8.58592218 -7.9334898  -8.04901601 -8.54885804 -8.52538661 -7.66942532\n",
      " -7.75964946 -7.92879092 -7.67771015 -8.28362128 -8.38947721 -8.1123267\n",
      " -8.58173956 -9.23913881 -7.95456583 -9.277879   -8.86683145 -7.70355671\n",
      " -8.25206934 -7.71835695 -7.70297003 -8.17288632 -7.68251918 -8.34735913\n",
      " -8.2474261  -7.9975137  -8.45069732 -7.64341893 -8.3599397  -8.30392679\n",
      " -8.24565257 -8.00111108 -7.91147153 -8.2969749  -7.69971321 -7.73891686\n",
      " -8.0580565  -8.21989074 -7.65058397 -8.08189035 -8.16613869 -8.37252168\n",
      " -8.06645804 -7.83698764 -8.10111854 -8.26205115 -8.09645634 -7.88414843\n",
      " -7.73198254 -8.21901458 -7.66438001 -7.70585916 -8.30701021 -7.62608602\n",
      " -8.28067968 -7.92275106 -8.19872271 -8.10477177 -8.17912219 -8.09618185\n",
      " -8.25290277 -7.74908463 -8.141515   -7.98261179 -8.12859533 -7.8490114\n",
      " -7.89692511 -8.33691408 -7.89106562 -7.9949322  -8.40079788 -8.32965703\n",
      " -7.6201855  -7.99376301 -8.20172923 -7.81182581 -8.51963058 -8.58259025\n",
      " -8.45136062 -7.72192027 -8.50719374 -8.37812357 -8.34343331 -7.99541055\n",
      " -7.9723098  -7.9097193  -8.22896166 -8.17619045 -8.31230064 -8.08946539\n",
      " -8.17483424 -7.70037647 -8.1044663 ]\n"
     ]
    },
    {
     "data": {
      "text/plain": [
       "Text(0.5, 1.0, 'histogram of sSFR')"
      ]
     },
     "execution_count": 42,
     "metadata": {},
     "output_type": "execute_result"
    },
    {
     "data": {
      "image/png": "[encoded data removed]",
      "text/plain": [
       "<Figure size 640x480 with 1 Axes>"
      ]
     },
     "metadata": {},
     "output_type": "display_data"
    }
   ],
   "source": [
    "m_star = final_df['bayes.stellar.m_star'].values\n",
    "sfr = final_df['bayes.sfh.sfr'].values\n",
    "ssfr = np.log10(sfr/m_star)\n",
    "print(ssfr)\n",
    "plt.hist(ssfr)\n",
    "plt.title('histogram of sSFR')"
   ]
  },
  {
   "cell_type": "code",
   "execution_count": 43,
   "id": "737db02f-d4de-4aa1-9b79-67f6c2f805c7",
   "metadata": {},
   "outputs": [
    {
     "data": {
      "text/plain": [
       "(array([97., 30.,  3.,  4.,  4.,  0.,  0.,  0.,  2.,  1.]),\n",
       " array([1.43942478e-08, 1.65725437e-01, 3.31450859e-01, 4.97176281e-01,\n",
       "        6.62901704e-01, 8.28627126e-01, 9.94352548e-01, 1.16007797e+00,\n",
       "        1.32580339e+00, 1.49152881e+00, 1.65725424e+00]),\n",
       " <BarContainer object of 10 artists>)"
      ]
     },
     "execution_count": 43,
     "metadata": {},
     "output_type": "execute_result"
    },
    {
     "data": {
      "image/png": "[encoded data removed]",
      "text/plain": [
       "<Figure size 640x480 with 1 Axes>"
      ]
     },
     "metadata": {},
     "output_type": "display_data"
    }
   ],
   "source": [
    "plt.hist(final_df['bayes.attenuation.E_BVs']*3.2)"
   ]
  },
  {
   "cell_type": "markdown",
   "id": "30227665-5612-4cb1-a36e-8fe769366989",
   "metadata": {},
   "source": [
    "## NOTES: Aug 20, 2024.<br>\n",
    "### formatting stuff for our table:<br>\n",
    "### M*: log10(mass) $\\pm$ (0.434$\\frac{uncertainty}{mass}$)<br>\n",
    "### SFR: leave NO decimal\n",
    "### z$_{phot}$: leave one significant figure (tenth decimal), same for error\n",
    "### RA, Dec: follow form 00:00:00.00 (use code)\n",
    "### log10(specific SFR) where Specific SFR = $\\frac{SFR}{M*}$ and follows form \"-8.2\" or \"-12\"\n",
    "### in cases where specific SFR < -12, just say \"< -12\".\n",
    "### in cases where SFR is beyond one decimal point (0.03) then write 0. maybe note this down."
   ]
  },
  {
   "cell_type": "code",
   "execution_count": 45,
   "id": "d33a829d-4752-4abf-9d3f-9ac885bff9ab",
   "metadata": {},
   "outputs": [
    {
     "data": {
      "text/html": [
       "<div>\n",
       "<style scoped>\n",
       "    .dataframe tbody tr th:only-of-type {\n",
       "        vertical-align: middle;\n",
       "    }\n",
       "\n",
       "    .dataframe tbody tr th {\n",
       "        vertical-align: top;\n",
       "    }\n",
       "\n",
       "    .dataframe thead th {\n",
       "        text-align: right;\n",
       "    }\n",
       "</style>\n",
       "<table border=\"1\" class=\"dataframe\">\n",
       "  <thead>\n",
       "    <tr style=\"text-align: right;\">\n",
       "      <th></th>\n",
       "      <th>ra</th>\n",
       "      <th>dec</th>\n",
       "      <th>bayes.stellar.m_star</th>\n",
       "      <th>bayes.sfh.sfr</th>\n",
       "      <th>bayes.universe.redshift</th>\n",
       "    </tr>\n",
       "  </thead>\n",
       "  <tbody>\n",
       "    <tr>\n",
       "      <th>0</th>\n",
       "      <td>150.059622</td>\n",
       "      <td>2.379230</td>\n",
       "      <td>2.476156e+09</td>\n",
       "      <td>4.082569</td>\n",
       "      <td>4.857374</td>\n",
       "    </tr>\n",
       "    <tr>\n",
       "      <th>1</th>\n",
       "      <td>150.065793</td>\n",
       "      <td>2.380723</td>\n",
       "      <td>1.921869e+09</td>\n",
       "      <td>5.041217</td>\n",
       "      <td>4.937202</td>\n",
       "    </tr>\n",
       "    <tr>\n",
       "      <th>2</th>\n",
       "      <td>150.066598</td>\n",
       "      <td>2.380856</td>\n",
       "      <td>3.589874e+09</td>\n",
       "      <td>2.005455</td>\n",
       "      <td>4.934577</td>\n",
       "    </tr>\n",
       "    <tr>\n",
       "      <th>3</th>\n",
       "      <td>150.066115</td>\n",
       "      <td>2.383224</td>\n",
       "      <td>4.860648e+07</td>\n",
       "      <td>0.701450</td>\n",
       "      <td>2.310612</td>\n",
       "    </tr>\n",
       "    <tr>\n",
       "      <th>4</th>\n",
       "      <td>150.069042</td>\n",
       "      <td>2.384513</td>\n",
       "      <td>4.740173e+07</td>\n",
       "      <td>0.347077</td>\n",
       "      <td>1.660271</td>\n",
       "    </tr>\n",
       "    <tr>\n",
       "      <th>...</th>\n",
       "      <td>...</td>\n",
       "      <td>...</td>\n",
       "      <td>...</td>\n",
       "      <td>...</td>\n",
       "      <td>...</td>\n",
       "    </tr>\n",
       "    <tr>\n",
       "      <th>136</th>\n",
       "      <td>150.112749</td>\n",
       "      <td>2.330474</td>\n",
       "      <td>2.390376e+08</td>\n",
       "      <td>1.164570</td>\n",
       "      <td>4.032831</td>\n",
       "    </tr>\n",
       "    <tr>\n",
       "      <th>137</th>\n",
       "      <td>150.106560</td>\n",
       "      <td>2.333423</td>\n",
       "      <td>1.780884e+08</td>\n",
       "      <td>1.449340</td>\n",
       "      <td>4.083596</td>\n",
       "    </tr>\n",
       "    <tr>\n",
       "      <th>138</th>\n",
       "      <td>150.108001</td>\n",
       "      <td>2.333181</td>\n",
       "      <td>3.332183e+07</td>\n",
       "      <td>0.222789</td>\n",
       "      <td>2.498904</td>\n",
       "    </tr>\n",
       "    <tr>\n",
       "      <th>139</th>\n",
       "      <td>150.112878</td>\n",
       "      <td>2.331558</td>\n",
       "      <td>1.765787e+07</td>\n",
       "      <td>0.352016</td>\n",
       "      <td>2.273188</td>\n",
       "    </tr>\n",
       "    <tr>\n",
       "      <th>140</th>\n",
       "      <td>150.108294</td>\n",
       "      <td>2.334233</td>\n",
       "      <td>1.475570e+08</td>\n",
       "      <td>1.160095</td>\n",
       "      <td>4.166410</td>\n",
       "    </tr>\n",
       "  </tbody>\n",
       "</table>\n",
       "<p>141 rows × 5 columns</p>\n",
       "</div>"
      ],
      "text/plain": [
       "             ra       dec  bayes.stellar.m_star  bayes.sfh.sfr  \\\n",
       "0    150.059622  2.379230          2.476156e+09       4.082569   \n",
       "1    150.065793  2.380723          1.921869e+09       5.041217   \n",
       "2    150.066598  2.380856          3.589874e+09       2.005455   \n",
       "3    150.066115  2.383224          4.860648e+07       0.701450   \n",
       "4    150.069042  2.384513          4.740173e+07       0.347077   \n",
       "..          ...       ...                   ...            ...   \n",
       "136  150.112749  2.330474          2.390376e+08       1.164570   \n",
       "137  150.106560  2.333423          1.780884e+08       1.449340   \n",
       "138  150.108001  2.333181          3.332183e+07       0.222789   \n",
       "139  150.112878  2.331558          1.765787e+07       0.352016   \n",
       "140  150.108294  2.334233          1.475570e+08       1.160095   \n",
       "\n",
       "     bayes.universe.redshift  \n",
       "0                   4.857374  \n",
       "1                   4.937202  \n",
       "2                   4.934577  \n",
       "3                   2.310612  \n",
       "4                   1.660271  \n",
       "..                       ...  \n",
       "136                 4.032831  \n",
       "137                 4.083596  \n",
       "138                 2.498904  \n",
       "139                 2.273188  \n",
       "140                 4.166410  \n",
       "\n",
       "[141 rows x 5 columns]"
      ]
     },
     "execution_count": 45,
     "metadata": {},
     "output_type": "execute_result"
    }
   ],
   "source": [
    "final_df[['ra', 'dec', 'bayes.stellar.m_star', 'bayes.sfh.sfr', 'bayes.universe.redshift']]"
   ]
  },
  {
   "cell_type": "code",
   "execution_count": 46,
   "id": "fe143166-d4c9-413e-8ca8-4b9f71ca4546",
   "metadata": {},
   "outputs": [],
   "source": [
    "# this saves the RA and Dec into 00:00:00.00 format, which we'll then use for our LaTeX table.\n",
    "# the code was copy-pasted from Arianna, of course.\n",
    "save_coords = SkyCoord(final_df['ra'].values*u.deg, final_df['dec'].values*u.deg)\n",
    "ras = []\n",
    "decs = []\n",
    "for i in zip(save_coords.ra.hms[0], save_coords.ra.hms[1],save_coords.ra.hms[2]):\n",
    "    if (len(str(round(i[2],2))) >= 5):\n",
    "        ras.append(str(round(i[0])).zfill(2)+':'+str(round(i[1])).zfill(2)+':'+str(round(i[2],2)).zfill(4))\n",
    "    elif ((len(str(round(i[2],2))) == 4) & (round(i[2],2) < 10)):\n",
    "        ras.append(str(round(i[0])).zfill(2)+':'+str(round(i[1])).zfill(2)+':'+str(round(i[2],2)).zfill(5))\n",
    "    else:\n",
    "        ras.append(str(round(i[0])).zfill(2)+':'+str(round(i[1])).zfill(2)+':'+str(round(i[2],2)).zfill(4))\n",
    "for i in zip(save_coords.dec.dms[0], save_coords.dec.dms[1],save_coords.dec.dms[2]):\n",
    "    if (len(str(round(i[2],2))) >= 5):\n",
    "        decs.append('$+$'+str(round(i[0])).zfill(2)+':'+str(round(i[1])).zfill(2)+':'+str(round(i[2],2)).zfill(4))\n",
    "    elif ((len(str(round(i[2],2))) == 4) & (round(i[2],2) < 10)):\n",
    "        decs.append('$+$'+str(round(i[0])).zfill(2)+':'+str(round(i[1])).zfill(2)+':'+str(round(i[2],2)).zfill(5))\n",
    "    else:\n",
    "        decs.append('$+$'+str(round(i[0])).zfill(2)+':'+str(round(i[1])).zfill(2)+':'+str(round(i[2],2)).zfill(4))"
   ]
  },
  {
   "cell_type": "code",
   "execution_count": 47,
   "id": "7e28a268-cf81-4904-b18d-1ce09b304d78",
   "metadata": {},
   "outputs": [],
   "source": [
    "# this saves the redshift values into one-decimal form, which we'll use for our LaTeX table.\n",
    "photz_values = np.round(final_df['bayes.universe.redshift'].values, 1)\n",
    "photz_errors = np.round(final_df['bayes.universe.redshift_err'].values, 1)\n",
    "photz = []\n",
    "for z_idx in range(np.size(photz_values)):\n",
    "    photz.append(str(photz_values[z_idx]) + ' $' + chr(92) + 'pm$ ' + str(photz_errors[z_idx]))"
   ]
  },
  {
   "cell_type": "code",
   "execution_count": 48,
   "id": "10f4d7be-9aea-44d9-962f-31a0bcebaa3e",
   "metadata": {},
   "outputs": [],
   "source": [
    "# this saves the M* into log10(mass) +- (0.434*uncertainty/mass) form, which we'll use for our LaTeX table.\n",
    "mass_values = np.round(np.log10(final_df['bayes.stellar.m_star'].values), 2)\n",
    "mass_errors = np.round(0.434 * final_df['bayes.stellar.m_star_err'].values / final_df['bayes.stellar.m_star'].values, 2)\n",
    "mass = []\n",
    "for m_idx in range(np.size(mass_values)):\n",
    "    mass.append(str(mass_values[m_idx]) + ' $' + chr(92) + 'pm$ ' + str(mass_errors[m_idx]))"
   ]
  },
  {
   "cell_type": "code",
   "execution_count": 49,
   "id": "30eb02e7-1511-4b3b-81e9-69b75fe9c984",
   "metadata": {},
   "outputs": [],
   "source": [
    "# this saves the SFR values into decimal-less form, which we'll use for our LaTeX table.\n",
    "sfr_values = np.round(final_df['bayes.sfh.sfr'].values)\n",
    "sfr_errors = np.round(final_df['bayes.sfh.sfr_err'].values)\n",
    "sfr = []\n",
    "for sfr_idx in range(np.size(sfr_values)):\n",
    "    sfr.append(str(sfr_values[sfr_idx]) + ' $' + chr(92) + 'pm$ ' + str(sfr_errors[sfr_idx]))"
   ]
  },
  {
   "cell_type": "code",
   "execution_count": 50,
   "id": "f3fcc938-15cc-4d49-a81c-c7df3b739a63",
   "metadata": {},
   "outputs": [],
   "source": [
    "# this saves the SSFR values\n",
    "ssfr_calc = np.log10(final_df['bayes.sfh.sfr'].values / final_df['bayes.stellar.m_star'].values)\n",
    "ssfr = []\n",
    "for ssfr_value in ssfr_calc:\n",
    "    ssfr.append(str(np.round(ssfr_value, 2)))"
   ]
  },
  {
   "cell_type": "code",
   "execution_count": 51,
   "id": "cbadd0ce-0afd-4f38-b854-e24da79d68a4",
   "metadata": {},
   "outputs": [
    {
     "name": "stderr",
     "output_type": "stream",
     "text": [
      "<>:2: SyntaxWarning: invalid escape sequence '\\o'\n",
      "<>:2: SyntaxWarning: invalid escape sequence '\\o'\n",
      "/var/folders/td/xh27mb7x6jz3g1splvmtw7z80000gn/T/ipykernel_1778/1298745413.py:2: SyntaxWarning: invalid escape sequence '\\o'\n",
      "  'log$_{10}$(M$_*$/M$_\\odot$)': mass, 'SFR/yr': sfr, 'log$_{10}$(sSFR/yr)': ssfr}\n"
     ]
    }
   ],
   "source": [
    "latex_table = {'R.A.': ras, 'Decl.': decs, 'z$_{phot}$': photz, \n",
    "               'log$_{10}$(M$_*$/M$_\\odot$)': mass, 'SFR/yr': sfr, 'log$_{10}$(sSFR/yr)': ssfr}\n",
    "latex = pd.DataFrame(latex_table)"
   ]
  },
  {
   "cell_type": "code",
   "execution_count": 52,
   "id": "657175d9-1cf4-4ff2-bdb2-ec440fea363e",
   "metadata": {},
   "outputs": [
    {
     "data": {
      "text/html": [
       "<div>\n",
       "<style scoped>\n",
       "    .dataframe tbody tr th:only-of-type {\n",
       "        vertical-align: middle;\n",
       "    }\n",
       "\n",
       "    .dataframe tbody tr th {\n",
       "        vertical-align: top;\n",
       "    }\n",
       "\n",
       "    .dataframe thead th {\n",
       "        text-align: right;\n",
       "    }\n",
       "</style>\n",
       "<table border=\"1\" class=\"dataframe\">\n",
       "  <thead>\n",
       "    <tr style=\"text-align: right;\">\n",
       "      <th></th>\n",
       "      <th>R.A.</th>\n",
       "      <th>Decl.</th>\n",
       "      <th>z$_{phot}$</th>\n",
       "      <th>log$_{10}$(M$_*$/M$_\\odot$)</th>\n",
       "      <th>SFR/yr</th>\n",
       "      <th>log$_{10}$(sSFR/yr)</th>\n",
       "    </tr>\n",
       "  </thead>\n",
       "  <tbody>\n",
       "    <tr>\n",
       "      <th>0</th>\n",
       "      <td>10:00:14.31</td>\n",
       "      <td>$+$02:22:45.23</td>\n",
       "      <td>4.9 $\\pm$ 0.2</td>\n",
       "      <td>9.39 $\\pm$ 0.1</td>\n",
       "      <td>4.0 $\\pm$ 7.0</td>\n",
       "      <td>-8.78</td>\n",
       "    </tr>\n",
       "    <tr>\n",
       "      <th>1</th>\n",
       "      <td>10:00:15.79</td>\n",
       "      <td>$+$02:22:50.6</td>\n",
       "      <td>4.9 $\\pm$ 0.1</td>\n",
       "      <td>9.28 $\\pm$ 0.06</td>\n",
       "      <td>5.0 $\\pm$ 1.0</td>\n",
       "      <td>-8.58</td>\n",
       "    </tr>\n",
       "    <tr>\n",
       "      <th>2</th>\n",
       "      <td>10:00:15.98</td>\n",
       "      <td>$+$02:22:51.08</td>\n",
       "      <td>4.9 $\\pm$ 0.2</td>\n",
       "      <td>9.56 $\\pm$ 0.06</td>\n",
       "      <td>2.0 $\\pm$ 2.0</td>\n",
       "      <td>-9.25</td>\n",
       "    </tr>\n",
       "    <tr>\n",
       "      <th>3</th>\n",
       "      <td>10:00:15.87</td>\n",
       "      <td>$+$02:22:59.61</td>\n",
       "      <td>2.3 $\\pm$ 2.0</td>\n",
       "      <td>7.69 $\\pm$ 0.5</td>\n",
       "      <td>1.0 $\\pm$ 1.0</td>\n",
       "      <td>-7.84</td>\n",
       "    </tr>\n",
       "    <tr>\n",
       "      <th>4</th>\n",
       "      <td>10:00:16.57</td>\n",
       "      <td>$+$02:23:04.25</td>\n",
       "      <td>1.7 $\\pm$ 1.7</td>\n",
       "      <td>7.68 $\\pm$ 0.69</td>\n",
       "      <td>0.0 $\\pm$ 1.0</td>\n",
       "      <td>-8.14</td>\n",
       "    </tr>\n",
       "    <tr>\n",
       "      <th>...</th>\n",
       "      <td>...</td>\n",
       "      <td>...</td>\n",
       "      <td>...</td>\n",
       "      <td>...</td>\n",
       "      <td>...</td>\n",
       "      <td>...</td>\n",
       "    </tr>\n",
       "    <tr>\n",
       "      <th>136</th>\n",
       "      <td>10:00:27.06</td>\n",
       "      <td>$+$02:19:49.71</td>\n",
       "      <td>4.0 $\\pm$ 1.2</td>\n",
       "      <td>8.38 $\\pm$ 0.24</td>\n",
       "      <td>1.0 $\\pm$ 1.0</td>\n",
       "      <td>-8.31</td>\n",
       "    </tr>\n",
       "    <tr>\n",
       "      <th>137</th>\n",
       "      <td>10:00:25.57</td>\n",
       "      <td>$+$02:20:00.32</td>\n",
       "      <td>4.1 $\\pm$ 1.2</td>\n",
       "      <td>8.25 $\\pm$ 0.27</td>\n",
       "      <td>1.0 $\\pm$ 1.0</td>\n",
       "      <td>-8.09</td>\n",
       "    </tr>\n",
       "    <tr>\n",
       "      <th>138</th>\n",
       "      <td>10:00:25.92</td>\n",
       "      <td>$+$02:19:59.45</td>\n",
       "      <td>2.5 $\\pm$ 0.3</td>\n",
       "      <td>7.52 $\\pm$ 0.15</td>\n",
       "      <td>0.0 $\\pm$ 0.0</td>\n",
       "      <td>-8.17</td>\n",
       "    </tr>\n",
       "    <tr>\n",
       "      <th>139</th>\n",
       "      <td>10:00:27.09</td>\n",
       "      <td>$+$02:19:53.61</td>\n",
       "      <td>2.3 $\\pm$ 1.4</td>\n",
       "      <td>7.25 $\\pm$ 0.31</td>\n",
       "      <td>0.0 $\\pm$ 0.0</td>\n",
       "      <td>-7.7</td>\n",
       "    </tr>\n",
       "    <tr>\n",
       "      <th>140</th>\n",
       "      <td>10:00:25.99</td>\n",
       "      <td>$+$02:20:03.24</td>\n",
       "      <td>4.2 $\\pm$ 0.5</td>\n",
       "      <td>8.17 $\\pm$ 0.17</td>\n",
       "      <td>1.0 $\\pm$ 1.0</td>\n",
       "      <td>-8.1</td>\n",
       "    </tr>\n",
       "  </tbody>\n",
       "</table>\n",
       "<p>141 rows × 6 columns</p>\n",
       "</div>"
      ],
      "text/plain": [
       "            R.A.           Decl.     z$_{phot}$ log$_{10}$(M$_*$/M$_\\odot$)  \\\n",
       "0    10:00:14.31  $+$02:22:45.23  4.9 $\\pm$ 0.2              9.39 $\\pm$ 0.1   \n",
       "1    10:00:15.79   $+$02:22:50.6  4.9 $\\pm$ 0.1             9.28 $\\pm$ 0.06   \n",
       "2    10:00:15.98  $+$02:22:51.08  4.9 $\\pm$ 0.2             9.56 $\\pm$ 0.06   \n",
       "3    10:00:15.87  $+$02:22:59.61  2.3 $\\pm$ 2.0              7.69 $\\pm$ 0.5   \n",
       "4    10:00:16.57  $+$02:23:04.25  1.7 $\\pm$ 1.7             7.68 $\\pm$ 0.69   \n",
       "..           ...             ...            ...                         ...   \n",
       "136  10:00:27.06  $+$02:19:49.71  4.0 $\\pm$ 1.2             8.38 $\\pm$ 0.24   \n",
       "137  10:00:25.57  $+$02:20:00.32  4.1 $\\pm$ 1.2             8.25 $\\pm$ 0.27   \n",
       "138  10:00:25.92  $+$02:19:59.45  2.5 $\\pm$ 0.3             7.52 $\\pm$ 0.15   \n",
       "139  10:00:27.09  $+$02:19:53.61  2.3 $\\pm$ 1.4             7.25 $\\pm$ 0.31   \n",
       "140  10:00:25.99  $+$02:20:03.24  4.2 $\\pm$ 0.5             8.17 $\\pm$ 0.17   \n",
       "\n",
       "            SFR/yr log$_{10}$(sSFR/yr)  \n",
       "0    4.0 $\\pm$ 7.0               -8.78  \n",
       "1    5.0 $\\pm$ 1.0               -8.58  \n",
       "2    2.0 $\\pm$ 2.0               -9.25  \n",
       "3    1.0 $\\pm$ 1.0               -7.84  \n",
       "4    0.0 $\\pm$ 1.0               -8.14  \n",
       "..             ...                 ...  \n",
       "136  1.0 $\\pm$ 1.0               -8.31  \n",
       "137  1.0 $\\pm$ 1.0               -8.09  \n",
       "138  0.0 $\\pm$ 0.0               -8.17  \n",
       "139  0.0 $\\pm$ 0.0                -7.7  \n",
       "140  1.0 $\\pm$ 1.0                -8.1  \n",
       "\n",
       "[141 rows x 6 columns]"
      ]
     },
     "execution_count": 52,
     "metadata": {},
     "output_type": "execute_result"
    }
   ],
   "source": [
    "latex"
   ]
  },
  {
   "cell_type": "code",
   "execution_count": 53,
   "id": "5310e5ba-5210-49c4-a641-0d2352e8b498",
   "metadata": {},
   "outputs": [
    {
     "name": "stdout",
     "output_type": "stream",
     "text": [
      "\\begin{tabular}{llllll}\n",
      "\\toprule\n",
      "R.A. & Decl. & z$_{phot}$ & log$_{10}$(M$_*$/M$_\\odot$) & SFR/yr & log$_{10}$(sSFR/yr) \\\\\n",
      "\\midrule\n",
      "10:00:14.31 & $+$02:22:45.23 & 4.9 $\\pm$ 0.2 & 9.39 $\\pm$ 0.1 & 4.0 $\\pm$ 7.0 & -8.78 \\\\\n",
      "10:00:15.79 & $+$02:22:50.6 & 4.9 $\\pm$ 0.1 & 9.28 $\\pm$ 0.06 & 5.0 $\\pm$ 1.0 & -8.58 \\\\\n",
      "10:00:15.98 & $+$02:22:51.08 & 4.9 $\\pm$ 0.2 & 9.56 $\\pm$ 0.06 & 2.0 $\\pm$ 2.0 & -9.25 \\\\\n",
      "10:00:15.87 & $+$02:22:59.61 & 2.3 $\\pm$ 2.0 & 7.69 $\\pm$ 0.5 & 1.0 $\\pm$ 1.0 & -7.84 \\\\\n",
      "10:00:16.57 & $+$02:23:04.25 & 1.7 $\\pm$ 1.7 & 7.68 $\\pm$ 0.69 & 0.0 $\\pm$ 1.0 & -8.14 \\\\\n",
      "10:00:20.74 & $+$02:23:43.31 & 3.5 $\\pm$ 0.0 & 10.1 $\\pm$ 0.02 & 9.0 $\\pm$ 1.0 & -9.15 \\\\\n",
      "10:00:21.12 & $+$02:23:41.7 & 5.1 $\\pm$ 0.2 & 9.64 $\\pm$ 0.04 & 2.0 $\\pm$ 1.0 & -9.27 \\\\\n",
      "10:00:21.03 & $+$02:23:56.17 & 4.7 $\\pm$ 0.8 & 8.79 $\\pm$ 0.14 & 2.0 $\\pm$ 1.0 & -8.44 \\\\\n",
      "10:01:44.17 & $+$02:27:49.99 & 4.9 $\\pm$ 0.5 & 9.1 $\\pm$ 0.11 & 4.0 $\\pm$ 2.0 & -8.53 \\\\\n",
      "10:01:45.84 & $+$02:27:53.86 & 5.7 $\\pm$ 2.4 & 8.82 $\\pm$ 0.25 & 4.0 $\\pm$ 4.0 & -8.17 \\\\\n",
      "10:01:44.74 & $+$02:27:59.81 & 5.0 $\\pm$ 0.1 & 9.55 $\\pm$ 0.05 & 10.0 $\\pm$ 2.0 & -8.57 \\\\\n",
      "10:01:45.86 & $+$02:27:54.68 & 4.9 $\\pm$ 1.1 & 8.61 $\\pm$ 0.22 & 3.0 $\\pm$ 2.0 & -8.09 \\\\\n",
      "10:01:49.48 & $+$02:27:20.9 & 4.9 $\\pm$ 0.1 & 9.56 $\\pm$ 0.08 & 9.0 $\\pm$ 3.0 & -8.62 \\\\\n",
      "10:01:49.69 & $+$02:27:22.35 & 4.9 $\\pm$ 0.1 & 9.56 $\\pm$ 0.06 & 11.0 $\\pm$ 3.0 & -8.53 \\\\\n",
      "10:01:48.61 & $+$02:27:32.3 & 4.9 $\\pm$ 0.1 & 9.54 $\\pm$ 0.04 & 2.0 $\\pm$ 0.0 & -9.27 \\\\\n",
      "10:01:50.44 & $+$02:25:42.07 & 4.2 $\\pm$ 1.8 & 8.88 $\\pm$ 0.23 & 3.0 $\\pm$ 2.0 & -8.47 \\\\\n",
      "10:01:50.05 & $+$02:25:46.47 & 2.5 $\\pm$ 3.4 & 8.05 $\\pm$ 0.59 & 2.0 $\\pm$ 3.0 & -7.87 \\\\\n",
      "10:00:14.53 & $+$02:22:52.16 & 4.0 $\\pm$ 0.3 & 8.77 $\\pm$ 0.11 & 3.0 $\\pm$ 1.0 & -8.27 \\\\\n",
      "10:00:26.43 & $+$02:19:58.48 & 2.5 $\\pm$ 1.1 & 6.3 $\\pm$ 0.21 & 0.0 $\\pm$ 0.0 & -7.7 \\\\\n",
      "10:00:14.69 & $+$02:22:28.66 & 3.3 $\\pm$ 0.5 & 8.71 $\\pm$ 0.14 & 3.0 $\\pm$ 1.0 & -8.29 \\\\\n",
      "10:00:14.92 & $+$02:22:30.83 & 3.0 $\\pm$ 0.5 & 8.55 $\\pm$ 0.13 & 2.0 $\\pm$ 0.0 & -8.35 \\\\\n",
      "10:00:14.05 & $+$02:22:37.35 & 5.1 $\\pm$ 0.0 & 8.7 $\\pm$ 0.03 & 11.0 $\\pm$ 1.0 & -7.66 \\\\\n",
      "10:00:14.07 & $+$02:22:37.69 & 4.6 $\\pm$ 0.8 & 8.86 $\\pm$ 0.23 & 6.0 $\\pm$ 2.0 & -8.1 \\\\\n",
      "10:00:14.91 & $+$02:22:47.82 & 3.4 $\\pm$ 0.1 & 8.4 $\\pm$ 0.04 & 5.0 $\\pm$ 0.0 & -7.68 \\\\\n",
      "10:00:14.89 & $+$02:22:48.23 & 3.6 $\\pm$ 0.2 & 8.97 $\\pm$ 0.06 & 2.0 $\\pm$ 0.0 & -8.61 \\\\\n",
      "10:00:14.18 & $+$02:22:55.11 & 4.1 $\\pm$ 0.8 & 8.61 $\\pm$ 0.27 & 6.0 $\\pm$ 1.0 & -7.84 \\\\\n",
      "10:00:14.71 & $+$02:22:53.56 & 3.7 $\\pm$ 0.1 & 8.73 $\\pm$ 0.08 & 11.0 $\\pm$ 1.0 & -7.67 \\\\\n",
      "10:00:15.04 & $+$02:22:29.66 & 1.9 $\\pm$ 1.7 & 6.47 $\\pm$ 0.54 & 0.0 $\\pm$ 0.0 & -7.79 \\\\\n",
      "10:00:14.97 & $+$02:22:36.42 & 2.7 $\\pm$ 0.7 & 8.26 $\\pm$ 0.27 & 1.0 $\\pm$ 1.0 & -8.22 \\\\\n",
      "10:00:15.26 & $+$02:22:42.59 & 1.8 $\\pm$ 1.8 & 7.46 $\\pm$ 0.55 & 0.0 $\\pm$ 1.0 & -7.81 \\\\\n",
      "10:00:14.56 & $+$02:22:46.33 & 2.1 $\\pm$ 1.8 & 6.55 $\\pm$ 0.5 & 0.0 $\\pm$ 0.0 & -7.88 \\\\\n",
      "10:00:14.68 & $+$02:22:48.26 & 3.1 $\\pm$ 0.7 & 8.3 $\\pm$ 0.14 & 4.0 $\\pm$ 1.0 & -7.73 \\\\\n",
      "10:00:14.85 & $+$02:22:47.42 & 4.1 $\\pm$ 0.6 & 8.82 $\\pm$ 0.13 & 4.0 $\\pm$ 2.0 & -8.25 \\\\\n",
      "10:00:15.34 & $+$02:22:48.0 & 5.0 $\\pm$ 0.9 & 8.26 $\\pm$ 0.18 & 4.0 $\\pm$ 1.0 & -7.68 \\\\\n",
      "10:00:15.24 & $+$02:22:49.93 & 0.9 $\\pm$ 1.1 & 6.35 $\\pm$ 0.59 & 0.0 $\\pm$ 0.0 & -7.99 \\\\\n",
      "10:00:26.87 & $+$02:22:21.45 & 2.9 $\\pm$ 0.0 & 10.0 $\\pm$ 0.02 & 187.0 $\\pm$ 9.0 & -7.73 \\\\\n",
      "10:00:26.21 & $+$02:22:30.81 & 2.1 $\\pm$ 0.0 & 10.2 $\\pm$ 0.02 & 56.0 $\\pm$ 4.0 & -8.46 \\\\\n",
      "10:00:26.44 & $+$02:22:29.99 & 2.3 $\\pm$ 0.0 & 9.38 $\\pm$ 0.04 & 8.0 $\\pm$ 1.0 & -8.45 \\\\\n",
      "10:00:26.15 & $+$02:22:32.91 & 2.6 $\\pm$ 0.3 & 8.26 $\\pm$ 0.29 & 2.0 $\\pm$ 1.0 & -7.97 \\\\\n",
      "10:00:26.97 & $+$02:22:30.87 & 2.1 $\\pm$ 0.0 & 10.38 $\\pm$ 0.02 & 59.0 $\\pm$ 3.0 & -8.61 \\\\\n",
      "10:00:26.85 & $+$02:22:38.95 & 2.1 $\\pm$ 0.0 & 9.26 $\\pm$ 0.02 & 40.0 $\\pm$ 2.0 & -7.65 \\\\\n",
      "10:00:26.7 & $+$02:22:31.89 & 3.0 $\\pm$ 0.8 & 6.99 $\\pm$ 0.25 & 0.0 $\\pm$ 0.0 & -7.81 \\\\\n",
      "10:00:26.35 & $+$02:22:41.77 & 3.3 $\\pm$ 0.4 & 7.73 $\\pm$ 0.08 & 1.0 $\\pm$ 0.0 & -7.67 \\\\\n",
      "10:00:27.35 & $+$02:22:43.76 & 2.0 $\\pm$ 0.4 & 8.15 $\\pm$ 0.12 & 0.0 $\\pm$ 0.0 & -8.51 \\\\\n",
      "10:00:27.76 & $+$02:22:33.65 & 1.5 $\\pm$ 0.6 & 7.86 $\\pm$ 0.27 & 0.0 $\\pm$ 0.0 & -8.33 \\\\\n",
      "10:00:27.66 & $+$02:22:24.63 & 3.6 $\\pm$ 0.4 & 7.67 $\\pm$ 0.12 & 1.0 $\\pm$ 0.0 & -7.69 \\\\\n",
      "10:00:27.98 & $+$02:22:32.7 & 3.3 $\\pm$ 0.7 & 7.92 $\\pm$ 0.19 & 1.0 $\\pm$ 0.0 & -8.18 \\\\\n",
      "10:00:27.97 & $+$02:22:36.86 & 3.5 $\\pm$ 0.9 & 7.45 $\\pm$ 0.22 & 0.0 $\\pm$ 0.0 & -7.76 \\\\\n",
      "10:00:16.78 & $+$02:22:47.31 & 3.3 $\\pm$ 0.0 & 9.1 $\\pm$ 0.07 & 3.0 $\\pm$ 2.0 & -8.59 \\\\\n",
      "10:00:16.31 & $+$02:22:55.72 & 4.6 $\\pm$ 1.2 & 8.52 $\\pm$ 0.25 & 4.0 $\\pm$ 1.0 & -7.93 \\\\\n",
      "10:00:16.22 & $+$02:22:57.51 & 4.9 $\\pm$ 1.6 & 8.55 $\\pm$ 0.27 & 3.0 $\\pm$ 2.0 & -8.05 \\\\\n",
      "10:00:16.93 & $+$02:22:55.43 & 4.1 $\\pm$ 0.1 & 9.29 $\\pm$ 0.05 & 5.0 $\\pm$ 1.0 & -8.55 \\\\\n",
      "10:00:16.59 & $+$02:23:02.98 & 4.8 $\\pm$ 1.1 & 8.94 $\\pm$ 0.18 & 3.0 $\\pm$ 2.0 & -8.53 \\\\\n",
      "10:00:16.19 & $+$02:22:42.46 & 3.3 $\\pm$ 0.4 & 7.13 $\\pm$ 0.07 & 0.0 $\\pm$ 0.0 & -7.67 \\\\\n",
      "10:00:15.9 & $+$02:22:54.52 & 4.1 $\\pm$ 0.9 & 8.07 $\\pm$ 0.21 & 2.0 $\\pm$ 1.0 & -7.76 \\\\\n",
      "10:00:16.92 & $+$02:22:52.11 & 2.8 $\\pm$ 1.1 & 7.67 $\\pm$ 0.34 & 1.0 $\\pm$ 0.0 & -7.93 \\\\\n",
      "10:00:16.63 & $+$02:22:58.33 & 4.0 $\\pm$ 0.5 & 7.27 $\\pm$ 0.08 & 0.0 $\\pm$ 0.0 & -7.68 \\\\\n",
      "10:00:16.45 & $+$02:23:06.12 & 4.6 $\\pm$ 0.5 & 8.66 $\\pm$ 0.17 & 2.0 $\\pm$ 1.0 & -8.28 \\\\\n",
      "10:00:16.47 & $+$02:23:06.76 & 4.4 $\\pm$ 1.0 & 8.62 $\\pm$ 0.21 & 2.0 $\\pm$ 1.0 & -8.39 \\\\\n",
      "10:00:20.91 & $+$02:23:39.86 & 4.3 $\\pm$ 0.2 & 8.6 $\\pm$ 0.12 & 3.0 $\\pm$ 1.0 & -8.11 \\\\\n",
      "10:00:21.17 & $+$02:23:45.63 & 3.5 $\\pm$ 0.0 & 9.62 $\\pm$ 0.02 & 11.0 $\\pm$ 1.0 & -8.58 \\\\\n",
      "10:00:21.18 & $+$02:23:51.69 & 3.4 $\\pm$ 0.1 & 9.1 $\\pm$ 0.04 & 1.0 $\\pm$ 0.0 & -9.24 \\\\\n",
      "10:00:21.91 & $+$02:23:49.67 & 3.0 $\\pm$ 0.3 & 8.24 $\\pm$ 0.13 & 2.0 $\\pm$ 1.0 & -7.95 \\\\\n",
      "10:00:21.85 & $+$02:23:50.43 & 3.5 $\\pm$ 0.0 & 9.66 $\\pm$ 0.02 & 2.0 $\\pm$ 0.0 & -9.28 \\\\\n",
      "10:00:21.73 & $+$02:23:52.77 & 3.9 $\\pm$ 0.1 & 9.97 $\\pm$ 0.08 & 13.0 $\\pm$ 14.0 & -8.87 \\\\\n",
      "10:00:20.53 & $+$02:23:39.03 & 3.1 $\\pm$ 1.1 & 7.08 $\\pm$ 0.22 & 0.0 $\\pm$ 0.0 & -7.7 \\\\\n",
      "10:00:20.73 & $+$02:23:38.12 & 2.6 $\\pm$ 0.9 & 7.71 $\\pm$ 0.29 & 0.0 $\\pm$ 0.0 & -8.25 \\\\\n",
      "10:00:20.33 & $+$02:23:44.17 & 2.6 $\\pm$ 0.8 & 7.11 $\\pm$ 0.22 & 0.0 $\\pm$ 0.0 & -7.72 \\\\\n",
      "10:00:20.27 & $+$02:23:45.18 & 2.9 $\\pm$ 1.3 & 7.38 $\\pm$ 0.28 & 0.0 $\\pm$ 0.0 & -7.7 \\\\\n",
      "10:00:21.02 & $+$02:23:42.91 & 3.6 $\\pm$ 0.2 & 8.56 $\\pm$ 0.1 & 2.0 $\\pm$ 1.0 & -8.17 \\\\\n",
      "10:00:20.39 & $+$02:23:52.31 & 3.7 $\\pm$ 0.3 & 8.09 $\\pm$ 0.07 & 3.0 $\\pm$ 0.0 & -7.68 \\\\\n",
      "10:00:21.15 & $+$02:23:48.34 & 2.9 $\\pm$ 0.6 & 8.16 $\\pm$ 0.26 & 1.0 $\\pm$ 0.0 & -8.35 \\\\\n",
      "10:00:21.42 & $+$02:23:48.03 & 2.8 $\\pm$ 1.3 & 8.05 $\\pm$ 0.35 & 1.0 $\\pm$ 1.0 & -8.25 \\\\\n",
      "10:00:20.69 & $+$02:23:52.76 & 2.6 $\\pm$ 1.1 & 7.82 $\\pm$ 0.3 & 1.0 $\\pm$ 1.0 & -8.0 \\\\\n",
      "10:00:20.72 & $+$02:23:54.35 & 4.5 $\\pm$ 0.8 & 9.0 $\\pm$ 0.15 & 4.0 $\\pm$ 1.0 & -8.45 \\\\\n",
      "10:00:21.13 & $+$02:23:52.81 & 3.7 $\\pm$ 0.0 & 8.14 $\\pm$ 0.03 & 3.0 $\\pm$ 0.0 & -7.64 \\\\\n",
      "10:00:20.95 & $+$02:23:54.24 & 2.8 $\\pm$ 0.9 & 8.18 $\\pm$ 0.32 & 1.0 $\\pm$ 0.0 & -8.36 \\\\\n",
      "10:00:21.31 & $+$02:23:53.09 & 2.8 $\\pm$ 0.7 & 8.48 $\\pm$ 0.19 & 2.0 $\\pm$ 1.0 & -8.3 \\\\\n",
      "10:00:21.58 & $+$02:23:52.66 & 2.5 $\\pm$ 0.9 & 7.95 $\\pm$ 0.4 & 1.0 $\\pm$ 0.0 & -8.25 \\\\\n",
      "10:01:44.14 & $+$02:27:46.41 & 0.5 $\\pm$ 0.0 & 7.53 $\\pm$ 0.77 & 0.0 $\\pm$ 0.0 & -8.0 \\\\\n",
      "10:01:45.37 & $+$02:27:45.57 & 4.3 $\\pm$ 0.8 & 8.8 $\\pm$ 0.33 & 8.0 $\\pm$ 3.0 & -7.91 \\\\\n",
      "10:01:45.42 & $+$02:27:44.79 & 4.2 $\\pm$ 1.3 & 8.52 $\\pm$ 0.24 & 2.0 $\\pm$ 1.0 & -8.3 \\\\\n",
      "10:01:44.71 & $+$02:28:02.06 & 4.4 $\\pm$ 1.4 & 8.24 $\\pm$ 0.19 & 3.0 $\\pm$ 1.0 & -7.7 \\\\\n",
      "10:01:44.83 & $+$02:28:00.72 & 4.8 $\\pm$ 1.1 & 8.46 $\\pm$ 0.18 & 5.0 $\\pm$ 2.0 & -7.74 \\\\\n",
      "10:01:44.68 & $+$02:28:02.94 & 4.6 $\\pm$ 1.1 & 8.51 $\\pm$ 0.25 & 3.0 $\\pm$ 1.0 & -8.06 \\\\\n",
      "10:01:48.19 & $+$02:27:15.67 & 2.2 $\\pm$ 2.0 & 8.12 $\\pm$ 0.54 & 1.0 $\\pm$ 1.0 & -8.22 \\\\\n",
      "10:01:49.03 & $+$02:27:16.97 & 3.6 $\\pm$ 0.5 & 8.77 $\\pm$ 0.19 & 13.0 $\\pm$ 2.0 & -7.65 \\\\\n",
      "10:01:49.4 & $+$02:27:18.21 & 4.9 $\\pm$ 0.8 & 8.66 $\\pm$ 0.21 & 4.0 $\\pm$ 1.0 & -8.08 \\\\\n",
      "10:01:49.48 & $+$02:27:10.68 & 2.2 $\\pm$ 2.0 & 8.1 $\\pm$ 0.57 & 1.0 $\\pm$ 1.0 & -8.17 \\\\\n",
      "10:01:49.82 & $+$02:27:13.41 & 4.3 $\\pm$ 1.0 & 8.57 $\\pm$ 0.22 & 2.0 $\\pm$ 1.0 & -8.37 \\\\\n",
      "10:01:48.85 & $+$02:27:34.9 & 6.2 $\\pm$ 2.1 & 8.51 $\\pm$ 1.91 & 3.0 $\\pm$ 13.0 & -8.07 \\\\\n",
      "10:01:50.75 & $+$02:25:35.79 & 2.5 $\\pm$ 2.1 & 7.98 $\\pm$ 0.48 & 1.0 $\\pm$ 2.0 & -7.84 \\\\\n",
      "10:01:50.95 & $+$02:25:38.82 & 4.9 $\\pm$ 0.5 & 8.92 $\\pm$ 0.18 & 7.0 $\\pm$ 2.0 & -8.1 \\\\\n",
      "10:01:50.93 & $+$02:25:38.97 & 5.1 $\\pm$ 0.2 & 9.0 $\\pm$ 0.13 & 5.0 $\\pm$ 2.0 & -8.26 \\\\\n",
      "10:01:49.8 & $+$02:25:47.9 & 3.6 $\\pm$ 1.2 & 8.12 $\\pm$ 0.31 & 1.0 $\\pm$ 1.0 & -8.1 \\\\\n",
      "10:01:50.22 & $+$02:25:46.03 & 3.8 $\\pm$ 0.7 & 8.6 $\\pm$ 0.37 & 5.0 $\\pm$ 1.0 & -7.88 \\\\\n",
      "10:01:51.31 & $+$02:25:41.78 & 3.2 $\\pm$ 1.9 & 7.81 $\\pm$ 0.34 & 1.0 $\\pm$ 1.0 & -7.73 \\\\\n",
      "10:01:49.79 & $+$02:25:50.74 & 5.1 $\\pm$ 0.1 & 9.18 $\\pm$ 0.09 & 9.0 $\\pm$ 3.0 & -8.22 \\\\\n",
      "10:01:50.34 & $+$02:25:50.74 & 4.9 $\\pm$ 0.3 & 8.64 $\\pm$ 0.04 & 9.0 $\\pm$ 1.0 & -7.66 \\\\\n",
      "10:01:50.66 & $+$02:25:50.33 & 5.1 $\\pm$ 0.2 & 8.99 $\\pm$ 0.14 & 19.0 $\\pm$ 3.0 & -7.71 \\\\\n",
      "10:01:50.4 & $+$02:25:52.16 & 4.9 $\\pm$ 0.4 & 8.84 $\\pm$ 0.16 & 3.0 $\\pm$ 1.0 & -8.31 \\\\\n",
      "10:01:50.62 & $+$02:25:50.77 & 3.7 $\\pm$ 0.7 & 8.78 $\\pm$ 0.07 & 14.0 $\\pm$ 2.0 & -7.63 \\\\\n",
      "10:01:51.18 & $+$02:25:48.32 & 3.0 $\\pm$ 2.1 & 8.41 $\\pm$ 0.41 & 1.0 $\\pm$ 1.0 & -8.28 \\\\\n",
      "10:01:50.7 & $+$02:25:54.69 & 3.8 $\\pm$ 0.7 & 8.62 $\\pm$ 0.4 & 5.0 $\\pm$ 1.0 & -7.92 \\\\\n",
      "10:01:50.48 & $+$02:25:34.26 & 3.3 $\\pm$ 1.6 & 7.92 $\\pm$ 0.59 & 1.0 $\\pm$ 1.0 & -8.2 \\\\\n",
      "10:01:50.77 & $+$02:25:40.94 & 2.6 $\\pm$ 2.5 & 8.12 $\\pm$ 0.55 & 1.0 $\\pm$ 2.0 & -8.1 \\\\\n",
      "10:01:49.73 & $+$02:25:49.71 & 3.2 $\\pm$ 1.6 & 7.94 $\\pm$ 0.38 & 1.0 $\\pm$ 0.0 & -8.18 \\\\\n",
      "10:01:51.51 & $+$02:25:45.13 & 3.4 $\\pm$ 1.7 & 8.14 $\\pm$ 0.36 & 1.0 $\\pm$ 1.0 & -8.1 \\\\\n",
      "10:00:25.6 & $+$02:22:32.59 & 4.1 $\\pm$ 0.3 & 8.62 $\\pm$ 0.09 & 2.0 $\\pm$ 1.0 & -8.25 \\\\\n",
      "10:00:25.39 & $+$02:22:39.89 & 4.9 $\\pm$ 0.2 & 8.48 $\\pm$ 0.09 & 5.0 $\\pm$ 1.0 & -7.75 \\\\\n",
      "10:00:25.85 & $+$02:22:53.74 & 4.8 $\\pm$ 0.6 & 8.85 $\\pm$ 0.19 & 5.0 $\\pm$ 1.0 & -8.14 \\\\\n",
      "10:00:25.09 & $+$02:22:29.48 & 3.1 $\\pm$ 1.8 & 7.95 $\\pm$ 0.42 & 1.0 $\\pm$ 1.0 & -7.98 \\\\\n",
      "10:00:25.83 & $+$02:22:27.38 & 3.4 $\\pm$ 0.8 & 8.24 $\\pm$ 0.21 & 1.0 $\\pm$ 1.0 & -8.13 \\\\\n",
      "10:00:24.91 & $+$02:22:33.86 & 3.7 $\\pm$ 0.8 & 8.16 $\\pm$ 0.17 & 2.0 $\\pm$ 1.0 & -7.85 \\\\\n",
      "10:00:25.16 & $+$02:22:39.38 & 3.4 $\\pm$ 1.4 & 7.75 $\\pm$ 0.37 & 1.0 $\\pm$ 0.0 & -7.9 \\\\\n",
      "10:00:24.94 & $+$02:22:46.75 & 4.7 $\\pm$ 0.6 & 8.87 $\\pm$ 0.2 & 3.0 $\\pm$ 1.0 & -8.34 \\\\\n",
      "10:00:26.12 & $+$02:22:47.34 & 2.7 $\\pm$ 2.1 & 7.54 $\\pm$ 0.37 & 0.0 $\\pm$ 1.0 & -7.89 \\\\\n",
      "10:00:25.81 & $+$02:22:50.89 & 4.1 $\\pm$ 0.6 & 8.51 $\\pm$ 0.19 & 3.0 $\\pm$ 2.0 & -7.99 \\\\\n",
      "10:00:26.4 & $+$02:19:37.94 & 4.3 $\\pm$ 1.1 & 8.59 $\\pm$ 0.22 & 2.0 $\\pm$ 1.0 & -8.4 \\\\\n",
      "10:00:25.74 & $+$02:19:36.91 & 3.3 $\\pm$ 0.0 & 8.84 $\\pm$ 0.09 & 3.0 $\\pm$ 1.0 & -8.33 \\\\\n",
      "10:00:25.81 & $+$02:19:38.01 & 3.5 $\\pm$ 0.0 & 8.78 $\\pm$ 0.02 & 14.0 $\\pm$ 1.0 & -7.62 \\\\\n",
      "10:00:25.47 & $+$02:19:45.54 & 2.6 $\\pm$ 0.8 & 8.08 $\\pm$ 0.21 & 1.0 $\\pm$ 1.0 & -7.99 \\\\\n",
      "10:00:26.2 & $+$02:19:48.2 & 3.0 $\\pm$ 0.2 & 8.29 $\\pm$ 0.11 & 1.0 $\\pm$ 1.0 & -8.2 \\\\\n",
      "10:00:26.39 & $+$02:19:49.75 & 2.9 $\\pm$ 0.0 & 8.37 $\\pm$ 0.02 & 4.0 $\\pm$ 0.0 & -7.81 \\\\\n",
      "10:00:26.9 & $+$02:19:47.18 & 3.3 $\\pm$ 0.0 & 9.11 $\\pm$ 0.02 & 4.0 $\\pm$ 0.0 & -8.52 \\\\\n",
      "10:00:25.81 & $+$02:20:01.93 & 2.9 $\\pm$ 0.1 & 8.68 $\\pm$ 0.05 & 1.0 $\\pm$ 0.0 & -8.58 \\\\\n",
      "10:00:26.24 & $+$02:19:59.86 & 3.0 $\\pm$ 0.3 & 8.35 $\\pm$ 0.1 & 1.0 $\\pm$ 0.0 & -8.45 \\\\\n",
      "10:00:25.75 & $+$02:19:37.43 & 4.5 $\\pm$ 0.9 & 8.29 $\\pm$ 0.14 & 4.0 $\\pm$ 1.0 & -7.72 \\\\\n",
      "10:00:26.31 & $+$02:19:38.36 & 3.1 $\\pm$ 0.1 & 8.26 $\\pm$ 0.08 & 1.0 $\\pm$ 0.0 & -8.51 \\\\\n",
      "10:00:26.4 & $+$02:19:37.7 & 4.3 $\\pm$ 1.1 & 8.55 $\\pm$ 0.21 & 1.0 $\\pm$ 1.0 & -8.38 \\\\\n",
      "10:00:25.36 & $+$02:19:44.06 & 0.5 $\\pm$ 0.0 & 6.93 $\\pm$ 0.16 & 0.0 $\\pm$ 0.0 & -8.34 \\\\\n",
      "10:00:26.38 & $+$02:19:41.69 & 4.0 $\\pm$ 0.3 & 8.12 $\\pm$ 0.19 & 1.0 $\\pm$ 1.0 & -8.0 \\\\\n",
      "10:00:26.87 & $+$02:19:40.71 & 4.0 $\\pm$ 1.1 & 8.1 $\\pm$ 0.3 & 1.0 $\\pm$ 1.0 & -7.97 \\\\\n",
      "10:00:26.88 & $+$02:19:44.15 & 2.9 $\\pm$ 0.6 & 7.56 $\\pm$ 0.16 & 0.0 $\\pm$ 0.0 & -7.91 \\\\\n",
      "10:00:26.78 & $+$02:19:45.73 & 2.6 $\\pm$ 0.6 & 8.14 $\\pm$ 0.22 & 1.0 $\\pm$ 1.0 & -8.23 \\\\\n",
      "10:00:26.9 & $+$02:19:48.3 & 2.6 $\\pm$ 0.3 & 7.97 $\\pm$ 0.11 & 1.0 $\\pm$ 0.0 & -8.18 \\\\\n",
      "10:00:27.06 & $+$02:19:49.71 & 4.0 $\\pm$ 1.2 & 8.38 $\\pm$ 0.24 & 1.0 $\\pm$ 1.0 & -8.31 \\\\\n",
      "10:00:25.57 & $+$02:20:00.32 & 4.1 $\\pm$ 1.2 & 8.25 $\\pm$ 0.27 & 1.0 $\\pm$ 1.0 & -8.09 \\\\\n",
      "10:00:25.92 & $+$02:19:59.45 & 2.5 $\\pm$ 0.3 & 7.52 $\\pm$ 0.15 & 0.0 $\\pm$ 0.0 & -8.17 \\\\\n",
      "10:00:27.09 & $+$02:19:53.61 & 2.3 $\\pm$ 1.4 & 7.25 $\\pm$ 0.31 & 0.0 $\\pm$ 0.0 & -7.7 \\\\\n",
      "10:00:25.99 & $+$02:20:03.24 & 4.2 $\\pm$ 0.5 & 8.17 $\\pm$ 0.17 & 1.0 $\\pm$ 1.0 & -8.1 \\\\\n",
      "\\bottomrule\n",
      "\\end{tabular}\n",
      "\n"
     ]
    }
   ],
   "source": [
    "print(latex.to_latex(index=False))"
   ]
  },
  {
   "cell_type": "code",
   "execution_count": null,
   "id": "7bd16f77-bd97-49c3-82e6-4e142127f4de",
   "metadata": {},
   "outputs": [],
   "source": []
  }
 ],
 "metadata": {
  "kernelspec": {
   "display_name": "Python 3 (ipykernel)",
   "language": "python",
   "name": "python3"
  },
  "language_info": {
   "codemirror_mode": {
    "name": "ipython",
    "version": 3
   },
   "file_extension": ".py",
   "mimetype": "text/x-python",
   "name": "python",
   "nbconvert_exporter": "python",
   "pygments_lexer": "ipython3",
   "version": "3.12.4"
  }
 },
 "nbformat": 4,
 "nbformat_minor": 5
}
