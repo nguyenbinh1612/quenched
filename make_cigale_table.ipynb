{
 "cells": [
  {
   "cell_type": "code",
   "execution_count": 1,
   "id": "977afb19-9599-41e4-8327-daa17a13c95c",
   "metadata": {},
   "outputs": [],
   "source": [
    "# this sets up basic packages\n",
    "import numpy as np\n",
    "import pandas as pd\n",
    "import astropy.units as u\n",
    "import astropy.cosmology.units as cu\n",
    "\n",
    "# this sets up matplotlib\n",
    "import matplotlib.pyplot as plt\n",
    "%matplotlib inline\n",
    "\n",
    "# this sets up astropy\n",
    "from astropy.io import fits\n",
    "from astropy.wcs import WCS\n",
    "from astropy.wcs.utils import pixel_to_skycoord\n",
    "from astropy.utils.data import get_pkg_data_filename\n",
    "from astropy.coordinates import SkyCoord, Angle, match_coordinates_sky, Distance\n",
    "from astropy.cosmology import Planck15 as cosmo\n",
    "from astropy.table import Table\n",
    "\n",
    "from regions import Regions, CircleSkyRegion"
   ]
  },
  {
   "cell_type": "code",
   "execution_count": 2,
   "id": "04f6c67e-61e2-4b4f-b4ba-57fdfb81f0e4",
   "metadata": {},
   "outputs": [],
   "source": [
    "# first, import the file of neighbor data, which is a csv\n",
    "df = pd.read_csv('neighbor_data.csv')"
   ]
  },
  {
   "cell_type": "code",
   "execution_count": 3,
   "id": "19ebe586-0d7c-4a43-a695-b6bffd315537",
   "metadata": {},
   "outputs": [
    {
     "name": "stdout",
     "output_type": "stream",
     "text": [
      "['f814w', 'f115w', 'f150w', 'f277w', 'f444w', 'f770w']\n",
      "['f814w', 'f115w', 'f150w', 'f277w', 'f444w', 'f770w', 'f606w', 'f090w', 'f200w', 'f356w', 'f410m']\n"
     ]
    }
   ],
   "source": [
    "# this reads in all the COSMOS-Web measurements in different bands\n",
    "f_cweb_cols = [col for col in df.columns if 'f_auto' in col]\n",
    "e_cweb_cols = [col for col in df.columns if 'e_auto' in col]\n",
    "\n",
    "# this saves the names of the COSMOS-Web bands\n",
    "band_names = []\n",
    "for header in f_cweb_cols:\n",
    "    name = header[-5:] # this gets the band name, which are the last 5 characters of the column header\n",
    "    band_names.append(name)\n",
    "\n",
    "# check how many bands we've had for the first time\n",
    "print(band_names)\n",
    "\n",
    "# this reads in all the PRIMER measurements in different bands\n",
    "f_primer_cols = [col for col in df.columns if 'f_primer_auto' in col]\n",
    "e_primer_cols = [col for col in df.columns if 'e_primer_auto' in col]\n",
    "\n",
    "# this saves the names of the PRIMER bands\n",
    "for header in f_primer_cols:\n",
    "    name = header[-5:] # this gets the band name, which are the last 5 characters of the column header\n",
    "    if name not in band_names:\n",
    "        band_names.append(name)\n",
    "\n",
    "# check how many bands we've had for the second time\n",
    "print(band_names)"
   ]
  },
  {
   "cell_type": "markdown",
   "id": "6dcc709f-006b-44c1-bfe4-b9cf48a8bd52",
   "metadata": {},
   "source": [
    "Now let's do the dreaded for-loop that goes through the data and gets the best fluxes and flux errors."
   ]
  },
  {
   "cell_type": "code",
   "execution_count": 5,
   "id": "ed1d00bf-b99e-47aa-8a24-2918d9b46bb7",
   "metadata": {},
   "outputs": [],
   "source": [
    "fluxes = []\n",
    "errors = []\n",
    "\n",
    "for name in band_names:    \n",
    "    ### first, read in the headers of the bands that are available in both COSMOS-Web and PRIMER\n",
    "    cweb_flux_header = [header for header in f_cweb_cols if name in header]\n",
    "    cweb_err_header = [header for header in e_cweb_cols if name in header]\n",
    "    primer_flux_header = [header for header in f_primer_cols if name in header]\n",
    "    primer_err_header = [header for header in e_primer_cols if name in header]\n",
    "    \n",
    "    ### next, check to see if the bands with these headers actually exist for BOTH COSMOS-Web AND PRIMER\n",
    "    if len(cweb_flux_header) != 0 and len(primer_flux_header) != 0:\n",
    "        # next, check to see how much of the data under these headers is actually NaN.\n",
    "        # if they're NaN, set them to -99.0, so CIGALE will ignore them later on.\n",
    "        cweb_flux = df[cweb_flux_header[0]].replace(np.nan, -99.0)\n",
    "        cweb_err = df[cweb_err_header[0]].replace(np.nan, -99.0)\n",
    "        primer_flux = df[primer_flux_header[0]].replace(np.nan, -99.0)\n",
    "        primer_err = df[primer_err_header[0]].replace(np.nan, -99.0)\n",
    "\n",
    "        # next, check for values that are less than zero. these values will be set to -99.0 as well.\n",
    "        cweb_flux[cweb_flux <= 0] = -99.0 # Aug 2, 2024: PLEASE change this to 0\n",
    "        cweb_err[cweb_err <= 0] = -99.0 # Aug 2, 2024: PLEASE change this to 3-sigma\n",
    "        primer_flux[primer_flux <= 0] = -99.0\n",
    "        primer_err[primer_err <= 0] = -99.0\n",
    "        \n",
    "        # then we calculate and compare the signal-to-noise ratio (SNR), \n",
    "        # then take the one (PRIMER vs COSMOS-Web) with the greater SNR.\n",
    "        cweb_snr = cweb_flux / cweb_err\n",
    "        primer_snr = primer_flux / primer_err\n",
    "\n",
    "        # create an empty array to save the flux and flux error with better SNR\n",
    "        better_flux = np.zeros(np.size(cweb_snr))\n",
    "        better_err = np.zeros(np.size(cweb_snr))\n",
    "        better_snr = np.zeros(np.size(cweb_snr))\n",
    "        for i in range(np.size(cweb_snr)):\n",
    "            if primer_snr[i] > cweb_snr[i]: # if PRIMER's SNR is greater than CWeb's, then keep PRIMER's flux, error & SNR\n",
    "                better_flux[i] = primer_flux[i]\n",
    "                better_err[i] = primer_err[i]\n",
    "                better_snr[i] = primer_snr[i]\n",
    "            else: # else if PRIMER's SNR is smaller than CWeb's, then keep CWeb's flux, error & SNR\n",
    "                better_flux[i] = cweb_flux[i]\n",
    "                better_err[i] = cweb_err[i]\n",
    "                better_snr[i] = cweb_snr[i]\n",
    "\n",
    "    ### now, check the cases where there is CWeb data but NO PRIMER data\n",
    "    elif len(cweb_flux_header) != 0:\n",
    "        cweb_flux = df[cweb_flux_header[0]].replace(np.nan, -99.0)\n",
    "        cweb_err = df[cweb_err_header[0]].replace(np.nan, -99.0)\n",
    "\n",
    "        # then we calculate the SNR\n",
    "        better_flux = cweb_flux\n",
    "        better_err = cweb_err\n",
    "        better_snr = cweb_flux / cweb_err\n",
    "\n",
    "    ### finally, check the cases where there is PRIMER data but NO CWeb data\n",
    "    else:\n",
    "        primer_flux = df[primer_flux_header[0]].replace(np.nan, -99.0)\n",
    "        primer_err = df[primer_err_header[0]].replace(np.nan, -99.0)\n",
    "\n",
    "        # then we calculate the SNR\n",
    "        better_flux = primer_flux\n",
    "        better_err = primer_err\n",
    "        better_snr = primer_flux / primer_err\n",
    "\n",
    "    ### NOW, after gathering all this, we check for the final time to see if the SNR is less than or equal to 3.\n",
    "    ### if yes, we'll set the error to be equal to the flux, and the flux to be equal to 0. we have to do this\n",
    "    ### because CIGALE likes to make weird estimational violations when it comes to large upper limits.\n",
    "    for i in range(np.size(better_snr)):\n",
    "        SNR = better_snr[i]\n",
    "        if SNR <= 3:\n",
    "            better_err[i] = better_flux[i] # Aug 2, 2024: PLEASE change to 3-sigma\n",
    "            better_flux[i] = 0\n",
    "\n",
    "    ### finally, we convert all the fluxes and errors \n",
    "    ### from μJy (the unit used in Hollis's table) to mJy (the unit that CIGALE takes)\n",
    "    better_flux = better_flux / 1e3\n",
    "    better_err = better_err / 1e3\n",
    "\n",
    "    ### at last, we can escape this hellscape of a for-loop.\n",
    "    ### save the fluxes and errors into a list so we can read later.\n",
    "    fluxes.append(better_flux)\n",
    "    errors.append(better_err)"
   ]
  },
  {
   "cell_type": "markdown",
   "id": "265e6aff-1d76-4189-a57c-cf50990219c1",
   "metadata": {},
   "source": [
    "After this trial and tribulation of a for-loop, let's do a sanity check!"
   ]
  },
  {
   "cell_type": "code",
   "execution_count": 7,
   "id": "12673072-c872-4b77-9a64-5e679418df8a",
   "metadata": {},
   "outputs": [
    {
     "name": "stdout",
     "output_type": "stream",
     "text": [
      "f150w\n",
      "0.0\n",
      "-1.55168821753959e-05\n",
      "1.55168821753959e-05\n"
     ]
    }
   ],
   "source": [
    "# let's find a random band, and check a random line in the array of flux values \n",
    "# that correspond to that band. assume this value to be from CWeb for simplicity.\n",
    "print(band_names[2])\n",
    "print(fluxes[2][19])\n",
    "\n",
    "# then, let's retrieve that same CWeb flux value from the dataframe, knowing both the name \n",
    "# of the band and the index of the flux value in that band. we'll just use CWeb for this.\n",
    "print(df['f_auto_f150w'][19] / 1e3)\n",
    "\n",
    "# if these two flux values are the same, this subtraction should return 0.\n",
    "print(fluxes[2][19] - df['f_auto_f150w'][19] / 1e3)"
   ]
  },
  {
   "cell_type": "markdown",
   "id": "12c74a49-6f50-4bf8-9849-f657e50ca4d2",
   "metadata": {},
   "source": [
    "The subtraction DOES return 0, so we're good!"
   ]
  },
  {
   "cell_type": "markdown",
   "id": "10d6be06-55d8-49fb-80cb-1833f5621d90",
   "metadata": {},
   "source": [
    "Now, let's start preparing the contents for the dataframe that we'll later turn into a .txt file for CIGALE to read."
   ]
  },
  {
   "cell_type": "code",
   "execution_count": 10,
   "id": "1295cb23-2ae7-4e83-b321-620a81252bdc",
   "metadata": {},
   "outputs": [
    {
     "name": "stdout",
     "output_type": "stream",
     "text": [
      "['id', 'redshift', 'hst.wfc.F814W', 'hst.wfc.F814W_err', 'jwst.nircam.F115W', 'jwst.nircam.F115W_err', 'jwst.nircam.F150W', 'jwst.nircam.F150W_err', 'jwst.nircam.F277W', 'jwst.nircam.F277W_err', 'jwst.nircam.F444W', 'jwst.nircam.F444W_err', 'jwst.miri.F770W', 'jwst.miri.F770W_err', 'hst.wfc.F606W', 'hst.wfc.F606W_err', 'jwst.nircam.F090W', 'jwst.nircam.F090W_err', 'jwst.nircam.F200W', 'jwst.nircam.F200W_err', 'jwst.nircam.F356W', 'jwst.nircam.F356W_err', 'jwst.nircam.F410M', 'jwst.nircam.F410M_err']\n"
     ]
    }
   ],
   "source": [
    "### first, we need the column names. \n",
    "# let's make a list for this. we have two known names: id and redshift.\n",
    "column_names = ['id', 'redshift']\n",
    "\n",
    "# next, we retrieve all the band names and make column names with them as well\n",
    "for name in band_names:\n",
    "    if name == 'f814w' or name == 'f606w': # these are to distinguish the HST bands\n",
    "        column_names.append('hst.wfc.' + name.upper()) # make a column name for the flux\n",
    "        column_names.append('hst.wfc.' + name.upper() + '_err') # make a column name for the error\n",
    "    elif name == 'f770w': # this is to distinguish the MIRI band\n",
    "        column_names.append('jwst.miri.' + name.upper()) # make a column name for the flux\n",
    "        column_names.append('jwst.miri.' + name.upper() + '_err') # make a column name for the error\n",
    "    else: # the rest are JWST bands\n",
    "        column_names.append('jwst.nircam.' + name.upper()) # make a column name for the flux\n",
    "        column_names.append('jwst.nircam.' + name.upper() + '_err') # make a column name for the error\n",
    "\n",
    "print(column_names)"
   ]
  },
  {
   "cell_type": "code",
   "execution_count": 11,
   "id": "e7818c7d-f0fd-4a43-8cc9-ed385e276a0a",
   "metadata": {},
   "outputs": [
    {
     "name": "stdout",
     "output_type": "stream",
     "text": [
      "          id  redshift  hst.wfc.F814W  hst.wfc.F814W_err  jwst.nircam.F115W  \\\n",
      "0     756228     -99.0       0.000068           0.000010           0.000085   \n",
      "1     756257     -99.0       0.000087           0.000009           0.000078   \n",
      "2     756324     -99.0       0.000043           0.000009           0.000000   \n",
      "3     756353     -99.0       0.000242           0.000014           0.000323   \n",
      "4     756380     -99.0       0.000350           0.000024           0.000404   \n",
      "...      ...       ...            ...                ...                ...   \n",
      "1027  824190     -99.0       0.000039           0.000010           0.000000   \n",
      "1028  824219     -99.0       0.000000           0.000011           0.000000   \n",
      "1029  824230     -99.0       0.000010           0.000002           0.000000   \n",
      "1030  824244     -99.0       0.000024           0.000004           0.000000   \n",
      "1031  824265     -99.0       0.000000           0.000012           0.000000   \n",
      "\n",
      "      jwst.nircam.F115W_err  jwst.nircam.F150W  jwst.nircam.F150W_err  \\\n",
      "0                  0.000015           0.000091               0.000013   \n",
      "1                  0.000010           0.000126               0.000008   \n",
      "2                  0.000031           0.000069               0.000012   \n",
      "3                  0.000019           0.000556               0.000017   \n",
      "4                  0.000051           0.000370               0.000039   \n",
      "...                     ...                ...                    ...   \n",
      "1027               0.000006           0.000000               0.000005   \n",
      "1028               0.000064           0.000000               0.000054   \n",
      "1029              -0.099000           0.000000              -0.099000   \n",
      "1030               0.000044           0.000000              -0.099000   \n",
      "1031              -0.099000           0.000000              -0.099000   \n",
      "\n",
      "      jwst.nircam.F277W  jwst.nircam.F277W_err  ...  hst.wfc.F606W  \\\n",
      "0              0.000126               0.000004  ...       0.000059   \n",
      "1              0.000130               0.000003  ...       0.000051   \n",
      "2              0.000119               0.000004  ...       0.000000   \n",
      "3              0.000297               0.000005  ...       0.000265   \n",
      "4              0.000418               0.000015  ...       0.000000   \n",
      "...                 ...                    ...  ...            ...   \n",
      "1027           0.000041               0.000002  ...       0.000027   \n",
      "1028           0.000000               0.000009  ...       0.000000   \n",
      "1029           0.000000               0.000008  ...       0.000000   \n",
      "1030           0.000017               0.000005  ...       0.000000   \n",
      "1031           0.000013               0.000003  ...       0.000000   \n",
      "\n",
      "      hst.wfc.F606W_err  jwst.nircam.F090W  jwst.nircam.F090W_err  \\\n",
      "0              0.000015           0.000000               0.000024   \n",
      "1              0.000014           0.000084               0.000009   \n",
      "2              0.000023           0.000043               0.000013   \n",
      "3              0.000019           0.000272               0.000018   \n",
      "4             -0.099000           0.000000              -0.099000   \n",
      "...                 ...                ...                    ...   \n",
      "1027           0.000008           0.000000              -0.000004   \n",
      "1028          -0.099000           0.000000              -0.099000   \n",
      "1029          -0.099000           0.000000              -0.099000   \n",
      "1030          -0.099000           0.000000              -0.099000   \n",
      "1031          -0.099000           0.000000              -0.099000   \n",
      "\n",
      "      jwst.nircam.F200W  jwst.nircam.F200W_err  jwst.nircam.F356W  \\\n",
      "0              0.000109               0.000010           0.000117   \n",
      "1              0.000122               0.000006           0.000124   \n",
      "2              0.000092               0.000009           0.000102   \n",
      "3              0.000390               0.000013           0.000301   \n",
      "4              0.000000              -0.099000           0.000000   \n",
      "...                 ...                    ...                ...   \n",
      "1027           0.000029               0.000005           0.000040   \n",
      "1028           0.000000              -0.099000           0.000000   \n",
      "1029           0.000000              -0.099000           0.000000   \n",
      "1030           0.000000              -0.099000           0.000000   \n",
      "1031           0.000000              -0.099000           0.000000   \n",
      "\n",
      "      jwst.nircam.F356W_err  jwst.nircam.F410M  jwst.nircam.F410M_err  \n",
      "0                  0.000004           0.000139               0.000007  \n",
      "1                  0.000002           0.000113               0.000004  \n",
      "2                  0.000003           0.000111               0.000006  \n",
      "3                  0.000005           0.000318               0.000008  \n",
      "4                 -0.099000           0.000000              -0.099000  \n",
      "...                     ...                ...                    ...  \n",
      "1027               0.000002           0.000028               0.000003  \n",
      "1028              -0.099000           0.000000              -0.099000  \n",
      "1029              -0.099000           0.000000              -0.099000  \n",
      "1030              -0.099000           0.000000              -0.099000  \n",
      "1031              -0.099000           0.000000              -0.099000  \n",
      "\n",
      "[1032 rows x 24 columns]\n"
     ]
    }
   ],
   "source": [
    "### finally, let's put everything into each of the columns! \n",
    "# to do this, we'll first create a dictionary.\n",
    "mega_dict = {}\n",
    "\n",
    "# next, we'll create an array of redshifts that are all set at -99.0.\n",
    "# these are meant to be placeholders to CIGALE to fill in when it runs.\n",
    "z_arr = np.full(np.size(fluxes[0]), -99.0)\n",
    "\n",
    "# now we start populating the dictionary\n",
    "for idx in range(len(column_names)-1):\n",
    "    # FIRST, we add the id array, as defined above\n",
    "    if idx == 0:\n",
    "        mega_dict[column_names[idx]] = df['id']\n",
    "    # NEXT, we add the redshift array, where all the values are set to -99.0\n",
    "    elif idx == 1:\n",
    "        mega_dict[column_names[idx]] = z_arr\n",
    "    # FINALLY, we start adding the fluxes and errors, based on the band names. we know\n",
    "    # the order of the band names in the band_names list and the column_names list are\n",
    "    # the same, so one by one, we'll populate the next columns.\n",
    "    else:\n",
    "        if idx % 2 == 0:\n",
    "            mega_dict[column_names[idx]] = fluxes[int(idx/2-1)]\n",
    "            mega_dict[column_names[idx+1]] = errors[int(idx/2-1)]\n",
    "\n",
    "cigale_df = pd.DataFrame(mega_dict)\n",
    "print(cigale_df)"
   ]
  },
  {
   "cell_type": "code",
   "execution_count": 12,
   "id": "ec140a4b-5285-4b0e-ba32-a5a55c871a7f",
   "metadata": {},
   "outputs": [],
   "source": [
    "# after some checking, we know there's duplicates in the data table.\n",
    "# this gets rid of the duplicates and keeps only one galaxy instead of one with many duplicates.\n",
    "cigale_df_to_save = cigale_df[cigale_df.duplicated(keep='first')==False]"
   ]
  },
  {
   "cell_type": "code",
   "execution_count": 13,
   "id": "c7e21d1a-8cf5-4874-8a8e-ead26daf644d",
   "metadata": {},
   "outputs": [],
   "source": [
    "cigale_df_to_save.to_csv('cigale_data.txt', sep='\\t', index=False)"
   ]
  }
 ],
 "metadata": {
  "kernelspec": {
   "display_name": "Python 3 (ipykernel)",
   "language": "python",
   "name": "python3"
  },
  "language_info": {
   "codemirror_mode": {
    "name": "ipython",
    "version": 3
   },
   "file_extension": ".py",
   "mimetype": "text/x-python",
   "name": "python",
   "nbconvert_exporter": "python",
   "pygments_lexer": "ipython3",
   "version": "3.12.4"
  }
 },
 "nbformat": 4,
 "nbformat_minor": 5
}
