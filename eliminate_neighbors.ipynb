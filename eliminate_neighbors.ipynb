{
 "cells": [
  {
   "cell_type": "code",
   "execution_count": 1,
   "id": "511616df-454a-4743-b69b-93ccccfede49",
   "metadata": {},
   "outputs": [],
   "source": [
    "# this sets up basic packages\n",
    "import numpy as np\n",
    "import pandas as pd\n",
    "import astropy.units as u\n",
    "import astropy.cosmology.units as cu\n",
    "\n",
    "# this sets up matplotlib\n",
    "import matplotlib.pyplot as plt\n",
    "%matplotlib inline\n",
    "\n",
    "# this sets up astropy\n",
    "from astropy.io import fits\n",
    "from astropy.table import Table\n",
    "from astropy.wcs import WCS\n",
    "from astropy.wcs.utils import pixel_to_skycoord, skycoord_to_pixel\n",
    "from astropy.utils.data import get_pkg_data_filename\n",
    "from astropy.coordinates import SkyCoord, Angle, match_coordinates_sky, Distance"
   ]
  },
  {
   "cell_type": "code",
   "execution_count": 2,
   "id": "36e13460-b56d-49ee-8b63-4a2829e22503",
   "metadata": {},
   "outputs": [],
   "source": [
    "# this reads in the new neighbor catalog, originally made for CIGALE\n",
    "df = pd.read_csv('post_correction_data.csv')"
   ]
  },
  {
   "cell_type": "code",
   "execution_count": 3,
   "id": "9520e728-c08d-48d7-93a1-d32cd224b176",
   "metadata": {},
   "outputs": [
    {
     "name": "stdout",
     "output_type": "stream",
     "text": [
      "Before all the eliminations, there are a total of 994 sources.\n"
     ]
    }
   ],
   "source": [
    "print('Before all the eliminations, there are a total of', df.shape[0], 'sources.')"
   ]
  },
  {
   "cell_type": "markdown",
   "id": "76f0fae3-4633-4751-82d5-6c0a6bfb534d",
   "metadata": {},
   "source": [
    "# <b>CRITERION 1</b>: Minimum of 3 detections, or less if there's A3COSMOS/ALMA data"
   ]
  },
  {
   "cell_type": "code",
   "execution_count": 5,
   "id": "104839bf-2c11-4a59-a580-b1c736306ca9",
   "metadata": {},
   "outputs": [],
   "source": [
    "# in a previous .csv file, all the neighbors are id'd based on their central galaxy.\n",
    "# since this id is such a minor part of our work and isn't present in our later .csv or .txt files,\n",
    "# we just retrieve these \"our_id\" values from the old .csv file, and then use them for our new work.\n",
    "df2 = pd.read_csv('neighbor_data.csv')\n",
    "df2 = df2[df2['id'].duplicated(keep='first')==False]\n",
    "catalog_id = df2['id']\n",
    "our_id = df2['our_id']\n",
    "our_ra = df2['ra']\n",
    "our_dec = df2['dec']\n",
    "our_z = df2['z_spec']"
   ]
  },
  {
   "cell_type": "code",
   "execution_count": 6,
   "id": "dbf390be-873f-48c4-9ca9-8db191b2fca7",
   "metadata": {},
   "outputs": [
    {
     "name": "stdout",
     "output_type": "stream",
     "text": [
      "Filename: /Volumes/LaCie/COSMOS_DATA/a3cosmos_blind.fits\n",
      "No.    Name      Ver    Type      Cards   Dimensions   Format\n",
      "  0  PRIMARY       1 PrimaryHDU      45   ()      \n",
      "  1  J_ApJS_244_40_blind    1 BinTableHDU    115   1134R x 16C   [D, D, D, D, E, E, E, E, E, E, E, D, E, E, E, B]   \n"
     ]
    }
   ],
   "source": [
    "# this opens the HDU list of the .fits catalog from A3COSMOS\n",
    "hdu_list = fits.open('/Volumes/LaCie/COSMOS_DATA/a3cosmos_blind.fits')\n",
    "hdu_list.info()\n",
    "\n",
    "# this gets the data of the catalog\n",
    "a3cosmos = hdu_list[1].data"
   ]
  },
  {
   "cell_type": "code",
   "execution_count": 7,
   "id": "adb14330-b418-47dc-a1ed-2796c86bc4fe",
   "metadata": {},
   "outputs": [
    {
     "name": "stdout",
     "output_type": "stream",
     "text": [
      "2 is the number of matches between the A3COSMOS and the spectroscopic catalogs.\n"
     ]
    }
   ],
   "source": [
    "### matching coords from the A3COSMOS catalog using SkyCoord \n",
    "# create SkyCoord arrays (?) with the RA and Dec of the galaxies in both catalogs\n",
    "radio_cat = SkyCoord(ra=a3cosmos['RAJ2000']*u.degree, dec=a3cosmos['DEJ2000']*u.degree)\n",
    "spec_cat = SkyCoord(ra=our_ra.values*u.degree, dec=our_dec.values*u.degree)\n",
    "\n",
    "# use search_around_sky to find matching indices (matching in RA and Dec) in each catalog\n",
    "idx_radio, idx_spec, d2d, d3d = spec_cat.search_around_sky(radio_cat, 1*u.arcsec)\n",
    "\n",
    "# use the matching indices to the new catalog to see where we have ground-based data of our neighbors\n",
    "print(np.size(idx_radio), 'is the number of matches between the A3COSMOS and the spectroscopic catalogs.')"
   ]
  },
  {
   "cell_type": "code",
   "execution_count": 8,
   "id": "ac828be5-9d63-4467-b1c2-68a99bd3e7b7",
   "metadata": {},
   "outputs": [],
   "source": [
    "# this calls the names of all the columns with flux measurements for all the galaxies\n",
    "f_cols = [col for col in df.columns if '_err' not in col and col != 'id' and col != 'redshift']"
   ]
  },
  {
   "cell_type": "code",
   "execution_count": 9,
   "id": "f82af9b3-8c48-4148-8f90-c0e132d92cc7",
   "metadata": {},
   "outputs": [
    {
     "name": "stdout",
     "output_type": "stream",
     "text": [
      "849 is the total amount of neighbors that pass criterion 1.\n"
     ]
    }
   ],
   "source": [
    "# this saves all the neighbor ids that pass criterion 1\n",
    "crit1_neigh_id = []\n",
    "\n",
    "# this loops over all the galaxies from the .csv file, then reads their corresponding fluxes\n",
    "# in all our bands to see if each of them has at least 3 different detections. if said galaxy does, \n",
    "# then we save the id of that galaxy, meaning that it passes criterion 1.\n",
    "\n",
    "# this loops over each of the 9 QGs in our sample group\n",
    "for id in catalog_id.values:\n",
    "    \n",
    "    # this retrieves all the corresponding fluxes of the galaxy with the id called\n",
    "    all_bands = df[df['id'] == id][f_cols].values\n",
    "\n",
    "    # this counts how many of these fluxes are non-zeros (i.e. how many detections there are)\n",
    "    available_fluxes = np.count_nonzero(all_bands)\n",
    "\n",
    "    # this adds the galaxy's id into crit1_neigh_id if the galaxy has more than 3 detections\n",
    "    if available_fluxes >= 3:\n",
    "        crit1_neigh_id.append(id)\n",
    "        \n",
    "print(len(crit1_neigh_id), 'is the total amount of neighbors that pass criterion 1.')"
   ]
  },
  {
   "cell_type": "markdown",
   "id": "001d2227-6910-4180-85d9-25ca7a1ea5af",
   "metadata": {},
   "source": [
    "# <b>CRITERION 2:</b> |z$_{QG}$ - z$_{gal}$| < 0.5"
   ]
  },
  {
   "cell_type": "code",
   "execution_count": 11,
   "id": "ea9c5d16-3ce7-4713-88e0-a88699e19d7c",
   "metadata": {},
   "outputs": [
    {
     "name": "stdout",
     "output_type": "stream",
     "text": [
      "Filename: out/results.fits\n",
      "No.    Name      Ver    Type      Cards   Dimensions   Format\n",
      "  0  PRIMARY       1 PrimaryHDU       4   ()      \n",
      "  1                1 BinTableHDU    374   994R x 123C   [K, D, D, D, D, D, D, D, D, D, D, D, D, D, D, D, D, D, D, D, D, D, D, D, D, D, D, D, D, D, D, D, D, D, D, D, D, D, D, D, D, D, D, D, D, D, D, D, D, D, D, D, D, D, D, D, D, D, D, D, D, D, D, D, D, D, D, D, D, D, D, D, D, D, D, D, D, D, D, D, D, D, D, D, D, D, D, D, D, D, D, D, D, D, D, D, D, D, D, D, D, D, D, D, D, D, D, D, D, D, D, D, D, D, D, D, D, D, D, D, D, D, D]   \n"
     ]
    }
   ],
   "source": [
    "# this reads in the results FITS file that CIGALE made\n",
    "cigale_results = fits.open('out/results.fits')\n",
    "cigale_results.info()"
   ]
  },
  {
   "cell_type": "code",
   "execution_count": 12,
   "id": "ae8ead10-8c7c-4fbf-b78d-bb1b77a9ed72",
   "metadata": {},
   "outputs": [],
   "source": [
    "# this gets the data from the results FITS file\n",
    "cigale_data = Table(cigale_results[1].data).to_pandas()"
   ]
  },
  {
   "cell_type": "code",
   "execution_count": 13,
   "id": "883b0a51-87b1-4dbf-a3df-299a4c82e2f1",
   "metadata": {},
   "outputs": [],
   "source": [
    "# this selects only the rows in cigale_data and our_id\n",
    "# whose corresponding source already passed criterion 1\n",
    "reduced_cigale = cigale_data.loc[cigale_data['id'].isin(crit1_neigh_id)]\n",
    "reduced_our_id = our_id[catalog_id.isin(crit1_neigh_id)]"
   ]
  },
  {
   "cell_type": "code",
   "execution_count": 14,
   "id": "4a17ec0d-e2aa-4f02-8c2b-85739575b561",
   "metadata": {},
   "outputs": [],
   "source": [
    "cigale_id = reduced_cigale['id'].values\n",
    "cigale_z = reduced_cigale['bayes.universe.redshift'].values\n",
    "cigale_z_err = reduced_cigale['bayes.universe.redshift_err'].values"
   ]
  },
  {
   "cell_type": "code",
   "execution_count": 15,
   "id": "7bc8af90-3cbb-493a-8955-820615d3fa30",
   "metadata": {},
   "outputs": [],
   "source": [
    "# now read in the RAs and Decs of our 9 galaxies\n",
    "info = np.genfromtxt('basic_data.txt', delimiter=' ', dtype=['U15', '<f8','<f8', '<f8'])\n",
    "\n",
    "# this gets the galaxy redshifts for all the 9 galaxies\n",
    "galaxy_redshift = np.zeros(np.size(info), dtype=float)\n",
    "for i in range(np.size(info)):\n",
    "    galaxy_redshift[i] = info[i][3]"
   ]
  },
  {
   "cell_type": "code",
   "execution_count": 16,
   "id": "65b292ea-23a0-4abe-8b77-050e65f4f8c2",
   "metadata": {},
   "outputs": [
    {
     "name": "stdout",
     "output_type": "stream",
     "text": [
      "233 is the total amount of neighbors that pass criterion 2.\n"
     ]
    }
   ],
   "source": [
    "# this saves all the neighbor ids that pass criterion 2\n",
    "crit2_neigh_id = []\n",
    "\n",
    "# this loops over each of the 9 QGs in our sample group\n",
    "for our_galaxy in range(np.size(galaxy_redshift)):\n",
    "    # this selects the neighbor IDs, ONLY the ones that passed criterion 1\n",
    "    neigh_id = np.array(cigale_id[reduced_our_id==our_galaxy])\n",
    "\n",
    "    # this reads in the estimated z and errors of all the neighbors around each galaxy that passed criterion 1\n",
    "    neigh_z = np.array(cigale_z[reduced_our_id==our_galaxy])\n",
    "    neigh_z_err = np.array(cigale_z_err[reduced_our_id==our_galaxy])\n",
    "\n",
    "    # this sets criterion 2\n",
    "    criteria = (np.abs(neigh_z + neigh_z_err - galaxy_redshift[our_galaxy]) <= 0.5) | (np.abs(neigh_z - neigh_z_err - galaxy_redshift[our_galaxy]) <= 0.5)\n",
    "\n",
    "    # this finds neighbor IDs that pass criterion 2\n",
    "    ok_neigh_id = neigh_id[criteria]\n",
    "\n",
    "    # this saves the indices of the neighbors that pass criterion 2\n",
    "    crit2_neigh_id.extend(ok_neigh_id)\n",
    "\n",
    "print(len(crit2_neigh_id), 'is the total amount of neighbors that pass criterion 2.')"
   ]
  },
  {
   "cell_type": "markdown",
   "id": "608b7c5b-6fcc-4e8a-b123-1dea697ba28a",
   "metadata": {},
   "source": [
    "Now, we save the plots of the fits that passed both criteria altogether into a separate .pdf file."
   ]
  },
  {
   "cell_type": "code",
   "execution_count": 18,
   "id": "07235cb6-17bc-47dc-88ea-60691df4effa",
   "metadata": {},
   "outputs": [],
   "source": [
    "import PyPDF2, os"
   ]
  },
  {
   "cell_type": "code",
   "execution_count": 19,
   "id": "6c8c6775-73e6-4f37-9f47-5b52af433873",
   "metadata": {},
   "outputs": [],
   "source": [
    "pdfiles = []\n",
    "for filename in os.listdir('out/'):\n",
    "    if filename[0:6] in str(crit2_neigh_id) and filename.endswith('.pdf'):\n",
    "        if filename != 'merged.pdf':\n",
    "            pdfiles.append(filename)\n",
    "                        \n",
    "pdfiles.sort(key = str.lower)"
   ]
  },
  {
   "cell_type": "code",
   "execution_count": 20,
   "id": "a19b5653-540c-4f9f-ad71-5ae04f6005d8",
   "metadata": {},
   "outputs": [],
   "source": [
    "pdfMerge = PyPDF2.PdfMerger()\n",
    "for filename in pdfiles:\n",
    "    pdfFile = open('out/' + filename, 'rb')\n",
    "    pdfReader = PyPDF2.PdfReader(pdfFile)\n",
    "    pdfMerge.append(pdfReader)\n",
    "pdfFile.close()\n",
    "pdfMerge.write('merged.pdf')"
   ]
  },
  {
   "cell_type": "markdown",
   "id": "cbf8c609-780e-4ad9-aaca-5688173c90a6",
   "metadata": {},
   "source": [
    "# Miscellaneous Eliminations"
   ]
  },
  {
   "cell_type": "markdown",
   "id": "74b3411f-99b2-4c75-85ff-c47c65ea993b",
   "metadata": {},
   "source": [
    "First, compare our new sample to our old sample, where there are 160 potential neighbors (see the notebook named <b>eliminate_neighbors_old_data.ipynb</b>). We're doing this just to see how much our two samples differ from one another."
   ]
  },
  {
   "cell_type": "code",
   "execution_count": 22,
   "id": "4ebb6f5e-0713-49d0-bbcd-c33ec5e08343",
   "metadata": {},
   "outputs": [],
   "source": [
    "# this reads in the .txt file where we've saved the indices of the potential neighbors\n",
    "old_potential = np.genfromtxt('old_data_potential_neighbors.txt', dtype=('float','f8'))"
   ]
  },
  {
   "cell_type": "code",
   "execution_count": 199,
   "id": "9220f447-b7ef-4141-9b84-bb8ceaa909b0",
   "metadata": {},
   "outputs": [],
   "source": [
    "# this converts crit2_neigh_id into an array of floats so it's easier to compare\n",
    "new_potential = np.array(crit2_neigh_id, dtype=('float','f8'))"
   ]
  },
  {
   "cell_type": "code",
   "execution_count": 201,
   "id": "bbe02ddb-d82e-411f-bb2e-24cba8d0e267",
   "metadata": {},
   "outputs": [],
   "source": [
    "# this is to find how many common elements are in both arrays\n",
    "common = np.intersect1d(old_potential, new_potential)"
   ]
  },
  {
   "cell_type": "code",
   "execution_count": 203,
   "id": "6e137d13-d73a-426b-b152-197bc27309e7",
   "metadata": {},
   "outputs": [
    {
     "name": "stdout",
     "output_type": "stream",
     "text": [
      "Filename: out_all 2.35.35 PM/results.fits\n",
      "No.    Name      Ver    Type      Cards   Dimensions   Format\n",
      "  0  PRIMARY       1 PrimaryHDU       4   ()      \n",
      "  1                1 BinTableHDU    386   994R x 127C   [K, D, D, D, D, D, D, D, D, D, D, D, D, D, D, D, D, D, D, D, D, D, D, D, D, D, D, D, D, D, D, D, D, D, D, D, D, D, D, D, D, D, D, D, D, D, D, D, D, D, D, D, D, D, D, D, D, D, D, D, D, D, D, D, D, D, D, D, D, D, D, D, D, D, D, D, D, D, D, D, D, D, D, D, D, D, D, D, D, D, D, D, D, D, D, D, D, D, D, D, D, D, D, D, D, D, D, D, D, D, D, D, D, D, D, D, D, D, D, D, D, D, D, D, D, D, D]   \n"
     ]
    }
   ],
   "source": [
    "# this reads in the old results file\n",
    "cigale_old = fits.open('out_all 2.35.35 PM/results.fits')\n",
    "cigale_old.info()\n",
    "\n",
    "# this gets the data from the old results file\n",
    "cigale_old_table = Table(cigale_old[1].data).to_pandas()\n",
    "\n",
    "# this locates the common potential neighbors in the old results file\n",
    "info_cigale_old = cigale_old_table.loc[cigale_old_table['id'].isin(common)]"
   ]
  },
  {
   "cell_type": "code",
   "execution_count": 205,
   "id": "c3303220-9234-4d9b-9878-da5a49318d02",
   "metadata": {},
   "outputs": [],
   "source": [
    "# this locates the common potential neighbors in the new results file\n",
    "info_cigale_new = cigale_data.loc[cigale_data['id'].isin(common)]"
   ]
  },
  {
   "cell_type": "code",
   "execution_count": 207,
   "id": "fa7739da-8a23-4ac2-9891-49496c474de6",
   "metadata": {},
   "outputs": [
    {
     "name": "stderr",
     "output_type": "stream",
     "text": [
      "<>:19: SyntaxWarning: invalid escape sequence '\\o'\n",
      "<>:19: SyntaxWarning: invalid escape sequence '\\o'\n",
      "/var/folders/td/xh27mb7x6jz3g1splvmtw7z80000gn/T/ipykernel_1007/92395639.py:19: SyntaxWarning: invalid escape sequence '\\o'\n",
      "  ax[2].set_title('log$_{10}$(M$_*$/M$_\\odot$)')\n"
     ]
    },
    {
     "data": {
      "text/plain": [
       "Text(0, 0.5, 'new')"
      ]
     },
     "execution_count": 207,
     "metadata": {},
     "output_type": "execute_result"
    },
    {
     "data": {
      "image/png": "[encoded data removed]",
      "text/plain": [
       "<Figure size 1400x400 with 3 Axes>"
      ]
     },
     "metadata": {},
     "output_type": "display_data"
    }
   ],
   "source": [
    "# now we make some diagnostic plots to compare the old and new results\n",
    "# (only looking at the common potential neighbors in both samples)\n",
    "\n",
    "fig, ax = plt.subplots(1, 3, figsize=(14, 4))\n",
    "ax[0].plot(info_cigale_old['bayes.universe.redshift'].values, info_cigale_new['bayes.universe.redshift'].values, '.')\n",
    "ax[0].plot([0, 1], [0, 1], transform=ax[0].transAxes)\n",
    "ax[0].set_title('redshift')\n",
    "ax[0].set_xlabel('old')\n",
    "ax[0].set_ylabel('new')\n",
    "\n",
    "ax[1].plot(info_cigale_old['bayes.sfh.sfr'].values, info_cigale_new['bayes.sfh.sfr'].values, '.')\n",
    "ax[1].plot([0, 1], [0, 1], transform=ax[1].transAxes)\n",
    "ax[1].set_title('SFR/year')\n",
    "ax[1].set_xlabel('old')\n",
    "ax[1].set_ylabel('new')\n",
    "\n",
    "ax[2].plot(np.log10(info_cigale_old['bayes.stellar.m_star'].values), np.log10(info_cigale_new['bayes.stellar.m_star'].values), '.')\n",
    "ax[2].plot([0, 1], [0, 1], transform=ax[2].transAxes)\n",
    "ax[2].set_title('log$_{10}$(M$_*$/M$_\\odot$)')\n",
    "ax[2].set_xlabel('old')\n",
    "ax[2].set_ylabel('new')"
   ]
  },
  {
   "cell_type": "markdown",
   "id": "d9c94efb-ce8c-47df-a284-5e94125b20a5",
   "metadata": {},
   "source": [
    "From these plots, we see that the new fits and the old fits are essentially the same, meaning there's no need to reanalyze the potential neighbors selected from the old sample. Since we already saved the IDs of the good fits selected from the old sample, we'll just use that list."
   ]
  },
  {
   "cell_type": "code",
   "execution_count": 225,
   "id": "65900b99-aef3-4488-9797-611d46853bf4",
   "metadata": {},
   "outputs": [],
   "source": [
    "# this reads in the .txt file where we've saved the indices of the potential \n",
    "# neighbors with good fits, as selected from the old sample\n",
    "old_good_fits_idx = np.genfromtxt('old_good_fits.txt', dtype=('float','f8'))\n",
    "\n",
    "# now, we pick out the ones that are good fits and are also common between the old and new samples\n",
    "good_fits_1 = np.intersect1d(common, old_good_fits_idx)"
   ]
  },
  {
   "cell_type": "code",
   "execution_count": 229,
   "id": "ecea802f-f1de-4b5d-b465-b544a86315fd",
   "metadata": {},
   "outputs": [],
   "source": [
    "# this takes the data of all the new fits based on the indices from the old good fits\n",
    "good_fits_from_old = cigale_data.loc[cigale_data['id'].isin(good_fits_1)]"
   ]
  },
  {
   "cell_type": "code",
   "execution_count": 235,
   "id": "e564c722-fae3-46ca-b755-6960f0f3b1c3",
   "metadata": {},
   "outputs": [
    {
     "data": {
      "text/html": [
       "<div>\n",
       "<style scoped>\n",
       "    .dataframe tbody tr th:only-of-type {\n",
       "        vertical-align: middle;\n",
       "    }\n",
       "\n",
       "    .dataframe tbody tr th {\n",
       "        vertical-align: top;\n",
       "    }\n",
       "\n",
       "    .dataframe thead th {\n",
       "        text-align: right;\n",
       "    }\n",
       "</style>\n",
       "<table border=\"1\" class=\"dataframe\">\n",
       "  <thead>\n",
       "    <tr style=\"text-align: right;\">\n",
       "      <th></th>\n",
       "      <th>id</th>\n",
       "      <th>bayes.attenuation.E_BVs</th>\n",
       "      <th>bayes.attenuation.E_BVs_err</th>\n",
       "      <th>bayes.sfh.age_main</th>\n",
       "      <th>bayes.sfh.age_main_err</th>\n",
       "      <th>bayes.universe.redshift</th>\n",
       "      <th>bayes.universe.redshift_err</th>\n",
       "      <th>bayes.sfh.sfr</th>\n",
       "      <th>bayes.sfh.sfr_err</th>\n",
       "      <th>bayes.sfh.sfr100Myrs</th>\n",
       "      <th>...</th>\n",
       "      <th>best.subaru.suprime.IB427</th>\n",
       "      <th>best.subaru.suprime.IB505</th>\n",
       "      <th>best.subaru.suprime.IB574</th>\n",
       "      <th>best.subaru.suprime.IB709</th>\n",
       "      <th>best.subaru.suprime.IB827</th>\n",
       "      <th>best.subaru.suprime.NB711</th>\n",
       "      <th>best.subaru.suprime.NB816</th>\n",
       "      <th>best.spitzer.irac.ch1</th>\n",
       "      <th>best.spitzer.irac.ch2</th>\n",
       "      <th>best.spitzer.irac.ch3</th>\n",
       "    </tr>\n",
       "  </thead>\n",
       "  <tbody>\n",
       "    <tr>\n",
       "      <th>0</th>\n",
       "      <td>756228</td>\n",
       "      <td>0.088857</td>\n",
       "      <td>0.035769</td>\n",
       "      <td>417.624948</td>\n",
       "      <td>354.005857</td>\n",
       "      <td>3.278320</td>\n",
       "      <td>0.525038</td>\n",
       "      <td>3.558649</td>\n",
       "      <td>1.834240</td>\n",
       "      <td>2.915679</td>\n",
       "      <td>...</td>\n",
       "      <td>1.467487e-05</td>\n",
       "      <td>0.000030</td>\n",
       "      <td>0.000063</td>\n",
       "      <td>0.000065</td>\n",
       "      <td>0.000071</td>\n",
       "      <td>0.000065</td>\n",
       "      <td>0.000071</td>\n",
       "      <td>0.000120</td>\n",
       "      <td>0.000143</td>\n",
       "      <td>0.000148</td>\n",
       "    </tr>\n",
       "    <tr>\n",
       "      <th>2</th>\n",
       "      <td>756324</td>\n",
       "      <td>0.142144</td>\n",
       "      <td>0.081505</td>\n",
       "      <td>526.144334</td>\n",
       "      <td>365.795022</td>\n",
       "      <td>3.136364</td>\n",
       "      <td>0.510097</td>\n",
       "      <td>3.385109</td>\n",
       "      <td>2.849470</td>\n",
       "      <td>2.944019</td>\n",
       "      <td>...</td>\n",
       "      <td>1.228186e-05</td>\n",
       "      <td>0.000049</td>\n",
       "      <td>0.000037</td>\n",
       "      <td>0.000043</td>\n",
       "      <td>0.000043</td>\n",
       "      <td>0.000043</td>\n",
       "      <td>0.000043</td>\n",
       "      <td>0.000102</td>\n",
       "      <td>0.000107</td>\n",
       "      <td>0.000101</td>\n",
       "    </tr>\n",
       "    <tr>\n",
       "      <th>5</th>\n",
       "      <td>756381</td>\n",
       "      <td>0.089931</td>\n",
       "      <td>0.002999</td>\n",
       "      <td>100.658272</td>\n",
       "      <td>22.407275</td>\n",
       "      <td>3.601789</td>\n",
       "      <td>0.055604</td>\n",
       "      <td>7.290918</td>\n",
       "      <td>0.364546</td>\n",
       "      <td>3.845178</td>\n",
       "      <td>...</td>\n",
       "      <td>1.186805e-05</td>\n",
       "      <td>0.000057</td>\n",
       "      <td>0.000117</td>\n",
       "      <td>0.000121</td>\n",
       "      <td>0.000124</td>\n",
       "      <td>0.000120</td>\n",
       "      <td>0.000124</td>\n",
       "      <td>0.000123</td>\n",
       "      <td>0.000154</td>\n",
       "      <td>0.000106</td>\n",
       "    </tr>\n",
       "    <tr>\n",
       "      <th>19</th>\n",
       "      <td>756650</td>\n",
       "      <td>0.450849</td>\n",
       "      <td>0.021279</td>\n",
       "      <td>100.002315</td>\n",
       "      <td>1.087818</td>\n",
       "      <td>3.599899</td>\n",
       "      <td>0.021833</td>\n",
       "      <td>19.724432</td>\n",
       "      <td>1.713810</td>\n",
       "      <td>10.549690</td>\n",
       "      <td>...</td>\n",
       "      <td>3.704218e-07</td>\n",
       "      <td>0.000003</td>\n",
       "      <td>0.000009</td>\n",
       "      <td>0.000013</td>\n",
       "      <td>0.000015</td>\n",
       "      <td>0.000013</td>\n",
       "      <td>0.000015</td>\n",
       "      <td>0.000131</td>\n",
       "      <td>0.000226</td>\n",
       "      <td>0.000186</td>\n",
       "    </tr>\n",
       "    <tr>\n",
       "      <th>25</th>\n",
       "      <td>756791</td>\n",
       "      <td>0.010646</td>\n",
       "      <td>0.018706</td>\n",
       "      <td>531.476156</td>\n",
       "      <td>344.005582</td>\n",
       "      <td>3.382148</td>\n",
       "      <td>0.087402</td>\n",
       "      <td>4.264740</td>\n",
       "      <td>1.258573</td>\n",
       "      <td>4.071001</td>\n",
       "      <td>...</td>\n",
       "      <td>1.147067e-04</td>\n",
       "      <td>0.000167</td>\n",
       "      <td>0.000256</td>\n",
       "      <td>0.000243</td>\n",
       "      <td>0.000223</td>\n",
       "      <td>0.000241</td>\n",
       "      <td>0.000225</td>\n",
       "      <td>0.000146</td>\n",
       "      <td>0.000159</td>\n",
       "      <td>0.000107</td>\n",
       "    </tr>\n",
       "    <tr>\n",
       "      <th>...</th>\n",
       "      <td>...</td>\n",
       "      <td>...</td>\n",
       "      <td>...</td>\n",
       "      <td>...</td>\n",
       "      <td>...</td>\n",
       "      <td>...</td>\n",
       "      <td>...</td>\n",
       "      <td>...</td>\n",
       "      <td>...</td>\n",
       "      <td>...</td>\n",
       "      <td>...</td>\n",
       "      <td>...</td>\n",
       "      <td>...</td>\n",
       "      <td>...</td>\n",
       "      <td>...</td>\n",
       "      <td>...</td>\n",
       "      <td>...</td>\n",
       "      <td>...</td>\n",
       "      <td>...</td>\n",
       "      <td>...</td>\n",
       "      <td>...</td>\n",
       "    </tr>\n",
       "    <tr>\n",
       "      <th>975</th>\n",
       "      <td>823918</td>\n",
       "      <td>0.015325</td>\n",
       "      <td>0.033122</td>\n",
       "      <td>628.563505</td>\n",
       "      <td>441.254153</td>\n",
       "      <td>4.119372</td>\n",
       "      <td>1.175349</td>\n",
       "      <td>1.178090</td>\n",
       "      <td>0.800805</td>\n",
       "      <td>1.343887</td>\n",
       "      <td>...</td>\n",
       "      <td>5.730105e-06</td>\n",
       "      <td>0.000023</td>\n",
       "      <td>0.000037</td>\n",
       "      <td>0.000038</td>\n",
       "      <td>0.000036</td>\n",
       "      <td>0.000037</td>\n",
       "      <td>0.000036</td>\n",
       "      <td>0.000037</td>\n",
       "      <td>0.000047</td>\n",
       "      <td>0.000036</td>\n",
       "    </tr>\n",
       "    <tr>\n",
       "      <th>978</th>\n",
       "      <td>823998</td>\n",
       "      <td>0.006525</td>\n",
       "      <td>0.019346</td>\n",
       "      <td>484.234110</td>\n",
       "      <td>417.265533</td>\n",
       "      <td>4.258428</td>\n",
       "      <td>0.979942</td>\n",
       "      <td>1.457550</td>\n",
       "      <td>0.721397</td>\n",
       "      <td>1.414571</td>\n",
       "      <td>...</td>\n",
       "      <td>0.000000e+00</td>\n",
       "      <td>0.000000</td>\n",
       "      <td>0.000003</td>\n",
       "      <td>0.000013</td>\n",
       "      <td>0.000060</td>\n",
       "      <td>0.000012</td>\n",
       "      <td>0.000060</td>\n",
       "      <td>0.000024</td>\n",
       "      <td>0.000039</td>\n",
       "      <td>0.000027</td>\n",
       "    </tr>\n",
       "    <tr>\n",
       "      <th>981</th>\n",
       "      <td>824034</td>\n",
       "      <td>0.006721</td>\n",
       "      <td>0.016807</td>\n",
       "      <td>497.113674</td>\n",
       "      <td>337.545777</td>\n",
       "      <td>2.540534</td>\n",
       "      <td>0.277544</td>\n",
       "      <td>0.228684</td>\n",
       "      <td>0.087718</td>\n",
       "      <td>0.219566</td>\n",
       "      <td>...</td>\n",
       "      <td>1.675115e-05</td>\n",
       "      <td>0.000018</td>\n",
       "      <td>0.000017</td>\n",
       "      <td>0.000017</td>\n",
       "      <td>0.000016</td>\n",
       "      <td>0.000017</td>\n",
       "      <td>0.000017</td>\n",
       "      <td>0.000018</td>\n",
       "      <td>0.000017</td>\n",
       "      <td>0.000017</td>\n",
       "    </tr>\n",
       "    <tr>\n",
       "      <th>983</th>\n",
       "      <td>824065</td>\n",
       "      <td>0.014784</td>\n",
       "      <td>0.028866</td>\n",
       "      <td>334.670839</td>\n",
       "      <td>336.738491</td>\n",
       "      <td>3.015252</td>\n",
       "      <td>0.670935</td>\n",
       "      <td>0.487810</td>\n",
       "      <td>0.221449</td>\n",
       "      <td>0.374835</td>\n",
       "      <td>...</td>\n",
       "      <td>5.108543e-06</td>\n",
       "      <td>0.000018</td>\n",
       "      <td>0.000030</td>\n",
       "      <td>0.000026</td>\n",
       "      <td>0.000024</td>\n",
       "      <td>0.000026</td>\n",
       "      <td>0.000024</td>\n",
       "      <td>0.000016</td>\n",
       "      <td>0.000021</td>\n",
       "      <td>0.000014</td>\n",
       "    </tr>\n",
       "    <tr>\n",
       "      <th>989</th>\n",
       "      <td>824190</td>\n",
       "      <td>0.020083</td>\n",
       "      <td>0.031688</td>\n",
       "      <td>566.784906</td>\n",
       "      <td>448.838404</td>\n",
       "      <td>4.143219</td>\n",
       "      <td>0.590886</td>\n",
       "      <td>1.106777</td>\n",
       "      <td>0.532421</td>\n",
       "      <td>1.059489</td>\n",
       "      <td>...</td>\n",
       "      <td>-4.186168e-10</td>\n",
       "      <td>0.000014</td>\n",
       "      <td>0.000017</td>\n",
       "      <td>0.000035</td>\n",
       "      <td>0.000034</td>\n",
       "      <td>0.000036</td>\n",
       "      <td>0.000034</td>\n",
       "      <td>0.000043</td>\n",
       "      <td>0.000035</td>\n",
       "      <td>0.000032</td>\n",
       "    </tr>\n",
       "  </tbody>\n",
       "</table>\n",
       "<p>92 rows × 123 columns</p>\n",
       "</div>"
      ],
      "text/plain": [
       "         id  bayes.attenuation.E_BVs  bayes.attenuation.E_BVs_err  \\\n",
       "0    756228                 0.088857                     0.035769   \n",
       "2    756324                 0.142144                     0.081505   \n",
       "5    756381                 0.089931                     0.002999   \n",
       "19   756650                 0.450849                     0.021279   \n",
       "25   756791                 0.010646                     0.018706   \n",
       "..      ...                      ...                          ...   \n",
       "975  823918                 0.015325                     0.033122   \n",
       "978  823998                 0.006525                     0.019346   \n",
       "981  824034                 0.006721                     0.016807   \n",
       "983  824065                 0.014784                     0.028866   \n",
       "989  824190                 0.020083                     0.031688   \n",
       "\n",
       "     bayes.sfh.age_main  bayes.sfh.age_main_err  bayes.universe.redshift  \\\n",
       "0            417.624948              354.005857                 3.278320   \n",
       "2            526.144334              365.795022                 3.136364   \n",
       "5            100.658272               22.407275                 3.601789   \n",
       "19           100.002315                1.087818                 3.599899   \n",
       "25           531.476156              344.005582                 3.382148   \n",
       "..                  ...                     ...                      ...   \n",
       "975          628.563505              441.254153                 4.119372   \n",
       "978          484.234110              417.265533                 4.258428   \n",
       "981          497.113674              337.545777                 2.540534   \n",
       "983          334.670839              336.738491                 3.015252   \n",
       "989          566.784906              448.838404                 4.143219   \n",
       "\n",
       "     bayes.universe.redshift_err  bayes.sfh.sfr  bayes.sfh.sfr_err  \\\n",
       "0                       0.525038       3.558649           1.834240   \n",
       "2                       0.510097       3.385109           2.849470   \n",
       "5                       0.055604       7.290918           0.364546   \n",
       "19                      0.021833      19.724432           1.713810   \n",
       "25                      0.087402       4.264740           1.258573   \n",
       "..                           ...            ...                ...   \n",
       "975                     1.175349       1.178090           0.800805   \n",
       "978                     0.979942       1.457550           0.721397   \n",
       "981                     0.277544       0.228684           0.087718   \n",
       "983                     0.670935       0.487810           0.221449   \n",
       "989                     0.590886       1.106777           0.532421   \n",
       "\n",
       "     bayes.sfh.sfr100Myrs  ...  best.subaru.suprime.IB427  \\\n",
       "0                2.915679  ...               1.467487e-05   \n",
       "2                2.944019  ...               1.228186e-05   \n",
       "5                3.845178  ...               1.186805e-05   \n",
       "19              10.549690  ...               3.704218e-07   \n",
       "25               4.071001  ...               1.147067e-04   \n",
       "..                    ...  ...                        ...   \n",
       "975              1.343887  ...               5.730105e-06   \n",
       "978              1.414571  ...               0.000000e+00   \n",
       "981              0.219566  ...               1.675115e-05   \n",
       "983              0.374835  ...               5.108543e-06   \n",
       "989              1.059489  ...              -4.186168e-10   \n",
       "\n",
       "     best.subaru.suprime.IB505  best.subaru.suprime.IB574  \\\n",
       "0                     0.000030                   0.000063   \n",
       "2                     0.000049                   0.000037   \n",
       "5                     0.000057                   0.000117   \n",
       "19                    0.000003                   0.000009   \n",
       "25                    0.000167                   0.000256   \n",
       "..                         ...                        ...   \n",
       "975                   0.000023                   0.000037   \n",
       "978                   0.000000                   0.000003   \n",
       "981                   0.000018                   0.000017   \n",
       "983                   0.000018                   0.000030   \n",
       "989                   0.000014                   0.000017   \n",
       "\n",
       "     best.subaru.suprime.IB709  best.subaru.suprime.IB827  \\\n",
       "0                     0.000065                   0.000071   \n",
       "2                     0.000043                   0.000043   \n",
       "5                     0.000121                   0.000124   \n",
       "19                    0.000013                   0.000015   \n",
       "25                    0.000243                   0.000223   \n",
       "..                         ...                        ...   \n",
       "975                   0.000038                   0.000036   \n",
       "978                   0.000013                   0.000060   \n",
       "981                   0.000017                   0.000016   \n",
       "983                   0.000026                   0.000024   \n",
       "989                   0.000035                   0.000034   \n",
       "\n",
       "     best.subaru.suprime.NB711  best.subaru.suprime.NB816  \\\n",
       "0                     0.000065                   0.000071   \n",
       "2                     0.000043                   0.000043   \n",
       "5                     0.000120                   0.000124   \n",
       "19                    0.000013                   0.000015   \n",
       "25                    0.000241                   0.000225   \n",
       "..                         ...                        ...   \n",
       "975                   0.000037                   0.000036   \n",
       "978                   0.000012                   0.000060   \n",
       "981                   0.000017                   0.000017   \n",
       "983                   0.000026                   0.000024   \n",
       "989                   0.000036                   0.000034   \n",
       "\n",
       "     best.spitzer.irac.ch1  best.spitzer.irac.ch2  best.spitzer.irac.ch3  \n",
       "0                 0.000120               0.000143               0.000148  \n",
       "2                 0.000102               0.000107               0.000101  \n",
       "5                 0.000123               0.000154               0.000106  \n",
       "19                0.000131               0.000226               0.000186  \n",
       "25                0.000146               0.000159               0.000107  \n",
       "..                     ...                    ...                    ...  \n",
       "975               0.000037               0.000047               0.000036  \n",
       "978               0.000024               0.000039               0.000027  \n",
       "981               0.000018               0.000017               0.000017  \n",
       "983               0.000016               0.000021               0.000014  \n",
       "989               0.000043               0.000035               0.000032  \n",
       "\n",
       "[92 rows x 123 columns]"
      ]
     },
     "execution_count": 235,
     "metadata": {},
     "output_type": "execute_result"
    }
   ],
   "source": [
    "good_fits_from_old"
   ]
  },
  {
   "cell_type": "markdown",
   "id": "48e5f889-42d6-42d8-b95e-ece1895e8cc5",
   "metadata": {},
   "source": [
    "Next, we visually inspect the neighbors that did not appear in our old sample."
   ]
  },
  {
   "cell_type": "code",
   "execution_count": 294,
   "id": "cb30c279-bbd4-462e-ab3b-ef5e119e1c68",
   "metadata": {},
   "outputs": [],
   "source": [
    "# we pick out the IDs of the new potential neighbors\n",
    "other_new_fits = np.setdiff1d(new_potential, common)"
   ]
  },
  {
   "cell_type": "code",
   "execution_count": 296,
   "id": "dd8e4813-9b7e-4e43-8c73-aefb099bc37c",
   "metadata": {},
   "outputs": [],
   "source": [
    "# now, we make a PDF file of all the plots of the new fits. this is so that it's easier to visually inspect them all\n",
    "import PyPDF2, os\n",
    "\n",
    "pdfiles = []\n",
    "for filename in os.listdir('out/'):\n",
    "    if filename[0:6] in str(other_new_fits) and filename.endswith('.pdf'):\n",
    "        pdfiles.append(filename)\n",
    "                        \n",
    "pdfiles.sort(key = str.lower)\n",
    "\n",
    "pdfMerge = PyPDF2.PdfMerger()\n",
    "for filename in pdfiles:\n",
    "    pdfFile = open('out/' + filename, 'rb')\n",
    "    pdfReader = PyPDF2.PdfReader(pdfFile)\n",
    "    pdfMerge.append(pdfReader)\n",
    "pdfFile.close()\n",
    "pdfMerge.write('all_new_fits.pdf')"
   ]
  },
  {
   "cell_type": "markdown",
   "id": "7c6fd320-d3d1-4fb4-8f40-0ee5ee5f771c",
   "metadata": {},
   "source": [
    "After making a list of visually inspected bad fits, we pick out the good fits and save them."
   ]
  },
  {
   "cell_type": "code",
   "execution_count": 316,
   "id": "b139b599-edaf-408c-b6c4-9c8eef933f2a",
   "metadata": {},
   "outputs": [],
   "source": [
    "# this reads in the .txt file where we've saved the indices of the bad fits\n",
    "new_bad_fits_idx = np.genfromtxt('new_bad_fits.txt', dtype=('float','f8'))\n",
    "\n",
    "# now, we pick out the ones that are good fits and are also common between the old and new samples\n",
    "good_fits_2 = np.setdiff1d(other_new_fits, new_bad_fits_idx)"
   ]
  },
  {
   "cell_type": "code",
   "execution_count": 318,
   "id": "75864c05-7246-461f-98a9-0e4a18a78a8b",
   "metadata": {},
   "outputs": [],
   "source": [
    "# now, we make a PDF file of all the plots of the new fits. this is so that it's easier to visually inspect them all\n",
    "import PyPDF2, os\n",
    "\n",
    "pdfiles = []\n",
    "for filename in os.listdir('out/'):\n",
    "    if filename[0:6] in str(good_fits_2) and filename.endswith('.pdf'):\n",
    "        pdfiles.append(filename)\n",
    "                        \n",
    "pdfiles.sort(key = str.lower)\n",
    "\n",
    "pdfMerge = PyPDF2.PdfMerger()\n",
    "for filename in pdfiles:\n",
    "    pdfFile = open('out/' + filename, 'rb')\n",
    "    pdfReader = PyPDF2.PdfReader(pdfFile)\n",
    "    pdfMerge.append(pdfReader)\n",
    "pdfFile.close()\n",
    "pdfMerge.write('good_fits.pdf')"
   ]
  },
  {
   "cell_type": "markdown",
   "id": "6e4a5d20-e343-4e17-80a3-77d8095e7179",
   "metadata": {},
   "source": [
    "Let's wait for Arianna..."
   ]
  },
  {
   "cell_type": "code",
   "execution_count": 268,
   "id": "66c7792e-cc42-45ac-b4d2-51277534107b",
   "metadata": {},
   "outputs": [
    {
     "name": "stdout",
     "output_type": "stream",
     "text": [
      "[-7.71853116]\n"
     ]
    }
   ],
   "source": [
    "#wow = cigale_data.loc[cigale_data['id'].isin(other_new_fits)]\n",
    "\n",
    "wow = cigale_data.loc[cigale_data['id'] == 823841]\n",
    "m_star_wow = wow['bayes.stellar.m_star'].values\n",
    "sfr_wow = wow['bayes.sfh.sfr'].values\n",
    "ssfr_wow = np.log10(sfr_wow/m_star_wow)\n",
    "print(ssfr_wow)"
   ]
  },
  {
   "cell_type": "markdown",
   "id": "10c8adaa-1091-4070-a50e-d9e8448b1f60",
   "metadata": {},
   "source": [
    "# <b>Penultimate Elimination</b>\n",
    "\n",
    "After visually inspecting all the 160 fits, we separate them into good fits, fits that need to be rerun without nebular emissions, fits that need to be checked by looking at the postage stamp (and later rerunning without nebular emissions), and completely bad fits. Below are the IDs that belong to each category."
   ]
  },
  {
   "cell_type": "code",
   "execution_count": 26,
   "id": "2ef0f602-77bb-4904-84e7-59ac5cddde07",
   "metadata": {},
   "outputs": [],
   "source": [
    "nebular_rerun = np.array([659622, 756994, 661909, 642604, 614224, 614320, 614548, 614670, \n",
    "                 659534, 661661, 661662, 661988, 661989, 662092, 756380, 756650, \n",
    "                 757025, 759202, 781608, 781845, 784642, 784663, 823371, 759485, \n",
    "                 759140, 759207, 829990, 780261, 757435, 757212, 659693, 614256, \n",
    "                 641835, 641328, 614660, 614700], dtype='object')"
   ]
  },
  {
   "cell_type": "code",
   "execution_count": 27,
   "id": "0a995eff-3313-4e2c-aedf-7c9210b5373b",
   "metadata": {},
   "outputs": [],
   "source": [
    "postage_check = np.array([614453, 660158, 661580, 661675, 661906, 780995, 759290, 824112,\n",
    "                         781056, 642340, 642380, 614114], dtype='object')"
   ]
  },
  {
   "cell_type": "code",
   "execution_count": 28,
   "id": "23bff759-c2b6-431a-acba-9aa39326e26e",
   "metadata": {},
   "outputs": [],
   "source": [
    "garbage = np.array([614134, 614257, 641889, 642233, 642502, 642581, 642605,\n",
    "                    659467, 661883, 661884, 683294, 683364, 684046, 684102, 756594, \n",
    "                    757210, 782194, 782746, 783117, 783144, 783257, 784766, 823655, 823981, 830151, 680965], dtype='object')"
   ]
  },
  {
   "cell_type": "code",
   "execution_count": 29,
   "id": "f2f67dec-0263-4d4a-8206-b733e85d1be7",
   "metadata": {},
   "outputs": [],
   "source": [
    "good_fits_nebular = np.setdiff1d(crit2_neigh_id, np.concatenate((nebular_rerun, postage_check, garbage)))"
   ]
  },
  {
   "cell_type": "markdown",
   "id": "b50794a3-ea09-4620-ac44-ca6cd1071a8f",
   "metadata": {},
   "source": [
    "# <b>Final Elimination</b>\n",
    "\n",
    "After rerunning both the nebular and postage categories, we select the fits that should be selected without nebular emissions. We also decide which fits with nebular emissions should be kept. Their IDs are entered manually downhere, then combined with the good_fits array."
   ]
  },
  {
   "cell_type": "code",
   "execution_count": 31,
   "id": "cb8a5aaf-4713-4467-b21f-e7ce7fdc8d33",
   "metadata": {},
   "outputs": [],
   "source": [
    "keep_no_nebular = np.array([614224, 614660, 614670, 614700, 659622, 661909, 662092, 756650, 756994, \n",
    "                            757025, 757212, 757435, 659693, 661989, 759140, 759202, \n",
    "                            784663, 824112, 780995], dtype='object')"
   ]
  },
  {
   "cell_type": "code",
   "execution_count": 32,
   "id": "0de50eb3-c41e-4278-a912-6f6f59f9c585",
   "metadata": {},
   "outputs": [],
   "source": [
    "keep_nebular = np.array([756380, 781608, 780261, 823371, 829990, 614114, 781056], dtype='object')"
   ]
  },
  {
   "cell_type": "code",
   "execution_count": 33,
   "id": "2d6d532e-5cf0-4cc0-83f7-2fa4c6cc29d5",
   "metadata": {},
   "outputs": [],
   "source": [
    "good_fits_nebular = np.concatenate((good_fits_nebular, keep_nebular))\n",
    "good_fits_no_nebular = keep_no_nebular"
   ]
  },
  {
   "cell_type": "code",
   "execution_count": 34,
   "id": "e27a3473-6c7a-4db1-a1cc-d6c072aa2ef5",
   "metadata": {},
   "outputs": [
    {
     "name": "stdout",
     "output_type": "stream",
     "text": [
      "Filename: out_no_nebular/results.fits\n",
      "No.    Name      Ver    Type      Cards   Dimensions   Format\n",
      "  0  PRIMARY       1 PrimaryHDU       4   ()      \n",
      "  1                1 BinTableHDU    368   36R x 121C   [K, D, D, D, D, D, D, D, D, D, D, D, D, D, D, D, D, D, D, D, D, D, D, D, D, D, D, D, D, D, D, D, D, D, D, D, D, D, D, D, D, D, D, D, D, D, D, D, D, D, D, D, D, D, D, D, D, D, D, D, D, D, D, D, D, D, D, D, D, D, D, D, D, D, D, D, D, D, D, D, D, D, D, D, D, D, D, D, D, D, D, D, D, D, D, D, D, D, D, D, D, D, D, D, D, D, D, D, D, D, D, D, D, D, D, D, D, D, D, D, D]   \n"
     ]
    }
   ],
   "source": [
    "# this reads in the FIRST results.fits file that CIGALE made without nebular emissions\n",
    "cigale_noneb1 = fits.open('out_no_nebular/results.fits')\n",
    "cigale_noneb1.info()\n",
    "\n",
    "# this gets the data from the FIRST results.fits file\n",
    "cigale_data_noneb1 = Table(cigale_noneb1[1].data).to_pandas()\n",
    "\n",
    "# this takes the CIGALE-generated info\n",
    "info_good_fits_noneb1 = cigale_data_noneb1.loc[cigale_data_noneb1['id'].isin(good_fits_no_nebular)]"
   ]
  },
  {
   "cell_type": "code",
   "execution_count": 35,
   "id": "15125d5a-102d-4735-8abd-cba1e52878f3",
   "metadata": {},
   "outputs": [
    {
     "name": "stdout",
     "output_type": "stream",
     "text": [
      "Filename: out_postage_recheck/results.fits\n",
      "No.    Name      Ver    Type      Cards   Dimensions   Format\n",
      "  0  PRIMARY       1 PrimaryHDU       4   ()      \n",
      "  1                1 BinTableHDU    368   12R x 121C   [K, D, D, D, D, D, D, D, D, D, D, D, D, D, D, D, D, D, D, D, D, D, D, D, D, D, D, D, D, D, D, D, D, D, D, D, D, D, D, D, D, D, D, D, D, D, D, D, D, D, D, D, D, D, D, D, D, D, D, D, D, D, D, D, D, D, D, D, D, D, D, D, D, D, D, D, D, D, D, D, D, D, D, D, D, D, D, D, D, D, D, D, D, D, D, D, D, D, D, D, D, D, D, D, D, D, D, D, D, D, D, D, D, D, D, D, D, D, D, D, D]   \n"
     ]
    }
   ],
   "source": [
    "# this reads in the SECOND results.fits file that CIGALE made without nebular emissions\n",
    "cigale_noneb2 = fits.open('out_postage_recheck/results.fits')\n",
    "cigale_noneb2.info()\n",
    "\n",
    "# this gets the data from the SECOND results.fits file\n",
    "cigale_data_noneb2 = Table(cigale_noneb2[1].data).to_pandas()\n",
    "\n",
    "# this takes the CIGALE-generated info\n",
    "info_good_fits_noneb2 = cigale_data_noneb2.loc[cigale_data_noneb2['id'].isin(good_fits_no_nebular)]"
   ]
  },
  {
   "cell_type": "code",
   "execution_count": 36,
   "id": "7e7549e6-8e25-4839-8b00-e6791b610925",
   "metadata": {},
   "outputs": [],
   "source": [
    "# now, make one mega DataFrame with all the good no-nebular fits\n",
    "info_good_fits_noneb = pd.concat([info_good_fits_noneb1, info_good_fits_noneb2])"
   ]
  },
  {
   "cell_type": "code",
   "execution_count": 37,
   "id": "2c6a773b-7d1b-4522-967a-1a85ccb9683e",
   "metadata": {},
   "outputs": [],
   "source": [
    "# finally, make one mega DataFrame with all the good with-nebular fits\n",
    "info_good_fits_nebular = cigale_data.loc[cigale_data['id'].isin(good_fits_nebular)]"
   ]
  },
  {
   "cell_type": "markdown",
   "id": "02375610-e603-4e18-b913-cb907f9c5785",
   "metadata": {},
   "source": [
    "# <b>Final DataFrame</b>\n",
    "\n",
    "Now, we make one FINAL DataFrame with all our potential neighbors. We also retrieve their RA and Dec from the original <b>neighbor_data.csv</b> file.\n"
   ]
  },
  {
   "cell_type": "code",
   "execution_count": 39,
   "id": "a0e5bd4a-fb98-40c0-8f12-64911fbb8652",
   "metadata": {},
   "outputs": [],
   "source": [
    "info_good_fits = pd.concat([info_good_fits_noneb, info_good_fits_nebular])"
   ]
  },
  {
   "cell_type": "code",
   "execution_count": 40,
   "id": "f6d1b2d6-5fa8-43ff-818a-2b0bb8827f82",
   "metadata": {},
   "outputs": [],
   "source": [
    "# these lines retrieve their RA and Dec from the original neighbor_data.csv file\n",
    "good_fits_ra = df2[['id', 'ra']].loc[catalog_id.isin(info_good_fits['id'].values)]\n",
    "good_fits_dec = df2[['id', 'dec']].loc[catalog_id.isin(info_good_fits['id'].values)]"
   ]
  },
  {
   "cell_type": "code",
   "execution_count": 41,
   "id": "a0445cc1-e6e4-4b89-aeb0-59c56aae8938",
   "metadata": {},
   "outputs": [],
   "source": [
    "# this creates a DataFrame with the RA and Dec of our good-fits neighbors\n",
    "good_fits_df = pd.merge(pd.merge(info_good_fits, good_fits_ra, on=\"id\", how=\"left\"), good_fits_dec, on=\"id\", how=\"left\")"
   ]
  },
  {
   "cell_type": "code",
   "execution_count": 42,
   "id": "a565aea9-3cd6-4c39-956d-8629eb5cf049",
   "metadata": {},
   "outputs": [],
   "source": [
    "final_df = good_fits_df[['id', 'ra', 'dec', 'bayes.universe.redshift', 'bayes.universe.redshift_err', \n",
    "                         'bayes.stellar.m_star', 'bayes.stellar.m_star_err', 'bayes.sfh.sfr', \n",
    "                         'bayes.sfh.sfr_err', 'bayes.sfh.sfr100Myrs', 'bayes.sfh.sfr100Myrs_err', \n",
    "                         'bayes.attenuation.E_BVs', 'bayes.attenuation.E_BVs_err']]"
   ]
  },
  {
   "cell_type": "markdown",
   "id": "11583e4c-c138-4089-8ee6-bcfb722c504a",
   "metadata": {},
   "source": [
    "## <b>BEHOLD!</b> Our final table!"
   ]
  },
  {
   "cell_type": "code",
   "execution_count": 44,
   "id": "fbe7a257-e63a-4fde-9eb1-c6b2f55b3282",
   "metadata": {},
   "outputs": [
    {
     "name": "stdout",
     "output_type": "stream",
     "text": [
      "         id          ra       dec  bayes.universe.redshift  \\\n",
      "0    756650  150.059622  2.379230                 4.857374   \n",
      "1    756994  150.065793  2.380723                 4.937202   \n",
      "2    757025  150.066598  2.380856                 4.934577   \n",
      "3    757212  150.066115  2.383224                 2.310612   \n",
      "4    757435  150.069042  2.384513                 1.660271   \n",
      "..      ...         ...       ...                      ...   \n",
      "203  823918  150.112749  2.330474                 4.119372   \n",
      "204  823998  150.106560  2.333423                 4.258428   \n",
      "205  824034  150.108001  2.333181                 2.540534   \n",
      "206  824065  150.112878  2.331558                 3.015252   \n",
      "207  824190  150.108294  2.334233                 4.143219   \n",
      "\n",
      "     bayes.universe.redshift_err  bayes.stellar.m_star  \\\n",
      "0                       0.210896          2.476156e+09   \n",
      "1                       0.129637          1.921869e+09   \n",
      "2                       0.160069          3.589874e+09   \n",
      "3                       1.975078          4.860648e+07   \n",
      "4                       1.714578          4.740173e+07   \n",
      "..                           ...                   ...   \n",
      "203                     1.175349          2.628109e+08   \n",
      "204                     0.979942          2.299701e+08   \n",
      "205                     0.277544          3.390000e+07   \n",
      "206                     0.670935          4.760431e+07   \n",
      "207                     0.590886          1.880346e+08   \n",
      "\n",
      "     bayes.stellar.m_star_err  bayes.sfh.sfr  bayes.sfh.sfr_err  \\\n",
      "0                5.776453e+08       4.082569           6.926329   \n",
      "1                2.773408e+08       5.041217           1.369508   \n",
      "2                4.712428e+08       2.005455           1.520948   \n",
      "3                5.570443e+07       0.701450           0.888249   \n",
      "4                7.491466e+07       0.347077           0.620998   \n",
      "..                        ...            ...                ...   \n",
      "203              1.471088e+08       1.178090           0.800805   \n",
      "204              1.343620e+08       1.457550           0.721397   \n",
      "205              1.197065e+07       0.228684           0.087718   \n",
      "206              2.741742e+07       0.487810           0.221449   \n",
      "207              8.989084e+07       1.106777           0.532421   \n",
      "\n",
      "     bayes.sfh.sfr100Myrs  bayes.sfh.sfr100Myrs_err  bayes.attenuation.E_BVs  \\\n",
      "0                3.818634                  4.494412                 0.041253   \n",
      "1                5.432712                  1.651806                 0.014609   \n",
      "2                2.937276                  1.231834                 0.030491   \n",
      "3                0.477021                  0.564688                 0.009082   \n",
      "4                0.300302                  0.483135                 0.016500   \n",
      "..                    ...                       ...                      ...   \n",
      "203              1.343887                  0.797183                 0.015325   \n",
      "204              1.414571                  0.651949                 0.006525   \n",
      "205              0.219566                  0.060039                 0.006721   \n",
      "206              0.374835                  0.148127                 0.014784   \n",
      "207              1.059489                  0.385980                 0.020083   \n",
      "\n",
      "     bayes.attenuation.E_BVs_err  \n",
      "0                       0.076094  \n",
      "1                       0.026910  \n",
      "2                       0.030979  \n",
      "3                       0.027108  \n",
      "4                       0.035044  \n",
      "..                           ...  \n",
      "203                     0.033122  \n",
      "204                     0.019346  \n",
      "205                     0.016807  \n",
      "206                     0.028866  \n",
      "207                     0.031688  \n",
      "\n",
      "[208 rows x 13 columns]\n"
     ]
    }
   ],
   "source": [
    "print(final_df)"
   ]
  },
  {
   "cell_type": "code",
   "execution_count": 45,
   "id": "b751fec6-fd38-4ee7-8660-4349dd0b1c3b",
   "metadata": {},
   "outputs": [
    {
     "name": "stdout",
     "output_type": "stream",
     "text": [
      "[-8.78284444 -8.58118825 -9.25286631 -7.84069773 -8.1353689  -9.15455099\n",
      " -9.27045804 -8.43667232 -8.52604757 -8.1688732  -8.56711234 -8.09363406\n",
      " -8.61743984 -8.52839381 -9.26771525 -8.46765442 -7.86749392 -8.27318666\n",
      " -7.70013198 -8.05741303 -8.13664918 -7.62425253 -7.63850452 -7.75064824\n",
      " -7.74797074 -7.65793095 -8.19243176 -8.91535227 -7.63610099 -8.39150598\n",
      " -8.28290581 -8.09547496 -8.14491746 -8.27184092 -7.86220576 -8.07216096\n",
      " -7.7542968  -7.8057081  -8.14922012 -7.6968172  -8.23688639 -7.86865846\n",
      " -7.8753378  -7.75900134 -8.64480801 -8.33981718 -7.83754275 -8.53858328\n",
      " -8.46048321 -7.72588882 -8.34274463 -7.77750184 -8.5152862  -7.65032272\n",
      " -7.66034269 -8.20463627 -8.0833798  -8.00396847         nan -8.25267851\n",
      " -7.86571402         nan -8.34405758 -8.10743088         nan -8.7190957\n",
      " -8.16893898 -8.05182938 -8.09459102         nan -8.11081754 -8.11674679\n",
      " -8.0109225  -7.96024475 -7.68575728 -8.50050809         nan -8.20686546\n",
      " -7.82837985 -7.93712563 -7.67196837 -8.30363447 -7.75170568 -8.18358163\n",
      "         nan -7.819377   -8.92802825 -8.21961996 -7.61868773 -7.72788262\n",
      " -8.00474239 -7.70815829 -8.36300351 -8.61442762 -8.06400359 -7.71218355\n",
      " -7.71110169 -8.29116536 -7.85459456 -7.71494392 -8.31621049 -8.31092809\n",
      " -8.40969598 -7.94140134 -7.63805362 -8.33370034 -8.2610517  -7.66487778\n",
      " -8.5850039  -7.72290916 -9.24998539 -8.49269836 -8.61606821 -8.56788299\n",
      " -8.02614806 -8.14464373 -8.23705561 -7.68700624 -7.70415841 -8.21919655\n",
      " -8.28982866 -8.12148811 -8.07776662 -8.61534498 -7.89782922 -8.39495115\n",
      " -8.31100022 -8.28062313 -8.19613452 -7.96016121 -7.62233422 -8.05686164\n",
      " -7.95162629 -7.6244335  -7.61875125 -7.80603096 -8.36836819 -7.65108233\n",
      " -7.97910063 -7.64797187 -7.65674582 -7.68263085 -8.15236313 -7.9086534\n",
      " -7.64089487 -7.64258952 -7.67896676 -8.25025519 -8.18638266 -7.65906498\n",
      " -8.40574487 -8.36025936 -8.14000162 -8.38848456 -7.97849609 -8.21061632\n",
      " -8.12251144 -7.88277961 -8.00811558 -8.25970452 -7.97467107 -8.25068735\n",
      " -7.85209757 -8.29852519 -8.0146443  -7.98145391 -8.1177302  -8.04535749\n",
      " -7.70365295 -8.066549   -7.84125914 -8.40999829 -7.65185026 -7.84776673\n",
      " -8.09635708 -8.38735299 -7.92661072 -7.89424709 -7.73753393 -8.10793022\n",
      " -7.85452883 -8.59414673 -8.09012023 -8.41893737 -7.67043541 -7.6592594\n",
      " -7.67050294 -8.62364955 -8.49334809 -7.61913119 -8.99798632 -8.39073353\n",
      " -7.66708903 -8.14358758 -8.21319214 -8.15052108 -8.20523071 -8.089502\n",
      " -8.01241184 -8.25022278 -8.00469917 -8.42262509 -7.71853116 -8.34846478\n",
      " -8.1980481  -8.17096308 -7.9893958  -8.23017762]\n"
     ]
    },
    {
     "name": "stderr",
     "output_type": "stream",
     "text": [
      "/var/folders/td/xh27mb7x6jz3g1splvmtw7z80000gn/T/ipykernel_1007/1112134077.py:3: RuntimeWarning: invalid value encountered in divide\n",
      "  ssfr = np.log10(sfr/m_star)\n"
     ]
    },
    {
     "data": {
      "text/plain": [
       "Text(0.5, 1.0, 'histogram of sSFR')"
      ]
     },
     "execution_count": 45,
     "metadata": {},
     "output_type": "execute_result"
    },
    {
     "data": {
      "image/png": "[encoded data removed]",
      "text/plain": [
       "<Figure size 640x480 with 1 Axes>"
      ]
     },
     "metadata": {},
     "output_type": "display_data"
    }
   ],
   "source": [
    "m_star = final_df['bayes.stellar.m_star'].values\n",
    "sfr = final_df['bayes.sfh.sfr'].values\n",
    "ssfr = np.log10(sfr/m_star)\n",
    "print(ssfr)\n",
    "plt.hist(ssfr)\n",
    "plt.title('histogram of sSFR')"
   ]
  },
  {
   "cell_type": "code",
   "execution_count": 46,
   "id": "737db02f-d4de-4aa1-9b79-67f6c2f805c7",
   "metadata": {},
   "outputs": [
    {
     "data": {
      "text/plain": [
       "(array([150.,  22.,  13.,   4.,   6.,  10.,   0.,   0.,   2.,   1.]),\n",
       " array([1.00646026e-03, 2.88558835e-01, 5.76111210e-01, 8.63663585e-01,\n",
       "        1.15121596e+00, 1.43876833e+00, 1.72632071e+00, 2.01387308e+00,\n",
       "        2.30142546e+00, 2.58897783e+00, 2.87653021e+00]),\n",
       " <BarContainer object of 10 artists>)"
      ]
     },
     "execution_count": 46,
     "metadata": {},
     "output_type": "execute_result"
    },
    {
     "data": {
      "image/png": "[encoded data removed]",
      "text/plain": [
       "<Figure size 640x480 with 1 Axes>"
      ]
     },
     "metadata": {},
     "output_type": "display_data"
    }
   ],
   "source": [
    "plt.hist(final_df['bayes.attenuation.E_BVs']*3.2)"
   ]
  },
  {
   "cell_type": "markdown",
   "id": "30227665-5612-4cb1-a36e-8fe769366989",
   "metadata": {},
   "source": [
    "## NOTES: Aug 20, 2024.<br>\n",
    "### formatting stuff for our table:<br>\n",
    "### M*: log10(mass) $\\pm$ (0.434$\\frac{uncertainty}{mass}$)<br>\n",
    "### SFR: leave NO decimal\n",
    "### z$_{phot}$: leave one significant figure (tenth decimal), same for error\n",
    "### RA, Dec: follow form 00:00:00.00 (use code)\n",
    "### log10(specific SFR) where Specific SFR = $\\frac{SFR}{M*}$ and follows form \"-8.2\" or \"-12\"\n",
    "### in cases where specific SFR < -12, just say \"< -12\".\n",
    "### in cases where SFR is beyond one decimal point (0.03) then write 0. maybe note this down."
   ]
  },
  {
   "cell_type": "code",
   "execution_count": 48,
   "id": "d33a829d-4752-4abf-9d3f-9ac885bff9ab",
   "metadata": {},
   "outputs": [
    {
     "data": {
      "text/html": [
       "<div>\n",
       "<style scoped>\n",
       "    .dataframe tbody tr th:only-of-type {\n",
       "        vertical-align: middle;\n",
       "    }\n",
       "\n",
       "    .dataframe tbody tr th {\n",
       "        vertical-align: top;\n",
       "    }\n",
       "\n",
       "    .dataframe thead th {\n",
       "        text-align: right;\n",
       "    }\n",
       "</style>\n",
       "<table border=\"1\" class=\"dataframe\">\n",
       "  <thead>\n",
       "    <tr style=\"text-align: right;\">\n",
       "      <th></th>\n",
       "      <th>ra</th>\n",
       "      <th>dec</th>\n",
       "      <th>bayes.stellar.m_star</th>\n",
       "      <th>bayes.sfh.sfr</th>\n",
       "      <th>bayes.universe.redshift</th>\n",
       "    </tr>\n",
       "  </thead>\n",
       "  <tbody>\n",
       "    <tr>\n",
       "      <th>0</th>\n",
       "      <td>150.059622</td>\n",
       "      <td>2.379230</td>\n",
       "      <td>2.476156e+09</td>\n",
       "      <td>4.082569</td>\n",
       "      <td>4.857374</td>\n",
       "    </tr>\n",
       "    <tr>\n",
       "      <th>1</th>\n",
       "      <td>150.065793</td>\n",
       "      <td>2.380723</td>\n",
       "      <td>1.921869e+09</td>\n",
       "      <td>5.041217</td>\n",
       "      <td>4.937202</td>\n",
       "    </tr>\n",
       "    <tr>\n",
       "      <th>2</th>\n",
       "      <td>150.066598</td>\n",
       "      <td>2.380856</td>\n",
       "      <td>3.589874e+09</td>\n",
       "      <td>2.005455</td>\n",
       "      <td>4.934577</td>\n",
       "    </tr>\n",
       "    <tr>\n",
       "      <th>3</th>\n",
       "      <td>150.066115</td>\n",
       "      <td>2.383224</td>\n",
       "      <td>4.860648e+07</td>\n",
       "      <td>0.701450</td>\n",
       "      <td>2.310612</td>\n",
       "    </tr>\n",
       "    <tr>\n",
       "      <th>4</th>\n",
       "      <td>150.069042</td>\n",
       "      <td>2.384513</td>\n",
       "      <td>4.740173e+07</td>\n",
       "      <td>0.347077</td>\n",
       "      <td>1.660271</td>\n",
       "    </tr>\n",
       "    <tr>\n",
       "      <th>...</th>\n",
       "      <td>...</td>\n",
       "      <td>...</td>\n",
       "      <td>...</td>\n",
       "      <td>...</td>\n",
       "      <td>...</td>\n",
       "    </tr>\n",
       "    <tr>\n",
       "      <th>203</th>\n",
       "      <td>150.112749</td>\n",
       "      <td>2.330474</td>\n",
       "      <td>2.628109e+08</td>\n",
       "      <td>1.178090</td>\n",
       "      <td>4.119372</td>\n",
       "    </tr>\n",
       "    <tr>\n",
       "      <th>204</th>\n",
       "      <td>150.106560</td>\n",
       "      <td>2.333423</td>\n",
       "      <td>2.299701e+08</td>\n",
       "      <td>1.457550</td>\n",
       "      <td>4.258428</td>\n",
       "    </tr>\n",
       "    <tr>\n",
       "      <th>205</th>\n",
       "      <td>150.108001</td>\n",
       "      <td>2.333181</td>\n",
       "      <td>3.390000e+07</td>\n",
       "      <td>0.228684</td>\n",
       "      <td>2.540534</td>\n",
       "    </tr>\n",
       "    <tr>\n",
       "      <th>206</th>\n",
       "      <td>150.112878</td>\n",
       "      <td>2.331558</td>\n",
       "      <td>4.760431e+07</td>\n",
       "      <td>0.487810</td>\n",
       "      <td>3.015252</td>\n",
       "    </tr>\n",
       "    <tr>\n",
       "      <th>207</th>\n",
       "      <td>150.108294</td>\n",
       "      <td>2.334233</td>\n",
       "      <td>1.880346e+08</td>\n",
       "      <td>1.106777</td>\n",
       "      <td>4.143219</td>\n",
       "    </tr>\n",
       "  </tbody>\n",
       "</table>\n",
       "<p>208 rows × 5 columns</p>\n",
       "</div>"
      ],
      "text/plain": [
       "             ra       dec  bayes.stellar.m_star  bayes.sfh.sfr  \\\n",
       "0    150.059622  2.379230          2.476156e+09       4.082569   \n",
       "1    150.065793  2.380723          1.921869e+09       5.041217   \n",
       "2    150.066598  2.380856          3.589874e+09       2.005455   \n",
       "3    150.066115  2.383224          4.860648e+07       0.701450   \n",
       "4    150.069042  2.384513          4.740173e+07       0.347077   \n",
       "..          ...       ...                   ...            ...   \n",
       "203  150.112749  2.330474          2.628109e+08       1.178090   \n",
       "204  150.106560  2.333423          2.299701e+08       1.457550   \n",
       "205  150.108001  2.333181          3.390000e+07       0.228684   \n",
       "206  150.112878  2.331558          4.760431e+07       0.487810   \n",
       "207  150.108294  2.334233          1.880346e+08       1.106777   \n",
       "\n",
       "     bayes.universe.redshift  \n",
       "0                   4.857374  \n",
       "1                   4.937202  \n",
       "2                   4.934577  \n",
       "3                   2.310612  \n",
       "4                   1.660271  \n",
       "..                       ...  \n",
       "203                 4.119372  \n",
       "204                 4.258428  \n",
       "205                 2.540534  \n",
       "206                 3.015252  \n",
       "207                 4.143219  \n",
       "\n",
       "[208 rows x 5 columns]"
      ]
     },
     "execution_count": 48,
     "metadata": {},
     "output_type": "execute_result"
    }
   ],
   "source": [
    "final_df[['ra', 'dec', 'bayes.stellar.m_star', 'bayes.sfh.sfr', 'bayes.universe.redshift']]"
   ]
  },
  {
   "cell_type": "code",
   "execution_count": 49,
   "id": "fe143166-d4c9-413e-8ca8-4b9f71ca4546",
   "metadata": {},
   "outputs": [],
   "source": [
    "# this saves the RA and Dec into 00:00:00.00 format, which we'll then use for our LaTeX table.\n",
    "# the code was copy-pasted from Arianna, of course.\n",
    "save_coords = SkyCoord(final_df['ra'].values*u.deg, final_df['dec'].values*u.deg)\n",
    "ras = []\n",
    "decs = []\n",
    "for i in zip(save_coords.ra.hms[0], save_coords.ra.hms[1],save_coords.ra.hms[2]):\n",
    "    if (len(str(round(i[2],2))) >= 5):\n",
    "        ras.append(str(round(i[0])).zfill(2)+':'+str(round(i[1])).zfill(2)+':'+str(round(i[2],2)).zfill(4))\n",
    "    elif ((len(str(round(i[2],2))) == 4) & (round(i[2],2) < 10)):\n",
    "        ras.append(str(round(i[0])).zfill(2)+':'+str(round(i[1])).zfill(2)+':'+str(round(i[2],2)).zfill(5))\n",
    "    else:\n",
    "        ras.append(str(round(i[0])).zfill(2)+':'+str(round(i[1])).zfill(2)+':'+str(round(i[2],2)).zfill(4))\n",
    "for i in zip(save_coords.dec.dms[0], save_coords.dec.dms[1],save_coords.dec.dms[2]):\n",
    "    if (len(str(round(i[2],2))) >= 5):\n",
    "        decs.append('$+$'+str(round(i[0])).zfill(2)+':'+str(round(i[1])).zfill(2)+':'+str(round(i[2],2)).zfill(4))\n",
    "    elif ((len(str(round(i[2],2))) == 4) & (round(i[2],2) < 10)):\n",
    "        decs.append('$+$'+str(round(i[0])).zfill(2)+':'+str(round(i[1])).zfill(2)+':'+str(round(i[2],2)).zfill(5))\n",
    "    else:\n",
    "        decs.append('$+$'+str(round(i[0])).zfill(2)+':'+str(round(i[1])).zfill(2)+':'+str(round(i[2],2)).zfill(4))"
   ]
  },
  {
   "cell_type": "code",
   "execution_count": 50,
   "id": "7e28a268-cf81-4904-b18d-1ce09b304d78",
   "metadata": {},
   "outputs": [],
   "source": [
    "# this saves the redshift values into one-decimal form, which we'll use for our LaTeX table.\n",
    "photz_values = np.round(final_df['bayes.universe.redshift'].values, 1)\n",
    "photz_errors = np.round(final_df['bayes.universe.redshift_err'].values, 1)\n",
    "photz = []\n",
    "for z_idx in range(np.size(photz_values)):\n",
    "    photz.append(str(photz_values[z_idx]) + ' $' + chr(92) + 'pm$ ' + str(photz_errors[z_idx]))"
   ]
  },
  {
   "cell_type": "code",
   "execution_count": 51,
   "id": "10f4d7be-9aea-44d9-962f-31a0bcebaa3e",
   "metadata": {},
   "outputs": [
    {
     "name": "stderr",
     "output_type": "stream",
     "text": [
      "/var/folders/td/xh27mb7x6jz3g1splvmtw7z80000gn/T/ipykernel_1007/3445690657.py:2: RuntimeWarning: divide by zero encountered in log10\n",
      "  mass_values = np.round(np.log10(final_df['bayes.stellar.m_star'].values), 2)\n",
      "/var/folders/td/xh27mb7x6jz3g1splvmtw7z80000gn/T/ipykernel_1007/3445690657.py:3: RuntimeWarning: invalid value encountered in divide\n",
      "  mass_errors = np.round(0.434 * final_df['bayes.stellar.m_star_err'].values / final_df['bayes.stellar.m_star'].values, 2)\n"
     ]
    }
   ],
   "source": [
    "# this saves the M* into log10(mass) +- (0.434*uncertainty/mass) form, which we'll use for our LaTeX table.\n",
    "mass_values = np.round(np.log10(final_df['bayes.stellar.m_star'].values), 2)\n",
    "mass_errors = np.round(0.434 * final_df['bayes.stellar.m_star_err'].values / final_df['bayes.stellar.m_star'].values, 2)\n",
    "mass = []\n",
    "for m_idx in range(np.size(mass_values)):\n",
    "    mass.append(str(mass_values[m_idx]) + ' $' + chr(92) + 'pm$ ' + str(mass_errors[m_idx]))"
   ]
  },
  {
   "cell_type": "code",
   "execution_count": 52,
   "id": "30eb02e7-1511-4b3b-81e9-69b75fe9c984",
   "metadata": {},
   "outputs": [],
   "source": [
    "# this saves the SFR values into decimal-less form, which we'll use for our LaTeX table.\n",
    "sfr_values = np.round(final_df['bayes.sfh.sfr'].values)\n",
    "sfr_errors = np.round(final_df['bayes.sfh.sfr_err'].values)\n",
    "sfr = []\n",
    "for sfr_idx in range(np.size(sfr_values)):\n",
    "    sfr.append(str(sfr_values[sfr_idx]) + ' $' + chr(92) + 'pm$ ' + str(sfr_errors[sfr_idx]))"
   ]
  },
  {
   "cell_type": "code",
   "execution_count": 53,
   "id": "f3fcc938-15cc-4d49-a81c-c7df3b739a63",
   "metadata": {},
   "outputs": [
    {
     "name": "stderr",
     "output_type": "stream",
     "text": [
      "/var/folders/td/xh27mb7x6jz3g1splvmtw7z80000gn/T/ipykernel_1007/1618494161.py:2: RuntimeWarning: invalid value encountered in divide\n",
      "  ssfr_calc = np.log10(final_df['bayes.sfh.sfr'].values / final_df['bayes.stellar.m_star'].values)\n"
     ]
    }
   ],
   "source": [
    "# this saves the SSFR values\n",
    "ssfr_calc = np.log10(final_df['bayes.sfh.sfr'].values / final_df['bayes.stellar.m_star'].values)\n",
    "ssfr = []\n",
    "for ssfr_value in ssfr_calc:\n",
    "    ssfr.append(str(np.round(ssfr_value, 2)))"
   ]
  },
  {
   "cell_type": "code",
   "execution_count": 54,
   "id": "cbadd0ce-0afd-4f38-b854-e24da79d68a4",
   "metadata": {},
   "outputs": [
    {
     "name": "stderr",
     "output_type": "stream",
     "text": [
      "<>:2: SyntaxWarning: invalid escape sequence '\\o'\n",
      "<>:2: SyntaxWarning: invalid escape sequence '\\o'\n",
      "/var/folders/td/xh27mb7x6jz3g1splvmtw7z80000gn/T/ipykernel_1007/1298745413.py:2: SyntaxWarning: invalid escape sequence '\\o'\n",
      "  'log$_{10}$(M$_*$/M$_\\odot$)': mass, 'SFR/yr': sfr, 'log$_{10}$(sSFR/yr)': ssfr}\n"
     ]
    }
   ],
   "source": [
    "latex_table = {'R.A.': ras, 'Decl.': decs, 'z$_{phot}$': photz, \n",
    "               'log$_{10}$(M$_*$/M$_\\odot$)': mass, 'SFR/yr': sfr, 'log$_{10}$(sSFR/yr)': ssfr}\n",
    "latex = pd.DataFrame(latex_table)"
   ]
  },
  {
   "cell_type": "code",
   "execution_count": 55,
   "id": "657175d9-1cf4-4ff2-bdb2-ec440fea363e",
   "metadata": {},
   "outputs": [
    {
     "data": {
      "text/html": [
       "<div>\n",
       "<style scoped>\n",
       "    .dataframe tbody tr th:only-of-type {\n",
       "        vertical-align: middle;\n",
       "    }\n",
       "\n",
       "    .dataframe tbody tr th {\n",
       "        vertical-align: top;\n",
       "    }\n",
       "\n",
       "    .dataframe thead th {\n",
       "        text-align: right;\n",
       "    }\n",
       "</style>\n",
       "<table border=\"1\" class=\"dataframe\">\n",
       "  <thead>\n",
       "    <tr style=\"text-align: right;\">\n",
       "      <th></th>\n",
       "      <th>R.A.</th>\n",
       "      <th>Decl.</th>\n",
       "      <th>z$_{phot}$</th>\n",
       "      <th>log$_{10}$(M$_*$/M$_\\odot$)</th>\n",
       "      <th>SFR/yr</th>\n",
       "      <th>log$_{10}$(sSFR/yr)</th>\n",
       "    </tr>\n",
       "  </thead>\n",
       "  <tbody>\n",
       "    <tr>\n",
       "      <th>0</th>\n",
       "      <td>10:00:14.31</td>\n",
       "      <td>$+$02:22:45.23</td>\n",
       "      <td>4.9 $\\pm$ 0.2</td>\n",
       "      <td>9.39 $\\pm$ 0.1</td>\n",
       "      <td>4.0 $\\pm$ 7.0</td>\n",
       "      <td>-8.78</td>\n",
       "    </tr>\n",
       "    <tr>\n",
       "      <th>1</th>\n",
       "      <td>10:00:15.79</td>\n",
       "      <td>$+$02:22:50.6</td>\n",
       "      <td>4.9 $\\pm$ 0.1</td>\n",
       "      <td>9.28 $\\pm$ 0.06</td>\n",
       "      <td>5.0 $\\pm$ 1.0</td>\n",
       "      <td>-8.58</td>\n",
       "    </tr>\n",
       "    <tr>\n",
       "      <th>2</th>\n",
       "      <td>10:00:15.98</td>\n",
       "      <td>$+$02:22:51.08</td>\n",
       "      <td>4.9 $\\pm$ 0.2</td>\n",
       "      <td>9.56 $\\pm$ 0.06</td>\n",
       "      <td>2.0 $\\pm$ 2.0</td>\n",
       "      <td>-9.25</td>\n",
       "    </tr>\n",
       "    <tr>\n",
       "      <th>3</th>\n",
       "      <td>10:00:15.87</td>\n",
       "      <td>$+$02:22:59.61</td>\n",
       "      <td>2.3 $\\pm$ 2.0</td>\n",
       "      <td>7.69 $\\pm$ 0.5</td>\n",
       "      <td>1.0 $\\pm$ 1.0</td>\n",
       "      <td>-7.84</td>\n",
       "    </tr>\n",
       "    <tr>\n",
       "      <th>4</th>\n",
       "      <td>10:00:16.57</td>\n",
       "      <td>$+$02:23:04.25</td>\n",
       "      <td>1.7 $\\pm$ 1.7</td>\n",
       "      <td>7.68 $\\pm$ 0.69</td>\n",
       "      <td>0.0 $\\pm$ 1.0</td>\n",
       "      <td>-8.14</td>\n",
       "    </tr>\n",
       "    <tr>\n",
       "      <th>...</th>\n",
       "      <td>...</td>\n",
       "      <td>...</td>\n",
       "      <td>...</td>\n",
       "      <td>...</td>\n",
       "      <td>...</td>\n",
       "      <td>...</td>\n",
       "    </tr>\n",
       "    <tr>\n",
       "      <th>203</th>\n",
       "      <td>10:00:27.06</td>\n",
       "      <td>$+$02:19:49.71</td>\n",
       "      <td>4.1 $\\pm$ 1.2</td>\n",
       "      <td>8.42 $\\pm$ 0.24</td>\n",
       "      <td>1.0 $\\pm$ 1.0</td>\n",
       "      <td>-8.35</td>\n",
       "    </tr>\n",
       "    <tr>\n",
       "      <th>204</th>\n",
       "      <td>10:00:25.57</td>\n",
       "      <td>$+$02:20:00.32</td>\n",
       "      <td>4.3 $\\pm$ 1.0</td>\n",
       "      <td>8.36 $\\pm$ 0.25</td>\n",
       "      <td>1.0 $\\pm$ 1.0</td>\n",
       "      <td>-8.2</td>\n",
       "    </tr>\n",
       "    <tr>\n",
       "      <th>205</th>\n",
       "      <td>10:00:25.92</td>\n",
       "      <td>$+$02:19:59.45</td>\n",
       "      <td>2.5 $\\pm$ 0.3</td>\n",
       "      <td>7.53 $\\pm$ 0.15</td>\n",
       "      <td>0.0 $\\pm$ 0.0</td>\n",
       "      <td>-8.17</td>\n",
       "    </tr>\n",
       "    <tr>\n",
       "      <th>206</th>\n",
       "      <td>10:00:27.09</td>\n",
       "      <td>$+$02:19:53.61</td>\n",
       "      <td>3.0 $\\pm$ 0.7</td>\n",
       "      <td>7.68 $\\pm$ 0.25</td>\n",
       "      <td>0.0 $\\pm$ 0.0</td>\n",
       "      <td>-7.99</td>\n",
       "    </tr>\n",
       "    <tr>\n",
       "      <th>207</th>\n",
       "      <td>10:00:25.99</td>\n",
       "      <td>$+$02:20:03.24</td>\n",
       "      <td>4.1 $\\pm$ 0.6</td>\n",
       "      <td>8.27 $\\pm$ 0.21</td>\n",
       "      <td>1.0 $\\pm$ 1.0</td>\n",
       "      <td>-8.23</td>\n",
       "    </tr>\n",
       "  </tbody>\n",
       "</table>\n",
       "<p>208 rows × 6 columns</p>\n",
       "</div>"
      ],
      "text/plain": [
       "            R.A.           Decl.     z$_{phot}$ log$_{10}$(M$_*$/M$_\\odot$)  \\\n",
       "0    10:00:14.31  $+$02:22:45.23  4.9 $\\pm$ 0.2              9.39 $\\pm$ 0.1   \n",
       "1    10:00:15.79   $+$02:22:50.6  4.9 $\\pm$ 0.1             9.28 $\\pm$ 0.06   \n",
       "2    10:00:15.98  $+$02:22:51.08  4.9 $\\pm$ 0.2             9.56 $\\pm$ 0.06   \n",
       "3    10:00:15.87  $+$02:22:59.61  2.3 $\\pm$ 2.0              7.69 $\\pm$ 0.5   \n",
       "4    10:00:16.57  $+$02:23:04.25  1.7 $\\pm$ 1.7             7.68 $\\pm$ 0.69   \n",
       "..           ...             ...            ...                         ...   \n",
       "203  10:00:27.06  $+$02:19:49.71  4.1 $\\pm$ 1.2             8.42 $\\pm$ 0.24   \n",
       "204  10:00:25.57  $+$02:20:00.32  4.3 $\\pm$ 1.0             8.36 $\\pm$ 0.25   \n",
       "205  10:00:25.92  $+$02:19:59.45  2.5 $\\pm$ 0.3             7.53 $\\pm$ 0.15   \n",
       "206  10:00:27.09  $+$02:19:53.61  3.0 $\\pm$ 0.7             7.68 $\\pm$ 0.25   \n",
       "207  10:00:25.99  $+$02:20:03.24  4.1 $\\pm$ 0.6             8.27 $\\pm$ 0.21   \n",
       "\n",
       "            SFR/yr log$_{10}$(sSFR/yr)  \n",
       "0    4.0 $\\pm$ 7.0               -8.78  \n",
       "1    5.0 $\\pm$ 1.0               -8.58  \n",
       "2    2.0 $\\pm$ 2.0               -9.25  \n",
       "3    1.0 $\\pm$ 1.0               -7.84  \n",
       "4    0.0 $\\pm$ 1.0               -8.14  \n",
       "..             ...                 ...  \n",
       "203  1.0 $\\pm$ 1.0               -8.35  \n",
       "204  1.0 $\\pm$ 1.0                -8.2  \n",
       "205  0.0 $\\pm$ 0.0               -8.17  \n",
       "206  0.0 $\\pm$ 0.0               -7.99  \n",
       "207  1.0 $\\pm$ 1.0               -8.23  \n",
       "\n",
       "[208 rows x 6 columns]"
      ]
     },
     "execution_count": 55,
     "metadata": {},
     "output_type": "execute_result"
    }
   ],
   "source": [
    "latex"
   ]
  },
  {
   "cell_type": "code",
   "execution_count": 56,
   "id": "5310e5ba-5210-49c4-a641-0d2352e8b498",
   "metadata": {},
   "outputs": [
    {
     "name": "stdout",
     "output_type": "stream",
     "text": [
      "\\begin{tabular}{llllll}\n",
      "\\toprule\n",
      "R.A. & Decl. & z$_{phot}$ & log$_{10}$(M$_*$/M$_\\odot$) & SFR/yr & log$_{10}$(sSFR/yr) \\\\\n",
      "\\midrule\n",
      "10:00:14.31 & $+$02:22:45.23 & 4.9 $\\pm$ 0.2 & 9.39 $\\pm$ 0.1 & 4.0 $\\pm$ 7.0 & -8.78 \\\\\n",
      "10:00:15.79 & $+$02:22:50.6 & 4.9 $\\pm$ 0.1 & 9.28 $\\pm$ 0.06 & 5.0 $\\pm$ 1.0 & -8.58 \\\\\n",
      "10:00:15.98 & $+$02:22:51.08 & 4.9 $\\pm$ 0.2 & 9.56 $\\pm$ 0.06 & 2.0 $\\pm$ 2.0 & -9.25 \\\\\n",
      "10:00:15.87 & $+$02:22:59.61 & 2.3 $\\pm$ 2.0 & 7.69 $\\pm$ 0.5 & 1.0 $\\pm$ 1.0 & -7.84 \\\\\n",
      "10:00:16.57 & $+$02:23:04.25 & 1.7 $\\pm$ 1.7 & 7.68 $\\pm$ 0.69 & 0.0 $\\pm$ 1.0 & -8.14 \\\\\n",
      "10:00:20.74 & $+$02:23:43.31 & 3.5 $\\pm$ 0.0 & 10.1 $\\pm$ 0.02 & 9.0 $\\pm$ 1.0 & -9.15 \\\\\n",
      "10:00:21.12 & $+$02:23:41.7 & 5.1 $\\pm$ 0.2 & 9.64 $\\pm$ 0.04 & 2.0 $\\pm$ 1.0 & -9.27 \\\\\n",
      "10:00:21.03 & $+$02:23:56.17 & 4.7 $\\pm$ 0.8 & 8.79 $\\pm$ 0.14 & 2.0 $\\pm$ 1.0 & -8.44 \\\\\n",
      "10:01:44.17 & $+$02:27:49.99 & 4.9 $\\pm$ 0.5 & 9.1 $\\pm$ 0.11 & 4.0 $\\pm$ 2.0 & -8.53 \\\\\n",
      "10:01:45.84 & $+$02:27:53.86 & 5.7 $\\pm$ 2.4 & 8.82 $\\pm$ 0.25 & 4.0 $\\pm$ 4.0 & -8.17 \\\\\n",
      "10:01:44.74 & $+$02:27:59.81 & 5.0 $\\pm$ 0.1 & 9.55 $\\pm$ 0.05 & 10.0 $\\pm$ 2.0 & -8.57 \\\\\n",
      "10:01:45.86 & $+$02:27:54.68 & 4.9 $\\pm$ 1.1 & 8.61 $\\pm$ 0.22 & 3.0 $\\pm$ 2.0 & -8.09 \\\\\n",
      "10:01:49.48 & $+$02:27:20.9 & 4.9 $\\pm$ 0.1 & 9.56 $\\pm$ 0.08 & 9.0 $\\pm$ 3.0 & -8.62 \\\\\n",
      "10:01:49.69 & $+$02:27:22.35 & 4.9 $\\pm$ 0.1 & 9.56 $\\pm$ 0.06 & 11.0 $\\pm$ 3.0 & -8.53 \\\\\n",
      "10:01:48.61 & $+$02:27:32.3 & 4.9 $\\pm$ 0.1 & 9.54 $\\pm$ 0.04 & 2.0 $\\pm$ 0.0 & -9.27 \\\\\n",
      "10:01:50.44 & $+$02:25:42.07 & 4.2 $\\pm$ 1.8 & 8.88 $\\pm$ 0.23 & 3.0 $\\pm$ 2.0 & -8.47 \\\\\n",
      "10:01:50.05 & $+$02:25:46.47 & 2.5 $\\pm$ 3.4 & 8.05 $\\pm$ 0.59 & 2.0 $\\pm$ 3.0 & -7.87 \\\\\n",
      "10:00:14.53 & $+$02:22:52.16 & 4.0 $\\pm$ 0.3 & 8.77 $\\pm$ 0.11 & 3.0 $\\pm$ 1.0 & -8.27 \\\\\n",
      "10:00:26.43 & $+$02:19:58.48 & 2.5 $\\pm$ 1.1 & 6.3 $\\pm$ 0.21 & 0.0 $\\pm$ 0.0 & -7.7 \\\\\n",
      "10:00:14.69 & $+$02:22:28.66 & 3.3 $\\pm$ 0.5 & 8.61 $\\pm$ 0.2 & 4.0 $\\pm$ 2.0 & -8.06 \\\\\n",
      "10:00:14.92 & $+$02:22:30.83 & 3.1 $\\pm$ 0.5 & 8.67 $\\pm$ 0.2 & 3.0 $\\pm$ 3.0 & -8.14 \\\\\n",
      "10:00:14.05 & $+$02:22:37.35 & 3.0 $\\pm$ 0.3 & 8.56 $\\pm$ 0.08 & 9.0 $\\pm$ 2.0 & -7.62 \\\\\n",
      "10:00:14.07 & $+$02:22:37.69 & 3.6 $\\pm$ 0.1 & 8.5 $\\pm$ 0.05 & 7.0 $\\pm$ 0.0 & -7.64 \\\\\n",
      "10:00:14.17 & $+$02:22:38.18 & 3.2 $\\pm$ 0.6 & 8.22 $\\pm$ 0.35 & 3.0 $\\pm$ 1.0 & -7.75 \\\\\n",
      "10:00:14.16 & $+$02:22:40.34 & 3.7 $\\pm$ 0.5 & 8.5 $\\pm$ 0.31 & 6.0 $\\pm$ 1.0 & -7.75 \\\\\n",
      "10:00:15.47 & $+$02:22:35.25 & 4.4 $\\pm$ 0.3 & 8.79 $\\pm$ 0.05 & 13.0 $\\pm$ 1.0 & -7.66 \\\\\n",
      "10:00:14.91 & $+$02:22:47.82 & 3.4 $\\pm$ 0.1 & 8.82 $\\pm$ 0.15 & 4.0 $\\pm$ 1.0 & -8.19 \\\\\n",
      "10:00:14.89 & $+$02:22:48.23 & 3.6 $\\pm$ 0.2 & 9.21 $\\pm$ 0.11 & 2.0 $\\pm$ 1.0 & -8.92 \\\\\n",
      "10:00:14.18 & $+$02:22:55.11 & 3.4 $\\pm$ 0.3 & 8.45 $\\pm$ 0.06 & 7.0 $\\pm$ 1.0 & -7.64 \\\\\n",
      "10:00:14.71 & $+$02:22:53.56 & 3.7 $\\pm$ 0.2 & 9.21 $\\pm$ 0.1 & 7.0 $\\pm$ 4.0 & -8.39 \\\\\n",
      "10:00:14.27 & $+$02:22:33.11 & 3.3 $\\pm$ 0.7 & 8.43 $\\pm$ 0.21 & 1.0 $\\pm$ 1.0 & -8.28 \\\\\n",
      "10:00:15.04 & $+$02:22:29.66 & 2.3 $\\pm$ 1.4 & 6.88 $\\pm$ 0.29 & 0.0 $\\pm$ 0.0 & -8.1 \\\\\n",
      "10:00:14.77 & $+$02:22:34.22 & 3.2 $\\pm$ 1.0 & 8.36 $\\pm$ 0.3 & 2.0 $\\pm$ 1.0 & -8.14 \\\\\n",
      "10:00:14.97 & $+$02:22:36.42 & 2.7 $\\pm$ 0.8 & 8.26 $\\pm$ 0.29 & 1.0 $\\pm$ 1.0 & -8.27 \\\\\n",
      "10:00:14.72 & $+$02:22:37.91 & 4.5 $\\pm$ 1.1 & 7.97 $\\pm$ 0.26 & 1.0 $\\pm$ 1.0 & -7.86 \\\\\n",
      "10:00:14.37 & $+$02:22:40.43 & 2.4 $\\pm$ 1.1 & 7.69 $\\pm$ 0.24 & 0.0 $\\pm$ 0.0 & -8.07 \\\\\n",
      "10:00:14.46 & $+$02:22:41.92 & 3.0 $\\pm$ 0.3 & 7.06 $\\pm$ 0.17 & 0.0 $\\pm$ 0.0 & -7.75 \\\\\n",
      "10:00:14.54 & $+$02:22:47.84 & 3.1 $\\pm$ 0.3 & 7.83 $\\pm$ 0.18 & 1.0 $\\pm$ 0.0 & -7.81 \\\\\n",
      "10:00:14.68 & $+$02:22:47.42 & 2.5 $\\pm$ 1.1 & 7.8 $\\pm$ 0.22 & 0.0 $\\pm$ 0.0 & -8.15 \\\\\n",
      "10:00:14.68 & $+$02:22:48.26 & 3.3 $\\pm$ 0.2 & 8.64 $\\pm$ 0.08 & 9.0 $\\pm$ 2.0 & -7.7 \\\\\n",
      "10:00:14.83 & $+$02:22:47.75 & 3.1 $\\pm$ 0.7 & 8.2 $\\pm$ 0.24 & 1.0 $\\pm$ 0.0 & -8.24 \\\\\n",
      "10:00:14.75 & $+$02:22:52.53 & 3.1 $\\pm$ 0.3 & 7.8 $\\pm$ 0.21 & 1.0 $\\pm$ 0.0 & -7.87 \\\\\n",
      "10:00:15.24 & $+$02:22:49.93 & 2.8 $\\pm$ 0.9 & 6.95 $\\pm$ 0.31 & 0.0 $\\pm$ 0.0 & -7.88 \\\\\n",
      "10:00:26.87 & $+$02:22:21.45 & 2.8 $\\pm$ 0.0 & 9.95 $\\pm$ 0.02 & 156.0 $\\pm$ 8.0 & -7.76 \\\\\n",
      "10:00:26.21 & $+$02:22:30.81 & 2.2 $\\pm$ 0.0 & 10.29 $\\pm$ 0.02 & 44.0 $\\pm$ 2.0 & -8.64 \\\\\n",
      "10:00:26.44 & $+$02:22:29.99 & 2.6 $\\pm$ 0.2 & 9.4 $\\pm$ 0.06 & 11.0 $\\pm$ 3.0 & -8.34 \\\\\n",
      "10:00:26.15 & $+$02:22:32.91 & 3.4 $\\pm$ 0.6 & 8.52 $\\pm$ 0.17 & 5.0 $\\pm$ 3.0 & -7.84 \\\\\n",
      "10:00:27.18 & $+$02:22:27.44 & 2.4 $\\pm$ 0.0 & 9.19 $\\pm$ 0.05 & 5.0 $\\pm$ 1.0 & -8.54 \\\\\n",
      "10:00:26.97 & $+$02:22:30.87 & 2.2 $\\pm$ 0.0 & 10.37 $\\pm$ 0.02 & 81.0 $\\pm$ 4.0 & -8.46 \\\\\n",
      "10:00:26.04 & $+$02:22:36.79 & 3.1 $\\pm$ 0.4 & 8.11 $\\pm$ 0.23 & 2.0 $\\pm$ 1.0 & -7.73 \\\\\n",
      "10:00:26.29 & $+$02:22:37.21 & 2.0 $\\pm$ 0.2 & 8.41 $\\pm$ 0.12 & 1.0 $\\pm$ 1.0 & -8.34 \\\\\n",
      "10:00:26.7 & $+$02:22:35.3 & 4.6 $\\pm$ 1.9 & 8.64 $\\pm$ 0.22 & 7.0 $\\pm$ 5.0 & -7.78 \\\\\n",
      "10:00:27.34 & $+$02:22:32.94 & 2.0 $\\pm$ 0.0 & 9.54 $\\pm$ 0.02 & 11.0 $\\pm$ 1.0 & -8.52 \\\\\n",
      "10:00:26.17 & $+$02:22:42.48 & 3.2 $\\pm$ 0.4 & 8.36 $\\pm$ 0.13 & 5.0 $\\pm$ 1.0 & -7.65 \\\\\n",
      "10:00:26.55 & $+$02:22:23.76 & 3.7 $\\pm$ 0.8 & 9.12 $\\pm$ 0.17 & 29.0 $\\pm$ 11.0 & -7.66 \\\\\n",
      "10:00:26.79 & $+$02:22:24.09 & 4.3 $\\pm$ 2.3 & 8.37 $\\pm$ 0.47 & 1.0 $\\pm$ 2.0 & -8.2 \\\\\n",
      "10:00:27.21 & $+$02:22:25.05 & 4.8 $\\pm$ 2.5 & 7.5 $\\pm$ 0.51 & 0.0 $\\pm$ 0.0 & -8.08 \\\\\n",
      "10:00:26.6 & $+$02:22:28.55 & 5.6 $\\pm$ 3.0 & 8.34 $\\pm$ 0.38 & 2.0 $\\pm$ 2.0 & -8.0 \\\\\n",
      "10:00:26.05 & $+$02:22:33.3 & 4.8 $\\pm$ 2.5 & -inf $\\pm$ nan & 0.0 $\\pm$ 0.0 & nan \\\\\n",
      "10:00:26.18 & $+$02:22:32.69 & 3.6 $\\pm$ 1.5 & 8.12 $\\pm$ 0.36 & 1.0 $\\pm$ 1.0 & -8.25 \\\\\n",
      "10:00:26.7 & $+$02:22:31.89 & 3.0 $\\pm$ 0.8 & 7.05 $\\pm$ 0.33 & 0.0 $\\pm$ 0.0 & -7.87 \\\\\n",
      "10:00:26.82 & $+$02:22:31.39 & 4.8 $\\pm$ 2.5 & -inf $\\pm$ nan & 0.0 $\\pm$ 0.0 & nan \\\\\n",
      "10:00:27.12 & $+$02:22:32.56 & 1.7 $\\pm$ 0.7 & 8.17 $\\pm$ 0.29 & 1.0 $\\pm$ 1.0 & -8.34 \\\\\n",
      "10:00:26.5 & $+$02:22:38.52 & 5.0 $\\pm$ 2.8 & 8.31 $\\pm$ 0.75 & 2.0 $\\pm$ 4.0 & -8.11 \\\\\n",
      "10:00:26.3 & $+$02:22:41.5 & 4.8 $\\pm$ 2.5 & -inf $\\pm$ nan & 0.0 $\\pm$ 0.0 & nan \\\\\n",
      "10:00:27.11 & $+$02:22:38.32 & 3.8 $\\pm$ 1.6 & 8.94 $\\pm$ 0.31 & 2.0 $\\pm$ 3.0 & -8.72 \\\\\n",
      "10:00:26.98 & $+$02:22:39.16 & 4.8 $\\pm$ 2.5 & 7.91 $\\pm$ 0.73 & 1.0 $\\pm$ 1.0 & -8.17 \\\\\n",
      "10:00:26.44 & $+$02:22:42.13 & 4.8 $\\pm$ 2.5 & 7.66 $\\pm$ 0.48 & 0.0 $\\pm$ 1.0 & -8.05 \\\\\n",
      "10:00:27.32 & $+$02:22:37.43 & 4.7 $\\pm$ 2.3 & 8.27 $\\pm$ 0.67 & 2.0 $\\pm$ 3.0 & -8.09 \\\\\n",
      "10:00:27.13 & $+$02:22:38.99 & 4.8 $\\pm$ 2.5 & -inf $\\pm$ nan & 0.0 $\\pm$ 0.0 & nan \\\\\n",
      "10:00:26.41 & $+$02:22:43.34 & 4.9 $\\pm$ 2.6 & 7.52 $\\pm$ 0.59 & 0.0 $\\pm$ 0.0 & -8.11 \\\\\n",
      "10:00:27.27 & $+$02:22:38.83 & 4.8 $\\pm$ 2.5 & 7.13 $\\pm$ 0.54 & 0.0 $\\pm$ 0.0 & -8.12 \\\\\n",
      "10:00:26.62 & $+$02:22:46.15 & 3.4 $\\pm$ 0.4 & 8.09 $\\pm$ 0.28 & 1.0 $\\pm$ 0.0 & -8.01 \\\\\n",
      "10:00:26.99 & $+$02:22:44.39 & 4.3 $\\pm$ 1.8 & 8.24 $\\pm$ 0.34 & 2.0 $\\pm$ 1.0 & -7.96 \\\\\n",
      "10:00:26.9 & $+$02:22:45.19 & 3.0 $\\pm$ 0.2 & 7.83 $\\pm$ 0.08 & 1.0 $\\pm$ 0.0 & -7.69 \\\\\n",
      "10:00:27.35 & $+$02:22:43.76 & 2.4 $\\pm$ 0.4 & 8.49 $\\pm$ 0.16 & 1.0 $\\pm$ 1.0 & -8.5 \\\\\n",
      "10:00:26.89 & $+$02:22:49.23 & 4.8 $\\pm$ 2.5 & -inf $\\pm$ nan & 0.0 $\\pm$ 0.0 & nan \\\\\n",
      "10:00:27.76 & $+$02:22:33.65 & 1.9 $\\pm$ 0.8 & 8.05 $\\pm$ 0.41 & 1.0 $\\pm$ 1.0 & -8.21 \\\\\n",
      "10:00:27.92 & $+$02:22:33.67 & 1.7 $\\pm$ 1.1 & 7.73 $\\pm$ 0.55 & 1.0 $\\pm$ 1.0 & -7.83 \\\\\n",
      "10:00:27.89 & $+$02:22:40.85 & 2.8 $\\pm$ 0.3 & 8.61 $\\pm$ 0.07 & 5.0 $\\pm$ 1.0 & -7.94 \\\\\n",
      "10:00:27.66 & $+$02:22:24.63 & 5.6 $\\pm$ 0.5 & 7.95 $\\pm$ 0.06 & 2.0 $\\pm$ 0.0 & -7.67 \\\\\n",
      "10:00:27.74 & $+$02:22:29.13 & 1.9 $\\pm$ 0.3 & 8.17 $\\pm$ 0.09 & 1.0 $\\pm$ 0.0 & -8.3 \\\\\n",
      "10:00:27.75 & $+$02:22:31.19 & 3.4 $\\pm$ 0.8 & 8.22 $\\pm$ 0.3 & 3.0 $\\pm$ 1.0 & -7.75 \\\\\n",
      "10:00:27.98 & $+$02:22:32.7 & 3.4 $\\pm$ 0.7 & 7.97 $\\pm$ 0.18 & 1.0 $\\pm$ 0.0 & -8.18 \\\\\n",
      "10:00:27.84 & $+$02:22:33.56 & 4.8 $\\pm$ 2.5 & -inf $\\pm$ nan & 0.0 $\\pm$ 0.0 & nan \\\\\n",
      "10:00:27.97 & $+$02:22:36.86 & 3.6 $\\pm$ 1.0 & 7.54 $\\pm$ 0.31 & 1.0 $\\pm$ 0.0 & -7.82 \\\\\n",
      "10:00:15.92 & $+$02:22:48.45 & 4.3 $\\pm$ 0.8 & 9.04 $\\pm$ 0.18 & 1.0 $\\pm$ 2.0 & -8.93 \\\\\n",
      "10:00:16.78 & $+$02:22:47.31 & 3.4 $\\pm$ 0.0 & 9.08 $\\pm$ 0.08 & 7.0 $\\pm$ 6.0 & -8.22 \\\\\n",
      "10:00:16.01 & $+$02:22:53.83 & 3.6 $\\pm$ 0.0 & 9.47 $\\pm$ 0.02 & 71.0 $\\pm$ 4.0 & -7.62 \\\\\n",
      "10:00:16.31 & $+$02:22:55.72 & 3.3 $\\pm$ 0.5 & 8.28 $\\pm$ 0.3 & 4.0 $\\pm$ 1.0 & -7.73 \\\\\n",
      "10:00:16.22 & $+$02:22:57.51 & 5.0 $\\pm$ 1.7 & 8.54 $\\pm$ 0.29 & 3.0 $\\pm$ 2.0 & -8.0 \\\\\n",
      "10:00:16.93 & $+$02:22:55.43 & 4.0 $\\pm$ 0.0 & 9.2 $\\pm$ 0.05 & 31.0 $\\pm$ 4.0 & -7.71 \\\\\n",
      "10:00:16.87 & $+$02:22:58.93 & 3.4 $\\pm$ 0.0 & 9.09 $\\pm$ 0.07 & 5.0 $\\pm$ 2.0 & -8.36 \\\\\n",
      "10:00:16.59 & $+$02:23:02.98 & 4.8 $\\pm$ 1.0 & 8.95 $\\pm$ 0.22 & 2.0 $\\pm$ 2.0 & -8.61 \\\\\n",
      "10:00:16.24 & $+$02:23:10.61 & 4.6 $\\pm$ 0.9 & 8.5 $\\pm$ 0.27 & 3.0 $\\pm$ 1.0 & -8.06 \\\\\n",
      "10:00:16.19 & $+$02:22:42.46 & 3.4 $\\pm$ 0.1 & 7.25 $\\pm$ 0.14 & 0.0 $\\pm$ 0.0 & -7.71 \\\\\n",
      "10:00:15.96 & $+$02:22:46.31 & 3.0 $\\pm$ 0.2 & 7.73 $\\pm$ 0.11 & 1.0 $\\pm$ 0.0 & -7.71 \\\\\n",
      "10:00:16.25 & $+$02:22:49.31 & 4.3 $\\pm$ 1.0 & 8.47 $\\pm$ 0.23 & 2.0 $\\pm$ 1.0 & -8.29 \\\\\n",
      "10:00:15.9 & $+$02:22:54.52 & 4.3 $\\pm$ 0.9 & 8.18 $\\pm$ 0.28 & 2.0 $\\pm$ 1.0 & -7.85 \\\\\n",
      "10:00:16.63 & $+$02:22:58.33 & 4.4 $\\pm$ 0.2 & 7.49 $\\pm$ 0.11 & 1.0 $\\pm$ 0.0 & -7.71 \\\\\n",
      "10:00:16.51 & $+$02:23:03.79 & 4.8 $\\pm$ 0.7 & 8.81 $\\pm$ 0.18 & 3.0 $\\pm$ 1.0 & -8.32 \\\\\n",
      "10:00:16.45 & $+$02:23:06.12 & 4.7 $\\pm$ 0.5 & 8.69 $\\pm$ 0.17 & 2.0 $\\pm$ 1.0 & -8.31 \\\\\n",
      "10:00:16.47 & $+$02:23:06.76 & 4.5 $\\pm$ 1.0 & 8.65 $\\pm$ 0.22 & 2.0 $\\pm$ 1.0 & -8.41 \\\\\n",
      "10:00:20.36 & $+$02:23:36.0 & 4.2 $\\pm$ 0.2 & 8.89 $\\pm$ 0.04 & 9.0 $\\pm$ 1.0 & -7.94 \\\\\n",
      "10:00:20.59 & $+$02:23:39.74 & 3.8 $\\pm$ 0.2 & 8.59 $\\pm$ 0.08 & 9.0 $\\pm$ 2.0 & -7.64 \\\\\n",
      "10:00:20.87 & $+$02:23:39.23 & 2.3 $\\pm$ 1.6 & 8.42 $\\pm$ 0.51 & 1.0 $\\pm$ 1.0 & -8.33 \\\\\n",
      "10:00:20.91 & $+$02:23:39.86 & 4.3 $\\pm$ 0.2 & 8.72 $\\pm$ 0.18 & 3.0 $\\pm$ 1.0 & -8.26 \\\\\n",
      "10:00:21.17 & $+$02:23:45.63 & 3.6 $\\pm$ 0.0 & 9.46 $\\pm$ 0.02 & 62.0 $\\pm$ 3.0 & -7.66 \\\\\n",
      "10:00:21.77 & $+$02:23:43.6 & 3.4 $\\pm$ 0.0 & 9.32 $\\pm$ 0.02 & 5.0 $\\pm$ 1.0 & -8.59 \\\\\n",
      "10:00:20.34 & $+$02:23:55.11 & 3.4 $\\pm$ 0.3 & 9.07 $\\pm$ 0.07 & 22.0 $\\pm$ 6.0 & -7.72 \\\\\n",
      "10:00:21.18 & $+$02:23:51.69 & 3.5 $\\pm$ 0.1 & 9.15 $\\pm$ 0.12 & 1.0 $\\pm$ 0.0 & -9.25 \\\\\n",
      "10:00:21.85 & $+$02:23:50.43 & 3.4 $\\pm$ 0.0 & 9.64 $\\pm$ 0.02 & 14.0 $\\pm$ 1.0 & -8.49 \\\\\n",
      "10:00:21.73 & $+$02:23:52.77 & 3.8 $\\pm$ 0.0 & 10.07 $\\pm$ 0.03 & 29.0 $\\pm$ 2.0 & -8.62 \\\\\n",
      "10:00:21.45 & $+$02:23:56.35 & 4.0 $\\pm$ 0.0 & 9.89 $\\pm$ 0.02 & 21.0 $\\pm$ 3.0 & -8.57 \\\\\n",
      "10:00:20.91 & $+$02:23:31.81 & 3.6 $\\pm$ 0.0 & 8.24 $\\pm$ 0.11 & 2.0 $\\pm$ 0.0 & -8.03 \\\\\n",
      "10:00:20.36 & $+$02:23:38.5 & 2.4 $\\pm$ 0.9 & 7.11 $\\pm$ 0.24 & 0.0 $\\pm$ 0.0 & -8.14 \\\\\n",
      "10:00:20.73 & $+$02:23:38.12 & 2.7 $\\pm$ 1.0 & 7.73 $\\pm$ 0.29 & 0.0 $\\pm$ 0.0 & -8.24 \\\\\n",
      "10:00:20.94 & $+$02:23:37.55 & 3.2 $\\pm$ 0.3 & 7.95 $\\pm$ 0.09 & 2.0 $\\pm$ 0.0 & -7.69 \\\\\n",
      "10:00:20.33 & $+$02:23:44.17 & 3.1 $\\pm$ 1.0 & 7.26 $\\pm$ 0.26 & 0.0 $\\pm$ 0.0 & -7.7 \\\\\n",
      "10:00:21.02 & $+$02:23:42.91 & 3.5 $\\pm$ 0.2 & 8.59 $\\pm$ 0.13 & 2.0 $\\pm$ 1.0 & -8.22 \\\\\n",
      "10:00:21.08 & $+$02:23:45.29 & 3.3 $\\pm$ 1.0 & 8.51 $\\pm$ 0.29 & 2.0 $\\pm$ 1.0 & -8.29 \\\\\n",
      "10:00:21.15 & $+$02:23:48.34 & 2.9 $\\pm$ 0.7 & 8.09 $\\pm$ 0.32 & 1.0 $\\pm$ 1.0 & -8.12 \\\\\n",
      "10:00:20.69 & $+$02:23:52.76 & 3.1 $\\pm$ 1.1 & 8.03 $\\pm$ 0.33 & 1.0 $\\pm$ 1.0 & -8.08 \\\\\n",
      "10:00:20.72 & $+$02:23:54.35 & 4.6 $\\pm$ 0.8 & 9.21 $\\pm$ 0.19 & 4.0 $\\pm$ 4.0 & -8.62 \\\\\n",
      "10:00:21.13 & $+$02:23:52.81 & 3.4 $\\pm$ 0.3 & 8.43 $\\pm$ 0.2 & 3.0 $\\pm$ 1.0 & -7.9 \\\\\n",
      "10:00:20.95 & $+$02:23:54.24 & 2.8 $\\pm$ 0.9 & 8.19 $\\pm$ 0.31 & 1.0 $\\pm$ 0.0 & -8.39 \\\\\n",
      "10:00:21.31 & $+$02:23:53.09 & 2.9 $\\pm$ 0.7 & 8.51 $\\pm$ 0.2 & 2.0 $\\pm$ 1.0 & -8.31 \\\\\n",
      "10:00:21.58 & $+$02:23:52.66 & 2.6 $\\pm$ 1.0 & 8.02 $\\pm$ 0.46 & 1.0 $\\pm$ 1.0 & -8.28 \\\\\n",
      "10:00:21.14 & $+$02:23:57.49 & 4.8 $\\pm$ 0.6 & 8.9 $\\pm$ 0.22 & 5.0 $\\pm$ 2.0 & -8.2 \\\\\n",
      "10:01:44.75 & $+$02:27:37.47 & 4.0 $\\pm$ 1.1 & 8.48 $\\pm$ 0.35 & 3.0 $\\pm$ 1.0 & -7.96 \\\\\n",
      "10:01:44.14 & $+$02:27:46.41 & 3.0 $\\pm$ 0.1 & 8.97 $\\pm$ 0.02 & 22.0 $\\pm$ 1.0 & -7.62 \\\\\n",
      "10:01:44.35 & $+$02:27:45.4 & 4.5 $\\pm$ 1.3 & 8.57 $\\pm$ 0.28 & 3.0 $\\pm$ 1.0 & -8.06 \\\\\n",
      "10:01:45.58 & $+$02:27:44.43 & 4.1 $\\pm$ 0.8 & 8.59 $\\pm$ 0.33 & 4.0 $\\pm$ 1.0 & -7.95 \\\\\n",
      "10:01:45.47 & $+$02:27:46.09 & 5.3 $\\pm$ 1.6 & 9.0 $\\pm$ 0.11 & 24.0 $\\pm$ 6.0 & -7.62 \\\\\n",
      "10:01:44.87 & $+$02:27:50.67 & 3.6 $\\pm$ 0.0 & 9.88 $\\pm$ 0.02 & 185.0 $\\pm$ 9.0 & -7.62 \\\\\n",
      "10:01:44.4 & $+$02:27:57.85 & 3.7 $\\pm$ 0.6 & 8.49 $\\pm$ 0.33 & 5.0 $\\pm$ 1.0 & -7.81 \\\\\n",
      "10:01:45.42 & $+$02:27:44.79 & 4.4 $\\pm$ 1.0 & 8.59 $\\pm$ 0.24 & 2.0 $\\pm$ 1.0 & -8.37 \\\\\n",
      "10:01:45.41 & $+$02:27:49.62 & 3.1 $\\pm$ 0.2 & 8.56 $\\pm$ 0.11 & 8.0 $\\pm$ 2.0 & -7.65 \\\\\n",
      "10:01:45.39 & $+$02:27:50.0 & 5.8 $\\pm$ 3.0 & 8.31 $\\pm$ 0.51 & 2.0 $\\pm$ 3.0 & -7.98 \\\\\n",
      "10:01:44.35 & $+$02:27:58.31 & 3.2 $\\pm$ 0.2 & 8.67 $\\pm$ 0.08 & 11.0 $\\pm$ 2.0 & -7.65 \\\\\n",
      "10:01:44.74 & $+$02:28:01.48 & 2.9 $\\pm$ 0.4 & 8.23 $\\pm$ 0.17 & 4.0 $\\pm$ 1.0 & -7.66 \\\\\n",
      "10:01:44.83 & $+$02:28:00.72 & 1.8 $\\pm$ 1.3 & 7.93 $\\pm$ 0.52 & 2.0 $\\pm$ 2.0 & -7.68 \\\\\n",
      "10:01:44.68 & $+$02:28:02.94 & 4.7 $\\pm$ 1.0 & 8.6 $\\pm$ 0.25 & 3.0 $\\pm$ 1.0 & -8.15 \\\\\n",
      "10:01:44.93 & $+$02:28:02.45 & 4.3 $\\pm$ 1.3 & 8.45 $\\pm$ 0.3 & 4.0 $\\pm$ 2.0 & -7.91 \\\\\n",
      "10:01:48.22 & $+$02:27:26.99 & 3.4 $\\pm$ 0.6 & 8.53 $\\pm$ 0.18 & 8.0 $\\pm$ 3.0 & -7.64 \\\\\n",
      "10:01:50.03 & $+$02:27:19.05 & 3.6 $\\pm$ 0.2 & 8.77 $\\pm$ 0.13 & 13.0 $\\pm$ 1.0 & -7.64 \\\\\n",
      "10:01:49.56 & $+$02:27:10.99 & 2.8 $\\pm$ 1.2 & 8.53 $\\pm$ 0.31 & 7.0 $\\pm$ 4.0 & -7.68 \\\\\n",
      "10:01:49.93 & $+$02:27:13.6 & 4.5 $\\pm$ 0.8 & 8.9 $\\pm$ 0.25 & 4.0 $\\pm$ 3.0 & -8.25 \\\\\n",
      "10:01:49.4 & $+$02:27:18.21 & 4.9 $\\pm$ 1.0 & 8.73 $\\pm$ 0.25 & 4.0 $\\pm$ 2.0 & -8.19 \\\\\n",
      "10:01:48.64 & $+$02:27:25.54 & 5.4 $\\pm$ 1.7 & 8.72 $\\pm$ 0.16 & 12.0 $\\pm$ 4.0 & -7.66 \\\\\n",
      "10:01:49.02 & $+$02:27:27.95 & 4.9 $\\pm$ 0.7 & 8.81 $\\pm$ 0.18 & 3.0 $\\pm$ 1.0 & -8.41 \\\\\n",
      "10:01:49.82 & $+$02:27:13.41 & 4.4 $\\pm$ 1.0 & 8.59 $\\pm$ 0.23 & 2.0 $\\pm$ 1.0 & -8.36 \\\\\n",
      "10:01:49.45 & $+$02:27:32.17 & 6.8 $\\pm$ 2.8 & 8.8 $\\pm$ 0.32 & 5.0 $\\pm$ 5.0 & -8.14 \\\\\n",
      "10:01:49.82 & $+$02:25:40.42 & 3.4 $\\pm$ 1.8 & 8.36 $\\pm$ 0.33 & 1.0 $\\pm$ 1.0 & -8.39 \\\\\n",
      "10:01:50.34 & $+$02:25:38.64 & 3.6 $\\pm$ 1.1 & 8.4 $\\pm$ 0.36 & 3.0 $\\pm$ 1.0 & -7.98 \\\\\n",
      "10:01:50.93 & $+$02:25:38.97 & 5.0 $\\pm$ 0.6 & 9.0 $\\pm$ 0.21 & 6.0 $\\pm$ 2.0 & -8.21 \\\\\n",
      "10:01:49.8 & $+$02:25:47.9 & 3.8 $\\pm$ 1.3 & 8.18 $\\pm$ 0.31 & 1.0 $\\pm$ 1.0 & -8.12 \\\\\n",
      "10:01:51.31 & $+$02:25:41.78 & 3.1 $\\pm$ 1.9 & 7.96 $\\pm$ 0.32 & 1.0 $\\pm$ 1.0 & -7.88 \\\\\n",
      "10:01:50.4 & $+$02:25:52.16 & 4.0 $\\pm$ 0.8 & 8.6 $\\pm$ 0.35 & 4.0 $\\pm$ 1.0 & -8.01 \\\\\n",
      "10:01:50.48 & $+$02:25:34.26 & 3.5 $\\pm$ 1.5 & 8.02 $\\pm$ 0.51 & 1.0 $\\pm$ 1.0 & -8.26 \\\\\n",
      "10:01:50.08 & $+$02:25:38.84 & 3.0 $\\pm$ 1.9 & 8.18 $\\pm$ 0.41 & 2.0 $\\pm$ 2.0 & -7.97 \\\\\n",
      "10:01:49.73 & $+$02:25:49.71 & 3.5 $\\pm$ 1.4 & 8.06 $\\pm$ 0.32 & 1.0 $\\pm$ 1.0 & -8.25 \\\\\n",
      "10:01:51.61 & $+$02:25:45.17 & 3.7 $\\pm$ 0.7 & 8.67 $\\pm$ 0.26 & 7.0 $\\pm$ 3.0 & -7.85 \\\\\n",
      "10:00:25.6 & $+$02:22:32.59 & 4.1 $\\pm$ 0.4 & 8.68 $\\pm$ 0.15 & 2.0 $\\pm$ 1.0 & -8.3 \\\\\n",
      "10:00:25.39 & $+$02:22:39.89 & 5.0 $\\pm$ 0.2 & 8.7 $\\pm$ 0.25 & 5.0 $\\pm$ 1.0 & -8.01 \\\\\n",
      "10:00:25.41 & $+$02:22:53.18 & 3.7 $\\pm$ 0.9 & 8.53 $\\pm$ 0.13 & 4.0 $\\pm$ 1.0 & -7.98 \\\\\n",
      "10:00:24.91 & $+$02:22:33.86 & 3.7 $\\pm$ 0.7 & 8.4 $\\pm$ 0.27 & 2.0 $\\pm$ 1.0 & -8.12 \\\\\n",
      "10:00:25.16 & $+$02:22:39.38 & 3.6 $\\pm$ 1.2 & 7.92 $\\pm$ 0.33 & 1.0 $\\pm$ 0.0 & -8.05 \\\\\n",
      "10:00:25.06 & $+$02:22:41.72 & 4.2 $\\pm$ 0.1 & 8.17 $\\pm$ 0.07 & 3.0 $\\pm$ 0.0 & -7.7 \\\\\n",
      "10:00:25.19 & $+$02:22:45.11 & 3.9 $\\pm$ 1.1 & 8.05 $\\pm$ 0.26 & 1.0 $\\pm$ 1.0 & -8.07 \\\\\n",
      "10:00:24.94 & $+$02:22:46.75 & 3.6 $\\pm$ 0.6 & 8.49 $\\pm$ 0.41 & 4.0 $\\pm$ 2.0 & -7.84 \\\\\n",
      "10:00:25.87 & $+$02:22:42.34 & 4.6 $\\pm$ 0.1 & 8.75 $\\pm$ 0.07 & 2.0 $\\pm$ 0.0 & -8.41 \\\\\n",
      "10:00:25.89 & $+$02:22:42.46 & 4.5 $\\pm$ 0.2 & 8.06 $\\pm$ 0.04 & 3.0 $\\pm$ 0.0 & -7.65 \\\\\n",
      "10:00:25.81 & $+$02:22:50.89 & 4.1 $\\pm$ 0.4 & 8.59 $\\pm$ 0.16 & 5.0 $\\pm$ 2.0 & -7.85 \\\\\n",
      "10:00:25.81 & $+$02:22:54.42 & 3.6 $\\pm$ 0.9 & 8.25 $\\pm$ 0.34 & 1.0 $\\pm$ 1.0 & -8.1 \\\\\n",
      "10:00:26.4 & $+$02:19:37.94 & 4.4 $\\pm$ 1.1 & 8.61 $\\pm$ 0.23 & 2.0 $\\pm$ 1.0 & -8.39 \\\\\n",
      "10:00:25.74 & $+$02:19:36.91 & 3.3 $\\pm$ 0.1 & 8.76 $\\pm$ 0.26 & 7.0 $\\pm$ 1.0 & -7.93 \\\\\n",
      "10:00:25.81 & $+$02:19:38.01 & 3.6 $\\pm$ 0.0 & 9.02 $\\pm$ 0.02 & 13.0 $\\pm$ 1.0 & -7.89 \\\\\n",
      "10:00:25.73 & $+$02:19:42.0 & 3.0 $\\pm$ 0.0 & 9.08 $\\pm$ 0.05 & 22.0 $\\pm$ 2.0 & -7.74 \\\\\n",
      "10:00:25.47 & $+$02:19:45.54 & 2.3 $\\pm$ 0.8 & 8.06 $\\pm$ 0.22 & 1.0 $\\pm$ 1.0 & -8.11 \\\\\n",
      "10:00:25.51 & $+$02:19:49.77 & 3.9 $\\pm$ 0.8 & 8.56 $\\pm$ 0.33 & 5.0 $\\pm$ 1.0 & -7.85 \\\\\n",
      "10:00:26.2 & $+$02:19:48.2 & 3.3 $\\pm$ 0.2 & 8.61 $\\pm$ 0.18 & 1.0 $\\pm$ 1.0 & -8.59 \\\\\n",
      "10:00:26.39 & $+$02:19:49.75 & 3.4 $\\pm$ 0.3 & 8.8 $\\pm$ 0.17 & 5.0 $\\pm$ 2.0 & -8.09 \\\\\n",
      "10:00:26.9 & $+$02:19:47.18 & 3.4 $\\pm$ 0.0 & 9.02 $\\pm$ 0.02 & 4.0 $\\pm$ 0.0 & -8.42 \\\\\n",
      "10:00:25.25 & $+$02:19:56.27 & 3.6 $\\pm$ 0.2 & 8.42 $\\pm$ 0.16 & 6.0 $\\pm$ 0.0 & -7.67 \\\\\n",
      "10:00:26.32 & $+$02:19:50.53 & 3.5 $\\pm$ 0.3 & 8.38 $\\pm$ 0.12 & 5.0 $\\pm$ 1.0 & -7.66 \\\\\n",
      "10:00:26.26 & $+$02:19:57.52 & 3.0 $\\pm$ 0.0 & 7.78 $\\pm$ 0.04 & 1.0 $\\pm$ 0.0 & -7.67 \\\\\n",
      "10:00:25.81 & $+$02:20:01.93 & 2.9 $\\pm$ 0.1 & 8.68 $\\pm$ 0.05 & 1.0 $\\pm$ 0.0 & -8.62 \\\\\n",
      "10:00:26.24 & $+$02:19:59.86 & 2.9 $\\pm$ 0.2 & 8.35 $\\pm$ 0.09 & 1.0 $\\pm$ 0.0 & -8.49 \\\\\n",
      "10:00:25.96 & $+$02:20:01.99 & 3.0 $\\pm$ 0.0 & 8.45 $\\pm$ 0.02 & 7.0 $\\pm$ 0.0 & -7.62 \\\\\n",
      "10:00:26.31 & $+$02:19:38.36 & 3.4 $\\pm$ 0.2 & 8.46 $\\pm$ 0.18 & 0.0 $\\pm$ 0.0 & -9.0 \\\\\n",
      "10:00:26.4 & $+$02:19:37.7 & 4.4 $\\pm$ 1.1 & 8.57 $\\pm$ 0.22 & 2.0 $\\pm$ 1.0 & -8.39 \\\\\n",
      "10:00:25.36 & $+$02:19:44.06 & 1.9 $\\pm$ 0.4 & 7.71 $\\pm$ 0.17 & 1.0 $\\pm$ 0.0 & -7.67 \\\\\n",
      "10:00:26.36 & $+$02:19:40.46 & 4.4 $\\pm$ 1.0 & 8.47 $\\pm$ 0.26 & 2.0 $\\pm$ 1.0 & -8.14 \\\\\n",
      "10:00:26.04 & $+$02:19:42.48 & 2.3 $\\pm$ 0.6 & 7.47 $\\pm$ 0.2 & 0.0 $\\pm$ 0.0 & -8.21 \\\\\n",
      "10:00:26.38 & $+$02:19:41.69 & 4.0 $\\pm$ 0.4 & 8.23 $\\pm$ 0.19 & 1.0 $\\pm$ 1.0 & -8.15 \\\\\n",
      "10:00:26.8 & $+$02:19:40.52 & 5.4 $\\pm$ 2.5 & 9.55 $\\pm$ 1.56 & 22.0 $\\pm$ 113.0 & -8.21 \\\\\n",
      "10:00:26.87 & $+$02:19:40.71 & 4.1 $\\pm$ 1.0 & 8.22 $\\pm$ 0.29 & 1.0 $\\pm$ 1.0 & -8.09 \\\\\n",
      "10:00:26.88 & $+$02:19:44.15 & 2.9 $\\pm$ 0.6 & 7.72 $\\pm$ 0.27 & 1.0 $\\pm$ 0.0 & -8.01 \\\\\n",
      "10:00:26.78 & $+$02:19:45.73 & 2.6 $\\pm$ 0.6 & 8.15 $\\pm$ 0.2 & 1.0 $\\pm$ 1.0 & -8.25 \\\\\n",
      "10:00:25.51 & $+$02:19:54.89 & 3.0 $\\pm$ 0.2 & 7.54 $\\pm$ 0.2 & 0.0 $\\pm$ 0.0 & -8.0 \\\\\n",
      "10:00:26.9 & $+$02:19:48.3 & 3.0 $\\pm$ 0.5 & 8.29 $\\pm$ 0.23 & 1.0 $\\pm$ 0.0 & -8.42 \\\\\n",
      "10:00:26.45 & $+$02:19:50.92 & 4.1 $\\pm$ 0.7 & 7.91 $\\pm$ 0.12 & 2.0 $\\pm$ 0.0 & -7.72 \\\\\n",
      "10:00:27.06 & $+$02:19:49.71 & 4.1 $\\pm$ 1.2 & 8.42 $\\pm$ 0.24 & 1.0 $\\pm$ 1.0 & -8.35 \\\\\n",
      "10:00:25.57 & $+$02:20:00.32 & 4.3 $\\pm$ 1.0 & 8.36 $\\pm$ 0.25 & 1.0 $\\pm$ 1.0 & -8.2 \\\\\n",
      "10:00:25.92 & $+$02:19:59.45 & 2.5 $\\pm$ 0.3 & 7.53 $\\pm$ 0.15 & 0.0 $\\pm$ 0.0 & -8.17 \\\\\n",
      "10:00:27.09 & $+$02:19:53.61 & 3.0 $\\pm$ 0.7 & 7.68 $\\pm$ 0.25 & 0.0 $\\pm$ 0.0 & -7.99 \\\\\n",
      "10:00:25.99 & $+$02:20:03.24 & 4.1 $\\pm$ 0.6 & 8.27 $\\pm$ 0.21 & 1.0 $\\pm$ 1.0 & -8.23 \\\\\n",
      "\\bottomrule\n",
      "\\end{tabular}\n",
      "\n"
     ]
    }
   ],
   "source": [
    "print(latex.to_latex(index=False))"
   ]
  },
  {
   "cell_type": "code",
   "execution_count": null,
   "id": "7bd16f77-bd97-49c3-82e6-4e142127f4de",
   "metadata": {},
   "outputs": [],
   "source": []
  }
 ],
 "metadata": {
  "kernelspec": {
   "display_name": "Python 3 (ipykernel)",
   "language": "python",
   "name": "python3"
  },
  "language_info": {
   "codemirror_mode": {
    "name": "ipython",
    "version": 3
   },
   "file_extension": ".py",
   "mimetype": "text/x-python",
   "name": "python",
   "nbconvert_exporter": "python",
   "pygments_lexer": "ipython3",
   "version": "3.12.4"
  }
 },
 "nbformat": 4,
 "nbformat_minor": 5
}
