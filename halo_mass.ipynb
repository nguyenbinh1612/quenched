{
 "cells": [
  {
   "cell_type": "code",
   "execution_count": 1,
   "id": "2db97660-20f8-4e1e-8d9d-e657da6c5816",
   "metadata": {},
   "outputs": [],
   "source": [
    "# this sets up basic packages\n",
    "import numpy as np\n",
    "import pandas as pd\n",
    "import astropy.units as u\n",
    "import astropy.cosmology.units as cu\n",
    "\n",
    "# this sets up matplotlib\n",
    "import matplotlib.pyplot as plt\n",
    "%matplotlib inline\n",
    "\n",
    "# this sets up astropy\n",
    "from astropy.io import fits\n",
    "from astropy.wcs import WCS\n",
    "from astropy.wcs.utils import pixel_to_skycoord\n",
    "from astropy.utils.data import get_pkg_data_filename\n",
    "from astropy.coordinates import SkyCoord, Angle, match_coordinates_sky, Distance\n",
    "from astropy.table import Table, unique\n",
    "\n",
    "from regions import Regions, CircleSkyRegion"
   ]
  },
  {
   "cell_type": "code",
   "execution_count": 2,
   "id": "184c4116-4e23-400e-b40f-8daa14b7a63c",
   "metadata": {},
   "outputs": [],
   "source": [
    "# this reads in the results FITS file that CIGALE made\n",
    "cigale_results = fits.open('/Users/ngbinh/quenched/out_QG_w_nebular/results.fits')"
   ]
  },
  {
   "cell_type": "code",
   "execution_count": 3,
   "id": "e2a3f0be-3a94-4105-8a46-3446cf9ccbd3",
   "metadata": {},
   "outputs": [
    {
     "data": {
      "text/plain": [
       "array([1.39166118e+09, 7.29302924e+09])"
      ]
     },
     "execution_count": 3,
     "metadata": {},
     "output_type": "execute_result"
    }
   ],
   "source": [
    "cigale_results2 = fits.open('/Users/ngbinh/quenched/out_QG_no_nebular/results.fits')\n",
    "cigale_data2 = Table(cigale_results2[1].data).to_pandas()\n",
    "cigale_data2['bayes.stellar.m_star'].values"
   ]
  },
  {
   "cell_type": "code",
   "execution_count": 4,
   "id": "36e3dd41-3461-4679-963b-255796aa8877",
   "metadata": {},
   "outputs": [],
   "source": [
    "cigale_data = Table(cigale_results[1].data).to_pandas()"
   ]
  },
  {
   "cell_type": "code",
   "execution_count": 5,
   "id": "df4850f0-13e2-4fb2-a0a7-0c79e4dfdaea",
   "metadata": {},
   "outputs": [
    {
     "data": {
      "text/plain": [
       "array([1.27989998e+09, 5.81670599e+09])"
      ]
     },
     "execution_count": 5,
     "metadata": {},
     "output_type": "execute_result"
    }
   ],
   "source": [
    "cigale_data['bayes.stellar.m_star'].values"
   ]
  },
  {
   "cell_type": "code",
   "execution_count": 6,
   "id": "436b39ef-8d30-40d1-9f65-ff1b9a9de749",
   "metadata": {},
   "outputs": [],
   "source": [
    "all_data = pd.read_csv('basic_data.txt', sep=' ', names=['name', 'RA', 'Dec', 'redshift'])"
   ]
  },
  {
   "cell_type": "code",
   "execution_count": 7,
   "id": "985b95c1-5775-46cd-b3ea-ce4a1e7663be",
   "metadata": {},
   "outputs": [],
   "source": [
    "m_star = np.concatenate((np.array([1.24, 2.54, 0.64, 0.40, 0.19, 0.72, 2.24], \n",
    "                        dtype='object')*(10**11), np.round(cigale_data['bayes.stellar.m_star'].values))).tolist()"
   ]
  },
  {
   "cell_type": "code",
   "execution_count": 8,
   "id": "a023f17c-9730-48b7-8265-cbd6fe05152a",
   "metadata": {},
   "outputs": [],
   "source": [
    "all_data['m_star'] = m_star"
   ]
  },
  {
   "cell_type": "code",
   "execution_count": 9,
   "id": "7eb73dcb-36c9-4e02-924d-a8be97760c3c",
   "metadata": {},
   "outputs": [
    {
     "data": {
      "text/html": [
       "<div>\n",
       "<style scoped>\n",
       "    .dataframe tbody tr th:only-of-type {\n",
       "        vertical-align: middle;\n",
       "    }\n",
       "\n",
       "    .dataframe tbody tr th {\n",
       "        vertical-align: top;\n",
       "    }\n",
       "\n",
       "    .dataframe thead th {\n",
       "        text-align: right;\n",
       "    }\n",
       "</style>\n",
       "<table border=\"1\" class=\"dataframe\">\n",
       "  <thead>\n",
       "    <tr style=\"text-align: right;\">\n",
       "      <th></th>\n",
       "      <th>name</th>\n",
       "      <th>RA</th>\n",
       "      <th>Dec</th>\n",
       "      <th>redshift</th>\n",
       "      <th>m_star</th>\n",
       "    </tr>\n",
       "  </thead>\n",
       "  <tbody>\n",
       "    <tr>\n",
       "      <th>0</th>\n",
       "      <td>Hong</td>\n",
       "      <td>150.061490</td>\n",
       "      <td>2.378680</td>\n",
       "      <td>3.715</td>\n",
       "      <td>1.240000e+11</td>\n",
       "    </tr>\n",
       "    <tr>\n",
       "      <th>1</th>\n",
       "      <td>Bach-Dang</td>\n",
       "      <td>150.112560</td>\n",
       "      <td>2.376527</td>\n",
       "      <td>2.474</td>\n",
       "      <td>2.540000e+11</td>\n",
       "    </tr>\n",
       "    <tr>\n",
       "      <th>2</th>\n",
       "      <td>Gianh</td>\n",
       "      <td>150.066710</td>\n",
       "      <td>2.382364</td>\n",
       "      <td>3.715</td>\n",
       "      <td>6.400000e+10</td>\n",
       "    </tr>\n",
       "    <tr>\n",
       "      <th>3</th>\n",
       "      <td>Ben-Hai</td>\n",
       "      <td>150.087280</td>\n",
       "      <td>2.396043</td>\n",
       "      <td>3.782</td>\n",
       "      <td>4.000000e+10</td>\n",
       "    </tr>\n",
       "    <tr>\n",
       "      <th>4</th>\n",
       "      <td>Huong-Giang</td>\n",
       "      <td>150.437320</td>\n",
       "      <td>2.463920</td>\n",
       "      <td>3.336</td>\n",
       "      <td>1.900000e+10</td>\n",
       "    </tr>\n",
       "    <tr>\n",
       "      <th>5</th>\n",
       "      <td>Thu-Bon</td>\n",
       "      <td>150.454590</td>\n",
       "      <td>2.455994</td>\n",
       "      <td>3.757</td>\n",
       "      <td>7.200000e+10</td>\n",
       "    </tr>\n",
       "    <tr>\n",
       "      <th>6</th>\n",
       "      <td>Dong-Nai</td>\n",
       "      <td>150.461200</td>\n",
       "      <td>2.429547</td>\n",
       "      <td>4.673</td>\n",
       "      <td>2.240000e+11</td>\n",
       "    </tr>\n",
       "    <tr>\n",
       "      <th>7</th>\n",
       "      <td>Saigon</td>\n",
       "      <td>150.106932</td>\n",
       "      <td>2.377961</td>\n",
       "      <td>4.570</td>\n",
       "      <td>1.279900e+09</td>\n",
       "    </tr>\n",
       "    <tr>\n",
       "      <th>8</th>\n",
       "      <td>Tien</td>\n",
       "      <td>150.108873</td>\n",
       "      <td>2.330539</td>\n",
       "      <td>3.238</td>\n",
       "      <td>5.816706e+09</td>\n",
       "    </tr>\n",
       "  </tbody>\n",
       "</table>\n",
       "</div>"
      ],
      "text/plain": [
       "          name          RA       Dec  redshift        m_star\n",
       "0         Hong  150.061490  2.378680     3.715  1.240000e+11\n",
       "1    Bach-Dang  150.112560  2.376527     2.474  2.540000e+11\n",
       "2        Gianh  150.066710  2.382364     3.715  6.400000e+10\n",
       "3      Ben-Hai  150.087280  2.396043     3.782  4.000000e+10\n",
       "4  Huong-Giang  150.437320  2.463920     3.336  1.900000e+10\n",
       "5      Thu-Bon  150.454590  2.455994     3.757  7.200000e+10\n",
       "6     Dong-Nai  150.461200  2.429547     4.673  2.240000e+11\n",
       "7       Saigon  150.106932  2.377961     4.570  1.279900e+09\n",
       "8         Tien  150.108873  2.330539     3.238  5.816706e+09"
      ]
     },
     "execution_count": 9,
     "metadata": {},
     "output_type": "execute_result"
    }
   ],
   "source": [
    "all_data"
   ]
  },
  {
   "cell_type": "code",
   "execution_count": null,
   "id": "ea715da6-5c4a-482a-b396-aae2ed431964",
   "metadata": {},
   "outputs": [],
   "source": []
  }
 ],
 "metadata": {
  "kernelspec": {
   "display_name": "Python 3 (ipykernel)",
   "language": "python",
   "name": "python3"
  },
  "language_info": {
   "codemirror_mode": {
    "name": "ipython",
    "version": 3
   },
   "file_extension": ".py",
   "mimetype": "text/x-python",
   "name": "python",
   "nbconvert_exporter": "python",
   "pygments_lexer": "ipython3",
   "version": "3.12.2"
  }
 },
 "nbformat": 4,
 "nbformat_minor": 5
}
