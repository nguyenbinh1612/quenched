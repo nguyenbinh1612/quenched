{
 "cells": [
  {
   "cell_type": "code",
   "execution_count": 1,
   "id": "7d6d3418-0fcb-44f8-9e94-93573e54722f",
   "metadata": {},
   "outputs": [],
   "source": [
    "import numpy as np"
   ]
  },
  {
   "cell_type": "code",
   "execution_count": 2,
   "id": "eda5851b-bf70-40ba-a36d-665931992c18",
   "metadata": {},
   "outputs": [],
   "source": [
    "names = np.array(['Hong', 'Bach-Dang', 'Thu-Bon', 'Gianh', 'Ben-Hai', 'Tien', 'Hau', 'Dong-Nai', 'Saigon'], dtype='object')\n",
    "RA = np.array([150.06149, 150.11256, 150.06671, 150.08728, 150.43732, 150.45459, 150.46120, 150.106932, 150.108873], dtype='object')\n",
    "Dec = np.array([2.37868, 2.3765266, 2.3823645, 2.3960431, 2.463920, 2.455994, 2.429547, 2.377961, 2.330539], dtype='object')\n",
    "redshift = np.array([3.715, 2.474, 3.715, 3.782, 3.336, 3.757, 4.673, 4.570, 3.238], dtype='object')"
   ]
  },
  {
   "cell_type": "code",
   "execution_count": 3,
   "id": "c817ba83-9354-4a32-a721-ff7b9e07291c",
   "metadata": {},
   "outputs": [
    {
     "name": "stdout",
     "output_type": "stream",
     "text": [
      "Hong 150.06149 2.37868 3.715\n",
      "\n",
      "Bach-Dang 150.11256 2.3765266 2.474\n",
      "\n",
      "Thu-Bon 150.06671 2.3823645 3.715\n",
      "\n",
      "Gianh 150.08728 2.3960431 3.782\n",
      "\n",
      "Ben-Hai 150.43732 2.46392 3.336\n",
      "\n",
      "Tien 150.45459 2.455994 3.757\n",
      "\n",
      "Hau 150.4612 2.429547 4.673\n",
      "\n",
      "Dong-Nai 150.106932 2.377961 4.57\n",
      "\n",
      "Saigon 150.108873 2.330539 3.238\n",
      "\n"
     ]
    }
   ],
   "source": [
    "f = open('basic_data.txt', 'w')\n",
    "for i in range(np.size(names)):\n",
    "    each_line = names[i] + ' ' + str(RA[i]) + ' ' + str(Dec[i]) + ' ' + str(redshift[i]) + '\\n'\n",
    "    f.write(each_line)\n",
    "    print(each_line)\n",
    "\n",
    "f.close()"
   ]
  },
  {
   "cell_type": "code",
   "execution_count": null,
   "id": "adbad4e1-493c-4ab6-95eb-1751586b2ea1",
   "metadata": {},
   "outputs": [],
   "source": []
  }
 ],
 "metadata": {
  "kernelspec": {
   "display_name": "Python 3 (ipykernel)",
   "language": "python",
   "name": "python3"
  },
  "language_info": {
   "codemirror_mode": {
    "name": "ipython",
    "version": 3
   },
   "file_extension": ".py",
   "mimetype": "text/x-python",
   "name": "python",
   "nbconvert_exporter": "python",
   "pygments_lexer": "ipython3",
   "version": "3.12.4"
  }
 },
 "nbformat": 4,
 "nbformat_minor": 5
}
