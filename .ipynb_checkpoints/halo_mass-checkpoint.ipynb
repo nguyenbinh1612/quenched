{
 "cells": [
  {
   "cell_type": "code",
   "execution_count": 2,
   "id": "2db97660-20f8-4e1e-8d9d-e657da6c5816",
   "metadata": {},
   "outputs": [],
   "source": [
    "# this sets up basic packages\n",
    "import numpy as np\n",
    "import pandas as pd\n",
    "import astropy.units as u\n",
    "import astropy.cosmology.units as cu\n",
    "\n",
    "# this sets up matplotlib\n",
    "import matplotlib.pyplot as plt\n",
    "%matplotlib inline\n",
    "\n",
    "# this sets up astropy\n",
    "from astropy.io import fits\n",
    "from astropy.wcs import WCS\n",
    "from astropy.wcs.utils import pixel_to_skycoord\n",
    "from astropy.utils.data import get_pkg_data_filename\n",
    "from astropy.coordinates import SkyCoord, Angle, match_coordinates_sky, Distance\n",
    "from astropy.table import Table, unique\n",
    "\n",
    "from regions import Regions, CircleSkyRegion"
   ]
  },
  {
   "cell_type": "code",
   "execution_count": 3,
   "id": "184c4116-4e23-400e-b40f-8daa14b7a63c",
   "metadata": {},
   "outputs": [
    {
     "data": {
      "text/plain": [
       "array([1.27989998e+09, 5.81670599e+09])"
      ]
     },
     "execution_count": 3,
     "metadata": {},
     "output_type": "execute_result"
    }
   ],
   "source": [
    "# this reads in the results FITS file that CIGALE made\n",
    "cigale_results = fits.open('/Users/ngbinh/quenched/out_QG_w_nebular/results.fits')\n",
    "cigale_data = Table(cigale_results[1].data).to_pandas()\n",
    "cigale_data['bayes.stellar.m_star'].values"
   ]
  },
  {
   "cell_type": "code",
   "execution_count": 4,
   "id": "b379f04a-c3c6-4829-b7d9-6c4206170f65",
   "metadata": {},
   "outputs": [
    {
     "data": {
      "text/html": [
       "<div>\n",
       "<style scoped>\n",
       "    .dataframe tbody tr th:only-of-type {\n",
       "        vertical-align: middle;\n",
       "    }\n",
       "\n",
       "    .dataframe tbody tr th {\n",
       "        vertical-align: top;\n",
       "    }\n",
       "\n",
       "    .dataframe thead th {\n",
       "        text-align: right;\n",
       "    }\n",
       "</style>\n",
       "<table border=\"1\" class=\"dataframe\">\n",
       "  <thead>\n",
       "    <tr style=\"text-align: right;\">\n",
       "      <th></th>\n",
       "      <th>id</th>\n",
       "      <th>bayes.sfh.sfr</th>\n",
       "      <th>bayes.sfh.sfr_err</th>\n",
       "      <th>bayes.stellar.m_star</th>\n",
       "      <th>bayes.stellar.m_star_err</th>\n",
       "      <th>bayes.hst.wfc.F814W</th>\n",
       "      <th>bayes.hst.wfc.F814W_err</th>\n",
       "      <th>bayes.jwst.miri.F770W</th>\n",
       "      <th>bayes.jwst.miri.F770W_err</th>\n",
       "      <th>bayes.jwst.nircam.F115W</th>\n",
       "      <th>...</th>\n",
       "      <th>best.subaru.suprime.IB427</th>\n",
       "      <th>best.subaru.suprime.IB505</th>\n",
       "      <th>best.subaru.suprime.IB574</th>\n",
       "      <th>best.subaru.suprime.IB709</th>\n",
       "      <th>best.subaru.suprime.IB827</th>\n",
       "      <th>best.subaru.suprime.NB711</th>\n",
       "      <th>best.subaru.suprime.NB816</th>\n",
       "      <th>best.spitzer.irac.ch1</th>\n",
       "      <th>best.spitzer.irac.ch2</th>\n",
       "      <th>best.spitzer.irac.ch3</th>\n",
       "    </tr>\n",
       "  </thead>\n",
       "  <tbody>\n",
       "    <tr>\n",
       "      <th>0</th>\n",
       "      <td>758078</td>\n",
       "      <td>5.190544</td>\n",
       "      <td>1.194062</td>\n",
       "      <td>1.279900e+09</td>\n",
       "      <td>1.929032e+08</td>\n",
       "      <td>0.000106</td>\n",
       "      <td>0.000006</td>\n",
       "      <td>0.000192</td>\n",
       "      <td>0.000014</td>\n",
       "      <td>0.000100</td>\n",
       "      <td>...</td>\n",
       "      <td>-1.670187e-11</td>\n",
       "      <td>0.000002</td>\n",
       "      <td>0.000034</td>\n",
       "      <td>0.000103</td>\n",
       "      <td>0.000106</td>\n",
       "      <td>0.000109</td>\n",
       "      <td>0.000106</td>\n",
       "      <td>0.000176</td>\n",
       "      <td>0.000166</td>\n",
       "      <td>0.000195</td>\n",
       "    </tr>\n",
       "    <tr>\n",
       "      <th>1</th>\n",
       "      <td>799629</td>\n",
       "      <td>14.713269</td>\n",
       "      <td>0.735663</td>\n",
       "      <td>5.816706e+09</td>\n",
       "      <td>2.908353e+08</td>\n",
       "      <td>0.000471</td>\n",
       "      <td>0.000002</td>\n",
       "      <td>0.001278</td>\n",
       "      <td>0.000004</td>\n",
       "      <td>0.000496</td>\n",
       "      <td>...</td>\n",
       "      <td>1.948537e-04</td>\n",
       "      <td>0.000462</td>\n",
       "      <td>0.000492</td>\n",
       "      <td>0.000499</td>\n",
       "      <td>0.000461</td>\n",
       "      <td>0.000505</td>\n",
       "      <td>0.000459</td>\n",
       "      <td>0.001238</td>\n",
       "      <td>0.001344</td>\n",
       "      <td>0.001280</td>\n",
       "    </tr>\n",
       "  </tbody>\n",
       "</table>\n",
       "<p>2 rows × 115 columns</p>\n",
       "</div>"
      ],
      "text/plain": [
       "       id  bayes.sfh.sfr  bayes.sfh.sfr_err  bayes.stellar.m_star  \\\n",
       "0  758078       5.190544           1.194062          1.279900e+09   \n",
       "1  799629      14.713269           0.735663          5.816706e+09   \n",
       "\n",
       "   bayes.stellar.m_star_err  bayes.hst.wfc.F814W  bayes.hst.wfc.F814W_err  \\\n",
       "0              1.929032e+08             0.000106                 0.000006   \n",
       "1              2.908353e+08             0.000471                 0.000002   \n",
       "\n",
       "   bayes.jwst.miri.F770W  bayes.jwst.miri.F770W_err  bayes.jwst.nircam.F115W  \\\n",
       "0               0.000192                   0.000014                 0.000100   \n",
       "1               0.001278                   0.000004                 0.000496   \n",
       "\n",
       "   ...  best.subaru.suprime.IB427  best.subaru.suprime.IB505  \\\n",
       "0  ...              -1.670187e-11                   0.000002   \n",
       "1  ...               1.948537e-04                   0.000462   \n",
       "\n",
       "   best.subaru.suprime.IB574  best.subaru.suprime.IB709  \\\n",
       "0                   0.000034                   0.000103   \n",
       "1                   0.000492                   0.000499   \n",
       "\n",
       "   best.subaru.suprime.IB827  best.subaru.suprime.NB711  \\\n",
       "0                   0.000106                   0.000109   \n",
       "1                   0.000461                   0.000505   \n",
       "\n",
       "   best.subaru.suprime.NB816  best.spitzer.irac.ch1  best.spitzer.irac.ch2  \\\n",
       "0                   0.000106               0.000176               0.000166   \n",
       "1                   0.000459               0.001238               0.001344   \n",
       "\n",
       "   best.spitzer.irac.ch3  \n",
       "0               0.000195  \n",
       "1               0.001280  \n",
       "\n",
       "[2 rows x 115 columns]"
      ]
     },
     "execution_count": 4,
     "metadata": {},
     "output_type": "execute_result"
    }
   ],
   "source": [
    "cigale_data"
   ]
  },
  {
   "cell_type": "code",
   "execution_count": 5,
   "id": "4cd18f33-f7b3-41f8-b4bb-1d40e94e84ad",
   "metadata": {},
   "outputs": [
    {
     "data": {
      "text/plain": [
       "array([-8.39196315, -8.59696795])"
      ]
     },
     "execution_count": 5,
     "metadata": {},
     "output_type": "execute_result"
    }
   ],
   "source": [
    "sSFR_1 = np.log10(cigale_data['bayes.sfh.sfr'].values / cigale_data['bayes.stellar.m_star'].values)\n",
    "sSFR_1"
   ]
  },
  {
   "cell_type": "code",
   "execution_count": 6,
   "id": "e2a3f0be-3a94-4105-8a46-3446cf9ccbd3",
   "metadata": {},
   "outputs": [
    {
     "data": {
      "text/plain": [
       "array([1.39166118e+09, 7.29302924e+09])"
      ]
     },
     "execution_count": 6,
     "metadata": {},
     "output_type": "execute_result"
    }
   ],
   "source": [
    "cigale_results2 = fits.open('/Users/ngbinh/quenched/out_QG_no_nebular/results.fits')\n",
    "cigale_data2 = Table(cigale_results2[1].data).to_pandas()\n",
    "cigale_data2['bayes.stellar.m_star'].values"
   ]
  },
  {
   "cell_type": "code",
   "execution_count": 7,
   "id": "aab282c9-6dfe-44bb-802d-c41f9e68f684",
   "metadata": {},
   "outputs": [
    {
     "data": {
      "text/plain": [
       "array([-8.50194038, -9.2724596 ])"
      ]
     },
     "execution_count": 7,
     "metadata": {},
     "output_type": "execute_result"
    }
   ],
   "source": [
    "sSFR_2 = np.log10(cigale_data2['bayes.sfh.sfr'].values / cigale_data2['bayes.stellar.m_star'].values)\n",
    "sSFR_2"
   ]
  },
  {
   "cell_type": "code",
   "execution_count": 8,
   "id": "436b39ef-8d30-40d1-9f65-ff1b9a9de749",
   "metadata": {},
   "outputs": [],
   "source": [
    "all_data = pd.read_csv('basic_data.txt', sep=' ', names=['name', 'RA', 'Dec', 'redshift'])"
   ]
  },
  {
   "cell_type": "code",
   "execution_count": 9,
   "id": "985b95c1-5775-46cd-b3ea-ce4a1e7663be",
   "metadata": {},
   "outputs": [],
   "source": [
    "m_star = np.concatenate((np.array([1.24, 2.54, 0.64, 0.40, 0.19, 0.72, 2.24], \n",
    "                        dtype='object')*(10**11), np.round(cigale_data2['bayes.stellar.m_star'].values))).tolist()"
   ]
  },
  {
   "cell_type": "code",
   "execution_count": 10,
   "id": "a023f17c-9730-48b7-8265-cbd6fe05152a",
   "metadata": {},
   "outputs": [],
   "source": [
    "all_data['m_star'] = m_star"
   ]
  },
  {
   "cell_type": "code",
   "execution_count": 11,
   "id": "7eb73dcb-36c9-4e02-924d-a8be97760c3c",
   "metadata": {},
   "outputs": [
    {
     "data": {
      "text/html": [
       "<div>\n",
       "<style scoped>\n",
       "    .dataframe tbody tr th:only-of-type {\n",
       "        vertical-align: middle;\n",
       "    }\n",
       "\n",
       "    .dataframe tbody tr th {\n",
       "        vertical-align: top;\n",
       "    }\n",
       "\n",
       "    .dataframe thead th {\n",
       "        text-align: right;\n",
       "    }\n",
       "</style>\n",
       "<table border=\"1\" class=\"dataframe\">\n",
       "  <thead>\n",
       "    <tr style=\"text-align: right;\">\n",
       "      <th></th>\n",
       "      <th>name</th>\n",
       "      <th>RA</th>\n",
       "      <th>Dec</th>\n",
       "      <th>redshift</th>\n",
       "      <th>m_star</th>\n",
       "    </tr>\n",
       "  </thead>\n",
       "  <tbody>\n",
       "    <tr>\n",
       "      <th>0</th>\n",
       "      <td>Hong</td>\n",
       "      <td>150.061490</td>\n",
       "      <td>2.378680</td>\n",
       "      <td>3.715</td>\n",
       "      <td>1.240000e+11</td>\n",
       "    </tr>\n",
       "    <tr>\n",
       "      <th>1</th>\n",
       "      <td>Bach-Dang</td>\n",
       "      <td>150.112560</td>\n",
       "      <td>2.376527</td>\n",
       "      <td>2.474</td>\n",
       "      <td>2.540000e+11</td>\n",
       "    </tr>\n",
       "    <tr>\n",
       "      <th>2</th>\n",
       "      <td>Gianh</td>\n",
       "      <td>150.066710</td>\n",
       "      <td>2.382364</td>\n",
       "      <td>3.715</td>\n",
       "      <td>6.400000e+10</td>\n",
       "    </tr>\n",
       "    <tr>\n",
       "      <th>3</th>\n",
       "      <td>Ben-Hai</td>\n",
       "      <td>150.087280</td>\n",
       "      <td>2.396043</td>\n",
       "      <td>3.782</td>\n",
       "      <td>4.000000e+10</td>\n",
       "    </tr>\n",
       "    <tr>\n",
       "      <th>4</th>\n",
       "      <td>Huong-Giang</td>\n",
       "      <td>150.437320</td>\n",
       "      <td>2.463920</td>\n",
       "      <td>3.336</td>\n",
       "      <td>1.900000e+10</td>\n",
       "    </tr>\n",
       "    <tr>\n",
       "      <th>5</th>\n",
       "      <td>Thu-Bon</td>\n",
       "      <td>150.454590</td>\n",
       "      <td>2.455994</td>\n",
       "      <td>3.757</td>\n",
       "      <td>7.200000e+10</td>\n",
       "    </tr>\n",
       "    <tr>\n",
       "      <th>6</th>\n",
       "      <td>Dong-Nai</td>\n",
       "      <td>150.461200</td>\n",
       "      <td>2.429547</td>\n",
       "      <td>4.673</td>\n",
       "      <td>2.240000e+11</td>\n",
       "    </tr>\n",
       "    <tr>\n",
       "      <th>7</th>\n",
       "      <td>Saigon</td>\n",
       "      <td>150.106932</td>\n",
       "      <td>2.377961</td>\n",
       "      <td>4.570</td>\n",
       "      <td>1.391661e+09</td>\n",
       "    </tr>\n",
       "    <tr>\n",
       "      <th>8</th>\n",
       "      <td>Tien</td>\n",
       "      <td>150.108873</td>\n",
       "      <td>2.330539</td>\n",
       "      <td>3.238</td>\n",
       "      <td>7.293029e+09</td>\n",
       "    </tr>\n",
       "  </tbody>\n",
       "</table>\n",
       "</div>"
      ],
      "text/plain": [
       "          name          RA       Dec  redshift        m_star\n",
       "0         Hong  150.061490  2.378680     3.715  1.240000e+11\n",
       "1    Bach-Dang  150.112560  2.376527     2.474  2.540000e+11\n",
       "2        Gianh  150.066710  2.382364     3.715  6.400000e+10\n",
       "3      Ben-Hai  150.087280  2.396043     3.782  4.000000e+10\n",
       "4  Huong-Giang  150.437320  2.463920     3.336  1.900000e+10\n",
       "5      Thu-Bon  150.454590  2.455994     3.757  7.200000e+10\n",
       "6     Dong-Nai  150.461200  2.429547     4.673  2.240000e+11\n",
       "7       Saigon  150.106932  2.377961     4.570  1.391661e+09\n",
       "8         Tien  150.108873  2.330539     3.238  7.293029e+09"
      ]
     },
     "execution_count": 11,
     "metadata": {},
     "output_type": "execute_result"
    }
   ],
   "source": [
    "all_data"
   ]
  },
  {
   "cell_type": "code",
   "execution_count": 28,
   "id": "ea715da6-5c4a-482a-b396-aae2ed431964",
   "metadata": {},
   "outputs": [],
   "source": [
    "behroozi = pd.read_csv('behroozi_relations.csv', header=None, names=['m_halo', 'm_star'])"
   ]
  },
  {
   "cell_type": "code",
   "execution_count": 60,
   "id": "1018efcb-178d-49f0-a857-7ab29c65efd7",
   "metadata": {},
   "outputs": [],
   "source": [
    "m_halo_vals = np.linspace(np.min(behroozi['m_halo'].values), np.max(behroozi['m_halo'].values), 100000)\n",
    "m_star_interp = np.interp(m_halo_vals, behroozi['m_halo'].values, behroozi['m_star'].values)"
   ]
  },
  {
   "cell_type": "code",
   "execution_count": 62,
   "id": "8d6cf11a-9e96-4d67-b29f-76b1c33e6bdd",
   "metadata": {},
   "outputs": [
    {
     "data": {
      "text/plain": [
       "array([11.2948242 , 11.29484271, 11.29486122, ..., 13.14565499,\n",
       "       13.1456735 , 13.14569201])"
      ]
     },
     "execution_count": 62,
     "metadata": {},
     "output_type": "execute_result"
    }
   ],
   "source": [
    "m_halo_vals"
   ]
  },
  {
   "cell_type": "code",
   "execution_count": 64,
   "id": "6630ef38-4185-464f-9a55-3cbd48221066",
   "metadata": {},
   "outputs": [
    {
     "data": {
      "image/png": "[encoded data removed]",
      "text/plain": [
       "<Figure size 640x480 with 1 Axes>"
      ]
     },
     "metadata": {},
     "output_type": "display_data"
    }
   ],
   "source": [
    "plt.plot(10**m_halo_vals, 10**m_star_interp, '-x', color='green')\n",
    "plt.plot(10**behroozi['m_halo'].values, 10**behroozi['m_star'].values, 'o', color='red')\n",
    "plt.axhline(all_data['m_star'].values[0])\n",
    "plt.xscale('log')\n",
    "plt.yscale('log')"
   ]
  },
  {
   "cell_type": "code",
   "execution_count": 66,
   "id": "29248a01-1e66-42cf-be45-3ed3ce853c56",
   "metadata": {},
   "outputs": [
    {
     "data": {
      "text/plain": [
       "8.96415747023238"
      ]
     },
     "execution_count": 66,
     "metadata": {},
     "output_type": "execute_result"
    }
   ],
   "source": [
    "np.min(m_star_interp)"
   ]
  },
  {
   "cell_type": "code",
   "execution_count": 76,
   "id": "70b57907-b313-449e-84c8-b67adc24d8d0",
   "metadata": {},
   "outputs": [],
   "source": [
    "m_halo_est = []\n",
    "\n",
    "for m_star_val in all_data['m_star'].values:\n",
    "    closest_idx = np.argmin(np.abs(10**m_star_interp - m_star_val))\n",
    "    m_halo_est.append(10**m_halo_vals[closest_idx])\n",
    "\n",
    "m_halo_est = np.array(m_halo_est, dtype='object')"
   ]
  },
  {
   "cell_type": "code",
   "execution_count": 96,
   "id": "10f533d3-7380-4d27-8b03-0af6405e12ab",
   "metadata": {},
   "outputs": [
    {
     "data": {
      "image/png": "[encoded data removed]",
      "text/plain": [
       "<Figure size 640x480 with 1 Axes>"
      ]
     },
     "metadata": {},
     "output_type": "display_data"
    }
   ],
   "source": [
    "plt.plot(10**m_halo_vals, 10**m_star_interp, '-', color='green', label='Behroozi+13, z=3')\n",
    "plt.plot(m_halo_est, all_data['m_star'].values, 'o', color='blue', label='x=M$_{star}$, y=M$_{halo,est}$')\n",
    "plt.legend()\n",
    "plt.xscale('log')\n",
    "plt.yscale('log')"
   ]
  },
  {
   "cell_type": "code",
   "execution_count": null,
   "id": "f8a3b1b0-b27b-455e-a9f5-e7aac252a825",
   "metadata": {},
   "outputs": [],
   "source": []
  }
 ],
 "metadata": {
  "kernelspec": {
   "display_name": "Python 3 (ipykernel)",
   "language": "python",
   "name": "python3"
  },
  "language_info": {
   "codemirror_mode": {
    "name": "ipython",
    "version": 3
   },
   "file_extension": ".py",
   "mimetype": "text/x-python",
   "name": "python",
   "nbconvert_exporter": "python",
   "pygments_lexer": "ipython3",
   "version": "3.12.2"
  }
 },
 "nbformat": 4,
 "nbformat_minor": 5
}
