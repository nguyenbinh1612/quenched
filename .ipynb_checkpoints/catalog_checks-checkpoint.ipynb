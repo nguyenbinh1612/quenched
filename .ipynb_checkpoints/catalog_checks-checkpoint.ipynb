{
 "cells": [
  {
   "cell_type": "markdown",
   "id": "6f8e7d7d-bd56-48bd-b3b8-c0c4aac9ea92",
   "metadata": {},
   "source": [
    "This code is to check how much of Marko's and Hollis's catalogs match with my catalog of potential neighbors around the 9 spectroscopically confirmed QGs. The reason for this code is the fact that there aren't many matches between my catalog and that of Rafael, which is compiled by CIGALE based on Olivier's catalog. A lot of names to keep track of, but they're all related somehow.\n",
    "\n",
    "(Binh, Sep 25, 2024)"
   ]
  },
  {
   "cell_type": "code",
   "execution_count": 2,
   "id": "ecf5480c-b8a8-4755-b1ac-326a611147fa",
   "metadata": {},
   "outputs": [],
   "source": [
    "# this sets up basic packages\n",
    "import numpy as np\n",
    "import pandas as pd\n",
    "import astropy.units as u\n",
    "import astropy.cosmology.units as cu\n",
    "\n",
    "# this sets up matplotlib\n",
    "import matplotlib.pyplot as plt\n",
    "%matplotlib inline\n",
    "\n",
    "# this sets up astropy\n",
    "from astropy.io import fits\n",
    "from astropy.wcs import WCS\n",
    "from astropy.wcs.utils import pixel_to_skycoord\n",
    "from astropy.utils.data import get_pkg_data_filename\n",
    "from astropy.coordinates import SkyCoord, Angle, match_coordinates_sky, Distance\n",
    "from astropy.table import Table, unique\n",
    "\n",
    "from regions import Regions, CircleSkyRegion"
   ]
  },
  {
   "cell_type": "markdown",
   "id": "580e7298-13c1-44b0-b33d-98cdcbe5992f",
   "metadata": {},
   "source": [
    "First, let's load in my catalog."
   ]
  },
  {
   "cell_type": "code",
   "execution_count": 4,
   "id": "aacb770a-29fe-49ac-bcd2-de9833ac0770",
   "metadata": {},
   "outputs": [],
   "source": [
    "my_catalog = pd.read_csv('potential_neighbors.txt', sep='\\t')"
   ]
  },
  {
   "cell_type": "markdown",
   "id": "7b91702c-3e38-4696-8303-f6405a17d093",
   "metadata": {},
   "source": [
    "## CHECK 1"
   ]
  },
  {
   "cell_type": "markdown",
   "id": "43a58f1f-5926-4561-8dad-cf969ce2f6ee",
   "metadata": {},
   "source": [
    "### Part 1: Marko's catalog vs. mine"
   ]
  },
  {
   "cell_type": "code",
   "execution_count": 7,
   "id": "43f7420f-0000-4a15-b039-9049f0de1139",
   "metadata": {},
   "outputs": [],
   "source": [
    "marko = fits.open('/Users/ngbinh/Downloads/check_data/COSMOSWeb_master_v3.1.0_assoc_cold+hot_sersic_cgs_err-calib.fits')\n",
    "marko_data = Table(marko[1].data)"
   ]
  },
  {
   "cell_type": "code",
   "execution_count": 8,
   "id": "9da74e8e-84c2-4dc5-a26d-d52969d5126b",
   "metadata": {},
   "outputs": [],
   "source": [
    "### matching coords\n",
    "marko_objects = SkyCoord(ra=marko_data['RA_DETEC'].data*u.degree, dec=marko_data['DEC_DETEC'].data*u.degree)\n",
    "my_objects = SkyCoord(ra=my_catalog['ra'].values*u.degree, dec=my_catalog['dec'].values*u.degree)\n",
    "\n",
    "# use search_around_sky to find matching indices (matching in RA and Dec) in each catalog\n",
    "idx_marko, idx_mine, d2d, d3d = my_objects.search_around_sky(marko_objects, 1*u.arcsec)"
   ]
  },
  {
   "cell_type": "code",
   "execution_count": 9,
   "id": "11e9ee61-160b-407e-9d71-823327cb23d0",
   "metadata": {},
   "outputs": [],
   "source": [
    "# there are going to be cases where one set of coords in my catalog is matched to many sets of coords in Marko's catalog.\n",
    "# in this part, we're going to find those cases and just select the set of coords with the minimum separation.\n",
    "my_unique_ids = np.unique(idx_mine)\n",
    "marko_matches = []\n",
    "my_matches_with_marko = []\n",
    "for match in my_unique_ids:\n",
    "    separations = d2d[np.where(idx_mine == match)]\n",
    "    if np.size(separations) > 1:\n",
    "        # this adds the id of the object from Marko's catalog with the minimum separation from my set of coords\n",
    "        marko_matches.append(idx_marko[np.where(d2d == np.min(separations))][0])\n",
    "        my_matches_with_marko.append(idx_mine[np.where(d2d == np.min(separations))][0])\n",
    "    else:\n",
    "        # this just adds the id of the object from Marko's catalog if there's only one match\n",
    "        marko_matches.append(idx_marko[np.where(idx_mine == match)][0])\n",
    "        my_matches_with_marko.append(idx_mine[np.where(idx_mine == match)][0])"
   ]
  },
  {
   "cell_type": "code",
   "execution_count": 10,
   "id": "84267a63-2f03-4d11-87fb-3b936dc9fb79",
   "metadata": {},
   "outputs": [
    {
     "name": "stdout",
     "output_type": "stream",
     "text": [
      "The number of unique matches with Marko's catalog is 139 out of 155\n"
     ]
    }
   ],
   "source": [
    "print(\"The number of unique matches with Marko's catalog is\", np.size(marko_matches), 'out of', np.size(my_catalog['id'].values))"
   ]
  },
  {
   "cell_type": "code",
   "execution_count": 11,
   "id": "4ded6c37-75ed-4a97-9e59-33909d9135f6",
   "metadata": {},
   "outputs": [
    {
     "data": {
      "text/html": [
       "<div>\n",
       "<style scoped>\n",
       "    .dataframe tbody tr th:only-of-type {\n",
       "        vertical-align: middle;\n",
       "    }\n",
       "\n",
       "    .dataframe tbody tr th {\n",
       "        vertical-align: top;\n",
       "    }\n",
       "\n",
       "    .dataframe thead th {\n",
       "        text-align: right;\n",
       "    }\n",
       "</style>\n",
       "<table border=\"1\" class=\"dataframe\">\n",
       "  <thead>\n",
       "    <tr style=\"text-align: right;\">\n",
       "      <th></th>\n",
       "      <th>id</th>\n",
       "      <th>ra</th>\n",
       "      <th>dec</th>\n",
       "      <th>host_ra</th>\n",
       "      <th>host_dec</th>\n",
       "    </tr>\n",
       "  </thead>\n",
       "  <tbody>\n",
       "    <tr>\n",
       "      <th>14</th>\n",
       "      <td>780511</td>\n",
       "      <td>150.059862</td>\n",
       "      <td>2.377896</td>\n",
       "      <td>150.061490</td>\n",
       "      <td>2.378680</td>\n",
       "    </tr>\n",
       "    <tr>\n",
       "      <th>15</th>\n",
       "      <td>780592</td>\n",
       "      <td>150.060254</td>\n",
       "      <td>2.378310</td>\n",
       "      <td>150.061490</td>\n",
       "      <td>2.378680</td>\n",
       "    </tr>\n",
       "    <tr>\n",
       "      <th>16</th>\n",
       "      <td>780808</td>\n",
       "      <td>150.060603</td>\n",
       "      <td>2.379956</td>\n",
       "      <td>150.061490</td>\n",
       "      <td>2.378680</td>\n",
       "    </tr>\n",
       "    <tr>\n",
       "      <th>20</th>\n",
       "      <td>780995</td>\n",
       "      <td>150.060525</td>\n",
       "      <td>2.381155</td>\n",
       "      <td>150.061490</td>\n",
       "      <td>2.378680</td>\n",
       "    </tr>\n",
       "    <tr>\n",
       "      <th>21</th>\n",
       "      <td>781053</td>\n",
       "      <td>150.061446</td>\n",
       "      <td>2.381259</td>\n",
       "      <td>150.061490</td>\n",
       "      <td>2.378680</td>\n",
       "    </tr>\n",
       "    <tr>\n",
       "      <th>34</th>\n",
       "      <td>782969</td>\n",
       "      <td>150.112951</td>\n",
       "      <td>2.377312</td>\n",
       "      <td>150.112560</td>\n",
       "      <td>2.376527</td>\n",
       "    </tr>\n",
       "    <tr>\n",
       "      <th>37</th>\n",
       "      <td>783202</td>\n",
       "      <td>150.112071</td>\n",
       "      <td>2.379218</td>\n",
       "      <td>150.112560</td>\n",
       "      <td>2.376527</td>\n",
       "    </tr>\n",
       "    <tr>\n",
       "      <th>88</th>\n",
       "      <td>784663</td>\n",
       "      <td>150.087636</td>\n",
       "      <td>2.398937</td>\n",
       "      <td>150.087280</td>\n",
       "      <td>2.396043</td>\n",
       "    </tr>\n",
       "    <tr>\n",
       "      <th>95</th>\n",
       "      <td>642465</td>\n",
       "      <td>150.436790</td>\n",
       "      <td>2.466868</td>\n",
       "      <td>150.437320</td>\n",
       "      <td>2.463920</td>\n",
       "    </tr>\n",
       "    <tr>\n",
       "      <th>96</th>\n",
       "      <td>642503</td>\n",
       "      <td>150.436177</td>\n",
       "      <td>2.467482</td>\n",
       "      <td>150.437320</td>\n",
       "      <td>2.463920</td>\n",
       "    </tr>\n",
       "    <tr>\n",
       "      <th>114</th>\n",
       "      <td>782329</td>\n",
       "      <td>150.103806</td>\n",
       "      <td>2.376071</td>\n",
       "      <td>150.106932</td>\n",
       "      <td>2.377961</td>\n",
       "    </tr>\n",
       "    <tr>\n",
       "      <th>126</th>\n",
       "      <td>799317</td>\n",
       "      <td>150.107224</td>\n",
       "      <td>2.328334</td>\n",
       "      <td>150.108873</td>\n",
       "      <td>2.330539</td>\n",
       "    </tr>\n",
       "    <tr>\n",
       "      <th>141</th>\n",
       "      <td>823454</td>\n",
       "      <td>150.108507</td>\n",
       "      <td>2.328465</td>\n",
       "      <td>150.108873</td>\n",
       "      <td>2.330539</td>\n",
       "    </tr>\n",
       "    <tr>\n",
       "      <th>142</th>\n",
       "      <td>823493</td>\n",
       "      <td>150.109905</td>\n",
       "      <td>2.328249</td>\n",
       "      <td>150.108873</td>\n",
       "      <td>2.330539</td>\n",
       "    </tr>\n",
       "    <tr>\n",
       "      <th>145</th>\n",
       "      <td>823724</td>\n",
       "      <td>150.111572</td>\n",
       "      <td>2.329369</td>\n",
       "      <td>150.108873</td>\n",
       "      <td>2.330539</td>\n",
       "    </tr>\n",
       "    <tr>\n",
       "      <th>152</th>\n",
       "      <td>824065</td>\n",
       "      <td>150.112878</td>\n",
       "      <td>2.331558</td>\n",
       "      <td>150.108873</td>\n",
       "      <td>2.330539</td>\n",
       "    </tr>\n",
       "  </tbody>\n",
       "</table>\n",
       "</div>"
      ],
      "text/plain": [
       "         id          ra       dec     host_ra  host_dec\n",
       "14   780511  150.059862  2.377896  150.061490  2.378680\n",
       "15   780592  150.060254  2.378310  150.061490  2.378680\n",
       "16   780808  150.060603  2.379956  150.061490  2.378680\n",
       "20   780995  150.060525  2.381155  150.061490  2.378680\n",
       "21   781053  150.061446  2.381259  150.061490  2.378680\n",
       "34   782969  150.112951  2.377312  150.112560  2.376527\n",
       "37   783202  150.112071  2.379218  150.112560  2.376527\n",
       "88   784663  150.087636  2.398937  150.087280  2.396043\n",
       "95   642465  150.436790  2.466868  150.437320  2.463920\n",
       "96   642503  150.436177  2.467482  150.437320  2.463920\n",
       "114  782329  150.103806  2.376071  150.106932  2.377961\n",
       "126  799317  150.107224  2.328334  150.108873  2.330539\n",
       "141  823454  150.108507  2.328465  150.108873  2.330539\n",
       "142  823493  150.109905  2.328249  150.108873  2.330539\n",
       "145  823724  150.111572  2.329369  150.108873  2.330539\n",
       "152  824065  150.112878  2.331558  150.108873  2.330539"
      ]
     },
     "execution_count": 11,
     "metadata": {},
     "output_type": "execute_result"
    }
   ],
   "source": [
    "# these are the objects (rows) in my catalog that aren't in Marko's catalog\n",
    "catalog_not_in_marko = pd.concat([my_catalog, my_catalog.loc[my_matches_with_marko]]).drop_duplicates(keep=False)\n",
    "catalog_not_in_marko"
   ]
  },
  {
   "cell_type": "markdown",
   "id": "55e3acb9-e4db-4079-b7b5-b747a9f38045",
   "metadata": {},
   "source": [
    "### Part 2: Marko's catalog vs. Olivier's"
   ]
  },
  {
   "cell_type": "code",
   "execution_count": 13,
   "id": "0e56fa14-c2e7-4374-9c9b-631b153f9286",
   "metadata": {},
   "outputs": [],
   "source": [
    "# this reads in the file and makes sure the names match the columns\n",
    "olivier_data = pd.read_csv('/Users/ngbinh/Downloads/check_data/photoz_BC03_v3.1.0_cosmosweb.out', sep=' ').shift(1, axis=1)"
   ]
  },
  {
   "cell_type": "code",
   "execution_count": 14,
   "id": "d265294e-2381-4a84-b507-a51e5a034fab",
   "metadata": {},
   "outputs": [],
   "source": [
    "olivier_marko_matches, olivier_idx, marko_idx = np.intersect1d(olivier_data['Id'].values, \n",
    "                                                                    np.array(marko_matches, dtype='object'), return_indices=True)"
   ]
  },
  {
   "cell_type": "code",
   "execution_count": 15,
   "id": "80668def-597f-4459-a826-2b57c435f67a",
   "metadata": {},
   "outputs": [],
   "source": [
    "# this finds matches between Olivier's catalog and Marko's based on the IDs\n",
    "olivier_matching_rows = olivier_data[olivier_data['Id'].isin(olivier_marko_matches)]"
   ]
  },
  {
   "cell_type": "code",
   "execution_count": 16,
   "id": "f66b8fca-a0f0-48d9-9c5e-81f5bdf7797b",
   "metadata": {},
   "outputs": [
    {
     "name": "stdout",
     "output_type": "stream",
     "text": [
      "111 objects are flagged 0\n",
      "25 objects are flagged 1\n",
      "1 objects are flagged 3\n"
     ]
    }
   ],
   "source": [
    "### Based on the README_flagging TXT file, count/categorize the Olivier-Marko matches based on the flags Olivier gave them.\n",
    "olivier_flags = olivier_matching_rows['warn_fl'].values\n",
    "\n",
    "for flag_value in np.unique(olivier_flags):\n",
    "    flag_no = np.size(np.where(olivier_flags==flag_value))\n",
    "    print(flag_no, 'objects are flagged', flag_value)"
   ]
  },
  {
   "cell_type": "code",
   "execution_count": 17,
   "id": "d032c3fa-24aa-49af-aefa-4c8183e73c5a",
   "metadata": {},
   "outputs": [],
   "source": [
    "# this retrieves all the objects flagged 1\n",
    "flagged_ones = olivier_matching_rows[olivier_matching_rows['warn_fl']==1]\n",
    "flagged_zeros = olivier_matching_rows[olivier_matching_rows['warn_fl']==0]\n",
    "flagged_ones_ids = flagged_ones['Id'].values # this gets their IDs\n",
    "flagged_zeros_ids = flagged_zeros['Id'].values # this gets their IDs"
   ]
  },
  {
   "cell_type": "code",
   "execution_count": 18,
   "id": "655b62e6-bb50-4049-abc0-08abff733d9d",
   "metadata": {},
   "outputs": [],
   "source": [
    "# this finds the intersecting elements between flagged_ones and the array of matching IDs from earlier,\n",
    "# which will allow us to trace the rows in my catalog that correspond to the flagged objects\n",
    "flags, flagged_idx, marko_idx_narrowed = np.intersect1d(flagged_ones_ids, olivier_marko_matches, return_indices=True)\n",
    "flags_0, flagged_zeros_idx, marko_idx_zeros = np.intersect1d(flagged_zeros_ids, olivier_marko_matches, return_indices=True)"
   ]
  },
  {
   "cell_type": "code",
   "execution_count": 19,
   "id": "c2e428c7-c68f-41e9-9bc8-3e3ba384c9db",
   "metadata": {},
   "outputs": [],
   "source": [
    "twenty_five_lephare = my_catalog.iloc[np.array(my_matches_with_marko, dtype='object')[marko_idx[marko_idx_narrowed]]]"
   ]
  },
  {
   "cell_type": "code",
   "execution_count": 20,
   "id": "9a44cbff-e05b-4bbf-90ca-f7f1da130998",
   "metadata": {},
   "outputs": [],
   "source": [
    "the_rest_lephare = my_catalog.iloc[np.array(my_matches_with_marko, dtype='object')[marko_idx[marko_idx_zeros]]]"
   ]
  },
  {
   "cell_type": "code",
   "execution_count": 21,
   "id": "4bd0d5f3-8dfb-47f3-9d81-463e5f7d5a2c",
   "metadata": {},
   "outputs": [],
   "source": [
    "flagged_ones = flagged_ones.assign(cigale_id=twenty_five_lephare['id'].values.tolist())\n",
    "flagged_zeros = flagged_zeros.assign(cigale_id=the_rest_lephare['id'].values.tolist())"
   ]
  },
  {
   "cell_type": "markdown",
   "id": "b0e597af-44d5-423a-9a92-8ac41d10e515",
   "metadata": {},
   "source": [
    "### Discussion\n",
    "Based on the README_flagging.txt file, this means that of Marko's <b>139</b> objects that are matchable to my catalog:\n",
    "- <b>111</b> objects look fine, according to Olivier (flag 0)\n",
    "- <b>25</b> objects have an offset between ground and space, according to Olivier (flag 1)\n",
    "- <b>1</b> object has hot pixels, i.e. it has a radius below 1.e-5, according to Olivier (flag 3)\n",
    "\n",
    "Additionally, there are <b>2</b> objects that are NOT flagged by Olivier at all because they simply just don't show up in Olivier's catalog."
   ]
  },
  {
   "cell_type": "markdown",
   "id": "1f3af8a0-2637-445e-8e13-1d46c3ef4945",
   "metadata": {},
   "source": [
    "## Update (Oct 22)\n",
    "We'll move forward with the 111 objects that look fine as our \"robust sample\"."
   ]
  },
  {
   "cell_type": "code",
   "execution_count": 24,
   "id": "e80fd781-acb7-467a-8729-010da74f35f6",
   "metadata": {},
   "outputs": [
    {
     "data": {
      "text/html": [
       "<div>\n",
       "<style scoped>\n",
       "    .dataframe tbody tr th:only-of-type {\n",
       "        vertical-align: middle;\n",
       "    }\n",
       "\n",
       "    .dataframe tbody tr th {\n",
       "        vertical-align: top;\n",
       "    }\n",
       "\n",
       "    .dataframe thead th {\n",
       "        text-align: right;\n",
       "    }\n",
       "</style>\n",
       "<table border=\"1\" class=\"dataframe\">\n",
       "  <thead>\n",
       "    <tr style=\"text-align: right;\">\n",
       "      <th></th>\n",
       "      <th>id</th>\n",
       "      <th>ra</th>\n",
       "      <th>dec</th>\n",
       "      <th>host_ra</th>\n",
       "      <th>host_dec</th>\n",
       "    </tr>\n",
       "  </thead>\n",
       "  <tbody>\n",
       "    <tr>\n",
       "      <th>89</th>\n",
       "      <td>614117</td>\n",
       "      <td>150.434792</td>\n",
       "      <td>2.462610</td>\n",
       "      <td>150.437320</td>\n",
       "      <td>2.463920</td>\n",
       "    </tr>\n",
       "    <tr>\n",
       "      <th>97</th>\n",
       "      <td>614192</td>\n",
       "      <td>150.450922</td>\n",
       "      <td>2.457499</td>\n",
       "      <td>150.454590</td>\n",
       "      <td>2.455994</td>\n",
       "    </tr>\n",
       "    <tr>\n",
       "      <th>94</th>\n",
       "      <td>641810</td>\n",
       "      <td>150.439249</td>\n",
       "      <td>2.462442</td>\n",
       "      <td>150.437320</td>\n",
       "      <td>2.463920</td>\n",
       "    </tr>\n",
       "    <tr>\n",
       "      <th>90</th>\n",
       "      <td>614284</td>\n",
       "      <td>150.439905</td>\n",
       "      <td>2.462342</td>\n",
       "      <td>150.437320</td>\n",
       "      <td>2.463920</td>\n",
       "    </tr>\n",
       "    <tr>\n",
       "      <th>91</th>\n",
       "      <td>614318</td>\n",
       "      <td>150.439453</td>\n",
       "      <td>2.462803</td>\n",
       "      <td>150.437320</td>\n",
       "      <td>2.463920</td>\n",
       "    </tr>\n",
       "    <tr>\n",
       "      <th>...</th>\n",
       "      <td>...</td>\n",
       "      <td>...</td>\n",
       "      <td>...</td>\n",
       "      <td>...</td>\n",
       "      <td>...</td>\n",
       "    </tr>\n",
       "    <tr>\n",
       "      <th>147</th>\n",
       "      <td>823832</td>\n",
       "      <td>150.112087</td>\n",
       "      <td>2.330083</td>\n",
       "      <td>150.108873</td>\n",
       "      <td>2.330539</td>\n",
       "    </tr>\n",
       "    <tr>\n",
       "      <th>153</th>\n",
       "      <td>824112</td>\n",
       "      <td>150.110146</td>\n",
       "      <td>2.332911</td>\n",
       "      <td>150.108873</td>\n",
       "      <td>2.330539</td>\n",
       "    </tr>\n",
       "    <tr>\n",
       "      <th>154</th>\n",
       "      <td>824190</td>\n",
       "      <td>150.108294</td>\n",
       "      <td>2.334233</td>\n",
       "      <td>150.108873</td>\n",
       "      <td>2.330539</td>\n",
       "    </tr>\n",
       "    <tr>\n",
       "      <th>42</th>\n",
       "      <td>830422</td>\n",
       "      <td>150.116599</td>\n",
       "      <td>2.375749</td>\n",
       "      <td>150.112560</td>\n",
       "      <td>2.376527</td>\n",
       "    </tr>\n",
       "    <tr>\n",
       "      <th>43</th>\n",
       "      <td>830622</td>\n",
       "      <td>150.116527</td>\n",
       "      <td>2.376905</td>\n",
       "      <td>150.112560</td>\n",
       "      <td>2.376527</td>\n",
       "    </tr>\n",
       "  </tbody>\n",
       "</table>\n",
       "<p>111 rows × 5 columns</p>\n",
       "</div>"
      ],
      "text/plain": [
       "         id          ra       dec     host_ra  host_dec\n",
       "89   614117  150.434792  2.462610  150.437320  2.463920\n",
       "97   614192  150.450922  2.457499  150.454590  2.455994\n",
       "94   641810  150.439249  2.462442  150.437320  2.463920\n",
       "90   614284  150.439905  2.462342  150.437320  2.463920\n",
       "91   614318  150.439453  2.462803  150.437320  2.463920\n",
       "..      ...         ...       ...         ...       ...\n",
       "147  823832  150.112087  2.330083  150.108873  2.330539\n",
       "153  824112  150.110146  2.332911  150.108873  2.330539\n",
       "154  824190  150.108294  2.334233  150.108873  2.330539\n",
       "42   830422  150.116599  2.375749  150.112560  2.376527\n",
       "43   830622  150.116527  2.376905  150.112560  2.376527\n",
       "\n",
       "[111 rows x 5 columns]"
      ]
     },
     "execution_count": 24,
     "metadata": {},
     "output_type": "execute_result"
    }
   ],
   "source": [
    "the_rest_lephare"
   ]
  },
  {
   "cell_type": "code",
   "execution_count": 25,
   "id": "64fd0766-1c59-4204-b38d-c1cd8594eeca",
   "metadata": {},
   "outputs": [],
   "source": [
    "# compile a second data frame with the names of the neighbors' host QGs\n",
    "host_info = pd.read_csv('basic_data.txt', delimiter=' ', names=['host_name', 'host_ra', 'host_dec', 'host_zspec'])"
   ]
  },
  {
   "cell_type": "code",
   "execution_count": 26,
   "id": "4ca42ae7-5ece-4220-9f47-c19a88705568",
   "metadata": {},
   "outputs": [],
   "source": [
    "better_df = pd.merge(the_rest_lephare, host_info[['host_ra', 'host_name']], on='host_ra', how='left').sort_values('id')"
   ]
  },
  {
   "cell_type": "code",
   "execution_count": 27,
   "id": "28af5803-6172-4b4c-83bc-284314e0834d",
   "metadata": {},
   "outputs": [],
   "source": [
    "# this creates an extra data frame with the catalog IDs and the corresponding names we ascribe to each neighbor\n",
    "# this creates empty lists to add things into\n",
    "catalog_ids = []\n",
    "our_names = []\n",
    "host_idx = []\n",
    "\n",
    "# this selects the neighbors based on their QG, then adds the suffix 'HX' (hàng xóm) based on the catalog IDs\n",
    "for w in range(np.size(host_info['host_name'].values)):\n",
    "    host_name = host_info['host_name'].values[w]\n",
    "    neighbors = better_df.loc[better_df['host_name'] == host_name]\n",
    "    for idx in range(np.size(neighbors['id'].values)):\n",
    "        host_idx.append(w)\n",
    "        catalog_ids.append(neighbors['id'].values[idx])\n",
    "        our_names.append(host_name + ' HX' + str(idx + 1))"
   ]
  },
  {
   "cell_type": "code",
   "execution_count": 28,
   "id": "a686dff1-f777-47f1-b131-f7e89c2aeb98",
   "metadata": {},
   "outputs": [],
   "source": [
    "exhaustive = pd.merge(better_df, pd.DataFrame({'id': catalog_ids, 'our_id': host_idx, 'nbr_name': our_names}), on='id', how='left')\n",
    "exhaustive.to_csv('robust_set.csv')"
   ]
  },
  {
   "cell_type": "markdown",
   "id": "72a383e5-b0a7-4eb2-a3ce-87d561f6254a",
   "metadata": {},
   "source": [
    "## CHECK 2\n",
    "### Hollis's catalog with mine"
   ]
  },
  {
   "cell_type": "code",
   "execution_count": 30,
   "id": "928397ad-f237-46ed-b1b6-0dbdf1d74b1f",
   "metadata": {},
   "outputs": [],
   "source": [
    "hollis = fits.open('/Users/ngbinh/Downloads/check_data/COSMOS-Web_hot+cold_aperture_catalog_v1.3.fits')\n",
    "hollis_data = Table(hollis[1].data)"
   ]
  },
  {
   "cell_type": "code",
   "execution_count": 31,
   "id": "5d793145-c487-4a34-8bb4-87ff6b009862",
   "metadata": {},
   "outputs": [],
   "source": [
    "### matching coords\n",
    "hollis_objects = SkyCoord(ra=hollis_data['ra'].data*u.degree, dec=hollis_data['dec'].data*u.degree)\n",
    "\n",
    "# use search_around_sky to find matching indices (matching in RA and Dec) in each catalog\n",
    "idx_hollis, idx_mine2, d2d2, d3d2 = my_objects.search_around_sky(hollis_objects, 1*u.arcsec)"
   ]
  },
  {
   "cell_type": "code",
   "execution_count": 32,
   "id": "40cc4d51-dfba-4131-9da3-0d31ead98caa",
   "metadata": {},
   "outputs": [],
   "source": [
    "# there are going to be cases where one set of coords in my catalog is matched to many sets of coords in Hollis's catalog.\n",
    "# in this part, we're going to find those cases and just select the set of coords with the minimum separation.\n",
    "my_unique_ids_2 = np.unique(idx_mine2)\n",
    "hollis_matches = []\n",
    "my_matches_with_hollis = []\n",
    "for match in my_unique_ids_2:\n",
    "    separations = d2d2[np.where(idx_mine2 == match)]\n",
    "    if np.size(separations) > 1:\n",
    "        # this adds the id of the object from Hollis's catalog with the minimum separation from my set of coords\n",
    "        hollis_matches.append(idx_hollis[np.where(d2d2 == np.min(separations))][0])\n",
    "        my_matches_with_hollis.append(idx_mine2[np.where(d2d2 == np.min(separations))][0])\n",
    "    else:\n",
    "        # this just adds the id of the object from Hollis's catalog if there's only one match\n",
    "        hollis_matches.append(idx_hollis[np.where(idx_mine2 == match)][0])\n",
    "        my_matches_with_hollis.append(idx_mine2[np.where(idx_mine2 == match)][0])"
   ]
  },
  {
   "cell_type": "code",
   "execution_count": 33,
   "id": "d4d2adae-f02e-4c22-b9d8-3f304c50a924",
   "metadata": {},
   "outputs": [
    {
     "name": "stdout",
     "output_type": "stream",
     "text": [
      "The number of unique matches with Hollis's catalog is 139 out of 155\n"
     ]
    }
   ],
   "source": [
    "print(\"The number of unique matches with Hollis's catalog is\", np.size(hollis_matches), 'out of', np.size(my_catalog['id'].values))"
   ]
  },
  {
   "cell_type": "code",
   "execution_count": 34,
   "id": "933b1c16-7888-407a-932f-42db09dc76b4",
   "metadata": {},
   "outputs": [
    {
     "data": {
      "text/html": [
       "<div>\n",
       "<style scoped>\n",
       "    .dataframe tbody tr th:only-of-type {\n",
       "        vertical-align: middle;\n",
       "    }\n",
       "\n",
       "    .dataframe tbody tr th {\n",
       "        vertical-align: top;\n",
       "    }\n",
       "\n",
       "    .dataframe thead th {\n",
       "        text-align: right;\n",
       "    }\n",
       "</style>\n",
       "<table border=\"1\" class=\"dataframe\">\n",
       "  <thead>\n",
       "    <tr style=\"text-align: right;\">\n",
       "      <th></th>\n",
       "      <th>id</th>\n",
       "      <th>ra</th>\n",
       "      <th>dec</th>\n",
       "      <th>host_ra</th>\n",
       "      <th>host_dec</th>\n",
       "    </tr>\n",
       "  </thead>\n",
       "  <tbody>\n",
       "    <tr>\n",
       "      <th>14</th>\n",
       "      <td>780511</td>\n",
       "      <td>150.059862</td>\n",
       "      <td>2.377896</td>\n",
       "      <td>150.061490</td>\n",
       "      <td>2.378680</td>\n",
       "    </tr>\n",
       "    <tr>\n",
       "      <th>15</th>\n",
       "      <td>780592</td>\n",
       "      <td>150.060254</td>\n",
       "      <td>2.378310</td>\n",
       "      <td>150.061490</td>\n",
       "      <td>2.378680</td>\n",
       "    </tr>\n",
       "    <tr>\n",
       "      <th>16</th>\n",
       "      <td>780808</td>\n",
       "      <td>150.060603</td>\n",
       "      <td>2.379956</td>\n",
       "      <td>150.061490</td>\n",
       "      <td>2.378680</td>\n",
       "    </tr>\n",
       "    <tr>\n",
       "      <th>20</th>\n",
       "      <td>780995</td>\n",
       "      <td>150.060525</td>\n",
       "      <td>2.381155</td>\n",
       "      <td>150.061490</td>\n",
       "      <td>2.378680</td>\n",
       "    </tr>\n",
       "    <tr>\n",
       "      <th>21</th>\n",
       "      <td>781053</td>\n",
       "      <td>150.061446</td>\n",
       "      <td>2.381259</td>\n",
       "      <td>150.061490</td>\n",
       "      <td>2.378680</td>\n",
       "    </tr>\n",
       "    <tr>\n",
       "      <th>34</th>\n",
       "      <td>782969</td>\n",
       "      <td>150.112951</td>\n",
       "      <td>2.377312</td>\n",
       "      <td>150.112560</td>\n",
       "      <td>2.376527</td>\n",
       "    </tr>\n",
       "    <tr>\n",
       "      <th>37</th>\n",
       "      <td>783202</td>\n",
       "      <td>150.112071</td>\n",
       "      <td>2.379218</td>\n",
       "      <td>150.112560</td>\n",
       "      <td>2.376527</td>\n",
       "    </tr>\n",
       "    <tr>\n",
       "      <th>88</th>\n",
       "      <td>784663</td>\n",
       "      <td>150.087636</td>\n",
       "      <td>2.398937</td>\n",
       "      <td>150.087280</td>\n",
       "      <td>2.396043</td>\n",
       "    </tr>\n",
       "    <tr>\n",
       "      <th>95</th>\n",
       "      <td>642465</td>\n",
       "      <td>150.436790</td>\n",
       "      <td>2.466868</td>\n",
       "      <td>150.437320</td>\n",
       "      <td>2.463920</td>\n",
       "    </tr>\n",
       "    <tr>\n",
       "      <th>96</th>\n",
       "      <td>642503</td>\n",
       "      <td>150.436177</td>\n",
       "      <td>2.467482</td>\n",
       "      <td>150.437320</td>\n",
       "      <td>2.463920</td>\n",
       "    </tr>\n",
       "    <tr>\n",
       "      <th>114</th>\n",
       "      <td>782329</td>\n",
       "      <td>150.103806</td>\n",
       "      <td>2.376071</td>\n",
       "      <td>150.106932</td>\n",
       "      <td>2.377961</td>\n",
       "    </tr>\n",
       "    <tr>\n",
       "      <th>126</th>\n",
       "      <td>799317</td>\n",
       "      <td>150.107224</td>\n",
       "      <td>2.328334</td>\n",
       "      <td>150.108873</td>\n",
       "      <td>2.330539</td>\n",
       "    </tr>\n",
       "    <tr>\n",
       "      <th>141</th>\n",
       "      <td>823454</td>\n",
       "      <td>150.108507</td>\n",
       "      <td>2.328465</td>\n",
       "      <td>150.108873</td>\n",
       "      <td>2.330539</td>\n",
       "    </tr>\n",
       "    <tr>\n",
       "      <th>142</th>\n",
       "      <td>823493</td>\n",
       "      <td>150.109905</td>\n",
       "      <td>2.328249</td>\n",
       "      <td>150.108873</td>\n",
       "      <td>2.330539</td>\n",
       "    </tr>\n",
       "    <tr>\n",
       "      <th>145</th>\n",
       "      <td>823724</td>\n",
       "      <td>150.111572</td>\n",
       "      <td>2.329369</td>\n",
       "      <td>150.108873</td>\n",
       "      <td>2.330539</td>\n",
       "    </tr>\n",
       "    <tr>\n",
       "      <th>152</th>\n",
       "      <td>824065</td>\n",
       "      <td>150.112878</td>\n",
       "      <td>2.331558</td>\n",
       "      <td>150.108873</td>\n",
       "      <td>2.330539</td>\n",
       "    </tr>\n",
       "  </tbody>\n",
       "</table>\n",
       "</div>"
      ],
      "text/plain": [
       "         id          ra       dec     host_ra  host_dec\n",
       "14   780511  150.059862  2.377896  150.061490  2.378680\n",
       "15   780592  150.060254  2.378310  150.061490  2.378680\n",
       "16   780808  150.060603  2.379956  150.061490  2.378680\n",
       "20   780995  150.060525  2.381155  150.061490  2.378680\n",
       "21   781053  150.061446  2.381259  150.061490  2.378680\n",
       "34   782969  150.112951  2.377312  150.112560  2.376527\n",
       "37   783202  150.112071  2.379218  150.112560  2.376527\n",
       "88   784663  150.087636  2.398937  150.087280  2.396043\n",
       "95   642465  150.436790  2.466868  150.437320  2.463920\n",
       "96   642503  150.436177  2.467482  150.437320  2.463920\n",
       "114  782329  150.103806  2.376071  150.106932  2.377961\n",
       "126  799317  150.107224  2.328334  150.108873  2.330539\n",
       "141  823454  150.108507  2.328465  150.108873  2.330539\n",
       "142  823493  150.109905  2.328249  150.108873  2.330539\n",
       "145  823724  150.111572  2.329369  150.108873  2.330539\n",
       "152  824065  150.112878  2.331558  150.108873  2.330539"
      ]
     },
     "execution_count": 34,
     "metadata": {},
     "output_type": "execute_result"
    }
   ],
   "source": [
    "# these are the objects (rows) in my catalog that aren't in Hollis's catalog\n",
    "catalog_not_in_hollis = pd.concat([my_catalog, my_catalog.loc[my_matches_with_hollis]]).drop_duplicates(keep=False)\n",
    "catalog_not_in_hollis"
   ]
  },
  {
   "cell_type": "markdown",
   "id": "12414346-93ce-4f9c-ad29-4adea1d29586",
   "metadata": {},
   "source": [
    "## CONCLUSION\n",
    "There are <b>16</b> objects in my catalog of potential neighbors that are NOT in either Marko's or Hollis's catalog."
   ]
  },
  {
   "cell_type": "code",
   "execution_count": 36,
   "id": "322796a7-d06e-4f28-b592-50accbeaee5b",
   "metadata": {},
   "outputs": [],
   "source": [
    "# Save the basic info of the 16 outliers\n",
    "catalog_not_in_hollis.to_csv('16_outliers.txt', sep='\\t', index=False)"
   ]
  },
  {
   "cell_type": "code",
   "execution_count": 37,
   "id": "4fe7d9b9-e9dd-48b5-a9dc-ffd66f99131f",
   "metadata": {},
   "outputs": [],
   "source": [
    "# Save the basic info of the 25 LePhare objects\n",
    "twenty_five_lephare.to_csv('25_flag1.txt', sep='\\t', index=False)"
   ]
  },
  {
   "cell_type": "markdown",
   "id": "8a035c74-5353-4376-ac6b-01c6b601f9df",
   "metadata": {},
   "source": [
    "## Additional checks\n",
    "\n",
    "Do the LePhare redshifts match with my photometric redshifts from CIGALE?"
   ]
  },
  {
   "cell_type": "code",
   "execution_count": 39,
   "id": "09c01650-b964-4b0e-a65f-f9d9771809cb",
   "metadata": {},
   "outputs": [],
   "source": [
    "# this reads in the results FITS file that CIGALE made\n",
    "cigale_results = fits.open('/Users/ngbinh/quenched/out_all998/results.fits')\n",
    "cigale_data = Table(cigale_results[1].data).to_pandas()\n",
    "\n",
    "reduced_cigale_25 = cigale_data.loc[cigale_data['id'].isin(twenty_five_lephare['id'].values)]\n",
    "reduced_cigale_rest = cigale_data.loc[cigale_data['id'].isin(the_rest_lephare['id'].values)]"
   ]
  },
  {
   "cell_type": "code",
   "execution_count": 40,
   "id": "ae9f10b9-c84c-47ae-b7f4-cb2e01a17980",
   "metadata": {},
   "outputs": [],
   "source": [
    "my_data_25 = pd.merge(twenty_five_lephare, reduced_cigale_25[['id', 'bayes.universe.redshift']], on=\"id\", how=\"left\")\n",
    "my_data_rest = pd.merge(the_rest_lephare, reduced_cigale_rest[['id', 'bayes.universe.redshift']], on=\"id\", how=\"left\")"
   ]
  },
  {
   "cell_type": "code",
   "execution_count": 41,
   "id": "3ca71d5c-e65c-46d8-98d6-6ba067520bf4",
   "metadata": {},
   "outputs": [],
   "source": [
    "# the photo-zs from my CIGALE runs\n",
    "my_photozs_25 = my_data_25['bayes.universe.redshift'].values\n",
    "\n",
    "# the photo-zs from my CIGALE runs\n",
    "my_photozs_rest = my_data_rest['bayes.universe.redshift'].values\n",
    "\n",
    "# the photo-zs from LePhare\n",
    "lephare_stuff_25 = flagged_ones.loc[flagged_ones['cigale_id'].isin(my_data_25['id'].values)]\n",
    "#lephare_photozs_25 = lephare_stuff_25['zPDF'].values\n",
    "lephare_photozs_25 = lephare_stuff_25['zChi2'].values\n",
    "\n",
    "# the photo-zs from LePhare\n",
    "lephare_stuff_rest = flagged_zeros.loc[flagged_zeros['cigale_id'].isin(my_data_rest['id'].values)]\n",
    "#lephare_photozs_rest = lephare_stuff_rest['zPDF'].values\n",
    "lephare_photozs_rest = lephare_stuff_rest['zChi2'].values"
   ]
  },
  {
   "cell_type": "code",
   "execution_count": 42,
   "id": "1754f0b0-a2ba-4fe8-8c5f-bc2c0f3b1f8d",
   "metadata": {},
   "outputs": [
    {
     "data": {
      "text/plain": [
       "Text(0, 0.5, 'LePhare photo-z')"
      ]
     },
     "execution_count": 42,
     "metadata": {},
     "output_type": "execute_result"
    },
    {
     "data": {
      "image/png": "[encoded data removed]",
      "text/plain": [
       "<Figure size 600x600 with 1 Axes>"
      ]
     },
     "metadata": {},
     "output_type": "display_data"
    }
   ],
   "source": [
    "fig, ax = plt.subplots(figsize=(6, 6))\n",
    "\n",
    "plt.plot(my_photozs_25, lephare_photozs_25, 'o', color='red', label='flag=1')\n",
    "plt.plot(my_photozs_rest, lephare_photozs_rest, 'o', color='blue', label='flag=0')\n",
    "plt.plot(np.linspace(0, 10, 1000), np.linspace(0, 10, 1000), color='black')\n",
    "plt.legend()\n",
    "plt.xlabel('CIGALE photo-z')\n",
    "plt.ylabel('LePhare photo-z')"
   ]
  },
  {
   "cell_type": "code",
   "execution_count": 43,
   "id": "da02b3e1-5086-4621-8639-c0c98ee308d3",
   "metadata": {},
   "outputs": [],
   "source": [
    "# this reads in the file and makes sure the names match the columns\n",
    "olivier_mass = pd.read_csv('/Users/ngbinh/Downloads/check_data/mass_BC03_v3.1.0_cosmosweb.out', sep=' ').shift(1, axis=1)\n",
    "olivier_matching_rows2 = olivier_mass[olivier_mass['Id'].isin(olivier_marko_matches)]\n",
    "flagged_ones2 = olivier_matching_rows2[olivier_matching_rows['warn_fl']==1]\n",
    "flagged_ones2 = flagged_ones2.assign(cigale_id=twenty_five_lephare['id'].values.tolist())\n",
    "lephare_stuff2_25 = flagged_ones2.loc[flagged_ones['cigale_id'].isin(my_data_25['id'].values)]\n",
    "\n",
    "flagged_zeros2 = olivier_matching_rows2[olivier_matching_rows['warn_fl']==0]\n",
    "flagged_zeros2 = flagged_zeros2.assign(cigale_id=the_rest_lephare['id'].values.tolist())\n",
    "lephare_stuff2_rest = flagged_zeros2.loc[flagged_zeros['cigale_id'].isin(my_data_rest['id'].values)]"
   ]
  },
  {
   "cell_type": "code",
   "execution_count": 44,
   "id": "35d2b2c0-eadf-44c3-b995-b666df8255ec",
   "metadata": {},
   "outputs": [],
   "source": [
    "df1 = pd.merge(lephare_stuff_25[['cigale_id', 'zPDF']], lephare_stuff2_25[['cigale_id', 'mass_med_PDF']], on=\"cigale_id\", how=\"left\")\n",
    "df2 = pd.merge(lephare_stuff_rest[['cigale_id', 'zPDF']], lephare_stuff2_rest[['cigale_id', 'mass_med_PDF']], on=\"cigale_id\", how=\"left\")"
   ]
  },
  {
   "cell_type": "code",
   "execution_count": 45,
   "id": "0db5a756-8636-4859-9685-00e2562f8204",
   "metadata": {},
   "outputs": [
    {
     "data": {
      "text/plain": [
       "Text(0, 0.5, 'log(LePhare stellar mass)')"
      ]
     },
     "execution_count": 45,
     "metadata": {},
     "output_type": "execute_result"
    },
    {
     "data": {
      "image/png": "[encoded data removed]",
      "text/plain": [
       "<Figure size 600x600 with 1 Axes>"
      ]
     },
     "metadata": {},
     "output_type": "display_data"
    }
   ],
   "source": [
    "fig, ax = plt.subplots(figsize=(6, 6))\n",
    "\n",
    "plt.plot(np.log10(reduced_cigale_25['best.stellar.m_star'].values), df1['mass_med_PDF'].values, 'o', color='red', label='flag=1')\n",
    "plt.plot(np.log10(reduced_cigale_rest['best.stellar.m_star'].values), df2['mass_med_PDF'].values, 'o', color='blue', label='flag=0')\n",
    "plt.plot(np.log10(np.linspace(1, 1e10, 1000)), np.log10(np.linspace(1, 1e10, 1000)), '-', color='black')\n",
    "plt.legend()\n",
    "plt.xlabel('log(CIGALE stellar mass)')\n",
    "plt.ylabel('log(LePhare stellar mass)')"
   ]
  },
  {
   "cell_type": "code",
   "execution_count": 46,
   "id": "99ea1220-f514-4567-8fcf-dc4ff8992d8b",
   "metadata": {},
   "outputs": [],
   "source": [
    "log_mstar = np.log10(cigale_data[cigale_data['id'].isin(better_df['id'].values)]['bayes.stellar.m_star'].values).tolist()\n",
    "log_sfr = np.log10(cigale_data[cigale_data['id'].isin(better_df['id'].values)]['bayes.sfh.sfr'].values).tolist()\n",
    "cigale_mstar_sfr = pd.DataFrame({'log_mstar': log_mstar, 'log_sfr': log_sfr}, columns=['log_mstar', 'log_sfr'])"
   ]
  },
  {
   "cell_type": "code",
   "execution_count": 48,
   "id": "c53afbee-060d-42c1-842e-264659087fa4",
   "metadata": {},
   "outputs": [],
   "source": [
    "def log_sfr_func(log_mstar, alpha, beta):\n",
    "    return alpha*log_mstar + beta"
   ]
  },
  {
   "cell_type": "code",
   "execution_count": 78,
   "id": "c2d3265a-e49d-45cf-a315-f8363055ec13",
   "metadata": {},
   "outputs": [],
   "source": [
    "log_mstar_para = np.arange(3, 13, 0.1)\n",
    "log_sfr_para_MS_lowz = log_sfr_func(log_mstar_para, 0.62, -5.18)\n",
    "log_sfr_para_MS_highz = log_sfr_func(log_mstar_para, 0.6, -4.93)\n",
    "log_sfr_para_SB_lowz = log_sfr_func(log_mstar_para, 1.0, -7.29)\n",
    "log_sfr_para_SB_highz = log_sfr_func(log_mstar_para, 0.99, -7.03)"
   ]
  },
  {
   "cell_type": "code",
   "execution_count": 80,
   "id": "319ae5b8-c8b9-43f0-8cca-e079813e4b70",
   "metadata": {},
   "outputs": [],
   "source": [
    "import seaborn as sns"
   ]
  },
  {
   "cell_type": "code",
   "execution_count": 128,
   "id": "02163214-3047-4b84-869a-b30f8f2b1635",
   "metadata": {},
   "outputs": [
    {
     "name": "stderr",
     "output_type": "stream",
     "text": [
      "<>:2: SyntaxWarning: invalid escape sequence '\\o'\n",
      "<>:3: SyntaxWarning: invalid escape sequence '\\o'\n",
      "<>:2: SyntaxWarning: invalid escape sequence '\\o'\n",
      "<>:3: SyntaxWarning: invalid escape sequence '\\o'\n",
      "/var/folders/td/xh27mb7x6jz3g1splvmtw7z80000gn/T/ipykernel_14854/298075080.py:2: SyntaxWarning: invalid escape sequence '\\o'\n",
      "  plt.xlabel('$log_{10}M_*$ $[M_\\odot]$', fontsize=22)\n",
      "/var/folders/td/xh27mb7x6jz3g1splvmtw7z80000gn/T/ipykernel_14854/298075080.py:3: SyntaxWarning: invalid escape sequence '\\o'\n",
      "  plt.ylabel('$log_{10}SFR [M_\\odot yr^{-1}]$', fontsize=22)\n"
     ]
    },
    {
     "data": {
      "image/png": "[encoded data removed]",
      "text/plain": [
       "<Figure size 1000x1000 with 3 Axes>"
      ]
     },
     "metadata": {},
     "output_type": "display_data"
    }
   ],
   "source": [
    "g = sns.jointplot(data = cigale_mstar_sfr, x = 'log_mstar', y = 'log_sfr', height=10, color='#ee6c4d', s=250, label='this work')\n",
    "plt.xlabel('$log_{10}M_*$ $[M_\\odot]$', fontsize=22)\n",
    "plt.ylabel('$log_{10}SFR [M_\\odot yr^{-1}]$', fontsize=22)\n",
    "\n",
    "plt.plot(log_mstar_para, log_sfr_para_SB_lowz, color='#5da271', linewidth=8, label='Rinaldi+22, SB') # jade\n",
    "plt.plot(log_mstar_para, log_sfr_para_MS_lowz, color='#bdadea', linewidth=8, label='Rinaldi+22, MS') # wisteria\n",
    "\n",
    "plt.legend(fontsize = 17, loc='lower right')\n",
    "plt.tight_layout()\n",
    "plt.tick_params(axis=\"both\", labelsize=18)\n",
    "plt.xlim(6.1, 10.75)\n",
    "plt.ylim(-1.6, 2.4)\n",
    "\n",
    "fig = g.savefig(\"mstar_vs_sfr.png\") "
   ]
  },
  {
   "cell_type": "code",
   "execution_count": null,
   "id": "257ce5de-908b-43e5-a550-437f47940bbe",
   "metadata": {},
   "outputs": [],
   "source": []
  },
  {
   "cell_type": "code",
   "execution_count": null,
   "id": "032dd296-a203-4e70-a939-f08cbabf56a1",
   "metadata": {},
   "outputs": [],
   "source": []
  }
 ],
 "metadata": {
  "kernelspec": {
   "display_name": "Python 3 (ipykernel)",
   "language": "python",
   "name": "python3"
  },
  "language_info": {
   "codemirror_mode": {
    "name": "ipython",
    "version": 3
   },
   "file_extension": ".py",
   "mimetype": "text/x-python",
   "name": "python",
   "nbconvert_exporter": "python",
   "pygments_lexer": "ipython3",
   "version": "3.12.2"
  }
 },
 "nbformat": 4,
 "nbformat_minor": 5
}
