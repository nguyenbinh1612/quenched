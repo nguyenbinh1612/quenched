{
 "cells": [
  {
   "cell_type": "code",
   "execution_count": 1,
   "id": "3b194248-cab5-42cd-a702-881fb3143187",
   "metadata": {},
   "outputs": [],
   "source": [
    "# this sets up basic packages\n",
    "import numpy as np\n",
    "import pandas as pd\n",
    "import astropy.units as u\n",
    "import astropy.cosmology.units as cu\n",
    "\n",
    "# this sets up matplotlib\n",
    "import matplotlib.pyplot as plt\n",
    "import matplotlib.font_manager as fm\n",
    "%matplotlib inline\n",
    "#plt.rcParams['font.family'] = 'serif'\n",
    "from mpl_toolkits.axes_grid1.anchored_artists import AnchoredSizeBar\n",
    "\n",
    "# this sets up astropy\n",
    "from astropy.io import fits\n",
    "from astropy.table import Table\n",
    "from astropy.wcs import WCS\n",
    "from astropy.wcs.utils import pixel_to_skycoord, skycoord_to_pixel, proj_plane_pixel_scales\n",
    "from astropy.utils.data import get_pkg_data_filename\n",
    "from astropy.coordinates import SkyCoord, Angle, match_coordinates_sky, Distance\n",
    "from astropy.cosmology import Planck15 as cosmo\n",
    "\n",
    "from astropy.nddata import Cutout2D\n",
    "from regions import PixCoord, Regions, CircleSkyRegion, CirclePixelRegion, TextSkyRegion, RegionVisual\n",
    "\n",
    "from astropy.visualization import make_lupton_rgb"
   ]
  },
  {
   "cell_type": "code",
   "execution_count": 2,
   "id": "6fdb2d65-c0a4-47cd-bb70-1974f805c8c5",
   "metadata": {},
   "outputs": [],
   "source": [
    "# this is the name of the catalog file compiled by Hollis\n",
    "large_catalog = '/Users/ngbinh/Downloads/COSMOS-Web_supercatalog_v0.7.fits'"
   ]
  },
  {
   "cell_type": "code",
   "execution_count": 3,
   "id": "a2c716b9-c22f-40cb-914d-594b212d895a",
   "metadata": {},
   "outputs": [
    {
     "name": "stdout",
     "output_type": "stream",
     "text": [
      "Filename: /Users/ngbinh/Downloads/COSMOS-Web_supercatalog_v0.7.fits\n",
      "No.    Name      Ver    Type      Cards   Dimensions   Format\n",
      "  0  PRIMARY       1 PrimaryHDU       4   ()      \n",
      "  1                1 BinTableHDU    802   913253R x 155C   [K, D, D, 3A, D, 4A, L, D, D, D, D, D, D, D, D, 5D, 5D, 5D, L, D, D, D, D, D, D, D, D, 5D, 5D, 5D, L, D, D, D, D, D, D, D, D, 5D, 5D, 5D, L, D, D, D, D, D, D, D, D, 5D, 5D, 5D, L, D, D, D, D, D, D, D, D, 5D, 5D, 5D, L, D, D, D, D, D, D, D, D, 5D, 5D, 5D, L, K, E, E, K, L, K, E, E, E, E, E, E, E, E, E, E, E, E, E, E, E, E, E, E, E, E, E, E, E, E, E, E, E, E, E, E, E, L, K, E, E, E, E, E, E, E, E, E, E, E, E, E, E, E, E, E, E, E, E, E, D, D, D, D, D, D, D, D, D, D, D, D, D, D, D, D]   \n"
     ]
    }
   ],
   "source": [
    "# this opens the HDU list of the .fits files and asks for the information within. SCI is what we'll use\n",
    "hdu_list = fits.open(large_catalog)\n",
    "hdu_list.info()\n",
    "\n",
    "# this saves the WCS setting to be used later\n",
    "wcs = WCS(hdu_list[1].header)"
   ]
  },
  {
   "cell_type": "code",
   "execution_count": 4,
   "id": "2d43d04b-0ec3-4073-9759-a90c964d5eb7",
   "metadata": {},
   "outputs": [],
   "source": [
    "# this gets the data of the catalog. \"cat\" stands for catalog!\n",
    "cat_data = hdu_list[1].data"
   ]
  },
  {
   "cell_type": "code",
   "execution_count": 5,
   "id": "49d035da-9811-4509-96a8-df57fbf4d087",
   "metadata": {},
   "outputs": [],
   "source": [
    "# closes the data file\n",
    "hdu_list.close()"
   ]
  },
  {
   "cell_type": "code",
   "execution_count": 6,
   "id": "e61cacdc-ea28-4f5d-acf4-dfa6433b396f",
   "metadata": {},
   "outputs": [],
   "source": [
    "# get all the essential info for comparison from the previously opened catalog\n",
    "ra = cat_data['ra']\n",
    "dec = cat_data['dec']\n",
    "tile = cat_data['tile']\n",
    "z_spec = cat_data['z_spec']"
   ]
  },
  {
   "cell_type": "code",
   "execution_count": 7,
   "id": "884e4ba3-264b-4034-9d4b-5c38098cee24",
   "metadata": {},
   "outputs": [
    {
     "name": "stdout",
     "output_type": "stream",
     "text": [
      "[('Hong', 150.06149 , 2.37868  , 3.715)\n",
      " ('Bach-Dang', 150.11256 , 2.3765266, 2.474)\n",
      " ('Gianh', 150.06671 , 2.3823645, 3.715)\n",
      " ('Ben-Hai', 150.08728 , 2.3960431, 3.782)\n",
      " ('Huong-Giang', 150.43732 , 2.46392  , 3.336)\n",
      " ('Thu-Bon', 150.45459 , 2.455994 , 3.757)\n",
      " ('Dong-Nai', 150.4612  , 2.429547 , 4.673)\n",
      " ('Saigon', 150.106932, 2.377961 , 4.57 )\n",
      " ('Tien', 150.108873, 2.330539 , 3.238)]\n"
     ]
    }
   ],
   "source": [
    "# now read in the RAs and Decs of our 9 galaxies to match them to Hollis's table\n",
    "info = np.genfromtxt('basic_data.txt', delimiter=' ', dtype=['U15', '<f8','<f8', '<f8'])\n",
    "print(info)"
   ]
  },
  {
   "cell_type": "code",
   "execution_count": 11,
   "id": "d0eb6b91-8a65-4a29-97be-960312143191",
   "metadata": {},
   "outputs": [],
   "source": [
    "# now we find the indices of our 9 galaxies in Hollis's table and locate the tiles they're in\n",
    "\n",
    "### create an empty array to fill things in\n",
    "galaxy_idx = np.zeros(np.size(info), dtype=int)\n",
    "galaxy_ra = np.zeros(np.size(info), dtype=float)\n",
    "galaxy_dec = np.zeros(np.size(info), dtype=float)\n",
    "galaxy_redshift = np.zeros(np.size(info), dtype=float)\n",
    "\n",
    "for i in range(np.size(info)):\n",
    "    ### locate the index of the galaxy in question by matching RA and Dec\n",
    "    ### the 1e-4 difference is to account for the fact that the RA and Dec are later rounded (I think?)\n",
    "    ra_idx = np.where(np.abs(ra - info[i][1]) < 1e-4)\n",
    "    dec_idx = np.where(np.abs(dec - info[i][2]) < 1e-4)\n",
    "    galaxy_redshift[i] = info[i][3]\n",
    "    idx = np.intersect1d(ra_idx, dec_idx)\n",
    "\n",
    "    ### save the index into galaxy_idx\n",
    "    galaxy_idx[i] = idx[0]\n",
    "\n",
    "    ### save the more detailed ra and dec into separate arrays\n",
    "    galaxy_ra[i] = ra[idx[0]]\n",
    "    galaxy_dec[i] = dec[idx[0]]"
   ]
  },
  {
   "cell_type": "code",
   "execution_count": 9,
   "id": "03b7350c-dedd-4ec2-821f-ec80b9a25bba",
   "metadata": {},
   "outputs": [],
   "source": [
    "# locate the tiles that our galaxies are in\n",
    "our_tiles = tile[galaxy_idx]\n",
    "our_zs = z_spec[galaxy_idx]"
   ]
  },
  {
   "cell_type": "code",
   "execution_count": 41,
   "id": "d346d766-c78b-4bc7-9721-b97be1d71920",
   "metadata": {},
   "outputs": [
    {
     "data": {
      "text/plain": [
       "array([758078, 799629])"
      ]
     },
     "execution_count": 41,
     "metadata": {},
     "output_type": "execute_result"
    }
   ],
   "source": [
    "# Nov 15: find the info for Saigon and Tien to estimate their stellar masses with CIGALE\n",
    "galaxy_idx[-2:]"
   ]
  },
  {
   "cell_type": "code",
   "execution_count": 51,
   "id": "7d98e112-2a22-42aa-9b11-82db0325bf6d",
   "metadata": {},
   "outputs": [
    {
     "data": {
      "text/plain": [
       "array([758078, 799629], dtype='>i8')"
      ]
     },
     "execution_count": 51,
     "metadata": {},
     "output_type": "execute_result"
    }
   ],
   "source": [
    "cat_data[galaxy_idx[-2:]]['id']"
   ]
  },
  {
   "cell_type": "code",
   "execution_count": 53,
   "id": "f32c30d4-a71a-4adb-9cbc-b82fd6c5a2d4",
   "metadata": {},
   "outputs": [],
   "source": [
    "# continue with the previous code"
   ]
  },
  {
   "cell_type": "code",
   "execution_count": 10,
   "id": "b0c44ae0-4316-4f13-a50f-c7a3c4ebc27f",
   "metadata": {},
   "outputs": [],
   "source": [
    "nircam_bands = np.array(['f115w', 'f150w', 'f277w', 'f444w'])\n",
    "how_many_bands = np.size(nircam_bands)"
   ]
  },
  {
   "cell_type": "code",
   "execution_count": 11,
   "id": "8ae737af-b018-45df-9a96-8aded9b3c62b",
   "metadata": {},
   "outputs": [],
   "source": [
    "# now get the redshifts from the data file\n",
    "redshifts = np.zeros(np.size(info), dtype='float')\n",
    "for i in range(np.size(info)):\n",
    "    redshifts[i] = info[i][3]"
   ]
  },
  {
   "cell_type": "code",
   "execution_count": 12,
   "id": "07108008-916f-4ed8-bf5e-f7486895e6b4",
   "metadata": {},
   "outputs": [],
   "source": [
    "angular_sizes = np.full((1, np.size(info)), 15)[0] * u.arcsec"
   ]
  },
  {
   "cell_type": "code",
   "execution_count": 13,
   "id": "7624d62e-a4cb-4fc7-9a13-432d87777874",
   "metadata": {},
   "outputs": [],
   "source": [
    "# now read in the RAs and Decs of our potential neighbors\n",
    "saved_nbrs = pd.read_csv('potential_neighbors.txt', sep='\\t')"
   ]
  },
  {
   "cell_type": "code",
   "execution_count": 14,
   "id": "df1b229d-23b9-44a6-aa47-6c434c33efc2",
   "metadata": {},
   "outputs": [],
   "source": [
    "our_id_saved = pd.read_csv('neighbor_data.csv')[['id', 'our_id']]\n",
    "full_data = pd.concat([pd.merge(our_id_saved, saved_nbrs, how='right', on='id') \n",
    "                    for dfe in [our_id_saved, saved_nbrs]], ignore_index=True).drop_duplicates()"
   ]
  },
  {
   "cell_type": "markdown",
   "id": "4a4309ce-a49c-42ce-a7ba-6c2b4a2aebd2",
   "metadata": {},
   "source": [
    "### Sep 25, 2024: \n",
    "\n",
    "1. Make postage stamps of the 16 neighbors that didn't appear in either Marko's or Hollis's catalog (see the notebook called \"catalog_checks\" for more info)."
   ]
  },
  {
   "cell_type": "code",
   "execution_count": 16,
   "id": "8d352ea2-20e1-4d03-b2f3-00b005d7487a",
   "metadata": {},
   "outputs": [],
   "source": [
    "# read in the RAs and Decs of the outliers\n",
    "outliers = pd.read_csv('16_outliers.txt', sep='\\t')"
   ]
  },
  {
   "cell_type": "code",
   "execution_count": 17,
   "id": "bc1df95e-66b1-4e89-ba82-3c5d2937711d",
   "metadata": {},
   "outputs": [],
   "source": [
    "### matching coords\n",
    "outliers_obj = SkyCoord(ra=outliers['ra'].values*u.degree, dec=outliers['dec'].values*u.degree)\n",
    "catalog_obj = SkyCoord(ra=cat_data['ra']*u.degree, dec=cat_data['dec']*u.degree)\n",
    "\n",
    "# use search_around_sky to find matching indices (matching in RA and Dec) in each catalog\n",
    "idx_outliers, idx_cat, d2d, d3d = catalog_obj.search_around_sky(outliers_obj, 0.1*u.arcsec)"
   ]
  },
  {
   "cell_type": "code",
   "execution_count": 18,
   "id": "4325a282-9c47-4bd6-a28d-22faa4bd2746",
   "metadata": {},
   "outputs": [],
   "source": [
    "snr_f277w = []\n",
    "snr_f444w = []\n",
    "\n",
    "for cat_id in idx_cat:\n",
    "    snr_f277w.append(cat_data[cat_id]['snr_f277w'])\n",
    "    snr_f444w.append(cat_data[cat_id]['snr_f444w'])"
   ]
  },
  {
   "cell_type": "code",
   "execution_count": 19,
   "id": "a67f3a94-892a-41ef-8e41-67c597d4ab17",
   "metadata": {},
   "outputs": [],
   "source": [
    "outliers['snr_f227w'] = snr_f277w\n",
    "outliers['snr_f444w'] = snr_f444w"
   ]
  },
  {
   "cell_type": "code",
   "execution_count": 20,
   "id": "78cc912c-809c-4018-8e7b-a234b25834c7",
   "metadata": {},
   "outputs": [],
   "source": [
    "cigale_results = fits.open('out_all998/results.fits')\n",
    "# this gets the data from the results FITS file\n",
    "cigale_data = Table(cigale_results[1].data).to_pandas()"
   ]
  },
  {
   "cell_type": "code",
   "execution_count": 21,
   "id": "681c58c8-52d2-43aa-9b90-cff25a6c6d68",
   "metadata": {},
   "outputs": [],
   "source": [
    "# this creates a DataFrame with the RA and Dec of our good-fits neighbors\n",
    "outliers_16_info = pd.merge(outliers, cigale_data.loc[cigale_data['id'].isin(idx_cat)], on=\"id\", how=\"left\")"
   ]
  },
  {
   "cell_type": "code",
   "execution_count": 22,
   "id": "a9fab935-7256-4856-bf85-639c9260d61b",
   "metadata": {},
   "outputs": [],
   "source": [
    "outliers_16_info.to_csv('16_outliers.csv', index=False)"
   ]
  },
  {
   "cell_type": "code",
   "execution_count": 23,
   "id": "f78a9400-2733-4514-9166-9224518cf35d",
   "metadata": {},
   "outputs": [],
   "source": [
    "# create empty lists to save the tiles that contain the outliers\n",
    "outlier_list = []\n",
    "outlier_tile = []"
   ]
  },
  {
   "cell_type": "markdown",
   "id": "6ea68293-7697-44ad-adb5-a9f5cb89932c",
   "metadata": {},
   "source": [
    "2. Make postage stamps of the 25 neighbors that were flagged 1 in Olivier's LePhare catalog (see the notebook called \"catalog_checks\" for more info)."
   ]
  },
  {
   "cell_type": "code",
   "execution_count": 25,
   "id": "006aa397-c4dd-440b-a77a-30782b49eced",
   "metadata": {},
   "outputs": [],
   "source": [
    "# read in the RAs and Decs of the outliers\n",
    "lephare = pd.read_csv('25_flag1.txt', sep='\\t')"
   ]
  },
  {
   "cell_type": "code",
   "execution_count": 26,
   "id": "b68841e5-5d26-4e2d-948f-ba78083da887",
   "metadata": {},
   "outputs": [],
   "source": [
    "### matching coords\n",
    "lephare_obj = SkyCoord(ra=lephare['ra'].values*u.degree, dec=lephare['dec'].values*u.degree)\n",
    "\n",
    "# use search_around_sky to find matching indices (matching in RA and Dec) in each catalog\n",
    "idx_lephare, idx_cat2, d2d, d3d = catalog_obj.search_around_sky(lephare_obj, 0.05*u.arcsec)"
   ]
  },
  {
   "cell_type": "code",
   "execution_count": 27,
   "id": "8f6aed09-ff3a-4915-8204-5e34a666aefd",
   "metadata": {},
   "outputs": [
    {
     "data": {
      "text/plain": [
       "(array([ 0,  1,  2,  3,  4,  5,  6,  7,  8,  9, 10, 11, 12, 13, 14, 15, 16,\n",
       "        17, 18, 19, 20, 21, 22, 23, 24]),\n",
       " array([756650, 780830, 780870, 756895, 783764, 758845, 783964, 759022,\n",
       "        759045, 784079, 759140, 784159, 759202, 759207, 784266, 759334,\n",
       "        784406, 759455, 759460, 784557, 784569, 784580, 784614, 784646,\n",
       "        783888]))"
      ]
     },
     "execution_count": 27,
     "metadata": {},
     "output_type": "execute_result"
    }
   ],
   "source": [
    "idx_lephare, idx_cat2"
   ]
  },
  {
   "cell_type": "code",
   "execution_count": 28,
   "id": "7d48c007-3f2c-4877-a1e9-97eee0202f4d",
   "metadata": {},
   "outputs": [],
   "source": [
    "snr_f277w_lephare = []\n",
    "snr_f444w_lephare = []\n",
    "\n",
    "for cat_id in idx_cat2:\n",
    "    snr_f277w_lephare.append(cat_data[cat_id]['snr_f277w'])\n",
    "    snr_f444w_lephare.append(cat_data[cat_id]['snr_f444w'])"
   ]
  },
  {
   "cell_type": "code",
   "execution_count": 29,
   "id": "fafde2a3-bc37-448f-8886-83ef3a664945",
   "metadata": {},
   "outputs": [],
   "source": [
    "lephare['snr_f277w'] = snr_f277w_lephare\n",
    "lephare['snr_f444w'] = snr_f444w_lephare"
   ]
  },
  {
   "cell_type": "code",
   "execution_count": 30,
   "id": "472781a1-eeca-48dd-a8d9-65c275c2fbdc",
   "metadata": {},
   "outputs": [],
   "source": [
    "# this creates a DataFrame with the RA and Dec of our good-fits neighbors\n",
    "flag1_info = pd.merge(lephare, cigale_data.loc[cigale_data['id'].isin(idx_cat2)], on=\"id\", how=\"left\")"
   ]
  },
  {
   "cell_type": "code",
   "execution_count": 31,
   "id": "3faab96c-3a70-4b3b-9ad7-be989de89be3",
   "metadata": {},
   "outputs": [],
   "source": [
    "flag1_info.to_csv('25_flag1.csv', index=False)"
   ]
  },
  {
   "cell_type": "code",
   "execution_count": 32,
   "id": "dbc87667-a229-426a-b74c-c708d2549cf4",
   "metadata": {},
   "outputs": [],
   "source": [
    "# create empty lists to save the tiles that contain the LePhare objects flagged 1\n",
    "lephare_list = []\n",
    "lephare_tile = []"
   ]
  },
  {
   "cell_type": "markdown",
   "id": "5c2384bc-b325-479e-8965-266d25f14bc8",
   "metadata": {},
   "source": [
    "# Final Plots\n",
    "\n",
    "Now, let's create the postage stamps. There are two types of postage stamps we're going to make. The first one is of the central galaxy and covers such a big radius that it encompasses all the neighbors of the central galaxy. The second one is a whole tableau of subplots, not just for the zoomed-in central galaxy but also for their neighbors. We're going to create both types of postage stamps as we loop over each of the 9 QGs."
   ]
  },
  {
   "cell_type": "code",
   "execution_count": 34,
   "id": "a97cf4d0-a074-4df7-8dae-a6861d1d2696",
   "metadata": {},
   "outputs": [],
   "source": [
    "# first, we read in the file that has all the robustly-checked galaxies\n",
    "robust_df = pd.read_csv('robust_set.csv', index_col=None, usecols=[1, 2, 3, 4, 5, 6, 7, 8])"
   ]
  },
  {
   "cell_type": "code",
   "execution_count": 68,
   "id": "dc2660db-4d10-4ace-b672-44c355d34131",
   "metadata": {},
   "outputs": [
    {
     "ename": "NameError",
     "evalue": "name 'fillna' is not defined",
     "output_type": "error",
     "traceback": [
      "\u001b[0;31m---------------------------------------------------------------------------\u001b[0m",
      "\u001b[0;31mNameError\u001b[0m                                 Traceback (most recent call last)",
      "Cell \u001b[0;32mIn[68], line 1\u001b[0m\n\u001b[0;32m----> 1\u001b[0m \u001b[38;5;28msorted\u001b[39m \u001b[38;5;241m=\u001b[39m fillna(\u001b[38;5;124m'\u001b[39m\u001b[38;5;124mNA\u001b[39m\u001b[38;5;124m'\u001b[39m)\n\u001b[1;32m      2\u001b[0m \u001b[38;5;28msorted\u001b[39m\u001b[38;5;241m.\u001b[39mto_csv(\u001b[38;5;124m'\u001b[39m\u001b[38;5;124mall_neighbors.csv\u001b[39m\u001b[38;5;124m'\u001b[39m, index\u001b[38;5;241m=\u001b[39m\u001b[38;5;28;01mNone\u001b[39;00m)\n",
      "\u001b[0;31mNameError\u001b[0m: name 'fillna' is not defined"
     ]
    }
   ],
   "source": [
    "sorted = fillna('NA')\n",
    "sorted.to_csv('all_neighbors.csv', index=None)"
   ]
  },
  {
   "cell_type": "code",
   "execution_count": null,
   "id": "dc342f8e-6a7f-4251-8cd1-2d0a954c8dde",
   "metadata": {},
   "outputs": [],
   "source": [
    "### This gigantic for-loop will loop over each of the 9 QGs in our sample. Their info is taken\n",
    "### from the \"info\" array, which we have imported from the file basic_data.text above.\n",
    "for our_galaxy in range(np.size(info)):\n",
    "#for our_galaxy in range(1):\n",
    "\n",
    "    ### This saves the name of the galaxy currently being looped through (henceforth called \"our galaxy\").\n",
    "    ### NOTE: this name is the name assigned by us, based on the rivers of Vietnam.\n",
    "    galaxy_name = info[our_galaxy][0]\n",
    "    \n",
    "    ### This selects a search radius for our galaxy based on the angular size.\n",
    "    search_radius = angular_sizes[our_galaxy]\n",
    "    \n",
    "    ### This picks out the tile where our galaxy can be found.\n",
    "    tile_search = our_tiles[our_galaxy]\n",
    "    \n",
    "    ### This creates an empty list to append RGB band datas into.\n",
    "    ### The RGB bands are: F444W (red), F277W (green) and F150W (blue).\n",
    "    ### NOTE: due to the order in nircam_bands, the order in this list will be flipped as BGR.\n",
    "    ### This will serve the first type of postage stamps (the zoomed-out look).\n",
    "    BGR_bands = []\n",
    "\n",
    "    ### This creates an empty list for the same purpose and functions, but the images saved here \n",
    "    ### are more zoomed in. This will serve the second type of postage stamps.\n",
    "    BGR_bands_subplot = []\n",
    "    \n",
    "    ### This creates empty lists to save the data of all the neighbors in each band.\n",
    "    neighbor_f150w_bands = []\n",
    "    neighbor_f277w_bands = []\n",
    "    neighbor_f444w_bands = []\n",
    "    \n",
    "    ### Now, we make the aperture for each of the neighbors!\n",
    "    # This reads in the RAs and Decs of all the neighbors around each galaxy.\n",
    "    neigh_ra = np.array(sorted[sorted['our_id']==our_galaxy]['ra'])\n",
    "    neigh_dec = np.array(sorted[sorted['our_id']==our_galaxy]['dec'])\n",
    "    neigh_id = sorted[sorted['our_id']==our_galaxy]['id'].values\n",
    "\n",
    "    # Sep 25, 2024: look for the specific tiles that have the outlier neighbors\n",
    "    for id_name in neigh_id:\n",
    "        if id_name in idx_cat:\n",
    "            outlier_list.append(id_name)\n",
    "            outlier_tile.append(tile_search)\n",
    "        if id_name in idx_cat2:\n",
    "            lephare_list.append(id_name)\n",
    "            lephare_tile.append(tile_search)\n",
    "\n",
    "    # This keeps track of the number of neighbors for each galaxy.\n",
    "    number_of_nbrs = np.size(neigh_ra)\n",
    "    \n",
    "    ### NOW, let's loop over all the available bands for NIRCam!!!\n",
    "    for i in range(1, how_many_bands):\n",
    "        # This selects one of the bands to work with.\n",
    "        band = nircam_bands[i]\n",
    "        \n",
    "        # This creates a path to lead the code to our fits file.\n",
    "        our_file = '/Volumes/LaCie/COSMOS_DATA/cweb_tiles/mosaic_nircam_' + band + '_COSMOS-Web_60mas_' + tile_search + '_sci.fits'\n",
    "        \n",
    "        # This opens the fits file that matches the path above.\n",
    "        file = fits.open(our_file)\n",
    "        file.info()\n",
    "            \n",
    "        # This saves the WCS setting from the fits file to be used later.\n",
    "        our_wcs = WCS(file[0].header)\n",
    "        \n",
    "        # This gets the data of the catalog.\n",
    "        our_data = file[0].data\n",
    "        \n",
    "        # This closes the file to save up memory.\n",
    "        file.close()\n",
    "            \n",
    "        # This sets a centering position based on the RA and Dec of our galaxy.\n",
    "        position = SkyCoord(ra=galaxy_ra[our_galaxy]*u.degree, dec=galaxy_dec[our_galaxy]*u.degree)\n",
    "            \n",
    "        # This creates a cutout image. The additional factor of 2.04 is to make sure that the region is shown.\n",
    "        cutout = Cutout2D(our_data, position, size=search_radius*2.04, wcs=our_wcs)\n",
    "\n",
    "        # This creates a second cutout image that's more zoomed-in for the second type of postage stamps.\n",
    "        cutout_subplot = Cutout2D(our_data, position, size=search_radius*0.1, wcs=our_wcs)\n",
    "    \n",
    "        # This saves the arrays if they're RGB bands (the latter three bands in our array)\n",
    "        BGR_bands.append(cutout.data)\n",
    "        BGR_bands_subplot.append(cutout_subplot.data)\n",
    "    \n",
    "        # This centers the galaxy, gets a cutout and saves the data of each neighbor in a specific band.\n",
    "        for nbr in range(number_of_nbrs):\n",
    "            neighbor_pos = SkyCoord(ra=neigh_ra[nbr]*u.degree, dec=neigh_dec[nbr]*u.degree)\n",
    "            neighbor_cutout = Cutout2D(our_data, neighbor_pos, size=2.5*u.arcsec, wcs=our_wcs)\n",
    "            if i == 1:\n",
    "                neighbor_f150w_bands.append(neighbor_cutout.data)\n",
    "            elif i == 2:\n",
    "                neighbor_f277w_bands.append(neighbor_cutout.data)\n",
    "            else:\n",
    "                neighbor_f444w_bands.append(neighbor_cutout.data)\n",
    "    \n",
    "    ### This creates an RGB image.\n",
    "    fig2, ax2 = plt.subplots(figsize=(8,8))\n",
    "    RGB_image = make_lupton_rgb(BGR_bands[2], BGR_bands[1], BGR_bands[0], stretch=0.3)\n",
    "    ax2.imshow(RGB_image)\n",
    "    \n",
    "    ### This creates the region that encompasses everything, including our galaxy and its neighbors.\n",
    "    sky_region = CircleSkyRegion(position, search_radius)\n",
    "    pixel_region = sky_region.to_pixel(wcs=cutout.wcs)\n",
    "    pixel_region.plot(ax=ax2, color='white', lw=1.0)\n",
    "\n",
    "    ### This further zones in on our central galaxy and creates a circle around it\n",
    "    central_zoom = CircleSkyRegion(position, 0.9*u.arcsec)\n",
    "    central_zoom_pixel = central_zoom.to_pixel(wcs=cutout.wcs)\n",
    "    central_zoom_pixel.plot(ax=ax2, color='#8ACE00', lw=2.0)\n",
    "\n",
    "    ### This gets the pixel scale of the postage stamp in arcsec\n",
    "    pix_scale = (proj_plane_pixel_scales(cutout.wcs)[0]*u.deg).to(u.arcsec).value\n",
    "\n",
    "    ### This adds a label next to the circle of the central galaxy\n",
    "    ax2.text(275, 248, galaxy_name, horizontalalignment='left', verticalalignment='top', \n",
    "                    color='#8ACE00', fontsize=13, weight='bold')\n",
    "    \n",
    "    ### This plots a circle indicating the regions of all the neighbors.\n",
    "    for idx in range(number_of_nbrs):\n",
    "        nbr_pos = SkyCoord(ra=neigh_ra[idx]*u.degree, dec=neigh_dec[idx]*u.degree)\n",
    "        aperture_size = Angle(0.3, 'arcsec')\n",
    "        nbr_sky_region = CircleSkyRegion(nbr_pos, aperture_size)\n",
    "        nbr_pixel_region = nbr_sky_region.to_pixel(wcs=cutout.wcs)\n",
    "        nbr_pixel_region.plot(ax=ax2, color='white', lw=1.0)\n",
    "\n",
    "        # NOTE: Undo this to get the IDs of all the neighbors (from Hollis' catalog) in the central galaxy's image.\n",
    "        # Warning: they will look really ugly in the image.\n",
    "        # text_pos = SkyCoord(ra=neigh_ra[idx]*u.degree, dec=(neigh_dec[idx]-1)*u.degree)\n",
    "        # texts = TextSkyRegion(center=nbr_pos, text='  ' + str(neigh_id[idx]), visual=RegionVisual({'textangle': 30}))\n",
    "        # texts_pixel = texts.to_pixel(wcs=cutout.wcs)\n",
    "        # texts_pixel.plot(ax=ax2, color='white')\n",
    "\n",
    "    ### This adds a scale bar\n",
    "    fontprops = fm.FontProperties(size=15) # setting properties for the text under the scale bar\n",
    "    scalebar = AnchoredSizeBar(ax2.transData, (5 / pix_scale), '5\"', 'lower right', pad=0.5, color='white', sep=4,\n",
    "                               frameon=False, size_vertical=2, fontproperties=fontprops)\n",
    "    ax2.add_artist(scalebar)\n",
    "    \n",
    "    ### This removes the x and y tick labels\n",
    "    ax2.set_xticks([])\n",
    "    ax2.set_yticks([])\n",
    "    \n",
    "    ### This saves the central galaxy's image\n",
    "    fig2.savefig('visualizations/' + galaxy_name + '.png', bbox_inches='tight', dpi=1000)\n",
    "    \n",
    "    ### NOW, let's move on to the second type of postage stamps, which deals with \n",
    "    ### the subplots of the central galaxy and all its neighbors.\n",
    "    # Set number of columns\n",
    "    ncols = 6\n",
    "    # Calculate number of rows\n",
    "    nrows = (number_of_nbrs+1) // ncols + ((number_of_nbrs+1) % ncols > 0)\n",
    "    \n",
    "    ### This sets the plotting space, along with their width and height \n",
    "    ### based on the number of rows and columns picked.\n",
    "    fig = plt.figure()\n",
    "    fig.set_figwidth(ncols*3)\n",
    "    fig.set_figheight(nrows*3)\n",
    "    \n",
    "    ### This makes sure the subplots are close together.\n",
    "    fig.subplots_adjust(wspace=0.05, hspace=0.05)\n",
    "    \n",
    "    ### This gives the overall name for the figure of the subplots.\n",
    "    fig.tight_layout()\n",
    "    \n",
    "    ### This loops over all the neighbors. \"Number_of_nbrs + 1\" to include \n",
    "    ### the central galaxy, which will be plotted as the first subplot as well.\n",
    "    for index in range(number_of_nbrs+1):\n",
    "        \n",
    "        # Add a new subplot iteratively using nrows and cols.\n",
    "        ax = plt.subplot(nrows, ncols, index+1)\n",
    "\n",
    "        # Index 0 corresponds to the subplot of the central galaxy,\n",
    "        # so this if-statement plots the zoomed-in central galaxy.\n",
    "        if index == 0:\n",
    "            central_RGB_image = make_lupton_rgb(BGR_bands_subplot[2], BGR_bands_subplot[1], BGR_bands_subplot[0], stretch=0.3)\n",
    "            ax.imshow(central_RGB_image)\n",
    "\n",
    "            # This adds a scale bar\n",
    "            fontprops2 = fm.FontProperties(size=12) # setting properties for the text under the scale bar\n",
    "            scalebar2 = AnchoredSizeBar(ax.transData, (0.5 / pix_scale), '0.5\"', 'lower right', pad=0.2, color='white', sep=4,\n",
    "                               frameon=False, size_vertical=0.1, fontproperties=fontprops2)\n",
    "            ax.add_artist(scalebar2)\n",
    "\n",
    "            # This removes the x and y tick labels.\n",
    "            ax.set_xticks([])\n",
    "            ax.set_yticks([])\n",
    "        \n",
    "            # This adds the name of the central galaxy to our image. The name will be brat-green\n",
    "            # to be visibly distinguishable from the images of all the neighbors.\n",
    "            ax.text(0.1, 0.1, str(galaxy_name), horizontalalignment='left', verticalalignment='top', \n",
    "                    color='#8ACE00', fontsize=15, weight='bold')\n",
    "\n",
    "        # This plots all the zoomed-in neighbors.\n",
    "        else:        \n",
    "            # This creates an RGB image of each of the neighbors.\n",
    "            nbr_RGB_image = make_lupton_rgb(neighbor_f444w_bands[index-1], neighbor_f277w_bands[index-1], \n",
    "                                            neighbor_f150w_bands[index-1], Q=5, stretch=0.1)\n",
    "            \n",
    "            ax.imshow(nbr_RGB_image)\n",
    "\n",
    "            # This adds pointers as visual aids for the neighbors. The color is brat.\n",
    "            ax.vlines(x=20.5, ymin=24.5, ymax=28, colors=\"#8ACE00\", lw=3)\n",
    "            ax.hlines(y=20.5, xmin=24.5, xmax=28, colors=\"#8ACE00\", lw=3)\n",
    "\n",
    "            # This adds a scale bar\n",
    "            fontprops2 = fm.FontProperties(size=12) # setting properties for the text under the scale bar\n",
    "            scalebar2 = AnchoredSizeBar(ax.transData, (0.5 / pix_scale), '0.5\"', 'lower right', pad=0.2, color='white', sep=4,\n",
    "                               frameon=False, size_vertical=0.3, fontproperties=fontprops2)\n",
    "            ax.add_artist(scalebar2)\n",
    "            \n",
    "            # This removes the x and y tick labels.\n",
    "            ax.set_xticks([])\n",
    "            ax.set_yticks([])\n",
    "\n",
    "            if sorted[sorted['id'] == neigh_id[index-1]]['nbr_name'].values != 'NA':\n",
    "                nbr_name = sorted[sorted['id'] == neigh_id[index-1]]['nbr_name'].values[0]\n",
    "                ax.text(0.1, 0.1, nbr_name, horizontalalignment='left', verticalalignment='top', \n",
    "                    color='white', fontsize=13, weight='bold')\n",
    "            else:\n",
    "                # This adds the ID of each neighbor (from Hollis' catalog) into the image.\n",
    "                ax.text(0.1, 0.1, str(neigh_id[index-1]), horizontalalignment='left', verticalalignment='top', \n",
    "                    color='white', fontsize=13)\n",
    "    \n",
    "    ### This saves the figure with all the subplots of the neighbors.\n",
    "    fig.savefig('visualizations/' + galaxy_name + '-and-nbrs.png', bbox_inches='tight', dpi=1000)"
   ]
  },
  {
   "cell_type": "code",
   "execution_count": null,
   "id": "33552395-f108-4498-852c-8f14e7a6c416",
   "metadata": {},
   "outputs": [],
   "source": [
    "np.unique(idx_cat2)"
   ]
  },
  {
   "cell_type": "code",
   "execution_count": null,
   "id": "68442456-e21c-45aa-8178-a3d191808e98",
   "metadata": {},
   "outputs": [],
   "source": [
    "np.unique(np.array(lephare_list, dtype='object'))"
   ]
  },
  {
   "cell_type": "markdown",
   "id": "72ed5b79-60ca-4236-a540-896fc2d01e5c",
   "metadata": {},
   "source": [
    "Sep 25, 2024: make postage stamps of the outliers."
   ]
  },
  {
   "cell_type": "code",
   "execution_count": null,
   "id": "d09d42ee-8e1a-45c5-b85b-67bab29366ce",
   "metadata": {},
   "outputs": [],
   "source": [
    "### This gigantic for-loop will loop over each of the 9 QGs in our sample. Their info is taken\n",
    "### from the \"info\" array, which we have imported from the file basic_data.text above.\n",
    "\n",
    "### This creates empty lists to save the data of all the neighbors in each band.\n",
    "outlier_f150w_bands = []\n",
    "outlier_f277w_bands = []\n",
    "outlier_f444w_bands = []\n",
    "\n",
    "for q in range(len(outlier_list)):\n",
    "    outlier_id = outlier_list[q]\n",
    "    tile = outlier_tile[q]\n",
    "\n",
    "    outlier_ra = full_data[full_data['id']==outlier_id]['ra'].values\n",
    "    outlier_dec = full_data[full_data['id']==outlier_id]['dec'].values\n",
    "    \n",
    "    ### NOW, let's loop over all the available bands for NIRCam!!!\n",
    "    for i in range(1, how_many_bands):\n",
    "        # This selects one of the bands to work with.\n",
    "        band = nircam_bands[i]\n",
    "        \n",
    "        # This creates a path to lead the code to our fits file.\n",
    "        our_file = '/Volumes/LaCie/COSMOS_DATA/cweb_tiles/mosaic_nircam_' + band + '_COSMOS-Web_60mas_' + tile + '_sci.fits'\n",
    "        \n",
    "        # This opens the fits file that matches the path above.\n",
    "        file = fits.open(our_file)\n",
    "        file.info()\n",
    "            \n",
    "        # This saves the WCS setting from the fits file to be used later.\n",
    "        our_wcs = WCS(file[0].header)\n",
    "        \n",
    "        # This gets the data of the catalog.\n",
    "        our_data = file[0].data\n",
    "        \n",
    "        # This closes the file to save up memory.\n",
    "        file.close()\n",
    "            \n",
    "        # This sets a centering position based on the RA and Dec of our galaxy.\n",
    "        position = SkyCoord(ra=outlier_ra*u.degree, dec=outlier_dec*u.degree)\n",
    "            \n",
    "        # This creates a cutout image. The additional factor of 2.04 is to make sure that the region is shown.\n",
    "        cutout = Cutout2D(our_data, position, size=2.5*u.arcsec, wcs=our_wcs)\n",
    "        \n",
    "        if i == 1:\n",
    "            outlier_f150w_bands.append(cutout.data)\n",
    "        elif i == 2:\n",
    "            outlier_f277w_bands.append(cutout.data)\n",
    "        else:\n",
    "            outlier_f444w_bands.append(cutout.data)\n",
    "\n",
    "### NOW, let's plot\n",
    "# Set number of columns\n",
    "ncols = 4\n",
    "# Calculate number of rows\n",
    "nrows = 4\n",
    "    \n",
    "### This sets the plotting space, along with their width and height \n",
    "### based on the number of rows and columns picked.\n",
    "fig = plt.figure()\n",
    "fig.set_figwidth(ncols*3)\n",
    "fig.set_figheight(nrows*3)\n",
    "\n",
    "### This makes sure the subplots are close together.\n",
    "fig.subplots_adjust(wspace=0.05, hspace=0.05)\n",
    "    \n",
    "### This gives the overall name for the figure of the subplots.\n",
    "fig.tight_layout()\n",
    "    \n",
    "### This loops over all the outliers\n",
    "for digit in range(len(outlier_list)):\n",
    "    \n",
    "    # Add a new subplot iteratively using nrows and cols.\n",
    "    ax = plt.subplot(nrows, ncols, digit+1)\n",
    "\n",
    "    # This creates an RGB image of each of the outliers.\n",
    "    nbr_RGB_image = make_lupton_rgb(outlier_f444w_bands[digit], outlier_f277w_bands[digit], \n",
    "                                            outlier_f150w_bands[digit], Q=5, stretch=0.1)\n",
    "            \n",
    "    ax.imshow(nbr_RGB_image)\n",
    "\n",
    "    # This adds pointers as visual aids for the neighbors. The color is brat.\n",
    "    ax.vlines(x=20.5, ymin=24.5, ymax=28, colors=\"#8ACE00\", lw=3)\n",
    "    ax.hlines(y=20.5, xmin=24.5, xmax=28, colors=\"#8ACE00\", lw=3)\n",
    "\n",
    "    # This adds a scale bar\n",
    "    fontprops2 = fm.FontProperties(size=12) # setting properties for the text under the scale bar\n",
    "    scalebar2 = AnchoredSizeBar(ax.transData, (0.5 / pix_scale), '0.5\"', 'lower right', pad=0.2, color='white', sep=4,\n",
    "                               frameon=False, size_vertical=0.3, fontproperties=fontprops2)\n",
    "    ax.add_artist(scalebar2)\n",
    "            \n",
    "    # This removes the x and y tick labels.\n",
    "    ax.set_xticks([])\n",
    "    ax.set_yticks([])\n",
    "        \n",
    "    # This adds the ID of each neighbor (from Hollis' catalog) into the image.\n",
    "    ax.text(0.1, 0.1, str(outlier_list[digit]), horizontalalignment='left', verticalalignment='top', \n",
    "                    color='white', fontsize=13)\n",
    "\n",
    "fig.savefig('visualizations/16_outliers.png', bbox_inches='tight', dpi=1000)"
   ]
  },
  {
   "cell_type": "code",
   "execution_count": null,
   "id": "52a0e572-d149-4d23-abd3-a494f8ea2ba6",
   "metadata": {},
   "outputs": [],
   "source": [
    "### This gigantic for-loop will loop over each of the 9 QGs in our sample. Their info is taken\n",
    "### from the \"info\" array, which we have imported from the file basic_data.text above.\n",
    "\n",
    "### This creates empty lists to save the data of all the neighbors in each band.\n",
    "lephare_f150w_bands = []\n",
    "lephare_f277w_bands = []\n",
    "lephare_f444w_bands = []\n",
    "\n",
    "for q in range(len(lephare_list)):\n",
    "    lephare_id = lephare_list[q]\n",
    "    tile = lephare_tile[q]\n",
    "\n",
    "    lephare_ra = full_data[full_data['id']==lephare_id]['ra'].values\n",
    "    lephare_dec = full_data[full_data['id']==lephare_id]['dec'].values\n",
    "    \n",
    "    ### NOW, let's loop over all the available bands for NIRCam!!!\n",
    "    for i in range(1, how_many_bands):\n",
    "        # This selects one of the bands to work with.\n",
    "        band = nircam_bands[i]\n",
    "        \n",
    "        # This creates a path to lead the code to our fits file.\n",
    "        our_file = '/Volumes/LaCie/COSMOS_DATA/cweb_tiles/mosaic_nircam_' + band + '_COSMOS-Web_60mas_' + tile + '_sci.fits'\n",
    "        \n",
    "        # This opens the fits file that matches the path above.\n",
    "        file = fits.open(our_file)\n",
    "        file.info()\n",
    "            \n",
    "        # This saves the WCS setting from the fits file to be used later.\n",
    "        our_wcs = WCS(file[0].header)\n",
    "        \n",
    "        # This gets the data of the catalog.\n",
    "        our_data = file[0].data\n",
    "        \n",
    "        # This closes the file to save up memory.\n",
    "        file.close()\n",
    "            \n",
    "        # This sets a centering position based on the RA and Dec of our galaxy.\n",
    "        position = SkyCoord(ra=lephare_ra*u.degree, dec=lephare_dec*u.degree)\n",
    "            \n",
    "        # This creates a cutout image. The additional factor of 2.04 is to make sure that the region is shown.\n",
    "        cutout = Cutout2D(our_data, position, size=2.5*u.arcsec, wcs=our_wcs)\n",
    "        \n",
    "        if i == 1:\n",
    "            lephare_f150w_bands.append(cutout.data)\n",
    "        elif i == 2:\n",
    "            lephare_f277w_bands.append(cutout.data)\n",
    "        else:\n",
    "            lephare_f444w_bands.append(cutout.data)\n",
    "\n",
    "### NOW, let's plot\n",
    "# Set number of columns\n",
    "ncols = 5\n",
    "# Calculate number of rows\n",
    "nrows = 5\n",
    "    \n",
    "### This sets the plotting space, along with their width and height \n",
    "### based on the number of rows and columns picked.\n",
    "fig = plt.figure()\n",
    "fig.set_figwidth(ncols*3)\n",
    "fig.set_figheight(nrows*3)\n",
    "\n",
    "### This makes sure the subplots are close together.\n",
    "fig.subplots_adjust(wspace=0.05, hspace=0.05)\n",
    "    \n",
    "### This gives the overall name for the figure of the subplots.\n",
    "fig.tight_layout()\n",
    "    \n",
    "### This loops over all the LePhare objects\n",
    "for digit in range(len(lephare_list)):\n",
    "    \n",
    "    # Add a new subplot iteratively using nrows and cols.\n",
    "    ax = plt.subplot(nrows, ncols, digit+1)\n",
    "\n",
    "    # This creates an RGB image of each of the LePhare objects.\n",
    "    nbr_RGB_image = make_lupton_rgb(lephare_f444w_bands[digit], lephare_f277w_bands[digit], \n",
    "                                            lephare_f150w_bands[digit], Q=5, stretch=0.1)\n",
    "            \n",
    "    ax.imshow(nbr_RGB_image)\n",
    "\n",
    "    # This adds pointers as visual aids for the neighbors. The color is brat.\n",
    "    ax.vlines(x=20.5, ymin=24.5, ymax=28, colors=\"#8ACE00\", lw=3)\n",
    "    ax.hlines(y=20.5, xmin=24.5, xmax=28, colors=\"#8ACE00\", lw=3)\n",
    "\n",
    "    # This adds a scale bar\n",
    "    fontprops2 = fm.FontProperties(size=12) # setting properties for the text under the scale bar\n",
    "    scalebar2 = AnchoredSizeBar(ax.transData, (0.5 / pix_scale), '0.5\"', 'lower right', pad=0.2, color='white', sep=4,\n",
    "                               frameon=False, size_vertical=0.3, fontproperties=fontprops2)\n",
    "    ax.add_artist(scalebar2)\n",
    "            \n",
    "    # This removes the x and y tick labels.\n",
    "    ax.set_xticks([])\n",
    "    ax.set_yticks([])\n",
    "        \n",
    "    # This adds the ID of each neighbor (from Hollis' catalog) into the image.\n",
    "    ax.text(0.1, 0.1, str(lephare_list[digit]), horizontalalignment='left', verticalalignment='top', \n",
    "                    color='white', fontsize=13)\n",
    "\n",
    "fig.savefig('visualizations/25_flag1.png', bbox_inches='tight', dpi=1000)"
   ]
  },
  {
   "cell_type": "code",
   "execution_count": null,
   "id": "3baf9821-1371-4920-8491-21e69075e524",
   "metadata": {},
   "outputs": [],
   "source": []
  },
  {
   "cell_type": "code",
   "execution_count": null,
   "id": "07dd14cc-17ed-4f48-92a7-dcd10164cbce",
   "metadata": {},
   "outputs": [],
   "source": []
  }
 ],
 "metadata": {
  "kernelspec": {
   "display_name": "Python 3 (ipykernel)",
   "language": "python",
   "name": "python3"
  },
  "language_info": {
   "codemirror_mode": {
    "name": "ipython",
    "version": 3
   },
   "file_extension": ".py",
   "mimetype": "text/x-python",
   "name": "python",
   "nbconvert_exporter": "python",
   "pygments_lexer": "ipython3",
   "version": "3.12.2"
  }
 },
 "nbformat": 4,
 "nbformat_minor": 5
}
