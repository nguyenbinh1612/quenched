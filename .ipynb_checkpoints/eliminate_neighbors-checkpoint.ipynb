{
 "cells": [
  {
   "cell_type": "code",
   "execution_count": 1,
   "id": "511616df-454a-4743-b69b-93ccccfede49",
   "metadata": {},
   "outputs": [],
   "source": [
    "# this sets up basic packages\n",
    "import numpy as np\n",
    "import pandas as pd\n",
    "import astropy.units as u\n",
    "import astropy.cosmology.units as cu\n",
    "\n",
    "# this sets up matplotlib\n",
    "import matplotlib.pyplot as plt\n",
    "%matplotlib inline\n",
    "\n",
    "# this sets up astropy\n",
    "from astropy.io import fits\n",
    "from astropy.table import Table\n",
    "from astropy.wcs import WCS\n",
    "from astropy.wcs.utils import pixel_to_skycoord, skycoord_to_pixel\n",
    "from astropy.utils.data import get_pkg_data_filename\n",
    "from astropy.coordinates import SkyCoord, Angle, match_coordinates_sky, Distance"
   ]
  },
  {
   "cell_type": "code",
   "execution_count": 2,
   "id": "36e13460-b56d-49ee-8b63-4a2829e22503",
   "metadata": {},
   "outputs": [],
   "source": [
    "# this reads in the new neighbor catalog, originally made for CIGALE\n",
    "df = pd.read_csv('post_correction_data.csv')"
   ]
  },
  {
   "cell_type": "code",
   "execution_count": 3,
   "id": "9520e728-c08d-48d7-93a1-d32cd224b176",
   "metadata": {},
   "outputs": [
    {
     "name": "stdout",
     "output_type": "stream",
     "text": [
      "Before all the eliminations, there are a total of 994 sources.\n"
     ]
    }
   ],
   "source": [
    "print('Before all the eliminations, there are a total of', df.shape[0], 'sources.')"
   ]
  },
  {
   "cell_type": "markdown",
   "id": "76f0fae3-4633-4751-82d5-6c0a6bfb534d",
   "metadata": {},
   "source": [
    "# CRITERION 1: Minimum of 3 detections, or less if there's A3COSMOS/ALMA data"
   ]
  },
  {
   "cell_type": "code",
   "execution_count": 5,
   "id": "104839bf-2c11-4a59-a580-b1c736306ca9",
   "metadata": {},
   "outputs": [],
   "source": [
    "# in a previous .csv file, all the neighbors are id'd based on their central galaxy.\n",
    "# since this id is such a minor part of our work and isn't present in our later .csv or .txt files,\n",
    "# we just retrieve these \"our_id\" values from the old .csv file, and then use them for our new work.\n",
    "df2 = pd.read_csv('neighbor_data.csv')\n",
    "df2 = df2[df2['id'].duplicated(keep='first')==False]\n",
    "catalog_id = df2['id']\n",
    "our_id = df2['our_id']\n",
    "our_ra = df2['ra']\n",
    "our_dec = df2['dec']\n",
    "our_z = df2['z_spec']"
   ]
  },
  {
   "cell_type": "code",
   "execution_count": 6,
   "id": "dbf390be-873f-48c4-9ca9-8db191b2fca7",
   "metadata": {},
   "outputs": [
    {
     "name": "stdout",
     "output_type": "stream",
     "text": [
      "Filename: /Volumes/LaCie/COSMOS_DATA/a3cosmos_blind.fits\n",
      "No.    Name      Ver    Type      Cards   Dimensions   Format\n",
      "  0  PRIMARY       1 PrimaryHDU      45   ()      \n",
      "  1  J_ApJS_244_40_blind    1 BinTableHDU    115   1134R x 16C   [D, D, D, D, E, E, E, E, E, E, E, D, E, E, E, B]   \n"
     ]
    }
   ],
   "source": [
    "# this opens the HDU list of the .fits catalog from A3COSMOS\n",
    "hdu_list = fits.open('/Volumes/LaCie/COSMOS_DATA/a3cosmos_blind.fits')\n",
    "hdu_list.info()\n",
    "\n",
    "# this gets the data of the catalog\n",
    "a3cosmos = hdu_list[1].data"
   ]
  },
  {
   "cell_type": "code",
   "execution_count": 7,
   "id": "adb14330-b418-47dc-a1ed-2796c86bc4fe",
   "metadata": {},
   "outputs": [
    {
     "name": "stdout",
     "output_type": "stream",
     "text": [
      "2 is the number of matches between the A3COSMOS and the spectroscopic catalogs.\n"
     ]
    }
   ],
   "source": [
    "### matching coords from the A3COSMOS catalog using SkyCoord \n",
    "# create SkyCoord arrays (?) with the RA and Dec of the galaxies in both catalogs\n",
    "radio_cat = SkyCoord(ra=a3cosmos['RAJ2000']*u.degree, dec=a3cosmos['DEJ2000']*u.degree)\n",
    "spec_cat = SkyCoord(ra=our_ra.values*u.degree, dec=our_dec.values*u.degree)\n",
    "\n",
    "# use search_around_sky to find matching indices (matching in RA and Dec) in each catalog\n",
    "idx_radio, idx_spec, d2d, d3d = spec_cat.search_around_sky(radio_cat, 1*u.arcsec)\n",
    "\n",
    "# use the matching indices to the new catalog to see where we have ground-based data of our neighbors\n",
    "print(np.size(idx_radio), 'is the number of matches between the A3COSMOS and the spectroscopic catalogs.')"
   ]
  },
  {
   "cell_type": "code",
   "execution_count": 8,
   "id": "ac828be5-9d63-4467-b1c2-68a99bd3e7b7",
   "metadata": {},
   "outputs": [],
   "source": [
    "# this calls the names of all the columns with flux measurements for all the galaxies\n",
    "f_cols = [col for col in df.columns if '_err' not in col and col != 'id' and col != 'redshift']"
   ]
  },
  {
   "cell_type": "code",
   "execution_count": 9,
   "id": "f82af9b3-8c48-4148-8f90-c0e132d92cc7",
   "metadata": {},
   "outputs": [
    {
     "name": "stdout",
     "output_type": "stream",
     "text": [
      "849 is the total amount of neighbors that pass criterion 1.\n"
     ]
    }
   ],
   "source": [
    "# this saves all the neighbor ids that pass criterion 1\n",
    "crit1_neigh_id = []\n",
    "\n",
    "# this loops over all the galaxies from the .csv file, then reads their corresponding fluxes\n",
    "# in all our bands to see if each of them has at least 3 different detections. if said galaxy does, \n",
    "# then we save the id of that galaxy, meaning that it passes criterion 1.\n",
    "\n",
    "# this loops over each of the 9 QGs in our sample group\n",
    "for id in catalog_id.values:\n",
    "    \n",
    "    # this retrieves all the corresponding fluxes of the galaxy with the id called\n",
    "    all_bands = df[df['id'] == id][f_cols].values\n",
    "\n",
    "    # this counts how many of these fluxes are non-zeros (i.e. how many detections there are)\n",
    "    available_fluxes = np.count_nonzero(all_bands)\n",
    "\n",
    "    # this adds the galaxy's id into crit1_neigh_id if the galaxy has more than 3 detections\n",
    "    if available_fluxes >= 3:\n",
    "        crit1_neigh_id.append(id)\n",
    "        \n",
    "print(len(crit1_neigh_id), 'is the total amount of neighbors that pass criterion 1.')"
   ]
  },
  {
   "cell_type": "markdown",
   "id": "001d2227-6910-4180-85d9-25ca7a1ea5af",
   "metadata": {},
   "source": [
    "# CRITERION 2: |z$_{QG}$ - z$_{gal}$| < 0.5"
   ]
  },
  {
   "cell_type": "code",
   "execution_count": 11,
   "id": "ea9c5d16-3ce7-4713-88e0-a88699e19d7c",
   "metadata": {},
   "outputs": [
    {
     "name": "stdout",
     "output_type": "stream",
     "text": [
      "Filename: out/results.fits\n",
      "No.    Name      Ver    Type      Cards   Dimensions   Format\n",
      "  0  PRIMARY       1 PrimaryHDU       4   ()      \n",
      "  1                1 BinTableHDU    374   994R x 123C   [K, D, D, D, D, D, D, D, D, D, D, D, D, D, D, D, D, D, D, D, D, D, D, D, D, D, D, D, D, D, D, D, D, D, D, D, D, D, D, D, D, D, D, D, D, D, D, D, D, D, D, D, D, D, D, D, D, D, D, D, D, D, D, D, D, D, D, D, D, D, D, D, D, D, D, D, D, D, D, D, D, D, D, D, D, D, D, D, D, D, D, D, D, D, D, D, D, D, D, D, D, D, D, D, D, D, D, D, D, D, D, D, D, D, D, D, D, D, D, D, D, D, D]   \n"
     ]
    }
   ],
   "source": [
    "# this reads in the results FITS file that CIGALE made\n",
    "cigale_results = fits.open('out/results.fits')\n",
    "cigale_results.info()"
   ]
  },
  {
   "cell_type": "code",
   "execution_count": 12,
   "id": "ae8ead10-8c7c-4fbf-b78d-bb1b77a9ed72",
   "metadata": {},
   "outputs": [],
   "source": [
    "# this gets the data from the results FITS file\n",
    "cigale_data = Table(cigale_results[1].data).to_pandas()"
   ]
  },
  {
   "cell_type": "code",
   "execution_count": 13,
   "id": "883b0a51-87b1-4dbf-a3df-299a4c82e2f1",
   "metadata": {},
   "outputs": [],
   "source": [
    "# this selects only the rows in cigale_data and our_id\n",
    "# whose corresponding source already passed criterion 1\n",
    "reduced_cigale = cigale_data.loc[cigale_data['id'].isin(crit1_neigh_id)]\n",
    "reduced_our_id = our_id[catalog_id.isin(crit1_neigh_id)]"
   ]
  },
  {
   "cell_type": "code",
   "execution_count": 14,
   "id": "4a17ec0d-e2aa-4f02-8c2b-85739575b561",
   "metadata": {},
   "outputs": [],
   "source": [
    "cigale_id = reduced_cigale['id'].values\n",
    "cigale_z = reduced_cigale['bayes.universe.redshift'].values\n",
    "cigale_z_err = reduced_cigale['bayes.universe.redshift_err'].values"
   ]
  },
  {
   "cell_type": "code",
   "execution_count": 15,
   "id": "7bc8af90-3cbb-493a-8955-820615d3fa30",
   "metadata": {},
   "outputs": [],
   "source": [
    "# now read in the RAs and Decs of our 9 galaxies\n",
    "info = np.genfromtxt('basic_data.txt', delimiter=' ', dtype=['U15', '<f8','<f8', '<f8'])\n",
    "\n",
    "# this gets the galaxy redshifts for all the 9 galaxies\n",
    "galaxy_redshift = np.zeros(np.size(info), dtype=float)\n",
    "for i in range(np.size(info)):\n",
    "    galaxy_redshift[i] = info[i][3]"
   ]
  },
  {
   "cell_type": "code",
   "execution_count": 16,
   "id": "65b292ea-23a0-4abe-8b77-050e65f4f8c2",
   "metadata": {},
   "outputs": [
    {
     "name": "stdout",
     "output_type": "stream",
     "text": [
      "233 is the total amount of neighbors that pass criterion 2.\n"
     ]
    }
   ],
   "source": [
    "# this saves all the neighbor ids that pass criterion 2\n",
    "crit2_neigh_id = []\n",
    "\n",
    "# this loops over each of the 9 QGs in our sample group\n",
    "for our_galaxy in range(np.size(galaxy_redshift)):\n",
    "    # this selects the neighbor IDs, ONLY the ones that passed criterion 1\n",
    "    neigh_id = np.array(cigale_id[reduced_our_id==our_galaxy])\n",
    "\n",
    "    # this reads in the estimated z and errors of all the neighbors around each galaxy that passed criterion 1\n",
    "    neigh_z = np.array(cigale_z[reduced_our_id==our_galaxy])\n",
    "    neigh_z_err = np.array(cigale_z_err[reduced_our_id==our_galaxy])\n",
    "\n",
    "    # this sets criterion 2\n",
    "    criteria = (np.abs(neigh_z + neigh_z_err - galaxy_redshift[our_galaxy]) <= 0.5) | (np.abs(neigh_z - neigh_z_err - galaxy_redshift[our_galaxy]) <= 0.5)\n",
    "\n",
    "    # this finds neighbor IDs that pass criterion 2\n",
    "    ok_neigh_id = neigh_id[criteria]\n",
    "\n",
    "    # this saves the indices of the neighbors that pass criterion 2\n",
    "    crit2_neigh_id.extend(ok_neigh_id)\n",
    "\n",
    "print(len(crit2_neigh_id), 'is the total amount of neighbors that pass criterion 2.')"
   ]
  },
  {
   "cell_type": "markdown",
   "id": "608b7c5b-6fcc-4e8a-b123-1dea697ba28a",
   "metadata": {},
   "source": [
    "Now, we save the plots of the fits that passed both criteria altogether into a separate .pdf file."
   ]
  },
  {
   "cell_type": "code",
   "execution_count": 18,
   "id": "07235cb6-17bc-47dc-88ea-60691df4effa",
   "metadata": {},
   "outputs": [],
   "source": [
    "import PyPDF2, os"
   ]
  },
  {
   "cell_type": "code",
   "execution_count": 19,
   "id": "6c8c6775-73e6-4f37-9f47-5b52af433873",
   "metadata": {},
   "outputs": [],
   "source": [
    "pdfiles = []\n",
    "for filename in os.listdir('out/'):\n",
    "    if filename[0:6] in str(crit2_neigh_id) and filename.endswith('.pdf'):\n",
    "        if filename != 'merged.pdf':\n",
    "            pdfiles.append(filename)\n",
    "                        \n",
    "pdfiles.sort(key = str.lower)"
   ]
  },
  {
   "cell_type": "code",
   "execution_count": 20,
   "id": "a19b5653-540c-4f9f-ad71-5ae04f6005d8",
   "metadata": {},
   "outputs": [],
   "source": [
    "pdfMerge = PyPDF2.PdfMerger()\n",
    "for filename in pdfiles:\n",
    "    pdfFile = open('out/' + filename, 'rb')\n",
    "    pdfReader = PyPDF2.PdfReader(pdfFile)\n",
    "    pdfMerge.append(pdfReader)\n",
    "pdfFile.close()\n",
    "pdfMerge.write('merged.pdf')"
   ]
  },
  {
   "cell_type": "markdown",
   "id": "cbf8c609-780e-4ad9-aaca-5688173c90a6",
   "metadata": {},
   "source": [
    "# Miscellaneous Eliminations of Bad Fits"
   ]
  },
  {
   "cell_type": "markdown",
   "id": "74b3411f-99b2-4c75-85ff-c47c65ea993b",
   "metadata": {},
   "source": [
    "First, compare our new sample to our old sample, where there are 160 potential neighbors (see the notebook named <b>eliminate_neighbors_old_data.ipynb</b>). We're doing this just to see how much our two samples differ from one another."
   ]
  },
  {
   "cell_type": "code",
   "execution_count": 23,
   "id": "4ebb6f5e-0713-49d0-bbcd-c33ec5e08343",
   "metadata": {},
   "outputs": [],
   "source": [
    "# this reads in the .txt file where we've saved the indices of the potential neighbors\n",
    "old_potential = np.genfromtxt('old_data_potential_neighbors.txt', dtype=('float','f8'))"
   ]
  },
  {
   "cell_type": "code",
   "execution_count": 24,
   "id": "9220f447-b7ef-4141-9b84-bb8ceaa909b0",
   "metadata": {},
   "outputs": [],
   "source": [
    "# this converts crit2_neigh_id into an array of floats so it's easier to compare\n",
    "new_potential = np.array(crit2_neigh_id, dtype=('float','f8'))"
   ]
  },
  {
   "cell_type": "code",
   "execution_count": 25,
   "id": "bbe02ddb-d82e-411f-bb2e-24cba8d0e267",
   "metadata": {},
   "outputs": [],
   "source": [
    "# this is to find how many common elements are in both arrays\n",
    "common = np.intersect1d(old_potential, new_potential)"
   ]
  },
  {
   "cell_type": "code",
   "execution_count": 26,
   "id": "6e137d13-d73a-426b-b152-197bc27309e7",
   "metadata": {},
   "outputs": [
    {
     "name": "stdout",
     "output_type": "stream",
     "text": [
      "Filename: out_all 2.35.35 PM/results.fits\n",
      "No.    Name      Ver    Type      Cards   Dimensions   Format\n",
      "  0  PRIMARY       1 PrimaryHDU       4   ()      \n",
      "  1                1 BinTableHDU    386   994R x 127C   [K, D, D, D, D, D, D, D, D, D, D, D, D, D, D, D, D, D, D, D, D, D, D, D, D, D, D, D, D, D, D, D, D, D, D, D, D, D, D, D, D, D, D, D, D, D, D, D, D, D, D, D, D, D, D, D, D, D, D, D, D, D, D, D, D, D, D, D, D, D, D, D, D, D, D, D, D, D, D, D, D, D, D, D, D, D, D, D, D, D, D, D, D, D, D, D, D, D, D, D, D, D, D, D, D, D, D, D, D, D, D, D, D, D, D, D, D, D, D, D, D, D, D, D, D, D, D]   \n"
     ]
    }
   ],
   "source": [
    "# this reads in the old results file\n",
    "cigale_old = fits.open('out_all 2.35.35 PM/results.fits')\n",
    "cigale_old.info()\n",
    "\n",
    "# this gets the data from the old results file\n",
    "cigale_old_table = Table(cigale_old[1].data).to_pandas()\n",
    "\n",
    "# this locates the common potential neighbors in the old results file\n",
    "info_cigale_old = cigale_old_table.loc[cigale_old_table['id'].isin(common)]"
   ]
  },
  {
   "cell_type": "code",
   "execution_count": 27,
   "id": "c3303220-9234-4d9b-9878-da5a49318d02",
   "metadata": {},
   "outputs": [],
   "source": [
    "# this locates the common potential neighbors in the new results file\n",
    "info_cigale_new = cigale_data.loc[cigale_data['id'].isin(common)]"
   ]
  },
  {
   "cell_type": "code",
   "execution_count": 28,
   "id": "fa7739da-8a23-4ac2-9891-49496c474de6",
   "metadata": {},
   "outputs": [
    {
     "name": "stderr",
     "output_type": "stream",
     "text": [
      "<>:19: SyntaxWarning: invalid escape sequence '\\o'\n",
      "<>:19: SyntaxWarning: invalid escape sequence '\\o'\n",
      "/var/folders/td/xh27mb7x6jz3g1splvmtw7z80000gn/T/ipykernel_4797/92395639.py:19: SyntaxWarning: invalid escape sequence '\\o'\n",
      "  ax[2].set_title('log$_{10}$(M$_*$/M$_\\odot$)')\n"
     ]
    },
    {
     "data": {
      "text/plain": [
       "Text(0, 0.5, 'new')"
      ]
     },
     "execution_count": 28,
     "metadata": {},
     "output_type": "execute_result"
    },
    {
     "data": {
      "image/png": "[encoded data removed]",
      "text/plain": [
       "<Figure size 1400x400 with 3 Axes>"
      ]
     },
     "metadata": {},
     "output_type": "display_data"
    }
   ],
   "source": [
    "# now we make some diagnostic plots to compare the old and new results\n",
    "# (only looking at the common potential neighbors in both samples)\n",
    "\n",
    "fig, ax = plt.subplots(1, 3, figsize=(14, 4))\n",
    "ax[0].plot(info_cigale_old['bayes.universe.redshift'].values, info_cigale_new['bayes.universe.redshift'].values, '.')\n",
    "ax[0].plot([0, 1], [0, 1], transform=ax[0].transAxes)\n",
    "ax[0].set_title('redshift')\n",
    "ax[0].set_xlabel('old')\n",
    "ax[0].set_ylabel('new')\n",
    "\n",
    "ax[1].plot(info_cigale_old['bayes.sfh.sfr'].values, info_cigale_new['bayes.sfh.sfr'].values, '.')\n",
    "ax[1].plot([0, 1], [0, 1], transform=ax[1].transAxes)\n",
    "ax[1].set_title('SFR/year')\n",
    "ax[1].set_xlabel('old')\n",
    "ax[1].set_ylabel('new')\n",
    "\n",
    "ax[2].plot(np.log10(info_cigale_old['bayes.stellar.m_star'].values), np.log10(info_cigale_new['bayes.stellar.m_star'].values), '.')\n",
    "ax[2].plot([0, 1], [0, 1], transform=ax[2].transAxes)\n",
    "ax[2].set_title('log$_{10}$(M$_*$/M$_\\odot$)')\n",
    "ax[2].set_xlabel('old')\n",
    "ax[2].set_ylabel('new')"
   ]
  },
  {
   "cell_type": "markdown",
   "id": "d9c94efb-ce8c-47df-a284-5e94125b20a5",
   "metadata": {},
   "source": [
    "From these plots, we see that the new fits and the old fits are essentially the same, meaning there's no need to reanalyze the potential neighbors selected from the old sample. Since we already saved the IDs of the good fits selected from the old sample, we'll just use that list."
   ]
  },
  {
   "cell_type": "code",
   "execution_count": 30,
   "id": "65900b99-aef3-4488-9797-611d46853bf4",
   "metadata": {},
   "outputs": [],
   "source": [
    "# this reads in the .txt file where we've saved the indices of the potential \n",
    "# neighbors with good fits, as selected from the old sample\n",
    "old_good_fits_idx = np.genfromtxt('old_good_fits.txt', dtype=('float','f8'))\n",
    "\n",
    "# now, we pick out the ones that are good fits and are also common between the old and new samples\n",
    "good_fits_1 = np.intersect1d(common, old_good_fits_idx)"
   ]
  },
  {
   "cell_type": "code",
   "execution_count": 31,
   "id": "ecea802f-f1de-4b5d-b465-b544a86315fd",
   "metadata": {},
   "outputs": [],
   "source": [
    "# this takes the data of all the new fits based on the indices from the old good fits\n",
    "good_fits_from_old = cigale_data.loc[cigale_data['id'].isin(good_fits_1)]"
   ]
  },
  {
   "cell_type": "markdown",
   "id": "48e5f889-42d6-42d8-b95e-ece1895e8cc5",
   "metadata": {},
   "source": [
    "Next, we visually inspect the neighbors that did not appear in our old sample."
   ]
  },
  {
   "cell_type": "code",
   "execution_count": 33,
   "id": "cb30c279-bbd4-462e-ab3b-ef5e119e1c68",
   "metadata": {},
   "outputs": [],
   "source": [
    "# we pick out the IDs of the new fits\n",
    "other_new_fits = np.setdiff1d(new_potential, common)"
   ]
  },
  {
   "cell_type": "code",
   "execution_count": 34,
   "id": "dd8e4813-9b7e-4e43-8c73-aefb099bc37c",
   "metadata": {},
   "outputs": [],
   "source": [
    "# now, we make a PDF file of all the plots of the new fits. this is so that it's easier to visually inspect them all\n",
    "import PyPDF2, os\n",
    "\n",
    "pdfiles = []\n",
    "for filename in os.listdir('out/'):\n",
    "    if filename[0:6] in str(other_new_fits) and filename.endswith('.pdf'):\n",
    "        pdfiles.append(filename)\n",
    "                        \n",
    "pdfiles.sort(key = str.lower)\n",
    "\n",
    "pdfMerge = PyPDF2.PdfMerger()\n",
    "for filename in pdfiles:\n",
    "    pdfFile = open('out/' + filename, 'rb')\n",
    "    pdfReader = PyPDF2.PdfReader(pdfFile)\n",
    "    pdfMerge.append(pdfReader)\n",
    "pdfFile.close()\n",
    "pdfMerge.write('all_new_fits.pdf')"
   ]
  },
  {
   "cell_type": "markdown",
   "id": "7c6fd320-d3d1-4fb4-8f40-0ee5ee5f771c",
   "metadata": {},
   "source": [
    "After making a list of visually inspected bad fits, we pick out the good fits and save them."
   ]
  },
  {
   "cell_type": "code",
   "execution_count": 36,
   "id": "b139b599-edaf-408c-b6c4-9c8eef933f2a",
   "metadata": {},
   "outputs": [],
   "source": [
    "# this reads in the .txt file where we've saved the indices of the bad fits\n",
    "new_bad_fits_idx = np.genfromtxt('new_bad_fits.txt', dtype=('float','f8'))\n",
    "\n",
    "# now, we pick out the ones that are not \"bad fits\", and are also common between the old and new samples\n",
    "# NOTE that these aren't necessary \"good fits\". there are some fits that we're unable to visually inspect\n",
    "# because CIGALE can't plot them for some reason. for those ones, we'll just discard the fits.\n",
    "other_fits = np.setdiff1d(other_new_fits, new_bad_fits_idx)"
   ]
  },
  {
   "cell_type": "code",
   "execution_count": 37,
   "id": "75864c05-7246-461f-98a9-0e4a18a78a8b",
   "metadata": {},
   "outputs": [],
   "source": [
    "# now, we make a PDF file of all the plots of the new fits. this is so that it's easier to visually inspect them all\n",
    "import PyPDF2, os\n",
    "\n",
    "# this creates a secondary list that saves only the IDs of the non-bad fits that have plots \n",
    "# which we've visually inspected--i.e. fits that have been confirmed to be good.\n",
    "good_fits_2 = []\n",
    "\n",
    "pdfiles = []\n",
    "for filename in os.listdir('out/'):\n",
    "    if filename[0:6] in str(other_fits) and filename.endswith('.pdf'):\n",
    "        pdfiles.append(filename)\n",
    "\n",
    "        # this saves the names of only the fits that are non-bad and have plots which\n",
    "        # we've visually inspected, i.e. fits we've confirmed to be good\n",
    "        good_fits_2.append(float(filename[0:6]))\n",
    "                        \n",
    "pdfiles.sort(key = str.lower)\n",
    "\n",
    "pdfMerge = PyPDF2.PdfMerger()\n",
    "for filename in pdfiles:\n",
    "    pdfFile = open('out/' + filename, 'rb')\n",
    "    pdfReader = PyPDF2.PdfReader(pdfFile)\n",
    "    pdfMerge.append(pdfReader)\n",
    "pdfFile.close()\n",
    "pdfMerge.write('good_fits.pdf')"
   ]
  },
  {
   "cell_type": "code",
   "execution_count": 38,
   "id": "fde01d2a-61a8-4926-bbc6-9b787502cb55",
   "metadata": {},
   "outputs": [],
   "source": [
    "good_fits_2 = np.array(good_fits_2, dtype='object')"
   ]
  },
  {
   "cell_type": "code",
   "execution_count": 39,
   "id": "39fdaa46-3e84-4238-9dc4-c0ebff20ddec",
   "metadata": {},
   "outputs": [],
   "source": [
    "# now, make an array of all the good fits\n",
    "all_good_fits = np.concatenate((good_fits_1, good_fits_2))"
   ]
  },
  {
   "cell_type": "code",
   "execution_count": 40,
   "id": "bab3178a-f905-4314-a29e-fe6a999d5589",
   "metadata": {},
   "outputs": [],
   "source": [
    "# retrieve all the relevant info for the good fits from CIGALE's data table\n",
    "info_good_fits = cigale_data.loc[cigale_data['id'].isin(all_good_fits)] # candi: short for candidate"
   ]
  },
  {
   "cell_type": "code",
   "execution_count": 41,
   "id": "72da21f6-1e2f-441b-9eb5-852a74eb5f00",
   "metadata": {},
   "outputs": [
    {
     "data": {
      "text/html": [
       "<div>\n",
       "<style scoped>\n",
       "    .dataframe tbody tr th:only-of-type {\n",
       "        vertical-align: middle;\n",
       "    }\n",
       "\n",
       "    .dataframe tbody tr th {\n",
       "        vertical-align: top;\n",
       "    }\n",
       "\n",
       "    .dataframe thead th {\n",
       "        text-align: right;\n",
       "    }\n",
       "</style>\n",
       "<table border=\"1\" class=\"dataframe\">\n",
       "  <thead>\n",
       "    <tr style=\"text-align: right;\">\n",
       "      <th></th>\n",
       "      <th>id</th>\n",
       "      <th>bayes.attenuation.E_BVs</th>\n",
       "      <th>bayes.attenuation.E_BVs_err</th>\n",
       "      <th>bayes.sfh.age_main</th>\n",
       "      <th>bayes.sfh.age_main_err</th>\n",
       "      <th>bayes.universe.redshift</th>\n",
       "      <th>bayes.universe.redshift_err</th>\n",
       "      <th>bayes.sfh.sfr</th>\n",
       "      <th>bayes.sfh.sfr_err</th>\n",
       "      <th>bayes.sfh.sfr100Myrs</th>\n",
       "      <th>...</th>\n",
       "      <th>best.subaru.suprime.IB427</th>\n",
       "      <th>best.subaru.suprime.IB505</th>\n",
       "      <th>best.subaru.suprime.IB574</th>\n",
       "      <th>best.subaru.suprime.IB709</th>\n",
       "      <th>best.subaru.suprime.IB827</th>\n",
       "      <th>best.subaru.suprime.NB711</th>\n",
       "      <th>best.subaru.suprime.NB816</th>\n",
       "      <th>best.spitzer.irac.ch1</th>\n",
       "      <th>best.spitzer.irac.ch2</th>\n",
       "      <th>best.spitzer.irac.ch3</th>\n",
       "    </tr>\n",
       "  </thead>\n",
       "  <tbody>\n",
       "    <tr>\n",
       "      <th>0</th>\n",
       "      <td>756228</td>\n",
       "      <td>0.088857</td>\n",
       "      <td>0.035769</td>\n",
       "      <td>417.624948</td>\n",
       "      <td>354.005857</td>\n",
       "      <td>3.278320</td>\n",
       "      <td>0.525038</td>\n",
       "      <td>3.558649</td>\n",
       "      <td>1.834240</td>\n",
       "      <td>2.915679</td>\n",
       "      <td>...</td>\n",
       "      <td>1.467487e-05</td>\n",
       "      <td>3.040419e-05</td>\n",
       "      <td>0.000063</td>\n",
       "      <td>0.000065</td>\n",
       "      <td>0.000071</td>\n",
       "      <td>0.000065</td>\n",
       "      <td>0.000071</td>\n",
       "      <td>1.196896e-04</td>\n",
       "      <td>1.428054e-04</td>\n",
       "      <td>1.476414e-04</td>\n",
       "    </tr>\n",
       "    <tr>\n",
       "      <th>2</th>\n",
       "      <td>756324</td>\n",
       "      <td>0.142144</td>\n",
       "      <td>0.081505</td>\n",
       "      <td>526.144334</td>\n",
       "      <td>365.795022</td>\n",
       "      <td>3.136364</td>\n",
       "      <td>0.510097</td>\n",
       "      <td>3.385109</td>\n",
       "      <td>2.849470</td>\n",
       "      <td>2.944019</td>\n",
       "      <td>...</td>\n",
       "      <td>1.228186e-05</td>\n",
       "      <td>4.935640e-05</td>\n",
       "      <td>0.000037</td>\n",
       "      <td>0.000043</td>\n",
       "      <td>0.000043</td>\n",
       "      <td>0.000043</td>\n",
       "      <td>0.000043</td>\n",
       "      <td>1.022433e-04</td>\n",
       "      <td>1.066111e-04</td>\n",
       "      <td>1.009454e-04</td>\n",
       "    </tr>\n",
       "    <tr>\n",
       "      <th>5</th>\n",
       "      <td>756381</td>\n",
       "      <td>0.089931</td>\n",
       "      <td>0.002999</td>\n",
       "      <td>100.658272</td>\n",
       "      <td>22.407275</td>\n",
       "      <td>3.601789</td>\n",
       "      <td>0.055604</td>\n",
       "      <td>7.290918</td>\n",
       "      <td>0.364546</td>\n",
       "      <td>3.845178</td>\n",
       "      <td>...</td>\n",
       "      <td>1.186805e-05</td>\n",
       "      <td>5.654811e-05</td>\n",
       "      <td>0.000117</td>\n",
       "      <td>0.000121</td>\n",
       "      <td>0.000124</td>\n",
       "      <td>0.000120</td>\n",
       "      <td>0.000124</td>\n",
       "      <td>1.232406e-04</td>\n",
       "      <td>1.542069e-04</td>\n",
       "      <td>1.061178e-04</td>\n",
       "    </tr>\n",
       "    <tr>\n",
       "      <th>14</th>\n",
       "      <td>756542</td>\n",
       "      <td>0.249534</td>\n",
       "      <td>0.008622</td>\n",
       "      <td>100.170514</td>\n",
       "      <td>11.594269</td>\n",
       "      <td>4.401081</td>\n",
       "      <td>0.286135</td>\n",
       "      <td>13.469845</td>\n",
       "      <td>1.298317</td>\n",
       "      <td>7.477333</td>\n",
       "      <td>...</td>\n",
       "      <td>-3.560853e-10</td>\n",
       "      <td>3.060166e-07</td>\n",
       "      <td>0.000010</td>\n",
       "      <td>0.000035</td>\n",
       "      <td>0.000041</td>\n",
       "      <td>0.000036</td>\n",
       "      <td>0.000041</td>\n",
       "      <td>1.587561e-04</td>\n",
       "      <td>9.742184e-05</td>\n",
       "      <td>1.379322e-04</td>\n",
       "    </tr>\n",
       "    <tr>\n",
       "      <th>19</th>\n",
       "      <td>756650</td>\n",
       "      <td>0.450849</td>\n",
       "      <td>0.021279</td>\n",
       "      <td>100.002315</td>\n",
       "      <td>1.087818</td>\n",
       "      <td>3.599899</td>\n",
       "      <td>0.021833</td>\n",
       "      <td>19.724432</td>\n",
       "      <td>1.713810</td>\n",
       "      <td>10.549690</td>\n",
       "      <td>...</td>\n",
       "      <td>3.704218e-07</td>\n",
       "      <td>3.433116e-06</td>\n",
       "      <td>0.000009</td>\n",
       "      <td>0.000013</td>\n",
       "      <td>0.000015</td>\n",
       "      <td>0.000013</td>\n",
       "      <td>0.000015</td>\n",
       "      <td>1.311768e-04</td>\n",
       "      <td>2.264904e-04</td>\n",
       "      <td>1.855936e-04</td>\n",
       "    </tr>\n",
       "    <tr>\n",
       "      <th>...</th>\n",
       "      <td>...</td>\n",
       "      <td>...</td>\n",
       "      <td>...</td>\n",
       "      <td>...</td>\n",
       "      <td>...</td>\n",
       "      <td>...</td>\n",
       "      <td>...</td>\n",
       "      <td>...</td>\n",
       "      <td>...</td>\n",
       "      <td>...</td>\n",
       "      <td>...</td>\n",
       "      <td>...</td>\n",
       "      <td>...</td>\n",
       "      <td>...</td>\n",
       "      <td>...</td>\n",
       "      <td>...</td>\n",
       "      <td>...</td>\n",
       "      <td>...</td>\n",
       "      <td>...</td>\n",
       "      <td>...</td>\n",
       "      <td>...</td>\n",
       "    </tr>\n",
       "    <tr>\n",
       "      <th>978</th>\n",
       "      <td>823998</td>\n",
       "      <td>0.006525</td>\n",
       "      <td>0.019346</td>\n",
       "      <td>484.234110</td>\n",
       "      <td>417.265533</td>\n",
       "      <td>4.258428</td>\n",
       "      <td>0.979942</td>\n",
       "      <td>1.457550</td>\n",
       "      <td>0.721397</td>\n",
       "      <td>1.414571</td>\n",
       "      <td>...</td>\n",
       "      <td>0.000000e+00</td>\n",
       "      <td>0.000000e+00</td>\n",
       "      <td>0.000003</td>\n",
       "      <td>0.000013</td>\n",
       "      <td>0.000060</td>\n",
       "      <td>0.000012</td>\n",
       "      <td>0.000060</td>\n",
       "      <td>2.368231e-05</td>\n",
       "      <td>3.938737e-05</td>\n",
       "      <td>2.702594e-05</td>\n",
       "    </tr>\n",
       "    <tr>\n",
       "      <th>981</th>\n",
       "      <td>824034</td>\n",
       "      <td>0.006721</td>\n",
       "      <td>0.016807</td>\n",
       "      <td>497.113674</td>\n",
       "      <td>337.545777</td>\n",
       "      <td>2.540534</td>\n",
       "      <td>0.277544</td>\n",
       "      <td>0.228684</td>\n",
       "      <td>0.087718</td>\n",
       "      <td>0.219566</td>\n",
       "      <td>...</td>\n",
       "      <td>1.675115e-05</td>\n",
       "      <td>1.766437e-05</td>\n",
       "      <td>0.000017</td>\n",
       "      <td>0.000017</td>\n",
       "      <td>0.000016</td>\n",
       "      <td>0.000017</td>\n",
       "      <td>0.000017</td>\n",
       "      <td>1.841179e-05</td>\n",
       "      <td>1.685075e-05</td>\n",
       "      <td>1.723205e-05</td>\n",
       "    </tr>\n",
       "    <tr>\n",
       "      <th>983</th>\n",
       "      <td>824065</td>\n",
       "      <td>0.014784</td>\n",
       "      <td>0.028866</td>\n",
       "      <td>334.670839</td>\n",
       "      <td>336.738491</td>\n",
       "      <td>3.015252</td>\n",
       "      <td>0.670935</td>\n",
       "      <td>0.487810</td>\n",
       "      <td>0.221449</td>\n",
       "      <td>0.374835</td>\n",
       "      <td>...</td>\n",
       "      <td>5.108543e-06</td>\n",
       "      <td>1.824325e-05</td>\n",
       "      <td>0.000030</td>\n",
       "      <td>0.000026</td>\n",
       "      <td>0.000024</td>\n",
       "      <td>0.000026</td>\n",
       "      <td>0.000024</td>\n",
       "      <td>1.584817e-05</td>\n",
       "      <td>2.062088e-05</td>\n",
       "      <td>1.368695e-05</td>\n",
       "    </tr>\n",
       "    <tr>\n",
       "      <th>986</th>\n",
       "      <td>824112</td>\n",
       "      <td>0.000951</td>\n",
       "      <td>0.006105</td>\n",
       "      <td>141.500567</td>\n",
       "      <td>319.473322</td>\n",
       "      <td>2.640952</td>\n",
       "      <td>0.979775</td>\n",
       "      <td>0.037928</td>\n",
       "      <td>0.020141</td>\n",
       "      <td>0.023401</td>\n",
       "      <td>...</td>\n",
       "      <td>6.570203e-07</td>\n",
       "      <td>2.140676e-06</td>\n",
       "      <td>0.000003</td>\n",
       "      <td>0.000003</td>\n",
       "      <td>0.000002</td>\n",
       "      <td>0.000003</td>\n",
       "      <td>0.000002</td>\n",
       "      <td>9.138732e-07</td>\n",
       "      <td>9.695734e-07</td>\n",
       "      <td>7.496797e-07</td>\n",
       "    </tr>\n",
       "    <tr>\n",
       "      <th>989</th>\n",
       "      <td>824190</td>\n",
       "      <td>0.020083</td>\n",
       "      <td>0.031688</td>\n",
       "      <td>566.784906</td>\n",
       "      <td>448.838404</td>\n",
       "      <td>4.143219</td>\n",
       "      <td>0.590886</td>\n",
       "      <td>1.106777</td>\n",
       "      <td>0.532421</td>\n",
       "      <td>1.059489</td>\n",
       "      <td>...</td>\n",
       "      <td>-4.186168e-10</td>\n",
       "      <td>1.419412e-05</td>\n",
       "      <td>0.000017</td>\n",
       "      <td>0.000035</td>\n",
       "      <td>0.000034</td>\n",
       "      <td>0.000036</td>\n",
       "      <td>0.000034</td>\n",
       "      <td>4.256250e-05</td>\n",
       "      <td>3.509520e-05</td>\n",
       "      <td>3.205338e-05</td>\n",
       "    </tr>\n",
       "  </tbody>\n",
       "</table>\n",
       "<p>155 rows × 123 columns</p>\n",
       "</div>"
      ],
      "text/plain": [
       "         id  bayes.attenuation.E_BVs  bayes.attenuation.E_BVs_err  \\\n",
       "0    756228                 0.088857                     0.035769   \n",
       "2    756324                 0.142144                     0.081505   \n",
       "5    756381                 0.089931                     0.002999   \n",
       "14   756542                 0.249534                     0.008622   \n",
       "19   756650                 0.450849                     0.021279   \n",
       "..      ...                      ...                          ...   \n",
       "978  823998                 0.006525                     0.019346   \n",
       "981  824034                 0.006721                     0.016807   \n",
       "983  824065                 0.014784                     0.028866   \n",
       "986  824112                 0.000951                     0.006105   \n",
       "989  824190                 0.020083                     0.031688   \n",
       "\n",
       "     bayes.sfh.age_main  bayes.sfh.age_main_err  bayes.universe.redshift  \\\n",
       "0            417.624948              354.005857                 3.278320   \n",
       "2            526.144334              365.795022                 3.136364   \n",
       "5            100.658272               22.407275                 3.601789   \n",
       "14           100.170514               11.594269                 4.401081   \n",
       "19           100.002315                1.087818                 3.599899   \n",
       "..                  ...                     ...                      ...   \n",
       "978          484.234110              417.265533                 4.258428   \n",
       "981          497.113674              337.545777                 2.540534   \n",
       "983          334.670839              336.738491                 3.015252   \n",
       "986          141.500567              319.473322                 2.640952   \n",
       "989          566.784906              448.838404                 4.143219   \n",
       "\n",
       "     bayes.universe.redshift_err  bayes.sfh.sfr  bayes.sfh.sfr_err  \\\n",
       "0                       0.525038       3.558649           1.834240   \n",
       "2                       0.510097       3.385109           2.849470   \n",
       "5                       0.055604       7.290918           0.364546   \n",
       "14                      0.286135      13.469845           1.298317   \n",
       "19                      0.021833      19.724432           1.713810   \n",
       "..                           ...            ...                ...   \n",
       "978                     0.979942       1.457550           0.721397   \n",
       "981                     0.277544       0.228684           0.087718   \n",
       "983                     0.670935       0.487810           0.221449   \n",
       "986                     0.979775       0.037928           0.020141   \n",
       "989                     0.590886       1.106777           0.532421   \n",
       "\n",
       "     bayes.sfh.sfr100Myrs  ...  best.subaru.suprime.IB427  \\\n",
       "0                2.915679  ...               1.467487e-05   \n",
       "2                2.944019  ...               1.228186e-05   \n",
       "5                3.845178  ...               1.186805e-05   \n",
       "14               7.477333  ...              -3.560853e-10   \n",
       "19              10.549690  ...               3.704218e-07   \n",
       "..                    ...  ...                        ...   \n",
       "978              1.414571  ...               0.000000e+00   \n",
       "981              0.219566  ...               1.675115e-05   \n",
       "983              0.374835  ...               5.108543e-06   \n",
       "986              0.023401  ...               6.570203e-07   \n",
       "989              1.059489  ...              -4.186168e-10   \n",
       "\n",
       "     best.subaru.suprime.IB505  best.subaru.suprime.IB574  \\\n",
       "0                 3.040419e-05                   0.000063   \n",
       "2                 4.935640e-05                   0.000037   \n",
       "5                 5.654811e-05                   0.000117   \n",
       "14                3.060166e-07                   0.000010   \n",
       "19                3.433116e-06                   0.000009   \n",
       "..                         ...                        ...   \n",
       "978               0.000000e+00                   0.000003   \n",
       "981               1.766437e-05                   0.000017   \n",
       "983               1.824325e-05                   0.000030   \n",
       "986               2.140676e-06                   0.000003   \n",
       "989               1.419412e-05                   0.000017   \n",
       "\n",
       "     best.subaru.suprime.IB709  best.subaru.suprime.IB827  \\\n",
       "0                     0.000065                   0.000071   \n",
       "2                     0.000043                   0.000043   \n",
       "5                     0.000121                   0.000124   \n",
       "14                    0.000035                   0.000041   \n",
       "19                    0.000013                   0.000015   \n",
       "..                         ...                        ...   \n",
       "978                   0.000013                   0.000060   \n",
       "981                   0.000017                   0.000016   \n",
       "983                   0.000026                   0.000024   \n",
       "986                   0.000003                   0.000002   \n",
       "989                   0.000035                   0.000034   \n",
       "\n",
       "     best.subaru.suprime.NB711  best.subaru.suprime.NB816  \\\n",
       "0                     0.000065                   0.000071   \n",
       "2                     0.000043                   0.000043   \n",
       "5                     0.000120                   0.000124   \n",
       "14                    0.000036                   0.000041   \n",
       "19                    0.000013                   0.000015   \n",
       "..                         ...                        ...   \n",
       "978                   0.000012                   0.000060   \n",
       "981                   0.000017                   0.000017   \n",
       "983                   0.000026                   0.000024   \n",
       "986                   0.000003                   0.000002   \n",
       "989                   0.000036                   0.000034   \n",
       "\n",
       "     best.spitzer.irac.ch1  best.spitzer.irac.ch2  best.spitzer.irac.ch3  \n",
       "0             1.196896e-04           1.428054e-04           1.476414e-04  \n",
       "2             1.022433e-04           1.066111e-04           1.009454e-04  \n",
       "5             1.232406e-04           1.542069e-04           1.061178e-04  \n",
       "14            1.587561e-04           9.742184e-05           1.379322e-04  \n",
       "19            1.311768e-04           2.264904e-04           1.855936e-04  \n",
       "..                     ...                    ...                    ...  \n",
       "978           2.368231e-05           3.938737e-05           2.702594e-05  \n",
       "981           1.841179e-05           1.685075e-05           1.723205e-05  \n",
       "983           1.584817e-05           2.062088e-05           1.368695e-05  \n",
       "986           9.138732e-07           9.695734e-07           7.496797e-07  \n",
       "989           4.256250e-05           3.509520e-05           3.205338e-05  \n",
       "\n",
       "[155 rows x 123 columns]"
      ]
     },
     "execution_count": 41,
     "metadata": {},
     "output_type": "execute_result"
    }
   ],
   "source": [
    "info_good_fits"
   ]
  },
  {
   "cell_type": "markdown",
   "id": "be8b036c-c789-48dd-a6ed-9b5e430585cd",
   "metadata": {},
   "source": [
    "# Searching for Quenched Neighbors"
   ]
  },
  {
   "cell_type": "markdown",
   "id": "95f084ef-25c4-421e-828b-36c170e66b2c",
   "metadata": {},
   "source": [
    "Now, let's calculate the specific star formation rate (sSFR) of all the good-fit galaxies to see which ones are quenched. \n",
    "\n",
    "The equation for sSFR is as follows for each galaxy:\n",
    "$$\n",
    "sSFR=log_{10}(\\frac{SFR}{M_*})\n",
    "$$\n",
    "For our intents and purposes, a galaxy is quenched if <b>sSFR < -9.8</b>."
   ]
  },
  {
   "cell_type": "code",
   "execution_count": 44,
   "id": "4c8b3328-09f7-46ce-95d7-2ecbbf944ecd",
   "metadata": {},
   "outputs": [],
   "source": [
    "# calculate sSFR. \"all_candis\" means \"all candidates\". I'm just too lazy to spell it all out.\n",
    "ssfr_all_candis_bayes = np.log10(info_good_fits['bayes.sfh.sfr'].values / info_good_fits['bayes.stellar.m_star'].values)\n",
    "ssfr_all_candis_best = np.log10(info_good_fits['best.sfh.sfr'].values / info_good_fits['best.stellar.m_star'].values)"
   ]
  },
  {
   "cell_type": "code",
   "execution_count": 45,
   "id": "dcc43d6a-5724-4b89-8742-04c96e42af1a",
   "metadata": {},
   "outputs": [
    {
     "data": {
      "text/plain": [
       "Text(0, 0.5, 'amount')"
      ]
     },
     "execution_count": 45,
     "metadata": {},
     "output_type": "execute_result"
    },
    {
     "data": {
      "image/png": "[encoded data removed]",
      "text/plain": [
       "<Figure size 1100x400 with 2 Axes>"
      ]
     },
     "metadata": {},
     "output_type": "display_data"
    }
   ],
   "source": [
    "# now we make two histograms to compare how many quenched neighbors are identified with either bayes or best\n",
    "fig, ax = plt.subplots(1, 2, figsize=(11, 4))\n",
    "ax[0].hist(ssfr_all_candis_bayes, bins=30)\n",
    "ax[0].set_title('sSFR estimated with bayes')\n",
    "ax[0].set_xlabel('redshift')\n",
    "ax[0].set_ylabel('amount')\n",
    "\n",
    "ax[1].hist(ssfr_all_candis_best, bins=30)\n",
    "ax[1].set_title('sSFR estimated with best')\n",
    "ax[1].set_xlabel('redshift')\n",
    "ax[1].set_ylabel('amount')"
   ]
  },
  {
   "cell_type": "code",
   "execution_count": 46,
   "id": "6e427862-1c09-4eef-a44c-28814221a56c",
   "metadata": {},
   "outputs": [
    {
     "data": {
      "text/plain": [
       "(-9.9, -7.484999999999999)"
      ]
     },
     "execution_count": 46,
     "metadata": {},
     "output_type": "execute_result"
    },
    {
     "data": {
      "image/png": "[encoded data removed]",
      "text/plain": [
       "<Figure size 700x400 with 1 Axes>"
      ]
     },
     "metadata": {},
     "output_type": "display_data"
    }
   ],
   "source": [
    "fig, ax = plt.subplots(figsize=(7,4))\n",
    "plt.hist(ssfr_all_candis_bayes, bins=np.linspace(-9.9, -7.6, 35), color=\"skyblue\", alpha=0.6, label='bayes')\n",
    "plt.hist(ssfr_all_candis_best, bins=np.linspace(-9.9, -7.6, 35), color=\"lightpink\", alpha=0.6, label='best')\n",
    "plt.legend()\n",
    "plt.xlim(-9.9)"
   ]
  },
  {
   "cell_type": "markdown",
   "id": "a3f1ac6e-460e-4643-834d-5395a39c71ed",
   "metadata": {},
   "source": [
    "So from the sSFRs estimated with best, we do find quenched neighbors. How many of them do we have, exactly? And which central galaxies do they belong to?"
   ]
  },
  {
   "cell_type": "code",
   "execution_count": 48,
   "id": "d8ea7b4c-de8c-4714-bc8e-6617cbf878d0",
   "metadata": {},
   "outputs": [],
   "source": [
    "quenched = info_good_fits[ssfr_all_candis_best < -9.8]['id'].values"
   ]
  },
  {
   "cell_type": "code",
   "execution_count": 49,
   "id": "59d94995-ca96-4970-a820-fde2e5d85267",
   "metadata": {},
   "outputs": [
    {
     "name": "stdout",
     "output_type": "stream",
     "text": [
      "[('Bach-Dang', 150.11256, 2.3765266, 2.474)]\n"
     ]
    }
   ],
   "source": [
    "# now, we're going to look for the indices associated with the central galaxies \n",
    "# of the potential quenched neighbor(s) we have. remember: those are indices that\n",
    "# we ourselves assigned, ranging from 0 to 8 for our sample of 9 QGs.\n",
    "\n",
    "# first, load in the CSV file that contains our assigned indices\n",
    "neigh_file = pd.read_csv('neighbor_data.csv')\n",
    "\n",
    "# next, read in the TXT file with the basic info of our 9 galaxies,\n",
    "# whose rows follow the order of our assigned indices\n",
    "info = np.genfromtxt('basic_data.txt', delimiter=' ', dtype=['U15', '<f8','<f8', '<f8'])\n",
    "\n",
    "# finally, loop through the list of potential quenched neighbors\n",
    "# and find the assigned indices that are associated with their central galaxies\n",
    "for i in range(np.size(quenched)):\n",
    "    central_id = neigh_file['our_id'][neigh_file['id']==quenched[i]]\n",
    "    # now print the basic info of the central galaxy associated with each quenched neighbor\n",
    "    print(info[central_id])"
   ]
  },
  {
   "cell_type": "markdown",
   "id": "4b7e89a6-6f9d-4bda-b608-c1ceb58bb679",
   "metadata": {},
   "source": [
    "So there's only one quenched neighbor of one quenched galaxy. What does that quenched neighbor's fit look like?"
   ]
  },
  {
   "cell_type": "markdown",
   "id": "9957b2e9-6988-4161-ad57-8ec1b6a90760",
   "metadata": {},
   "source": [
    "<b>Thursday, August 22, 2024:</b> Let's take a break here and come back later"
   ]
  },
  {
   "cell_type": "markdown",
   "id": "02375610-e603-4e18-b913-cb907f9c5785",
   "metadata": {},
   "source": [
    "# Exporting a Final DataFrame\n",
    "\n",
    "Now, we make one FINAL DataFrame with all our potential neighbors. We also retrieve their RA and Dec from the original <b>neighbor_data.csv</b> file.\n"
   ]
  },
  {
   "cell_type": "code",
   "execution_count": 53,
   "id": "f6d1b2d6-5fa8-43ff-818a-2b0bb8827f82",
   "metadata": {},
   "outputs": [],
   "source": [
    "# these lines retrieve their RA and Dec from the original neighbor_data.csv file\n",
    "good_fits_ra = df2[['id', 'ra']].loc[catalog_id.isin(info_good_fits['id'].values)]\n",
    "good_fits_dec = df2[['id', 'dec']].loc[catalog_id.isin(info_good_fits['id'].values)]"
   ]
  },
  {
   "cell_type": "code",
   "execution_count": 54,
   "id": "a0445cc1-e6e4-4b89-aeb0-59c56aae8938",
   "metadata": {},
   "outputs": [],
   "source": [
    "# this creates a DataFrame with the RA and Dec of our good-fits neighbors\n",
    "good_fits_df = pd.merge(pd.merge(info_good_fits, good_fits_ra, on=\"id\", how=\"left\"), good_fits_dec, on=\"id\", how=\"left\")"
   ]
  },
  {
   "cell_type": "code",
   "execution_count": 55,
   "id": "a565aea9-3cd6-4c39-956d-8629eb5cf049",
   "metadata": {},
   "outputs": [],
   "source": [
    "final_df = good_fits_df[['id', 'ra', 'dec', 'bayes.universe.redshift', 'bayes.universe.redshift_err', \n",
    "                         'bayes.stellar.m_star', 'bayes.stellar.m_star_err', 'bayes.sfh.sfr', \n",
    "                         'bayes.sfh.sfr_err', 'bayes.sfh.sfr100Myrs', 'bayes.sfh.sfr100Myrs_err', \n",
    "                         'bayes.attenuation.E_BVs', 'bayes.attenuation.E_BVs_err']]"
   ]
  },
  {
   "cell_type": "markdown",
   "id": "11583e4c-c138-4089-8ee6-bcfb722c504a",
   "metadata": {},
   "source": [
    "## <b>BEHOLD!</b> Our final table!"
   ]
  },
  {
   "cell_type": "code",
   "execution_count": 57,
   "id": "fbe7a257-e63a-4fde-9eb1-c6b2f55b3282",
   "metadata": {},
   "outputs": [
    {
     "name": "stdout",
     "output_type": "stream",
     "text": [
      "         id          ra       dec  bayes.universe.redshift  \\\n",
      "0    756228  150.061200  2.374627                 3.278320   \n",
      "1    756324  150.062186  2.375231                 3.136364   \n",
      "2    756381  150.058607  2.377135                 3.601789   \n",
      "3    756542  150.064461  2.376458                 4.401081   \n",
      "4    756650  150.059622  2.379230                 3.599899   \n",
      "..      ...         ...       ...                      ...   \n",
      "150  823998  150.106560  2.333423                 4.258428   \n",
      "151  824034  150.108001  2.333181                 2.540534   \n",
      "152  824065  150.112878  2.331558                 3.015252   \n",
      "153  824112  150.110146  2.332911                 2.640952   \n",
      "154  824190  150.108294  2.334233                 4.143219   \n",
      "\n",
      "     bayes.universe.redshift_err  bayes.stellar.m_star  \\\n",
      "0                       0.525038          4.061610e+08   \n",
      "1                       0.510097          4.636836e+08   \n",
      "2                       0.055604          3.171661e+08   \n",
      "3                       0.286135          6.127644e+08   \n",
      "4                       0.021833          8.667085e+08   \n",
      "..                           ...                   ...   \n",
      "150                     0.979942          2.299701e+08   \n",
      "151                     0.277544          3.390000e+07   \n",
      "152                     0.670935          4.760431e+07   \n",
      "153                     0.979775          1.963230e+06   \n",
      "154                     0.590886          1.880346e+08   \n",
      "\n",
      "     bayes.stellar.m_star_err  bayes.sfh.sfr  bayes.sfh.sfr_err  \\\n",
      "0                1.907906e+08       3.558649           1.834240   \n",
      "1                2.135821e+08       3.385109           2.849470   \n",
      "2                3.877076e+07       7.290918           0.364546   \n",
      "3                7.763398e+07      13.469845           1.298317   \n",
      "4                8.735353e+07      19.724432           1.713810   \n",
      "..                        ...            ...                ...   \n",
      "150              1.343620e+08       1.457550           0.721397   \n",
      "151              1.197065e+07       0.228684           0.087718   \n",
      "152              2.741742e+07       0.487810           0.221449   \n",
      "153              9.547561e+05       0.037928           0.020141   \n",
      "154              8.989084e+07       1.106777           0.532421   \n",
      "\n",
      "     bayes.sfh.sfr100Myrs  bayes.sfh.sfr100Myrs_err  bayes.attenuation.E_BVs  \\\n",
      "0                2.915679                  1.008538                 0.088857   \n",
      "1                2.944019                  1.854016                 0.142144   \n",
      "2                3.845178                  0.250659                 0.089931   \n",
      "3                7.477333                  0.994708                 0.249534   \n",
      "4               10.549690                  1.112210                 0.450849   \n",
      "..                    ...                       ...                      ...   \n",
      "150              1.414571                  0.651949                 0.006525   \n",
      "151              0.219566                  0.060039                 0.006721   \n",
      "152              0.374835                  0.148127                 0.014784   \n",
      "153              0.023401                  0.011483                 0.000951   \n",
      "154              1.059489                  0.385980                 0.020083   \n",
      "\n",
      "     bayes.attenuation.E_BVs_err  \n",
      "0                       0.035769  \n",
      "1                       0.081505  \n",
      "2                       0.002999  \n",
      "3                       0.008622  \n",
      "4                       0.021279  \n",
      "..                           ...  \n",
      "150                     0.019346  \n",
      "151                     0.016807  \n",
      "152                     0.028866  \n",
      "153                     0.006105  \n",
      "154                     0.031688  \n",
      "\n",
      "[155 rows x 13 columns]\n"
     ]
    }
   ],
   "source": [
    "print(final_df)"
   ]
  },
  {
   "cell_type": "markdown",
   "id": "30227665-5612-4cb1-a36e-8fe769366989",
   "metadata": {},
   "source": [
    "## NOTES: Aug 20, 2024.<br>\n",
    "### formatting stuff for our table:<br>\n",
    "### M*: log10(mass) $\\pm$ (0.434$\\frac{uncertainty}{mass}$)<br>\n",
    "### SFR: leave NO decimal\n",
    "### z$_{phot}$: leave one significant figure (tenth decimal), same for error\n",
    "### RA, Dec: follow form 00:00:00.00 (use code)\n",
    "### log10(specific SFR) where Specific SFR = $\\frac{SFR}{M*}$ and follows form \"-8.2\" or \"-12\"\n",
    "### in cases where specific SFR < -12, just say \"< -12\".\n",
    "### in cases where SFR is beyond one decimal point (0.03) then write 0. maybe note this down."
   ]
  },
  {
   "cell_type": "code",
   "execution_count": 59,
   "id": "d33a829d-4752-4abf-9d3f-9ac885bff9ab",
   "metadata": {},
   "outputs": [
    {
     "data": {
      "text/html": [
       "<div>\n",
       "<style scoped>\n",
       "    .dataframe tbody tr th:only-of-type {\n",
       "        vertical-align: middle;\n",
       "    }\n",
       "\n",
       "    .dataframe tbody tr th {\n",
       "        vertical-align: top;\n",
       "    }\n",
       "\n",
       "    .dataframe thead th {\n",
       "        text-align: right;\n",
       "    }\n",
       "</style>\n",
       "<table border=\"1\" class=\"dataframe\">\n",
       "  <thead>\n",
       "    <tr style=\"text-align: right;\">\n",
       "      <th></th>\n",
       "      <th>ra</th>\n",
       "      <th>dec</th>\n",
       "      <th>bayes.stellar.m_star</th>\n",
       "      <th>bayes.sfh.sfr</th>\n",
       "      <th>bayes.universe.redshift</th>\n",
       "    </tr>\n",
       "  </thead>\n",
       "  <tbody>\n",
       "    <tr>\n",
       "      <th>0</th>\n",
       "      <td>150.061200</td>\n",
       "      <td>2.374627</td>\n",
       "      <td>4.061610e+08</td>\n",
       "      <td>3.558649</td>\n",
       "      <td>3.278320</td>\n",
       "    </tr>\n",
       "    <tr>\n",
       "      <th>1</th>\n",
       "      <td>150.062186</td>\n",
       "      <td>2.375231</td>\n",
       "      <td>4.636836e+08</td>\n",
       "      <td>3.385109</td>\n",
       "      <td>3.136364</td>\n",
       "    </tr>\n",
       "    <tr>\n",
       "      <th>2</th>\n",
       "      <td>150.058607</td>\n",
       "      <td>2.377135</td>\n",
       "      <td>3.171661e+08</td>\n",
       "      <td>7.290918</td>\n",
       "      <td>3.601789</td>\n",
       "    </tr>\n",
       "    <tr>\n",
       "      <th>3</th>\n",
       "      <td>150.064461</td>\n",
       "      <td>2.376458</td>\n",
       "      <td>6.127644e+08</td>\n",
       "      <td>13.469845</td>\n",
       "      <td>4.401081</td>\n",
       "    </tr>\n",
       "    <tr>\n",
       "      <th>4</th>\n",
       "      <td>150.059622</td>\n",
       "      <td>2.379230</td>\n",
       "      <td>8.667085e+08</td>\n",
       "      <td>19.724432</td>\n",
       "      <td>3.599899</td>\n",
       "    </tr>\n",
       "    <tr>\n",
       "      <th>...</th>\n",
       "      <td>...</td>\n",
       "      <td>...</td>\n",
       "      <td>...</td>\n",
       "      <td>...</td>\n",
       "      <td>...</td>\n",
       "    </tr>\n",
       "    <tr>\n",
       "      <th>150</th>\n",
       "      <td>150.106560</td>\n",
       "      <td>2.333423</td>\n",
       "      <td>2.299701e+08</td>\n",
       "      <td>1.457550</td>\n",
       "      <td>4.258428</td>\n",
       "    </tr>\n",
       "    <tr>\n",
       "      <th>151</th>\n",
       "      <td>150.108001</td>\n",
       "      <td>2.333181</td>\n",
       "      <td>3.390000e+07</td>\n",
       "      <td>0.228684</td>\n",
       "      <td>2.540534</td>\n",
       "    </tr>\n",
       "    <tr>\n",
       "      <th>152</th>\n",
       "      <td>150.112878</td>\n",
       "      <td>2.331558</td>\n",
       "      <td>4.760431e+07</td>\n",
       "      <td>0.487810</td>\n",
       "      <td>3.015252</td>\n",
       "    </tr>\n",
       "    <tr>\n",
       "      <th>153</th>\n",
       "      <td>150.110146</td>\n",
       "      <td>2.332911</td>\n",
       "      <td>1.963230e+06</td>\n",
       "      <td>0.037928</td>\n",
       "      <td>2.640952</td>\n",
       "    </tr>\n",
       "    <tr>\n",
       "      <th>154</th>\n",
       "      <td>150.108294</td>\n",
       "      <td>2.334233</td>\n",
       "      <td>1.880346e+08</td>\n",
       "      <td>1.106777</td>\n",
       "      <td>4.143219</td>\n",
       "    </tr>\n",
       "  </tbody>\n",
       "</table>\n",
       "<p>155 rows × 5 columns</p>\n",
       "</div>"
      ],
      "text/plain": [
       "             ra       dec  bayes.stellar.m_star  bayes.sfh.sfr  \\\n",
       "0    150.061200  2.374627          4.061610e+08       3.558649   \n",
       "1    150.062186  2.375231          4.636836e+08       3.385109   \n",
       "2    150.058607  2.377135          3.171661e+08       7.290918   \n",
       "3    150.064461  2.376458          6.127644e+08      13.469845   \n",
       "4    150.059622  2.379230          8.667085e+08      19.724432   \n",
       "..          ...       ...                   ...            ...   \n",
       "150  150.106560  2.333423          2.299701e+08       1.457550   \n",
       "151  150.108001  2.333181          3.390000e+07       0.228684   \n",
       "152  150.112878  2.331558          4.760431e+07       0.487810   \n",
       "153  150.110146  2.332911          1.963230e+06       0.037928   \n",
       "154  150.108294  2.334233          1.880346e+08       1.106777   \n",
       "\n",
       "     bayes.universe.redshift  \n",
       "0                   3.278320  \n",
       "1                   3.136364  \n",
       "2                   3.601789  \n",
       "3                   4.401081  \n",
       "4                   3.599899  \n",
       "..                       ...  \n",
       "150                 4.258428  \n",
       "151                 2.540534  \n",
       "152                 3.015252  \n",
       "153                 2.640952  \n",
       "154                 4.143219  \n",
       "\n",
       "[155 rows x 5 columns]"
      ]
     },
     "execution_count": 59,
     "metadata": {},
     "output_type": "execute_result"
    }
   ],
   "source": [
    "final_df[['ra', 'dec', 'bayes.stellar.m_star', 'bayes.sfh.sfr', 'bayes.universe.redshift']]"
   ]
  },
  {
   "cell_type": "code",
   "execution_count": 60,
   "id": "fe143166-d4c9-413e-8ca8-4b9f71ca4546",
   "metadata": {},
   "outputs": [],
   "source": [
    "# this saves the RA and Dec into 00:00:00.00 format, which we'll then use for our LaTeX table.\n",
    "# the code was copy-pasted from Arianna, of course.\n",
    "save_coords = SkyCoord(final_df['ra'].values*u.deg, final_df['dec'].values*u.deg)\n",
    "ras = []\n",
    "decs = []\n",
    "for i in zip(save_coords.ra.hms[0], save_coords.ra.hms[1],save_coords.ra.hms[2]):\n",
    "    if (len(str(round(i[2],2))) >= 5):\n",
    "        ras.append(str(round(i[0])).zfill(2)+':'+str(round(i[1])).zfill(2)+':'+str(round(i[2],2)).zfill(4))\n",
    "    elif ((len(str(round(i[2],2))) == 4) & (round(i[2],2) < 10)):\n",
    "        ras.append(str(round(i[0])).zfill(2)+':'+str(round(i[1])).zfill(2)+':'+str(round(i[2],2)).zfill(5))\n",
    "    else:\n",
    "        ras.append(str(round(i[0])).zfill(2)+':'+str(round(i[1])).zfill(2)+':'+str(round(i[2],2)).zfill(4))\n",
    "for i in zip(save_coords.dec.dms[0], save_coords.dec.dms[1],save_coords.dec.dms[2]):\n",
    "    if (len(str(round(i[2],2))) >= 5):\n",
    "        decs.append('$+$'+str(round(i[0])).zfill(2)+':'+str(round(i[1])).zfill(2)+':'+str(round(i[2],2)).zfill(4))\n",
    "    elif ((len(str(round(i[2],2))) == 4) & (round(i[2],2) < 10)):\n",
    "        decs.append('$+$'+str(round(i[0])).zfill(2)+':'+str(round(i[1])).zfill(2)+':'+str(round(i[2],2)).zfill(5))\n",
    "    else:\n",
    "        decs.append('$+$'+str(round(i[0])).zfill(2)+':'+str(round(i[1])).zfill(2)+':'+str(round(i[2],2)).zfill(4))"
   ]
  },
  {
   "cell_type": "code",
   "execution_count": 61,
   "id": "e3c82545-8331-4f12-9197-8188bf691741",
   "metadata": {},
   "outputs": [],
   "source": [
    "# first, this makes a TXT file of the good fits to send to Erini\n",
    "f = open('good_fits_ra_dec.txt', 'w')\n",
    "for i in range(np.size(ras)):\n",
    "    each_line = str(final_df['id'].values[i]) + ' ' + str(ras[i]) + ' +' + str(decs[i][3:]) + '\\n'\n",
    "    f.write(each_line)\n",
    "\n",
    "f.close()"
   ]
  },
  {
   "cell_type": "code",
   "execution_count": 62,
   "id": "7e28a268-cf81-4904-b18d-1ce09b304d78",
   "metadata": {},
   "outputs": [],
   "source": [
    "# this saves the redshift values into one-decimal form, which we'll use for our LaTeX table.\n",
    "photz_values = np.round(final_df['bayes.universe.redshift'].values, 1)\n",
    "photz_errors_unrounded = final_df['bayes.universe.redshift_err'].values\n",
    "photz = []\n",
    "for z_idx in range(np.size(photz_values)):\n",
    "    photz_err = photz_errors_unrounded[z_idx]\n",
    "    # this checks to see if the redshift error is too close to 0. then we round it up to 0.1.\n",
    "    if np.abs(0.1 - photz_err) > photz_err:\n",
    "        photz.append(str(photz_values[z_idx]) + ' $' + chr(92) + 'pm$ ' + str(0.1))\n",
    "    else:\n",
    "        photz_err_rounded = np.round(photz_err, 1)\n",
    "        photz.append(str(photz_values[z_idx]) + ' $' + chr(92) + 'pm$ ' + str(photz_err_rounded))"
   ]
  },
  {
   "cell_type": "code",
   "execution_count": 63,
   "id": "10f4d7be-9aea-44d9-962f-31a0bcebaa3e",
   "metadata": {},
   "outputs": [],
   "source": [
    "# this saves the M* into log10(mass) +- (0.434*uncertainty/mass) form, which we'll use for our LaTeX table.\n",
    "mass_values = np.round(np.log10(final_df['bayes.stellar.m_star'].values), 1)\n",
    "mass_errors_unrounded = 0.434 * final_df['bayes.stellar.m_star_err'].values / final_df['bayes.stellar.m_star'].values\n",
    "mass = []\n",
    "for m_idx in range(np.size(mass_values)):\n",
    "    mass_err = mass_errors_unrounded[m_idx]\n",
    "    # this checks to see if the mass error is too close to 0. then we round it up to 0.1.\n",
    "    if np.abs(0.1 - mass_err) > mass_err:\n",
    "        mass.append(str(mass_values[m_idx]) + ' $' + chr(92) + 'pm$ ' + str(0.1))\n",
    "    else:\n",
    "        mass_err_rounded = np.round(mass_err, 1)\n",
    "        mass.append(str(mass_values[m_idx]) + ' $' + chr(92) + 'pm$ ' + str(mass_err_rounded))"
   ]
  },
  {
   "cell_type": "code",
   "execution_count": 64,
   "id": "30eb02e7-1511-4b3b-81e9-69b75fe9c984",
   "metadata": {},
   "outputs": [],
   "source": [
    "# this saves the SFR values into decimal-less form, which we'll use for our LaTeX table.\n",
    "sfr_values = np.int64(final_df['bayes.sfh.sfr'].values)\n",
    "sfr_errors_unrounded = final_df['bayes.sfh.sfr_err'].values\n",
    "sfr = []\n",
    "for sfr_idx in range(np.size(sfr_values)):\n",
    "    sfr_err = sfr_errors_unrounded[sfr_idx]\n",
    "    # this checks to see if the SFR error is too close to 0. then we round it up to 1.\n",
    "    if sfr_err > 0 and sfr_err < 1:\n",
    "        sfr.append(str(sfr_values[sfr_idx]) + ' $' + chr(92) + 'pm$ ' + str(1))\n",
    "    else:\n",
    "        sfr_err_rounded = np.int64(sfr_err)\n",
    "        sfr.append(str(sfr_values[sfr_idx]) + ' $' + chr(92) + 'pm$ ' + str(sfr_err_rounded))"
   ]
  },
  {
   "cell_type": "code",
   "execution_count": 65,
   "id": "f3fcc938-15cc-4d49-a81c-c7df3b739a63",
   "metadata": {},
   "outputs": [],
   "source": [
    "# this saves the SSFR values\n",
    "ssfr_calc = np.log10(final_df['bayes.sfh.sfr'].values / final_df['bayes.stellar.m_star'].values)\n",
    "ssfr = []\n",
    "for ssfr_value in ssfr_calc:\n",
    "    ssfr.append('$-$' + str(np.round(np.abs(ssfr_value), 1)))"
   ]
  },
  {
   "cell_type": "code",
   "execution_count": 66,
   "id": "cbadd0ce-0afd-4f38-b854-e24da79d68a4",
   "metadata": {},
   "outputs": [
    {
     "name": "stderr",
     "output_type": "stream",
     "text": [
      "<>:2: SyntaxWarning: invalid escape sequence '\\o'\n",
      "<>:2: SyntaxWarning: invalid escape sequence '\\o'\n",
      "/var/folders/td/xh27mb7x6jz3g1splvmtw7z80000gn/T/ipykernel_4797/707299128.py:2: SyntaxWarning: invalid escape sequence '\\o'\n",
      "  'log$_{10}$(M$_*$/M$_\\odot$)': mass, 'SFR(M$_*$/yr)': sfr, 'log$_{10}$(sSFR/yr)': ssfr}\n"
     ]
    }
   ],
   "source": [
    "latex_table = {'R.A.': ras, 'Decl.': decs, 'z$_{phot}$': photz, \n",
    "               'log$_{10}$(M$_*$/M$_\\odot$)': mass, 'SFR(M$_*$/yr)': sfr, 'log$_{10}$(sSFR/yr)': ssfr}\n",
    "latex = pd.DataFrame(latex_table)"
   ]
  },
  {
   "cell_type": "code",
   "execution_count": 67,
   "id": "657175d9-1cf4-4ff2-bdb2-ec440fea363e",
   "metadata": {},
   "outputs": [
    {
     "data": {
      "text/html": [
       "<div>\n",
       "<style scoped>\n",
       "    .dataframe tbody tr th:only-of-type {\n",
       "        vertical-align: middle;\n",
       "    }\n",
       "\n",
       "    .dataframe tbody tr th {\n",
       "        vertical-align: top;\n",
       "    }\n",
       "\n",
       "    .dataframe thead th {\n",
       "        text-align: right;\n",
       "    }\n",
       "</style>\n",
       "<table border=\"1\" class=\"dataframe\">\n",
       "  <thead>\n",
       "    <tr style=\"text-align: right;\">\n",
       "      <th></th>\n",
       "      <th>R.A.</th>\n",
       "      <th>Decl.</th>\n",
       "      <th>z$_{phot}$</th>\n",
       "      <th>log$_{10}$(M$_*$/M$_\\odot$)</th>\n",
       "      <th>SFR(M$_*$/yr)</th>\n",
       "      <th>log$_{10}$(sSFR/yr)</th>\n",
       "    </tr>\n",
       "  </thead>\n",
       "  <tbody>\n",
       "    <tr>\n",
       "      <th>0</th>\n",
       "      <td>10:00:14.69</td>\n",
       "      <td>$+$02:22:28.66</td>\n",
       "      <td>3.3 $\\pm$ 0.5</td>\n",
       "      <td>8.6 $\\pm$ 0.2</td>\n",
       "      <td>3 $\\pm$ 1</td>\n",
       "      <td>$-$8.1</td>\n",
       "    </tr>\n",
       "    <tr>\n",
       "      <th>1</th>\n",
       "      <td>10:00:14.92</td>\n",
       "      <td>$+$02:22:30.83</td>\n",
       "      <td>3.1 $\\pm$ 0.5</td>\n",
       "      <td>8.7 $\\pm$ 0.2</td>\n",
       "      <td>3 $\\pm$ 2</td>\n",
       "      <td>$-$8.1</td>\n",
       "    </tr>\n",
       "    <tr>\n",
       "      <th>2</th>\n",
       "      <td>10:00:14.07</td>\n",
       "      <td>$+$02:22:37.69</td>\n",
       "      <td>3.6 $\\pm$ 0.1</td>\n",
       "      <td>8.5 $\\pm$ 0.1</td>\n",
       "      <td>7 $\\pm$ 1</td>\n",
       "      <td>$-$7.6</td>\n",
       "    </tr>\n",
       "    <tr>\n",
       "      <th>3</th>\n",
       "      <td>10:00:15.47</td>\n",
       "      <td>$+$02:22:35.25</td>\n",
       "      <td>4.4 $\\pm$ 0.3</td>\n",
       "      <td>8.8 $\\pm$ 0.1</td>\n",
       "      <td>13 $\\pm$ 1</td>\n",
       "      <td>$-$7.7</td>\n",
       "    </tr>\n",
       "    <tr>\n",
       "      <th>4</th>\n",
       "      <td>10:00:14.31</td>\n",
       "      <td>$+$02:22:45.23</td>\n",
       "      <td>3.6 $\\pm$ 0.1</td>\n",
       "      <td>8.9 $\\pm$ 0.1</td>\n",
       "      <td>19 $\\pm$ 1</td>\n",
       "      <td>$-$7.6</td>\n",
       "    </tr>\n",
       "    <tr>\n",
       "      <th>...</th>\n",
       "      <td>...</td>\n",
       "      <td>...</td>\n",
       "      <td>...</td>\n",
       "      <td>...</td>\n",
       "      <td>...</td>\n",
       "      <td>...</td>\n",
       "    </tr>\n",
       "    <tr>\n",
       "      <th>150</th>\n",
       "      <td>10:00:25.57</td>\n",
       "      <td>$+$02:20:00.32</td>\n",
       "      <td>4.3 $\\pm$ 1.0</td>\n",
       "      <td>8.4 $\\pm$ 0.3</td>\n",
       "      <td>1 $\\pm$ 1</td>\n",
       "      <td>$-$8.2</td>\n",
       "    </tr>\n",
       "    <tr>\n",
       "      <th>151</th>\n",
       "      <td>10:00:25.92</td>\n",
       "      <td>$+$02:19:59.45</td>\n",
       "      <td>2.5 $\\pm$ 0.3</td>\n",
       "      <td>7.5 $\\pm$ 0.2</td>\n",
       "      <td>0 $\\pm$ 1</td>\n",
       "      <td>$-$8.2</td>\n",
       "    </tr>\n",
       "    <tr>\n",
       "      <th>152</th>\n",
       "      <td>10:00:27.09</td>\n",
       "      <td>$+$02:19:53.61</td>\n",
       "      <td>3.0 $\\pm$ 0.7</td>\n",
       "      <td>7.7 $\\pm$ 0.2</td>\n",
       "      <td>0 $\\pm$ 1</td>\n",
       "      <td>$-$8.0</td>\n",
       "    </tr>\n",
       "    <tr>\n",
       "      <th>153</th>\n",
       "      <td>10:00:26.43</td>\n",
       "      <td>$+$02:19:58.48</td>\n",
       "      <td>2.6 $\\pm$ 1.0</td>\n",
       "      <td>6.3 $\\pm$ 0.2</td>\n",
       "      <td>0 $\\pm$ 1</td>\n",
       "      <td>$-$7.7</td>\n",
       "    </tr>\n",
       "    <tr>\n",
       "      <th>154</th>\n",
       "      <td>10:00:25.99</td>\n",
       "      <td>$+$02:20:03.24</td>\n",
       "      <td>4.1 $\\pm$ 0.6</td>\n",
       "      <td>8.3 $\\pm$ 0.2</td>\n",
       "      <td>1 $\\pm$ 1</td>\n",
       "      <td>$-$8.2</td>\n",
       "    </tr>\n",
       "  </tbody>\n",
       "</table>\n",
       "<p>155 rows × 6 columns</p>\n",
       "</div>"
      ],
      "text/plain": [
       "            R.A.           Decl.     z$_{phot}$ log$_{10}$(M$_*$/M$_\\odot$)  \\\n",
       "0    10:00:14.69  $+$02:22:28.66  3.3 $\\pm$ 0.5               8.6 $\\pm$ 0.2   \n",
       "1    10:00:14.92  $+$02:22:30.83  3.1 $\\pm$ 0.5               8.7 $\\pm$ 0.2   \n",
       "2    10:00:14.07  $+$02:22:37.69  3.6 $\\pm$ 0.1               8.5 $\\pm$ 0.1   \n",
       "3    10:00:15.47  $+$02:22:35.25  4.4 $\\pm$ 0.3               8.8 $\\pm$ 0.1   \n",
       "4    10:00:14.31  $+$02:22:45.23  3.6 $\\pm$ 0.1               8.9 $\\pm$ 0.1   \n",
       "..           ...             ...            ...                         ...   \n",
       "150  10:00:25.57  $+$02:20:00.32  4.3 $\\pm$ 1.0               8.4 $\\pm$ 0.3   \n",
       "151  10:00:25.92  $+$02:19:59.45  2.5 $\\pm$ 0.3               7.5 $\\pm$ 0.2   \n",
       "152  10:00:27.09  $+$02:19:53.61  3.0 $\\pm$ 0.7               7.7 $\\pm$ 0.2   \n",
       "153  10:00:26.43  $+$02:19:58.48  2.6 $\\pm$ 1.0               6.3 $\\pm$ 0.2   \n",
       "154  10:00:25.99  $+$02:20:03.24  4.1 $\\pm$ 0.6               8.3 $\\pm$ 0.2   \n",
       "\n",
       "    SFR(M$_*$/yr) log$_{10}$(sSFR/yr)  \n",
       "0       3 $\\pm$ 1              $-$8.1  \n",
       "1       3 $\\pm$ 2              $-$8.1  \n",
       "2       7 $\\pm$ 1              $-$7.6  \n",
       "3      13 $\\pm$ 1              $-$7.7  \n",
       "4      19 $\\pm$ 1              $-$7.6  \n",
       "..            ...                 ...  \n",
       "150     1 $\\pm$ 1              $-$8.2  \n",
       "151     0 $\\pm$ 1              $-$8.2  \n",
       "152     0 $\\pm$ 1              $-$8.0  \n",
       "153     0 $\\pm$ 1              $-$7.7  \n",
       "154     1 $\\pm$ 1              $-$8.2  \n",
       "\n",
       "[155 rows x 6 columns]"
      ]
     },
     "execution_count": 67,
     "metadata": {},
     "output_type": "execute_result"
    }
   ],
   "source": [
    "latex"
   ]
  },
  {
   "cell_type": "code",
   "execution_count": 68,
   "id": "5310e5ba-5210-49c4-a641-0d2352e8b498",
   "metadata": {},
   "outputs": [
    {
     "name": "stdout",
     "output_type": "stream",
     "text": [
      "\\begin{tabular}{llllll}\n",
      "\\toprule\n",
      "R.A. & Decl. & z$_{phot}$ & log$_{10}$(M$_*$/M$_\\odot$) & SFR(M$_*$/yr) & log$_{10}$(sSFR/yr) \\\\\n",
      "\\midrule\n",
      "10:00:14.69 & $+$02:22:28.66 & 3.3 $\\pm$ 0.5 & 8.6 $\\pm$ 0.2 & 3 $\\pm$ 1 & $-$8.1 \\\\\n",
      "10:00:14.92 & $+$02:22:30.83 & 3.1 $\\pm$ 0.5 & 8.7 $\\pm$ 0.2 & 3 $\\pm$ 2 & $-$8.1 \\\\\n",
      "10:00:14.07 & $+$02:22:37.69 & 3.6 $\\pm$ 0.1 & 8.5 $\\pm$ 0.1 & 7 $\\pm$ 1 & $-$7.6 \\\\\n",
      "10:00:15.47 & $+$02:22:35.25 & 4.4 $\\pm$ 0.3 & 8.8 $\\pm$ 0.1 & 13 $\\pm$ 1 & $-$7.7 \\\\\n",
      "10:00:14.31 & $+$02:22:45.23 & 3.6 $\\pm$ 0.1 & 8.9 $\\pm$ 0.1 & 19 $\\pm$ 1 & $-$7.6 \\\\\n",
      "10:00:14.91 & $+$02:22:47.82 & 3.4 $\\pm$ 0.1 & 8.8 $\\pm$ 0.2 & 4 $\\pm$ 1 & $-$8.2 \\\\\n",
      "10:00:14.89 & $+$02:22:48.23 & 3.6 $\\pm$ 0.2 & 9.2 $\\pm$ 0.1 & 1 $\\pm$ 1 & $-$8.9 \\\\\n",
      "10:00:14.18 & $+$02:22:55.11 & 3.4 $\\pm$ 0.3 & 8.5 $\\pm$ 0.1 & 6 $\\pm$ 1 & $-$7.6 \\\\\n",
      "10:00:14.71 & $+$02:22:53.56 & 3.7 $\\pm$ 0.2 & 9.2 $\\pm$ 0.1 & 6 $\\pm$ 3 & $-$8.4 \\\\\n",
      "10:00:14.27 & $+$02:22:33.11 & 3.3 $\\pm$ 0.7 & 8.4 $\\pm$ 0.2 & 1 $\\pm$ 1 & $-$8.3 \\\\\n",
      "10:00:15.04 & $+$02:22:29.66 & 2.3 $\\pm$ 1.4 & 6.9 $\\pm$ 0.3 & 0 $\\pm$ 1 & $-$8.1 \\\\\n",
      "10:00:14.77 & $+$02:22:34.22 & 3.2 $\\pm$ 1.0 & 8.4 $\\pm$ 0.3 & 1 $\\pm$ 1 & $-$8.1 \\\\\n",
      "10:00:14.97 & $+$02:22:36.42 & 2.7 $\\pm$ 0.8 & 8.3 $\\pm$ 0.3 & 0 $\\pm$ 1 & $-$8.3 \\\\\n",
      "10:00:14.72 & $+$02:22:37.91 & 4.5 $\\pm$ 1.1 & 8.0 $\\pm$ 0.3 & 1 $\\pm$ 1 & $-$7.9 \\\\\n",
      "10:00:14.37 & $+$02:22:40.43 & 2.4 $\\pm$ 1.1 & 7.7 $\\pm$ 0.2 & 0 $\\pm$ 1 & $-$8.1 \\\\\n",
      "10:00:14.46 & $+$02:22:41.92 & 3.0 $\\pm$ 0.3 & 7.1 $\\pm$ 0.2 & 0 $\\pm$ 1 & $-$7.8 \\\\\n",
      "10:00:14.54 & $+$02:22:47.84 & 3.1 $\\pm$ 0.3 & 7.8 $\\pm$ 0.2 & 1 $\\pm$ 1 & $-$7.8 \\\\\n",
      "10:00:14.68 & $+$02:22:47.42 & 2.5 $\\pm$ 1.1 & 7.8 $\\pm$ 0.2 & 0 $\\pm$ 1 & $-$8.1 \\\\\n",
      "10:00:14.68 & $+$02:22:48.26 & 3.3 $\\pm$ 0.2 & 8.6 $\\pm$ 0.1 & 8 $\\pm$ 1 & $-$7.7 \\\\\n",
      "10:00:14.83 & $+$02:22:47.75 & 3.1 $\\pm$ 0.7 & 8.2 $\\pm$ 0.2 & 0 $\\pm$ 1 & $-$8.2 \\\\\n",
      "10:00:14.53 & $+$02:22:52.16 & 3.6 $\\pm$ 0.1 & 8.4 $\\pm$ 0.1 & 5 $\\pm$ 1 & $-$7.7 \\\\\n",
      "10:00:14.75 & $+$02:22:52.53 & 3.1 $\\pm$ 0.3 & 7.8 $\\pm$ 0.2 & 0 $\\pm$ 1 & $-$7.9 \\\\\n",
      "10:00:15.24 & $+$02:22:49.93 & 2.8 $\\pm$ 0.9 & 7.0 $\\pm$ 0.3 & 0 $\\pm$ 1 & $-$7.9 \\\\\n",
      "10:00:26.87 & $+$02:22:21.45 & 2.8 $\\pm$ 0.1 & 10.0 $\\pm$ 0.1 & 156 $\\pm$ 7 & $-$7.8 \\\\\n",
      "10:00:26.21 & $+$02:22:30.81 & 2.2 $\\pm$ 0.1 & 10.3 $\\pm$ 0.1 & 44 $\\pm$ 2 & $-$8.6 \\\\\n",
      "10:00:26.44 & $+$02:22:29.99 & 2.6 $\\pm$ 0.2 & 9.4 $\\pm$ 0.1 & 11 $\\pm$ 2 & $-$8.3 \\\\\n",
      "10:00:26.15 & $+$02:22:32.91 & 3.4 $\\pm$ 0.6 & 8.5 $\\pm$ 0.2 & 4 $\\pm$ 2 & $-$7.8 \\\\\n",
      "10:00:27.18 & $+$02:22:27.44 & 2.4 $\\pm$ 0.1 & 9.2 $\\pm$ 0.1 & 4 $\\pm$ 1 & $-$8.5 \\\\\n",
      "10:00:26.97 & $+$02:22:30.87 & 2.2 $\\pm$ 0.1 & 10.4 $\\pm$ 0.1 & 81 $\\pm$ 4 & $-$8.5 \\\\\n",
      "10:00:26.29 & $+$02:22:37.21 & 2.0 $\\pm$ 0.2 & 8.4 $\\pm$ 0.1 & 1 $\\pm$ 1 & $-$8.3 \\\\\n",
      "10:00:26.7 & $+$02:22:35.3 & 4.6 $\\pm$ 1.9 & 8.6 $\\pm$ 0.2 & 7 $\\pm$ 5 & $-$7.8 \\\\\n",
      "10:00:27.34 & $+$02:22:32.94 & 2.0 $\\pm$ 0.1 & 9.5 $\\pm$ 0.1 & 10 $\\pm$ 1 & $-$8.5 \\\\\n",
      "10:00:26.7 & $+$02:22:31.89 & 3.0 $\\pm$ 0.8 & 7.1 $\\pm$ 0.3 & 0 $\\pm$ 1 & $-$7.9 \\\\\n",
      "10:00:27.12 & $+$02:22:32.56 & 1.7 $\\pm$ 0.7 & 8.2 $\\pm$ 0.3 & 0 $\\pm$ 1 & $-$8.3 \\\\\n",
      "10:00:27.11 & $+$02:22:38.32 & 3.8 $\\pm$ 1.6 & 8.9 $\\pm$ 0.3 & 1 $\\pm$ 3 & $-$8.7 \\\\\n",
      "10:00:26.62 & $+$02:22:46.15 & 3.4 $\\pm$ 0.4 & 8.1 $\\pm$ 0.3 & 1 $\\pm$ 1 & $-$8.0 \\\\\n",
      "10:00:26.99 & $+$02:22:44.39 & 4.3 $\\pm$ 1.8 & 8.2 $\\pm$ 0.3 & 1 $\\pm$ 1 & $-$8.0 \\\\\n",
      "10:00:26.9 & $+$02:22:45.19 & 3.0 $\\pm$ 0.2 & 7.8 $\\pm$ 0.1 & 1 $\\pm$ 1 & $-$7.7 \\\\\n",
      "10:00:27.35 & $+$02:22:43.76 & 2.4 $\\pm$ 0.4 & 8.5 $\\pm$ 0.2 & 0 $\\pm$ 1 & $-$8.5 \\\\\n",
      "10:00:27.76 & $+$02:22:33.65 & 1.9 $\\pm$ 0.8 & 8.1 $\\pm$ 0.4 & 0 $\\pm$ 1 & $-$8.2 \\\\\n",
      "10:00:27.92 & $+$02:22:33.67 & 1.7 $\\pm$ 1.1 & 7.7 $\\pm$ 0.6 & 0 $\\pm$ 1 & $-$7.8 \\\\\n",
      "10:00:27.74 & $+$02:22:29.13 & 1.9 $\\pm$ 0.3 & 8.2 $\\pm$ 0.1 & 0 $\\pm$ 1 & $-$8.3 \\\\\n",
      "10:00:27.98 & $+$02:22:32.7 & 3.4 $\\pm$ 0.7 & 8.0 $\\pm$ 0.2 & 0 $\\pm$ 1 & $-$8.2 \\\\\n",
      "10:00:27.97 & $+$02:22:36.86 & 3.6 $\\pm$ 1.0 & 7.5 $\\pm$ 0.3 & 0 $\\pm$ 1 & $-$7.8 \\\\\n",
      "10:00:15.92 & $+$02:22:48.45 & 4.3 $\\pm$ 0.8 & 9.0 $\\pm$ 0.2 & 1 $\\pm$ 2 & $-$8.9 \\\\\n",
      "10:00:15.79 & $+$02:22:50.6 & 3.6 $\\pm$ 0.1 & 8.9 $\\pm$ 0.1 & 18 $\\pm$ 2 & $-$7.6 \\\\\n",
      "10:00:15.98 & $+$02:22:51.08 & 3.6 $\\pm$ 0.1 & 9.0 $\\pm$ 0.1 & 25 $\\pm$ 1 & $-$7.6 \\\\\n",
      "10:00:16.78 & $+$02:22:47.31 & 3.4 $\\pm$ 0.1 & 9.1 $\\pm$ 0.1 & 7 $\\pm$ 6 & $-$8.2 \\\\\n",
      "10:00:16.31 & $+$02:22:55.72 & 3.3 $\\pm$ 0.5 & 8.3 $\\pm$ 0.3 & 3 $\\pm$ 1 & $-$7.7 \\\\\n",
      "10:00:16.22 & $+$02:22:57.51 & 5.0 $\\pm$ 1.7 & 8.5 $\\pm$ 0.3 & 3 $\\pm$ 1 & $-$8.0 \\\\\n",
      "10:00:16.93 & $+$02:22:55.43 & 4.0 $\\pm$ 0.1 & 9.2 $\\pm$ 0.1 & 30 $\\pm$ 4 & $-$7.7 \\\\\n",
      "10:00:16.87 & $+$02:22:58.93 & 3.4 $\\pm$ 0.1 & 9.1 $\\pm$ 0.1 & 5 $\\pm$ 1 & $-$8.4 \\\\\n",
      "10:00:16.59 & $+$02:23:02.98 & 4.8 $\\pm$ 1.0 & 9.0 $\\pm$ 0.2 & 2 $\\pm$ 2 & $-$8.6 \\\\\n",
      "10:00:16.24 & $+$02:23:10.61 & 4.6 $\\pm$ 0.9 & 8.5 $\\pm$ 0.3 & 2 $\\pm$ 1 & $-$8.1 \\\\\n",
      "10:00:16.19 & $+$02:22:42.46 & 3.4 $\\pm$ 0.1 & 7.2 $\\pm$ 0.1 & 0 $\\pm$ 1 & $-$7.7 \\\\\n",
      "10:00:15.96 & $+$02:22:46.31 & 3.0 $\\pm$ 0.2 & 7.7 $\\pm$ 0.1 & 1 $\\pm$ 1 & $-$7.7 \\\\\n",
      "10:00:15.9 & $+$02:22:54.52 & 4.3 $\\pm$ 0.9 & 8.2 $\\pm$ 0.3 & 2 $\\pm$ 1 & $-$7.9 \\\\\n",
      "10:00:16.63 & $+$02:22:58.33 & 4.4 $\\pm$ 0.2 & 7.5 $\\pm$ 0.1 & 0 $\\pm$ 1 & $-$7.7 \\\\\n",
      "10:00:16.45 & $+$02:23:06.12 & 4.7 $\\pm$ 0.5 & 8.7 $\\pm$ 0.2 & 2 $\\pm$ 1 & $-$8.3 \\\\\n",
      "10:00:16.47 & $+$02:23:06.76 & 4.5 $\\pm$ 1.0 & 8.7 $\\pm$ 0.2 & 1 $\\pm$ 1 & $-$8.4 \\\\\n",
      "10:00:20.36 & $+$02:23:36.0 & 4.2 $\\pm$ 0.2 & 8.9 $\\pm$ 0.1 & 8 $\\pm$ 1 & $-$7.9 \\\\\n",
      "10:00:20.59 & $+$02:23:39.74 & 3.8 $\\pm$ 0.2 & 8.6 $\\pm$ 0.1 & 8 $\\pm$ 1 & $-$7.6 \\\\\n",
      "10:00:20.87 & $+$02:23:39.23 & 2.3 $\\pm$ 1.6 & 8.4 $\\pm$ 0.5 & 1 $\\pm$ 1 & $-$8.3 \\\\\n",
      "10:00:20.91 & $+$02:23:39.86 & 4.3 $\\pm$ 0.2 & 8.7 $\\pm$ 0.2 & 2 $\\pm$ 1 & $-$8.3 \\\\\n",
      "10:00:20.74 & $+$02:23:43.31 & 3.6 $\\pm$ 0.1 & 9.9 $\\pm$ 0.1 & 159 $\\pm$ 13 & $-$7.7 \\\\\n",
      "10:00:21.12 & $+$02:23:41.7 & 3.6 $\\pm$ 0.1 & 9.1 $\\pm$ 0.1 & 26 $\\pm$ 1 & $-$7.6 \\\\\n",
      "10:00:21.34 & $+$02:23:41.72 & 4.0 $\\pm$ 0.1 & 8.8 $\\pm$ 0.1 & 15 $\\pm$ 1 & $-$7.6 \\\\\n",
      "10:00:21.17 & $+$02:23:45.63 & 3.6 $\\pm$ 0.1 & 9.5 $\\pm$ 0.1 & 61 $\\pm$ 3 & $-$7.7 \\\\\n",
      "10:00:21.77 & $+$02:23:43.6 & 3.4 $\\pm$ 0.1 & 9.3 $\\pm$ 0.1 & 5 $\\pm$ 1 & $-$8.6 \\\\\n",
      "10:00:20.34 & $+$02:23:55.11 & 3.4 $\\pm$ 0.3 & 9.1 $\\pm$ 0.1 & 22 $\\pm$ 5 & $-$7.7 \\\\\n",
      "10:00:21.18 & $+$02:23:51.69 & 3.5 $\\pm$ 0.1 & 9.1 $\\pm$ 0.1 & 0 $\\pm$ 1 & $-$9.2 \\\\\n",
      "10:00:21.85 & $+$02:23:50.43 & 3.4 $\\pm$ 0.1 & 9.6 $\\pm$ 0.1 & 13 $\\pm$ 1 & $-$8.5 \\\\\n",
      "10:00:21.73 & $+$02:23:52.77 & 3.8 $\\pm$ 0.1 & 10.1 $\\pm$ 0.1 & 28 $\\pm$ 2 & $-$8.6 \\\\\n",
      "10:00:21.45 & $+$02:23:56.35 & 4.0 $\\pm$ 0.1 & 9.9 $\\pm$ 0.1 & 21 $\\pm$ 2 & $-$8.6 \\\\\n",
      "10:00:20.91 & $+$02:23:31.81 & 3.6 $\\pm$ 0.1 & 8.2 $\\pm$ 0.1 & 1 $\\pm$ 1 & $-$8.0 \\\\\n",
      "10:00:20.36 & $+$02:23:38.5 & 2.4 $\\pm$ 0.9 & 7.1 $\\pm$ 0.2 & 0 $\\pm$ 1 & $-$8.1 \\\\\n",
      "10:00:20.73 & $+$02:23:38.12 & 2.7 $\\pm$ 1.0 & 7.7 $\\pm$ 0.3 & 0 $\\pm$ 1 & $-$8.2 \\\\\n",
      "10:00:20.94 & $+$02:23:37.55 & 3.2 $\\pm$ 0.3 & 7.9 $\\pm$ 0.1 & 1 $\\pm$ 1 & $-$7.7 \\\\\n",
      "10:00:20.33 & $+$02:23:44.17 & 3.1 $\\pm$ 1.0 & 7.3 $\\pm$ 0.3 & 0 $\\pm$ 1 & $-$7.7 \\\\\n",
      "10:00:21.02 & $+$02:23:42.91 & 3.5 $\\pm$ 0.2 & 8.6 $\\pm$ 0.1 & 2 $\\pm$ 1 & $-$8.2 \\\\\n",
      "10:00:21.08 & $+$02:23:45.29 & 3.3 $\\pm$ 1.0 & 8.5 $\\pm$ 0.3 & 1 $\\pm$ 1 & $-$8.3 \\\\\n",
      "10:00:21.15 & $+$02:23:48.34 & 2.9 $\\pm$ 0.7 & 8.1 $\\pm$ 0.3 & 0 $\\pm$ 1 & $-$8.1 \\\\\n",
      "10:00:20.69 & $+$02:23:52.76 & 3.1 $\\pm$ 1.1 & 8.0 $\\pm$ 0.3 & 0 $\\pm$ 1 & $-$8.1 \\\\\n",
      "10:00:20.72 & $+$02:23:54.35 & 4.6 $\\pm$ 0.8 & 9.2 $\\pm$ 0.2 & 3 $\\pm$ 4 & $-$8.6 \\\\\n",
      "10:00:21.13 & $+$02:23:52.81 & 3.4 $\\pm$ 0.3 & 8.4 $\\pm$ 0.2 & 3 $\\pm$ 1 & $-$7.9 \\\\\n",
      "10:00:20.95 & $+$02:23:54.24 & 2.8 $\\pm$ 0.9 & 8.2 $\\pm$ 0.3 & 0 $\\pm$ 1 & $-$8.4 \\\\\n",
      "10:00:21.31 & $+$02:23:53.09 & 2.9 $\\pm$ 0.7 & 8.5 $\\pm$ 0.2 & 1 $\\pm$ 1 & $-$8.3 \\\\\n",
      "10:00:21.58 & $+$02:23:52.66 & 2.6 $\\pm$ 1.0 & 8.0 $\\pm$ 0.5 & 0 $\\pm$ 1 & $-$8.3 \\\\\n",
      "10:00:21.03 & $+$02:23:56.17 & 4.6 $\\pm$ 0.8 & 8.8 $\\pm$ 0.2 & 2 $\\pm$ 1 & $-$8.5 \\\\\n",
      "10:01:44.35 & $+$02:27:45.4 & 4.5 $\\pm$ 1.3 & 8.6 $\\pm$ 0.3 & 3 $\\pm$ 1 & $-$8.1 \\\\\n",
      "10:01:45.58 & $+$02:27:44.43 & 4.1 $\\pm$ 0.8 & 8.6 $\\pm$ 0.3 & 4 $\\pm$ 1 & $-$8.0 \\\\\n",
      "10:01:45.47 & $+$02:27:46.09 & 5.3 $\\pm$ 1.6 & 9.0 $\\pm$ 0.1 & 23 $\\pm$ 6 & $-$7.6 \\\\\n",
      "10:01:44.4 & $+$02:27:57.85 & 3.7 $\\pm$ 0.6 & 8.5 $\\pm$ 0.3 & 4 $\\pm$ 1 & $-$7.8 \\\\\n",
      "10:01:45.84 & $+$02:27:53.86 & 5.6 $\\pm$ 2.1 & 8.7 $\\pm$ 0.3 & 4 $\\pm$ 3 & $-$8.1 \\\\\n",
      "10:01:45.42 & $+$02:27:44.79 & 4.4 $\\pm$ 1.0 & 8.6 $\\pm$ 0.2 & 1 $\\pm$ 1 & $-$8.4 \\\\\n",
      "10:01:44.83 & $+$02:28:00.72 & 1.8 $\\pm$ 1.3 & 7.9 $\\pm$ 0.5 & 1 $\\pm$ 1 & $-$7.7 \\\\\n",
      "10:01:44.68 & $+$02:28:02.94 & 4.7 $\\pm$ 1.0 & 8.6 $\\pm$ 0.2 & 2 $\\pm$ 1 & $-$8.2 \\\\\n",
      "10:01:48.22 & $+$02:27:26.99 & 3.4 $\\pm$ 0.6 & 8.5 $\\pm$ 0.2 & 7 $\\pm$ 2 & $-$7.6 \\\\\n",
      "10:01:49.93 & $+$02:27:13.6 & 4.5 $\\pm$ 0.8 & 8.9 $\\pm$ 0.2 & 4 $\\pm$ 3 & $-$8.3 \\\\\n",
      "10:01:49.4 & $+$02:27:18.21 & 4.9 $\\pm$ 1.0 & 8.7 $\\pm$ 0.2 & 3 $\\pm$ 1 & $-$8.2 \\\\\n",
      "10:01:48.64 & $+$02:27:25.54 & 5.4 $\\pm$ 1.7 & 8.7 $\\pm$ 0.2 & 11 $\\pm$ 4 & $-$7.7 \\\\\n",
      "10:01:49.02 & $+$02:27:27.95 & 4.9 $\\pm$ 0.7 & 8.8 $\\pm$ 0.2 & 2 $\\pm$ 1 & $-$8.4 \\\\\n",
      "10:01:48.61 & $+$02:27:32.3 & 3.6 $\\pm$ 0.1 & 9.1 $\\pm$ 0.1 & 26 $\\pm$ 1 & $-$7.6 \\\\\n",
      "10:01:49.82 & $+$02:27:13.41 & 4.4 $\\pm$ 1.0 & 8.6 $\\pm$ 0.2 & 1 $\\pm$ 1 & $-$8.4 \\\\\n",
      "10:01:49.82 & $+$02:25:40.42 & 3.4 $\\pm$ 1.8 & 8.4 $\\pm$ 0.3 & 0 $\\pm$ 1 & $-$8.4 \\\\\n",
      "10:01:50.93 & $+$02:25:38.97 & 5.0 $\\pm$ 0.6 & 9.0 $\\pm$ 0.2 & 6 $\\pm$ 2 & $-$8.2 \\\\\n",
      "10:01:49.8 & $+$02:25:47.9 & 3.8 $\\pm$ 1.3 & 8.2 $\\pm$ 0.3 & 1 $\\pm$ 1 & $-$8.1 \\\\\n",
      "10:01:51.31 & $+$02:25:41.78 & 3.1 $\\pm$ 1.9 & 8.0 $\\pm$ 0.3 & 1 $\\pm$ 1 & $-$7.9 \\\\\n",
      "10:01:50.4 & $+$02:25:52.16 & 4.0 $\\pm$ 0.8 & 8.6 $\\pm$ 0.3 & 3 $\\pm$ 1 & $-$8.0 \\\\\n",
      "10:01:50.48 & $+$02:25:34.26 & 3.5 $\\pm$ 1.5 & 8.0 $\\pm$ 0.5 & 0 $\\pm$ 1 & $-$8.3 \\\\\n",
      "10:01:49.73 & $+$02:25:49.71 & 3.5 $\\pm$ 1.4 & 8.1 $\\pm$ 0.3 & 0 $\\pm$ 1 & $-$8.3 \\\\\n",
      "10:00:25.6 & $+$02:22:32.59 & 4.1 $\\pm$ 0.4 & 8.7 $\\pm$ 0.2 & 2 $\\pm$ 1 & $-$8.3 \\\\\n",
      "10:00:25.39 & $+$02:22:39.89 & 5.0 $\\pm$ 0.2 & 8.7 $\\pm$ 0.3 & 4 $\\pm$ 1 & $-$8.0 \\\\\n",
      "10:00:25.41 & $+$02:22:53.18 & 3.7 $\\pm$ 0.9 & 8.5 $\\pm$ 0.1 & 3 $\\pm$ 1 & $-$8.0 \\\\\n",
      "10:00:24.91 & $+$02:22:33.86 & 3.7 $\\pm$ 0.7 & 8.4 $\\pm$ 0.3 & 1 $\\pm$ 1 & $-$8.1 \\\\\n",
      "10:00:25.16 & $+$02:22:39.38 & 3.6 $\\pm$ 1.2 & 7.9 $\\pm$ 0.3 & 0 $\\pm$ 1 & $-$8.0 \\\\\n",
      "10:00:25.06 & $+$02:22:41.72 & 4.2 $\\pm$ 0.1 & 8.2 $\\pm$ 0.1 & 2 $\\pm$ 1 & $-$7.7 \\\\\n",
      "10:00:25.19 & $+$02:22:45.11 & 3.9 $\\pm$ 1.1 & 8.1 $\\pm$ 0.3 & 0 $\\pm$ 1 & $-$8.1 \\\\\n",
      "10:00:24.94 & $+$02:22:46.75 & 3.6 $\\pm$ 0.6 & 8.5 $\\pm$ 0.4 & 4 $\\pm$ 1 & $-$7.8 \\\\\n",
      "10:00:25.87 & $+$02:22:42.34 & 4.6 $\\pm$ 0.1 & 8.8 $\\pm$ 0.1 & 2 $\\pm$ 1 & $-$8.4 \\\\\n",
      "10:00:25.89 & $+$02:22:42.46 & 4.5 $\\pm$ 0.2 & 8.1 $\\pm$ 0.1 & 2 $\\pm$ 1 & $-$7.7 \\\\\n",
      "10:00:25.81 & $+$02:22:50.89 & 4.1 $\\pm$ 0.4 & 8.6 $\\pm$ 0.2 & 5 $\\pm$ 2 & $-$7.8 \\\\\n",
      "10:00:25.81 & $+$02:22:54.42 & 3.6 $\\pm$ 0.9 & 8.2 $\\pm$ 0.3 & 1 $\\pm$ 1 & $-$8.1 \\\\\n",
      "10:00:26.4 & $+$02:19:37.94 & 4.4 $\\pm$ 1.1 & 8.6 $\\pm$ 0.2 & 1 $\\pm$ 1 & $-$8.4 \\\\\n",
      "10:00:25.74 & $+$02:19:36.91 & 3.3 $\\pm$ 0.1 & 8.8 $\\pm$ 0.3 & 6 $\\pm$ 1 & $-$7.9 \\\\\n",
      "10:00:25.81 & $+$02:19:38.01 & 3.6 $\\pm$ 0.1 & 9.0 $\\pm$ 0.1 & 13 $\\pm$ 1 & $-$7.9 \\\\\n",
      "10:00:25.73 & $+$02:19:42.0 & 3.0 $\\pm$ 0.1 & 9.1 $\\pm$ 0.1 & 21 $\\pm$ 1 & $-$7.7 \\\\\n",
      "10:00:25.47 & $+$02:19:45.54 & 2.3 $\\pm$ 0.8 & 8.1 $\\pm$ 0.2 & 0 $\\pm$ 1 & $-$8.1 \\\\\n",
      "10:00:25.51 & $+$02:19:49.77 & 3.9 $\\pm$ 0.8 & 8.6 $\\pm$ 0.3 & 5 $\\pm$ 1 & $-$7.9 \\\\\n",
      "10:00:26.2 & $+$02:19:48.2 & 3.3 $\\pm$ 0.2 & 8.6 $\\pm$ 0.2 & 1 $\\pm$ 1 & $-$8.6 \\\\\n",
      "10:00:26.39 & $+$02:19:49.75 & 3.4 $\\pm$ 0.3 & 8.8 $\\pm$ 0.2 & 5 $\\pm$ 1 & $-$8.1 \\\\\n",
      "10:00:26.9 & $+$02:19:47.18 & 3.4 $\\pm$ 0.1 & 9.0 $\\pm$ 0.1 & 4 $\\pm$ 1 & $-$8.4 \\\\\n",
      "10:00:25.25 & $+$02:19:56.27 & 3.6 $\\pm$ 0.2 & 8.4 $\\pm$ 0.2 & 5 $\\pm$ 1 & $-$7.7 \\\\\n",
      "10:00:26.32 & $+$02:19:50.53 & 3.5 $\\pm$ 0.3 & 8.4 $\\pm$ 0.1 & 5 $\\pm$ 1 & $-$7.7 \\\\\n",
      "10:00:26.26 & $+$02:19:57.52 & 3.0 $\\pm$ 0.1 & 7.8 $\\pm$ 0.1 & 1 $\\pm$ 1 & $-$7.7 \\\\\n",
      "10:00:25.81 & $+$02:20:01.93 & 2.9 $\\pm$ 0.1 & 8.7 $\\pm$ 0.1 & 1 $\\pm$ 1 & $-$8.6 \\\\\n",
      "10:00:26.24 & $+$02:19:59.86 & 2.9 $\\pm$ 0.2 & 8.4 $\\pm$ 0.1 & 0 $\\pm$ 1 & $-$8.5 \\\\\n",
      "10:00:25.96 & $+$02:20:01.99 & 3.0 $\\pm$ 0.1 & 8.5 $\\pm$ 0.1 & 6 $\\pm$ 1 & $-$7.6 \\\\\n",
      "10:00:26.31 & $+$02:19:38.36 & 3.4 $\\pm$ 0.2 & 8.5 $\\pm$ 0.2 & 0 $\\pm$ 1 & $-$9.0 \\\\\n",
      "10:00:26.4 & $+$02:19:37.7 & 4.4 $\\pm$ 1.1 & 8.6 $\\pm$ 0.2 & 1 $\\pm$ 1 & $-$8.4 \\\\\n",
      "10:00:26.36 & $+$02:19:40.46 & 4.4 $\\pm$ 1.0 & 8.5 $\\pm$ 0.3 & 2 $\\pm$ 1 & $-$8.1 \\\\\n",
      "10:00:26.04 & $+$02:19:42.48 & 2.3 $\\pm$ 0.6 & 7.5 $\\pm$ 0.2 & 0 $\\pm$ 1 & $-$8.2 \\\\\n",
      "10:00:26.38 & $+$02:19:41.69 & 4.0 $\\pm$ 0.4 & 8.2 $\\pm$ 0.2 & 1 $\\pm$ 1 & $-$8.2 \\\\\n",
      "10:00:26.87 & $+$02:19:40.71 & 4.1 $\\pm$ 1.0 & 8.2 $\\pm$ 0.3 & 1 $\\pm$ 1 & $-$8.1 \\\\\n",
      "10:00:26.88 & $+$02:19:44.15 & 2.9 $\\pm$ 0.6 & 7.7 $\\pm$ 0.3 & 0 $\\pm$ 1 & $-$8.0 \\\\\n",
      "10:00:26.78 & $+$02:19:45.73 & 2.6 $\\pm$ 0.6 & 8.2 $\\pm$ 0.2 & 0 $\\pm$ 1 & $-$8.3 \\\\\n",
      "10:00:25.51 & $+$02:19:54.89 & 3.0 $\\pm$ 0.2 & 7.5 $\\pm$ 0.2 & 0 $\\pm$ 1 & $-$8.0 \\\\\n",
      "10:00:26.9 & $+$02:19:48.3 & 3.0 $\\pm$ 0.5 & 8.3 $\\pm$ 0.2 & 0 $\\pm$ 1 & $-$8.4 \\\\\n",
      "10:00:26.45 & $+$02:19:50.92 & 4.1 $\\pm$ 0.7 & 7.9 $\\pm$ 0.1 & 1 $\\pm$ 1 & $-$7.7 \\\\\n",
      "10:00:27.06 & $+$02:19:49.71 & 4.1 $\\pm$ 1.2 & 8.4 $\\pm$ 0.2 & 1 $\\pm$ 1 & $-$8.3 \\\\\n",
      "10:00:25.57 & $+$02:20:00.32 & 4.3 $\\pm$ 1.0 & 8.4 $\\pm$ 0.3 & 1 $\\pm$ 1 & $-$8.2 \\\\\n",
      "10:00:25.92 & $+$02:19:59.45 & 2.5 $\\pm$ 0.3 & 7.5 $\\pm$ 0.2 & 0 $\\pm$ 1 & $-$8.2 \\\\\n",
      "10:00:27.09 & $+$02:19:53.61 & 3.0 $\\pm$ 0.7 & 7.7 $\\pm$ 0.2 & 0 $\\pm$ 1 & $-$8.0 \\\\\n",
      "10:00:26.43 & $+$02:19:58.48 & 2.6 $\\pm$ 1.0 & 6.3 $\\pm$ 0.2 & 0 $\\pm$ 1 & $-$7.7 \\\\\n",
      "10:00:25.99 & $+$02:20:03.24 & 4.1 $\\pm$ 0.6 & 8.3 $\\pm$ 0.2 & 1 $\\pm$ 1 & $-$8.2 \\\\\n",
      "\\bottomrule\n",
      "\\end{tabular}\n",
      "\n"
     ]
    }
   ],
   "source": [
    "print(latex.to_latex(index=False))"
   ]
  },
  {
   "cell_type": "code",
   "execution_count": 69,
   "id": "7bd16f77-bd97-49c3-82e6-4e142127f4de",
   "metadata": {},
   "outputs": [],
   "source": [
    "# now, save a simplified .txt files to make postage stamps\n",
    "final_df[['id', 'ra', 'dec']].to_csv('potential_neighbors.txt', sep='\\t', index=False)"
   ]
  },
  {
   "cell_type": "code",
   "execution_count": null,
   "id": "eb42919b-e337-4556-ac4d-a2f3149f45aa",
   "metadata": {},
   "outputs": [],
   "source": []
  }
 ],
 "metadata": {
  "kernelspec": {
   "display_name": "Python 3 (ipykernel)",
   "language": "python",
   "name": "python3"
  },
  "language_info": {
   "codemirror_mode": {
    "name": "ipython",
    "version": 3
   },
   "file_extension": ".py",
   "mimetype": "text/x-python",
   "name": "python",
   "nbconvert_exporter": "python",
   "pygments_lexer": "ipython3",
   "version": "3.12.4"
  }
 },
 "nbformat": 4,
 "nbformat_minor": 5
}
