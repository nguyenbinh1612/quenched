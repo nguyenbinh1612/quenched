{
 "cells": [
  {
   "cell_type": "code",
   "execution_count": 1,
   "id": "d8f1df4b-e964-44af-a126-d37d65fd198a",
   "metadata": {},
   "outputs": [],
   "source": [
    "# this sets up basic packages\n",
    "import numpy as np\n",
    "import pandas as pd\n",
    "import astropy.units as u\n",
    "import astropy.cosmology.units as cu\n",
    "from scipy.stats.mstats import mquantiles\n",
    "\n",
    "# this sets up matplotlib\n",
    "import matplotlib.pyplot as plt\n",
    "%matplotlib inline\n",
    "\n",
    "# this sets up astropy\n",
    "from astropy.io import fits\n",
    "from astropy.wcs import WCS\n",
    "from astropy.wcs.utils import pixel_to_skycoord\n",
    "from astropy.utils.data import get_pkg_data_filename\n",
    "from astropy.coordinates import SkyCoord, Angle, match_coordinates_sky, Distance\n",
    "from astropy.cosmology import Planck15 as cosmo\n",
    "from astropy.table import Table, unique\n",
    "\n",
    "from regions import Regions, CircleSkyRegion"
   ]
  },
  {
   "cell_type": "code",
   "execution_count": 2,
   "id": "6d36906e-b67f-4166-bbaa-3d7674ca76e9",
   "metadata": {},
   "outputs": [],
   "source": [
    "coords_df = pd.read_csv('/Users/ngbinh/Downloads/rafael_data/coordinates.txt', delimiter=' ')\n",
    "coords_df = coords_df.rename(columns={\"Id\": \"id\"})"
   ]
  },
  {
   "cell_type": "code",
   "execution_count": 3,
   "id": "a1d61e67-800c-4d33-8a11-e418dd0011fd",
   "metadata": {},
   "outputs": [],
   "source": [
    "info_df = pd.read_csv('/Users/ngbinh/Downloads/rafael_data/CIGALE_COSMOSWEB_v3.1.0.dat', delimiter=' ')"
   ]
  },
  {
   "cell_type": "code",
   "execution_count": 4,
   "id": "ab6b0529-ad35-4ae3-b0df-de707e361926",
   "metadata": {},
   "outputs": [],
   "source": [
    "# this creates a mega DataFrame \n",
    "df = pd.merge(coords_df, info_df, on=\"id\", how=\"left\")"
   ]
  },
  {
   "cell_type": "code",
   "execution_count": 5,
   "id": "d21db649-1513-4b36-8472-4b7eef22540c",
   "metadata": {},
   "outputs": [],
   "source": [
    "ras = df['alpha'].values\n",
    "decs = df['delta'].values\n",
    "redshifts = df['best.universe.redshift'].values\n",
    "\n",
    "# this creates a SkyCoord object of all the objects' RAs and Decs, so we can loop through them later.\n",
    "all_objects = SkyCoord(ra=ras*u.degree, dec=decs*u.degree)"
   ]
  },
  {
   "cell_type": "code",
   "execution_count": 6,
   "id": "8fb7d7d5-f00f-4cdf-a830-7ff321baeca7",
   "metadata": {},
   "outputs": [
    {
     "name": "stdout",
     "output_type": "stream",
     "text": [
      "1\n",
      "3\n",
      "5\n",
      "7\n",
      "9\n",
      "11\n",
      "13\n",
      "15\n"
     ]
    }
   ],
   "source": [
    "### from the arrays of RA and Dec, pick a random pair of RA and Dec and find their neighbors within a specified\n",
    "### aperture. do this 1000 times, then save the number of neighbors from each time into an array.\n",
    "\n",
    "# this creates an array of search radii\n",
    "radii_array = np.arange(1, 16, 2)\n",
    "\n",
    "# this creates an empty list of neighbor numbers for each iteration over search radii to add into\n",
    "all_numbers_of_neighbors = []\n",
    "cdfs = []\n",
    "\n",
    "# this is the loop that goes through each search radius\n",
    "for search_radius in radii_array:\n",
    "\n",
    "    # this creates an empty array to save the number of neighbors for each run with each search radius\n",
    "    number_of_neighbors = np.zeros(1000)\n",
    "        \n",
    "    # this for-loop is to run the code 1000 times\n",
    "    for i in range(1000):\n",
    "        # use np.random.uniform to find a random RA and Dec within our given boundaries\n",
    "        random_ras = np.random.uniform(np.min(ras), np.max(ras))\n",
    "        random_decs = np.random.uniform(np.min(decs), np.max(decs))\n",
    "        \n",
    "        # turn the randomly generated RA and Dec into coords to find neighbors for\n",
    "        random_coords = SkyCoord(ra=random_ras*u.degree, dec=random_decs*u.degree)\n",
    "        \n",
    "        # now, we search for all the neighbors of these random coordinates, within a given distance\n",
    "        d2d = random_coords.separation(all_objects)\n",
    "        catalog_mask = d2d < search_radius*u.arcsec\n",
    "    \n",
    "        neighbor_ras = ras[catalog_mask]\n",
    "        neighbor_zs = redshifts[catalog_mask]\n",
    "        \n",
    "        # final selection of galaxies, which should have redshift within 3 and 4\n",
    "        final_ras = neighbor_ras[(neighbor_zs >= 3) & (neighbor_zs <= 4)]\n",
    "    \n",
    "        # this saves the number of neighbors identified in each run into the array we've made above\n",
    "        number_of_neighbors[i] = np.size(final_ras)\n",
    "\n",
    "    count, bins_count = np.histogram(number_of_neighbors, bins=100)\n",
    "    pdf = count / np.sum(count) \n",
    "    cdf = np.cumsum(pdf) \n",
    "\n",
    "    print(search_radius)\n",
    "    \n",
    "    all_numbers_of_neighbors.append(number_of_neighbors)\n",
    "    cdfs.append(cdf)"
   ]
  },
  {
   "cell_type": "code",
   "execution_count": 7,
   "id": "7cd0fde3-18b2-47f2-b30c-643cb42bd837",
   "metadata": {},
   "outputs": [],
   "source": [
    "all_numbers_of_neighbors = np.array(all_numbers_of_neighbors, dtype='object')\n",
    "cdfs = np.array(cdfs, dtype='object')"
   ]
  },
  {
   "cell_type": "code",
   "execution_count": 8,
   "id": "d657c019-c6fe-4299-a915-e9e44ab3cb48",
   "metadata": {},
   "outputs": [
    {
     "name": "stdout",
     "output_type": "stream",
     "text": [
      "[[0.0 0.0 0.0 ... 0.0 0.0 0.0]\n",
      " [0.0 0.0 0.0 ... 0.0 0.0 0.0]\n",
      " [0.0 2.0 0.0 ... 0.0 0.0 0.0]\n",
      " ...\n",
      " [1.0 0.0 4.0 ... 3.0 0.0 0.0]\n",
      " [1.0 2.0 2.0 ... 0.0 3.0 0.0]\n",
      " [2.0 0.0 0.0 ... 4.0 9.0 0.0]]\n",
      "(8, 1000)\n"
     ]
    }
   ],
   "source": [
    "print(all_numbers_of_neighbors)\n",
    "print(np.shape(all_numbers_of_neighbors))"
   ]
  },
  {
   "cell_type": "code",
   "execution_count": 9,
   "id": "6e94e557-df46-4963-a93a-0f6eeaf1a974",
   "metadata": {},
   "outputs": [],
   "source": [
    "all_radii_means = np.zeros(np.size(radii_array))\n",
    "all_radii_percentile = []\n",
    "\n",
    "for x in range(np.size(radii_array)):\n",
    "    case = all_numbers_of_neighbors[x]\n",
    "    cdf = cdfs[x]\n",
    "#    print(mquantiles(case, prob=[0.16, 0.50, 0.84]))\n",
    "    all_radii_means[x]=np.mean(case)\n",
    "    all_radii_percentile.append(mquantiles(cdf, prob=[0.16, 0.50, 0.84]))"
   ]
  },
  {
   "cell_type": "code",
   "execution_count": 10,
   "id": "6ca66474-32c5-4833-9571-62478ddc4542",
   "metadata": {},
   "outputs": [],
   "source": [
    "### now, look through the 9 QGs and their identified neighbors. do the same thing as we did earlier.\n",
    "host_info = pd.read_csv('basic_data.txt', delimiter=' ', names=['name', 'RA', 'Dec', 'spec_z'])\n",
    "host_ra_arr = host_info['RA'].values\n",
    "host_dec_arr = host_info['Dec'].values\n",
    "how_many_galaxies = np.size(host_ra_arr)\n",
    "\n",
    "tentative = pd.read_csv('potential_neighbors.txt', sep='\\t')"
   ]
  },
  {
   "cell_type": "code",
   "execution_count": 11,
   "id": "f6c769fa-1b67-49ee-8044-065bee6673a6",
   "metadata": {},
   "outputs": [
    {
     "data": {
      "text/plain": [
       "[array([0.99, 0.99, 0.99], dtype=object),\n",
       " array([0.926, 0.996, 0.999], dtype=object),\n",
       " array([0.842, 0.9695, 0.998], dtype=object),\n",
       " array([0.87, 0.987, 0.998], dtype=object),\n",
       " array([0.7004799999999998, 0.9179999999999999, 0.994], dtype=object),\n",
       " array([0.711, 0.9624999999999999, 0.998], dtype=object),\n",
       " array([0.633, 0.9249999999999999, 0.9950000000000001], dtype=object),\n",
       " array([0.6699999999999999, 0.972, 0.9969999999999999], dtype=object)]"
      ]
     },
     "execution_count": 11,
     "metadata": {},
     "output_type": "execute_result"
    }
   ],
   "source": [
    "all_radii_percentile"
   ]
  },
  {
   "cell_type": "code",
   "execution_count": 12,
   "id": "d581c743-9946-4567-9a56-f382895ac367",
   "metadata": {},
   "outputs": [],
   "source": [
    "# this creates an empty list of real neighbor numbers for each iteration over search radii to add into\n",
    "all_numbers_of_real_neighbors = []\n",
    "\n",
    "# this loops through each search radius\n",
    "for search_radius in radii_array:\n",
    "\n",
    "    # this creates an empty array to save the number of neighbors for each run with each search radius\n",
    "    number_of_real_neighbors = np.zeros(how_many_galaxies)\n",
    "    \n",
    "    # this loops through the 9 QGs\n",
    "    for galaxy_number in range(how_many_galaxies):\n",
    "        # this retrieves the RA and Dec of each QG\n",
    "        host_ra = host_ra_arr[galaxy_number]\n",
    "        host_dec = host_dec_arr[galaxy_number]    \n",
    "    \n",
    "        tentative_ra = tentative[tentative['host_ra']==host_ra]['ra'].values\n",
    "        tentative_dec = tentative[tentative['host_ra']==host_ra]['dec'].values\n",
    "    \n",
    "        host_coords = SkyCoord(ra=host_ra*u.degree, dec=host_dec*u.degree)\n",
    "        tentative_objects = SkyCoord(ra=tentative_ra*u.degree, dec=tentative_dec*u.degree)\n",
    "\n",
    "        # now, we search for all the neighbors of these random coordinates, within a given distance\n",
    "        d2d = host_coords.separation(tentative_objects)\n",
    "        catalog_mask = d2d < search_radius*u.arcsec\n",
    "        neighbor_ras = tentative_ra[catalog_mask]\n",
    "    \n",
    "        # this saves the number of neighbors identified in each run into the array we've made above\n",
    "        number_of_real_neighbors[galaxy_number] = np.size(neighbor_ras)\n",
    "\n",
    "    all_numbers_of_real_neighbors.append(number_of_real_neighbors)"
   ]
  },
  {
   "cell_type": "code",
   "execution_count": 13,
   "id": "1164998f-603f-4940-99c0-7e869502814a",
   "metadata": {},
   "outputs": [],
   "source": [
    "all_numbers_of_real_neighbors = np.array(all_numbers_of_real_neighbors, dtype='object')"
   ]
  },
  {
   "cell_type": "code",
   "execution_count": 14,
   "id": "4dff3435-e6fb-4f94-9692-a35da2c83206",
   "metadata": {},
   "outputs": [],
   "source": [
    "real_raw_data = np.zeros(np.size(radii_array))\n",
    "real_radii_means = np.zeros(np.size(radii_array))\n",
    "real_radii_stdev = np.zeros(np.size(radii_array))\n",
    "\n",
    "for y in range(np.size(radii_array)):\n",
    "    case = all_numbers_of_real_neighbors[y]\n",
    "    real_raw_data[y] = np.sum(case)\n",
    "    real_radii_means[y] = np.mean(case)\n",
    "    real_radii_stdev[y] = np.std(case)"
   ]
  },
  {
   "cell_type": "code",
   "execution_count": 15,
   "id": "1b402b6a-1bda-4b77-8b90-daee7738d094",
   "metadata": {},
   "outputs": [],
   "source": [
    "all_radii_percentile=np.array(all_radii_percentile, dtype='object')\n",
    "y16 = all_radii_percentile[:,0]\n",
    "y50 = all_radii_percentile[:,1]\n",
    "y84 = all_radii_percentile[:,2]"
   ]
  },
  {
   "cell_type": "code",
   "execution_count": 16,
   "id": "c86bddcb-234e-40f3-a501-2c643f3f3d17",
   "metadata": {},
   "outputs": [
    {
     "data": {
      "text/html": [
       "<div>\n",
       "<style scoped>\n",
       "    .dataframe tbody tr th:only-of-type {\n",
       "        vertical-align: middle;\n",
       "    }\n",
       "\n",
       "    .dataframe tbody tr th {\n",
       "        vertical-align: top;\n",
       "    }\n",
       "\n",
       "    .dataframe thead th {\n",
       "        text-align: right;\n",
       "    }\n",
       "</style>\n",
       "<table border=\"1\" class=\"dataframe\">\n",
       "  <thead>\n",
       "    <tr style=\"text-align: right;\">\n",
       "      <th></th>\n",
       "      <th>ID</th>\n",
       "      <th>RA</th>\n",
       "      <th>Dec</th>\n",
       "      <th>redshift</th>\n",
       "      <th>M_gal</th>\n",
       "      <th>host_ID</th>\n",
       "      <th>host_RA</th>\n",
       "      <th>host_Dec</th>\n",
       "      <th>host_redshift</th>\n",
       "    </tr>\n",
       "  </thead>\n",
       "  <tbody>\n",
       "    <tr>\n",
       "      <th>0</th>\n",
       "      <td>21765046</td>\n",
       "      <td>-0.226985</td>\n",
       "      <td>0.356634</td>\n",
       "      <td>3.804313</td>\n",
       "      <td>1.405293e+07</td>\n",
       "      <td>22665566</td>\n",
       "      <td>-0.229485</td>\n",
       "      <td>0.353590</td>\n",
       "      <td>4.212925</td>\n",
       "    </tr>\n",
       "    <tr>\n",
       "      <th>1</th>\n",
       "      <td>21968545</td>\n",
       "      <td>-0.232441</td>\n",
       "      <td>0.353449</td>\n",
       "      <td>3.959773</td>\n",
       "      <td>7.501213e+06</td>\n",
       "      <td>22665566</td>\n",
       "      <td>-0.229485</td>\n",
       "      <td>0.353590</td>\n",
       "      <td>4.212925</td>\n",
       "    </tr>\n",
       "    <tr>\n",
       "      <th>2</th>\n",
       "      <td>21968547</td>\n",
       "      <td>-0.233023</td>\n",
       "      <td>0.353465</td>\n",
       "      <td>3.959525</td>\n",
       "      <td>2.099968e+06</td>\n",
       "      <td>22665566</td>\n",
       "      <td>-0.229485</td>\n",
       "      <td>0.353590</td>\n",
       "      <td>4.212925</td>\n",
       "    </tr>\n",
       "    <tr>\n",
       "      <th>3</th>\n",
       "      <td>22029279</td>\n",
       "      <td>-0.229276</td>\n",
       "      <td>0.352920</td>\n",
       "      <td>3.777064</td>\n",
       "      <td>1.260315e+07</td>\n",
       "      <td>22665566</td>\n",
       "      <td>-0.229485</td>\n",
       "      <td>0.353590</td>\n",
       "      <td>4.212925</td>\n",
       "    </tr>\n",
       "    <tr>\n",
       "      <th>4</th>\n",
       "      <td>22038615</td>\n",
       "      <td>-0.225720</td>\n",
       "      <td>0.354259</td>\n",
       "      <td>3.753678</td>\n",
       "      <td>6.924224e+06</td>\n",
       "      <td>22665566</td>\n",
       "      <td>-0.229485</td>\n",
       "      <td>0.353590</td>\n",
       "      <td>4.212925</td>\n",
       "    </tr>\n",
       "    <tr>\n",
       "      <th>...</th>\n",
       "      <td>...</td>\n",
       "      <td>...</td>\n",
       "      <td>...</td>\n",
       "      <td>...</td>\n",
       "      <td>...</td>\n",
       "      <td>...</td>\n",
       "      <td>...</td>\n",
       "      <td>...</td>\n",
       "      <td>...</td>\n",
       "    </tr>\n",
       "    <tr>\n",
       "      <th>8195</th>\n",
       "      <td>16868605</td>\n",
       "      <td>0.075200</td>\n",
       "      <td>0.288480</td>\n",
       "      <td>2.578628</td>\n",
       "      <td>3.230238e+06</td>\n",
       "      <td>14873099</td>\n",
       "      <td>0.079154</td>\n",
       "      <td>0.287448</td>\n",
       "      <td>2.228064</td>\n",
       "    </tr>\n",
       "    <tr>\n",
       "      <th>8196</th>\n",
       "      <td>16998480</td>\n",
       "      <td>0.078605</td>\n",
       "      <td>0.284234</td>\n",
       "      <td>2.629730</td>\n",
       "      <td>8.048395e+06</td>\n",
       "      <td>14873099</td>\n",
       "      <td>0.079154</td>\n",
       "      <td>0.287448</td>\n",
       "      <td>2.228064</td>\n",
       "    </tr>\n",
       "    <tr>\n",
       "      <th>8197</th>\n",
       "      <td>17169468</td>\n",
       "      <td>0.076211</td>\n",
       "      <td>0.287913</td>\n",
       "      <td>2.667234</td>\n",
       "      <td>9.232581e+06</td>\n",
       "      <td>14873099</td>\n",
       "      <td>0.079154</td>\n",
       "      <td>0.287448</td>\n",
       "      <td>2.228064</td>\n",
       "    </tr>\n",
       "    <tr>\n",
       "      <th>8198</th>\n",
       "      <td>17286676</td>\n",
       "      <td>0.076709</td>\n",
       "      <td>0.285751</td>\n",
       "      <td>2.700290</td>\n",
       "      <td>1.588117e+07</td>\n",
       "      <td>14873099</td>\n",
       "      <td>0.079154</td>\n",
       "      <td>0.287448</td>\n",
       "      <td>2.228064</td>\n",
       "    </tr>\n",
       "    <tr>\n",
       "      <th>8199</th>\n",
       "      <td>17682835</td>\n",
       "      <td>0.081648</td>\n",
       "      <td>0.288494</td>\n",
       "      <td>2.686318</td>\n",
       "      <td>1.319482e+07</td>\n",
       "      <td>14873099</td>\n",
       "      <td>0.079154</td>\n",
       "      <td>0.287448</td>\n",
       "      <td>2.228064</td>\n",
       "    </tr>\n",
       "  </tbody>\n",
       "</table>\n",
       "<p>8200 rows × 9 columns</p>\n",
       "</div>"
      ],
      "text/plain": [
       "            ID        RA       Dec  redshift         M_gal   host_ID  \\\n",
       "0     21765046 -0.226985  0.356634  3.804313  1.405293e+07  22665566   \n",
       "1     21968545 -0.232441  0.353449  3.959773  7.501213e+06  22665566   \n",
       "2     21968547 -0.233023  0.353465  3.959525  2.099968e+06  22665566   \n",
       "3     22029279 -0.229276  0.352920  3.777064  1.260315e+07  22665566   \n",
       "4     22038615 -0.225720  0.354259  3.753678  6.924224e+06  22665566   \n",
       "...        ...       ...       ...       ...           ...       ...   \n",
       "8195  16868605  0.075200  0.288480  2.578628  3.230238e+06  14873099   \n",
       "8196  16998480  0.078605  0.284234  2.629730  8.048395e+06  14873099   \n",
       "8197  17169468  0.076211  0.287913  2.667234  9.232581e+06  14873099   \n",
       "8198  17286676  0.076709  0.285751  2.700290  1.588117e+07  14873099   \n",
       "8199  17682835  0.081648  0.288494  2.686318  1.319482e+07  14873099   \n",
       "\n",
       "       host_RA  host_Dec  host_redshift  \n",
       "0    -0.229485  0.353590       4.212925  \n",
       "1    -0.229485  0.353590       4.212925  \n",
       "2    -0.229485  0.353590       4.212925  \n",
       "3    -0.229485  0.353590       4.212925  \n",
       "4    -0.229485  0.353590       4.212925  \n",
       "...        ...       ...            ...  \n",
       "8195  0.079154  0.287448       2.228064  \n",
       "8196  0.079154  0.287448       2.228064  \n",
       "8197  0.079154  0.287448       2.228064  \n",
       "8198  0.079154  0.287448       2.228064  \n",
       "8199  0.079154  0.287448       2.228064  \n",
       "\n",
       "[8200 rows x 9 columns]"
      ]
     },
     "execution_count": 16,
     "metadata": {},
     "output_type": "execute_result"
    }
   ],
   "source": [
    "# this looks through the DREAM catalog\n",
    "dream_df = pd.read_csv('DREaM_quenched_and_nbrs.csv').iloc[:, 1:]\n",
    "dream_df"
   ]
  },
  {
   "cell_type": "code",
   "execution_count": 17,
   "id": "8f8085aa-5117-4611-bd90-6be33e792262",
   "metadata": {},
   "outputs": [],
   "source": [
    "# this finds the separation between each neighbor and its host\n",
    "d2d_list = []\n",
    "\n",
    "for row_number in range(dream_df.shape[0]):\n",
    "    row = dream_df.iloc[row_number]\n",
    "\n",
    "    simul_host = SkyCoord(ra=row['host_RA']*u.degree, dec=row['host_Dec']*u.degree)\n",
    "    simul_nbr = SkyCoord(ra=row['RA']*u.degree, dec=row['Dec']*u.degree)\n",
    "    \n",
    "    d2d = simul_host.separation(simul_nbr)\n",
    "    d2d_list.append(d2d.arcsecond)\n",
    "\n",
    "dream_df = dream_df.assign(sep=d2d_list)"
   ]
  },
  {
   "cell_type": "code",
   "execution_count": 18,
   "id": "8c199e7b-bb25-427c-9bc7-3845b2cd5b0b",
   "metadata": {},
   "outputs": [],
   "source": [
    "simul_data_means = np.zeros(np.size(radii_array))\n",
    "\n",
    "# this loops through each search radius\n",
    "for radius_idx in range(np.size(radii_array)):\n",
    "\n",
    "    search_r = radii_array[radius_idx]\n",
    "\n",
    "    # this finds all the neighbors within the search radius from the host QG\n",
    "    set = dream_df[dream_df['sep']*u.arcsecond < search_r*u.arcsec]\n",
    "\n",
    "    # this retrieves how many QGs pass this criteria\n",
    "#    sample_size = np.size(np.unique(set['host_ID']))\n",
    "#    print(sample_size)\n",
    "\n",
    "    # this retrieves how many neighbors pass this criteria\n",
    "    total_number_of_neighbors = np.size(np.unique(set['ID']))\n",
    "\n",
    "    # this saves the average number of neighbors into simul_data\n",
    "    simul_data_means[radius_idx] = total_number_of_neighbors / np.size(np.unique(dream_df['host_ID']))"
   ]
  },
  {
   "cell_type": "code",
   "execution_count": 19,
   "id": "9a12335d-f43e-42d3-8896-36d58a8a723d",
   "metadata": {},
   "outputs": [
    {
     "data": {
      "text/plain": [
       "array([ 1.19,  5.88, 13.85, 23.77, 35.93, 49.97, 65.19, 82.  ])"
      ]
     },
     "execution_count": 19,
     "metadata": {},
     "output_type": "execute_result"
    }
   ],
   "source": [
    "simul_data_means"
   ]
  },
  {
   "cell_type": "code",
   "execution_count": 22,
   "id": "73790e3c-bffd-46f4-8dd9-269116c3cea0",
   "metadata": {},
   "outputs": [
    {
     "data": {
      "image/png": "[encoded data removed]",
      "text/plain": [
       "<Figure size 1200x700 with 1 Axes>"
      ]
     },
     "metadata": {},
     "output_type": "display_data"
    }
   ],
   "source": [
    "fig, ax = plt.subplots(figsize=(12, 7))\n",
    "\n",
    "plt.errorbar(radii_array, all_radii_means, yerr=(np.abs(y50-y16), np.abs(y84-y50)), capsize=4, \n",
    "             color='#007CBE', label='background COSMOS', zorder=1, fmt='none', linewidth=2, markeredgewidth=2)\n",
    "plt.errorbar(radii_array, real_radii_means, real_radii_stdev, capsize=4, color='#EE6C4D', label='9 QGs', \n",
    "             fmt='o', linewidth=2, markeredgewidth=2)\n",
    "plt.errorbar(radii_array, simul_data_means, capsize=4, color='#791E94', label='DREaM', \n",
    "             fmt='o', linewidth=2, markeredgewidth=2)\n",
    "plt.legend(fontsize=15)\n",
    "plt.xlabel('search radius (arcsec)', fontsize=15)\n",
    "plt.ylabel('average number of neighbors', fontsize=15)\n",
    "plt.xticks(fontsize=13)\n",
    "plt.yticks(fontsize=13)\n",
    "\n",
    "fig = fig.savefig('centipede_plot.png')"
   ]
  },
  {
   "cell_type": "code",
   "execution_count": null,
   "id": "402d10bf-467c-46bb-b86f-35a8235a3fdb",
   "metadata": {},
   "outputs": [],
   "source": []
  },
  {
   "cell_type": "code",
   "execution_count": null,
   "id": "f93231e0-dea3-4b1d-8e18-891d5847dfc2",
   "metadata": {},
   "outputs": [],
   "source": []
  }
 ],
 "metadata": {
  "kernelspec": {
   "display_name": "Python 3 (ipykernel)",
   "language": "python",
   "name": "python3"
  },
  "language_info": {
   "codemirror_mode": {
    "name": "ipython",
    "version": 3
   },
   "file_extension": ".py",
   "mimetype": "text/x-python",
   "name": "python",
   "nbconvert_exporter": "python",
   "pygments_lexer": "ipython3",
   "version": "3.12.2"
  }
 },
 "nbformat": 4,
 "nbformat_minor": 5
}
