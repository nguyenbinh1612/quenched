{
 "cells": [
  {
   "cell_type": "code",
   "execution_count": 1,
   "id": "d8f1df4b-e964-44af-a126-d37d65fd198a",
   "metadata": {},
   "outputs": [],
   "source": [
    "# this sets up basic packages\n",
    "import numpy as np\n",
    "import pandas as pd\n",
    "import astropy.units as u\n",
    "import astropy.cosmology.units as cu\n",
    "from scipy.stats.mstats import mquantiles\n",
    "\n",
    "# this sets up matplotlib\n",
    "import matplotlib.pyplot as plt\n",
    "%matplotlib inline\n",
    "\n",
    "# this sets up astropy\n",
    "from astropy.io import fits\n",
    "from astropy.wcs import WCS\n",
    "from astropy.wcs.utils import pixel_to_skycoord\n",
    "from astropy.utils.data import get_pkg_data_filename\n",
    "from astropy.coordinates import SkyCoord, Angle, match_coordinates_sky, Distance\n",
    "from astropy.cosmology import Planck15 as cosmo\n",
    "from astropy.table import Table, unique\n",
    "\n",
    "from regions import Regions, CircleSkyRegion"
   ]
  },
  {
   "cell_type": "code",
   "execution_count": 2,
   "id": "6d36906e-b67f-4166-bbaa-3d7674ca76e9",
   "metadata": {},
   "outputs": [],
   "source": [
    "coords_df = pd.read_csv('/Users/ngbinh/Downloads/rafael_data/coordinates.txt', delimiter=' ')\n",
    "coords_df = coords_df.rename(columns={\"Id\": \"id\"})"
   ]
  },
  {
   "cell_type": "code",
   "execution_count": 5,
   "id": "a1d61e67-800c-4d33-8a11-e418dd0011fd",
   "metadata": {},
   "outputs": [],
   "source": [
    "info_df = pd.read_csv('/Users/ngbinh/Downloads/rafael_data/CIGALE_COSMOSWEB_v3.1.0.dat', delimiter=' ')"
   ]
  },
  {
   "cell_type": "code",
   "execution_count": 6,
   "id": "ab6b0529-ad35-4ae3-b0df-de707e361926",
   "metadata": {},
   "outputs": [],
   "source": [
    "# this creates a mega DataFrame \n",
    "df = pd.merge(coords_df, info_df, on=\"id\", how=\"left\")"
   ]
  },
  {
   "cell_type": "code",
   "execution_count": 7,
   "id": "d21db649-1513-4b36-8472-4b7eef22540c",
   "metadata": {},
   "outputs": [],
   "source": [
    "ras = df['alpha'].values\n",
    "decs = df['delta'].values\n",
    "redshifts = df['best.universe.redshift'].values\n",
    "\n",
    "# this creates a SkyCoord object of all the objects' RAs and Decs, so we can loop through them later.\n",
    "all_objects = SkyCoord(ra=ras*u.degree, dec=decs*u.degree)"
   ]
  },
  {
   "cell_type": "code",
   "execution_count": 11,
   "id": "8fb7d7d5-f00f-4cdf-a830-7ff321baeca7",
   "metadata": {},
   "outputs": [
    {
     "name": "stdout",
     "output_type": "stream",
     "text": [
      "1\n",
      "3\n",
      "5\n",
      "7\n",
      "9\n",
      "11\n",
      "13\n",
      "15\n"
     ]
    }
   ],
   "source": [
    "### from the arrays of RA and Dec, pick a random pair of RA and Dec and find their neighbors within a specified\n",
    "### aperture. do this 1000 times, then save the number of neighbors from each time into an array.\n",
    "\n",
    "# this creates an array of search radii\n",
    "radii_array = np.arange(1, 16, 2)\n",
    "\n",
    "# this creates an empty list of neighbor numbers for each iteration over search radii to add into\n",
    "all_numbers_of_neighbors = []\n",
    "\n",
    "# this is the loop that goes through each search radius\n",
    "for search_radius in radii_array:\n",
    "\n",
    "    # this creates an empty array to save the number of neighbors for each run with each search radius\n",
    "    number_of_neighbors = np.zeros(1000)\n",
    "        \n",
    "    # this for-loop is to run the code 1000 times\n",
    "    for i in range(1000):\n",
    "        # use np.random.uniform to find a random RA and Dec within our given boundaries\n",
    "        random_ras = np.random.uniform(np.min(ras), np.max(ras))\n",
    "        random_decs = np.random.uniform(np.min(decs), np.max(decs))\n",
    "        \n",
    "        # turn the randomly generated RA and Dec into coords to find neighbors for\n",
    "        random_coords = SkyCoord(ra=random_ras*u.degree, dec=random_decs*u.degree)\n",
    "        \n",
    "        # now, we search for all the neighbors of these random coordinates, within a given distance\n",
    "        d2d = random_coords.separation(all_objects)\n",
    "        catalog_mask = d2d < search_radius*u.arcsec\n",
    "    \n",
    "        # now, we apply a new criterion: photometric redshift \n",
    "        neighbor_ras = ras[catalog_mask]\n",
    "        neighbor_zs = redshifts[catalog_mask]\n",
    "        \n",
    "        # final selection of galaxies, which should have redshift within 3 and 4\n",
    "        final_ras = neighbor_ras[(neighbor_zs >= 3) & (neighbor_zs <= 4)]\n",
    "    \n",
    "        # this saves the number of neighbors identified in each run into the array we've made above\n",
    "        number_of_neighbors[i] = np.size(final_ras)\n",
    "\n",
    "    print(search_radius)\n",
    "    \n",
    "    all_numbers_of_neighbors.append(number_of_neighbors)"
   ]
  },
  {
   "cell_type": "code",
   "execution_count": 25,
   "id": "7cd0fde3-18b2-47f2-b30c-643cb42bd837",
   "metadata": {},
   "outputs": [],
   "source": [
    "all_numbers_of_neighbors = np.array(all_numbers_of_neighbors, dtype='object')"
   ]
  },
  {
   "cell_type": "code",
   "execution_count": 45,
   "id": "6e94e557-df46-4963-a93a-0f6eeaf1a974",
   "metadata": {},
   "outputs": [
    {
     "name": "stdout",
     "output_type": "stream",
     "text": [
      "[0.0 0.0 0.0]\n",
      "[0.0 0.0 0.0]\n",
      "[0.0 0.0 0.0]\n",
      "[0.0 0.0 1.0]\n",
      "[0.0 0.0 1.0]\n",
      "[0.0 0.0 2.0]\n",
      "[0.0 0.0 3.0]\n",
      "[0.0 0.0 4.0]\n"
     ]
    }
   ],
   "source": [
    "all_radii_means = np.zeros(np.size(radii_array))\n",
    "all_radii_percentile = np.zeros(np.size(radii_array))\n",
    "\n",
    "for x in range(np.size(radii_array)):\n",
    "    case = all_numbers_of_neighbors[x]\n",
    "#    all_radii_means[x] = np.mean(case)\n",
    "    #all_radii_percentile[x] = \n",
    "    print(mquantiles(case, alphap=0.16, betap=0.14, axis=0))"
   ]
  },
  {
   "cell_type": "code",
   "execution_count": 29,
   "id": "6ca66474-32c5-4833-9571-62478ddc4542",
   "metadata": {},
   "outputs": [],
   "source": [
    "### now, look through the 9 QGs and their identified neighbors. do the same thing as we did earlier.\n",
    "host_info = pd.read_csv('basic_data.txt', delimiter=' ', names=['name', 'RA', 'Dec', 'spec_z'])\n",
    "host_ra_arr = host_info['RA'].values\n",
    "host_dec_arr = host_info['Dec'].values\n",
    "how_many_galaxies = np.size(host_ra_arr)\n",
    "\n",
    "tentative = pd.read_csv('potential_neighbors.txt', sep='\\t')"
   ]
  },
  {
   "cell_type": "code",
   "execution_count": 31,
   "id": "d581c743-9946-4567-9a56-f382895ac367",
   "metadata": {},
   "outputs": [],
   "source": [
    "# this creates an empty list of real neighbor numbers for each iteration over search radii to add into\n",
    "all_numbers_of_real_neighbors = []\n",
    "\n",
    "# this loops through each search radius\n",
    "for search_radius in radii_array:\n",
    "\n",
    "    # this creates an empty array to save the number of neighbors for each run with each search radius\n",
    "    number_of_real_neighbors = np.zeros(how_many_galaxies)\n",
    "    \n",
    "    # this loops through the 9 QGs\n",
    "    for galaxy_number in range(how_many_galaxies):\n",
    "        # this retrieves the RA and Dec of each QG\n",
    "        host_ra = host_ra_arr[galaxy_number]\n",
    "        host_dec = host_dec_arr[galaxy_number]    \n",
    "    \n",
    "        tentative_ra = tentative[tentative['host_ra']==host_ra]['ra'].values\n",
    "        tentative_dec = tentative[tentative['host_ra']==host_ra]['dec'].values\n",
    "    \n",
    "        host_coords = SkyCoord(ra=host_ra*u.degree, dec=host_dec*u.degree)\n",
    "        tentative_objects = SkyCoord(ra=tentative_ra*u.degree, dec=tentative_dec*u.degree)\n",
    "\n",
    "        # now, we search for all the neighbors of these random coordinates, within a given distance\n",
    "        d2d = host_coords.separation(tentative_objects)\n",
    "        catalog_mask = d2d < search_radius*u.arcsec\n",
    "        neighbor_ras = tentative_ra[catalog_mask]\n",
    "    \n",
    "        # this saves the number of neighbors identified in each run into the array we've made above\n",
    "        number_of_real_neighbors[galaxy_number] = np.size(neighbor_ras)\n",
    "\n",
    "    all_numbers_of_real_neighbors.append(number_of_real_neighbors)"
   ]
  },
  {
   "cell_type": "code",
   "execution_count": 33,
   "id": "1164998f-603f-4940-99c0-7e869502814a",
   "metadata": {},
   "outputs": [],
   "source": [
    "all_numbers_of_real_neighbors = np.array(all_numbers_of_real_neighbors, dtype='object')"
   ]
  },
  {
   "cell_type": "code",
   "execution_count": 35,
   "id": "4dff3435-e6fb-4f94-9692-a35da2c83206",
   "metadata": {},
   "outputs": [],
   "source": [
    "real_raw_data = np.zeros(np.size(radii_array))\n",
    "real_radii_means = np.zeros(np.size(radii_array))\n",
    "real_radii_stdev = np.zeros(np.size(radii_array))\n",
    "\n",
    "for y in range(np.size(radii_array)):\n",
    "    case = all_numbers_of_real_neighbors[y]\n",
    "    real_raw_data[y] = np.sum(case)\n",
    "    real_radii_means[y] = np.mean(case)\n",
    "    real_radii_stdev[y] = np.std(case)"
   ]
  },
  {
   "cell_type": "code",
   "execution_count": 43,
   "id": "73790e3c-bffd-46f4-8dd9-269116c3cea0",
   "metadata": {},
   "outputs": [
    {
     "data": {
      "text/plain": [
       "Text(0.5, 1.0, 'average number of neighbors over different search radii')"
      ]
     },
     "execution_count": 43,
     "metadata": {},
     "output_type": "execute_result"
    },
    {
     "data": {
      "image/png": "[encoded data removed]",
      "text/plain": [
       "<Figure size 640x480 with 1 Axes>"
      ]
     },
     "metadata": {},
     "output_type": "display_data"
    }
   ],
   "source": [
    "plt.errorbar(radii_array, all_radii_means, all_radii_percentile, fmt='-o', capsize=3, \n",
    "             color='red', label='background COSMOS', zorder=1)\n",
    "plt.errorbar(radii_array, real_radii_means, real_radii_stdev, fmt='-o', capsize=3, color='blue', label='9 QGs')\n",
    "plt.legend()\n",
    "plt.xlabel('search radius (arcsec)')\n",
    "plt.ylabel('average number of neighbors')\n",
    "plt.title('average number of neighbors over different search radii')"
   ]
  },
  {
   "cell_type": "code",
   "execution_count": null,
   "id": "51ef9b5c-0056-4e14-b410-7589a0ddc623",
   "metadata": {},
   "outputs": [],
   "source": []
  }
 ],
 "metadata": {
  "kernelspec": {
   "display_name": "Python 3 (ipykernel)",
   "language": "python",
   "name": "python3"
  },
  "language_info": {
   "codemirror_mode": {
    "name": "ipython",
    "version": 3
   },
   "file_extension": ".py",
   "mimetype": "text/x-python",
   "name": "python",
   "nbconvert_exporter": "python",
   "pygments_lexer": "ipython3",
   "version": "3.12.2"
  }
 },
 "nbformat": 4,
 "nbformat_minor": 5
}
