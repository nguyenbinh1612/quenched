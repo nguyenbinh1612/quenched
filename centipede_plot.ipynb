{
 "cells": [
  {
   "cell_type": "code",
   "execution_count": 1,
   "id": "d8f1df4b-e964-44af-a126-d37d65fd198a",
   "metadata": {},
   "outputs": [],
   "source": [
    "# this sets up basic packages\n",
    "import numpy as np\n",
    "import pandas as pd\n",
    "import astropy.units as u\n",
    "import astropy.cosmology.units as cu\n",
    "from scipy.stats.mstats import mquantiles\n",
    "\n",
    "# this sets up matplotlib\n",
    "import matplotlib.pyplot as plt\n",
    "%matplotlib inline\n",
    "\n",
    "# this sets up astropy\n",
    "from astropy.io import fits\n",
    "from astropy.wcs import WCS\n",
    "from astropy.wcs.utils import pixel_to_skycoord\n",
    "from astropy.utils.data import get_pkg_data_filename\n",
    "from astropy.coordinates import SkyCoord, Angle, match_coordinates_sky, Distance\n",
    "from astropy.cosmology import Planck15 as cosmo\n",
    "from astropy.table import Table, unique\n",
    "\n",
    "from regions import Regions, CircleSkyRegion"
   ]
  },
  {
   "cell_type": "code",
   "execution_count": 2,
   "id": "6d36906e-b67f-4166-bbaa-3d7674ca76e9",
   "metadata": {},
   "outputs": [],
   "source": [
    "coords_df = pd.read_csv('/Users/ngbinh/Downloads/rafael_data/coordinates.txt', delimiter=' ')\n",
    "coords_df = coords_df.rename(columns={\"Id\": \"id\"})"
   ]
  },
  {
   "cell_type": "code",
   "execution_count": 3,
   "id": "a1d61e67-800c-4d33-8a11-e418dd0011fd",
   "metadata": {},
   "outputs": [],
   "source": [
    "info_df = pd.read_csv('/Users/ngbinh/Downloads/rafael_data/CIGALE_COSMOSWEB_v3.1.0.dat', delimiter=' ')"
   ]
  },
  {
   "cell_type": "code",
   "execution_count": 4,
   "id": "ab6b0529-ad35-4ae3-b0df-de707e361926",
   "metadata": {},
   "outputs": [],
   "source": [
    "# this creates a mega DataFrame \n",
    "df = pd.merge(coords_df, info_df, on=\"id\", how=\"left\")"
   ]
  },
  {
   "cell_type": "code",
   "execution_count": 5,
   "id": "d21db649-1513-4b36-8472-4b7eef22540c",
   "metadata": {},
   "outputs": [],
   "source": [
    "ras = df['alpha'].values\n",
    "decs = df['delta'].values\n",
    "redshifts = df['best.universe.redshift'].values\n",
    "\n",
    "# this creates a SkyCoord object of all the objects' RAs and Decs, so we can loop through them later.\n",
    "all_objects = SkyCoord(ra=ras*u.degree, dec=decs*u.degree)"
   ]
  },
  {
   "cell_type": "code",
   "execution_count": 6,
   "id": "8fb7d7d5-f00f-4cdf-a830-7ff321baeca7",
   "metadata": {},
   "outputs": [
    {
     "name": "stdout",
     "output_type": "stream",
     "text": [
      "1\n",
      "3\n",
      "5\n",
      "7\n",
      "9\n",
      "11\n",
      "13\n",
      "15\n"
     ]
    }
   ],
   "source": [
    "### from the arrays of RA and Dec, pick a random pair of RA and Dec and find their neighbors within a specified\n",
    "### aperture. do this 1000 times, then save the number of neighbors from each time into an array.\n",
    "\n",
    "# this creates an array of search radii\n",
    "radii_array = np.arange(1, 16, 2)\n",
    "\n",
    "# this creates an empty list of neighbor numbers for each iteration over search radii to add into\n",
    "all_numbers_of_neighbors = []\n",
    "cdfs = []\n",
    "\n",
    "# this is the loop that goes through each search radius\n",
    "for search_radius in radii_array:\n",
    "\n",
    "    # this creates an empty array to save the number of neighbors for each run with each search radius\n",
    "    number_of_neighbors = np.zeros(1000)\n",
    "        \n",
    "    # this for-loop is to run the code 1000 times\n",
    "    for i in range(1000):\n",
    "        # use np.random.uniform to find a random RA and Dec within our given boundaries\n",
    "        random_ras = np.random.uniform(np.min(ras), np.max(ras))\n",
    "        random_decs = np.random.uniform(np.min(decs), np.max(decs))\n",
    "        \n",
    "        # turn the randomly generated RA and Dec into coords to find neighbors for\n",
    "        random_coords = SkyCoord(ra=random_ras*u.degree, dec=random_decs*u.degree)\n",
    "        \n",
    "        # now, we search for all the neighbors of these random coordinates, within a given distance\n",
    "        d2d = random_coords.separation(all_objects)\n",
    "        catalog_mask = d2d < search_radius*u.arcsec\n",
    "    \n",
    "        neighbor_ras = ras[catalog_mask]\n",
    "        neighbor_zs = redshifts[catalog_mask]\n",
    "        \n",
    "        # final selection of galaxies, which should have redshift within 3 and 4\n",
    "        final_ras = neighbor_ras[(neighbor_zs >= 3) & (neighbor_zs <= 4)]\n",
    "    \n",
    "        # this saves the number of neighbors identified in each run into the array we've made above\n",
    "        number_of_neighbors[i] = np.size(final_ras)\n",
    "\n",
    "    count, bins_count = np.histogram(number_of_neighbors, bins=100)\n",
    "    pdf = count / np.sum(count) \n",
    "    cdf = np.cumsum(pdf) \n",
    "\n",
    "    print(search_radius)\n",
    "    \n",
    "    all_numbers_of_neighbors.append(number_of_neighbors)\n",
    "    cdfs.append(cdf)"
   ]
  },
  {
   "cell_type": "code",
   "execution_count": 7,
   "id": "7cd0fde3-18b2-47f2-b30c-643cb42bd837",
   "metadata": {},
   "outputs": [],
   "source": [
    "all_numbers_of_neighbors = np.array(all_numbers_of_neighbors, dtype='object')\n",
    "cdfs = np.array(cdfs, dtype='object')"
   ]
  },
  {
   "cell_type": "code",
   "execution_count": 8,
   "id": "d657c019-c6fe-4299-a915-e9e44ab3cb48",
   "metadata": {},
   "outputs": [
    {
     "name": "stdout",
     "output_type": "stream",
     "text": [
      "[[0.0 0.0 0.0 ... 0.0 0.0 0.0]\n",
      " [0.0 0.0 0.0 ... 0.0 0.0 0.0]\n",
      " [1.0 0.0 0.0 ... 0.0 0.0 0.0]\n",
      " ...\n",
      " [0.0 0.0 0.0 ... 0.0 0.0 0.0]\n",
      " [0.0 0.0 2.0 ... 0.0 0.0 1.0]\n",
      " [4.0 2.0 2.0 ... 2.0 0.0 7.0]]\n",
      "(8, 1000)\n"
     ]
    }
   ],
   "source": [
    "print(all_numbers_of_neighbors)\n",
    "print(np.shape(all_numbers_of_neighbors))"
   ]
  },
  {
   "cell_type": "code",
   "execution_count": 32,
   "id": "6e94e557-df46-4963-a93a-0f6eeaf1a974",
   "metadata": {},
   "outputs": [],
   "source": [
    "all_radii_means = np.zeros(np.size(radii_array))\n",
    "all_radii_percentile = []\n",
    "\n",
    "for x in range(np.size(radii_array)):\n",
    "    case = all_numbers_of_neighbors[x]\n",
    "    cdf = cdfs[x]\n",
    "#    print(mquantiles(case, prob=[0.16, 0.50, 0.84]))\n",
    "    all_radii_means[x]=np.mean(case)\n",
    "    all_radii_percentile.append(mquantiles(cdf, prob=[0.16, 0.50, 0.84]))"
   ]
  },
  {
   "cell_type": "code",
   "execution_count": 34,
   "id": "6ca66474-32c5-4833-9571-62478ddc4542",
   "metadata": {},
   "outputs": [],
   "source": [
    "### now, look through the 9 QGs and their identified neighbors. do the same thing as we did earlier.\n",
    "host_info = pd.read_csv('basic_data.txt', delimiter=' ', names=['name', 'RA', 'Dec', 'spec_z'])\n",
    "host_ra_arr = host_info['RA'].values\n",
    "host_dec_arr = host_info['Dec'].values\n",
    "how_many_galaxies = np.size(host_ra_arr)\n",
    "\n",
    "tentative = pd.read_csv('potential_neighbors.txt', sep='\\t')"
   ]
  },
  {
   "cell_type": "code",
   "execution_count": 36,
   "id": "f6c769fa-1b67-49ee-8044-065bee6673a6",
   "metadata": {},
   "outputs": [
    {
     "data": {
      "text/plain": [
       "[array([0.9930000000000001, 0.993, 0.993], dtype=object),\n",
       " array([0.933, 0.999, 0.999], dtype=object),\n",
       " array([0.843, 0.974, 0.9969999999999999], dtype=object),\n",
       " array([0.719, 0.9610000000000001, 0.9970000000000001], dtype=object),\n",
       " array([0.788, 0.9660000000000001, 0.9980000000000001], dtype=object),\n",
       " array([0.6920000000000001, 0.9640000000000001, 0.9970000000000001],\n",
       "       dtype=object),\n",
       " array([0.588, 0.9289999999999999, 0.9950000000000001], dtype=object),\n",
       " array([0.68, 0.9550000000000002, 0.9950000000000002], dtype=object)]"
      ]
     },
     "execution_count": 36,
     "metadata": {},
     "output_type": "execute_result"
    }
   ],
   "source": [
    "all_radii_percentile"
   ]
  },
  {
   "cell_type": "code",
   "execution_count": 16,
   "id": "d581c743-9946-4567-9a56-f382895ac367",
   "metadata": {},
   "outputs": [],
   "source": [
    "# this creates an empty list of real neighbor numbers for each iteration over search radii to add into\n",
    "all_numbers_of_real_neighbors = []\n",
    "\n",
    "# this loops through each search radius\n",
    "for search_radius in radii_array:\n",
    "\n",
    "    # this creates an empty array to save the number of neighbors for each run with each search radius\n",
    "    number_of_real_neighbors = np.zeros(how_many_galaxies)\n",
    "    \n",
    "    # this loops through the 9 QGs\n",
    "    for galaxy_number in range(how_many_galaxies):\n",
    "        # this retrieves the RA and Dec of each QG\n",
    "        host_ra = host_ra_arr[galaxy_number]\n",
    "        host_dec = host_dec_arr[galaxy_number]    \n",
    "    \n",
    "        tentative_ra = tentative[tentative['host_ra']==host_ra]['ra'].values\n",
    "        tentative_dec = tentative[tentative['host_ra']==host_ra]['dec'].values\n",
    "    \n",
    "        host_coords = SkyCoord(ra=host_ra*u.degree, dec=host_dec*u.degree)\n",
    "        tentative_objects = SkyCoord(ra=tentative_ra*u.degree, dec=tentative_dec*u.degree)\n",
    "\n",
    "        # now, we search for all the neighbors of these random coordinates, within a given distance\n",
    "        d2d = host_coords.separation(tentative_objects)\n",
    "        catalog_mask = d2d < search_radius*u.arcsec\n",
    "        neighbor_ras = tentative_ra[catalog_mask]\n",
    "    \n",
    "        # this saves the number of neighbors identified in each run into the array we've made above\n",
    "        number_of_real_neighbors[galaxy_number] = np.size(neighbor_ras)\n",
    "\n",
    "    all_numbers_of_real_neighbors.append(number_of_real_neighbors)"
   ]
  },
  {
   "cell_type": "code",
   "execution_count": 18,
   "id": "1164998f-603f-4940-99c0-7e869502814a",
   "metadata": {},
   "outputs": [],
   "source": [
    "all_numbers_of_real_neighbors = np.array(all_numbers_of_real_neighbors, dtype='object')"
   ]
  },
  {
   "cell_type": "code",
   "execution_count": 20,
   "id": "4dff3435-e6fb-4f94-9692-a35da2c83206",
   "metadata": {},
   "outputs": [],
   "source": [
    "real_raw_data = np.zeros(np.size(radii_array))\n",
    "real_radii_means = np.zeros(np.size(radii_array))\n",
    "real_radii_stdev = np.zeros(np.size(radii_array))\n",
    "\n",
    "for y in range(np.size(radii_array)):\n",
    "    case = all_numbers_of_real_neighbors[y]\n",
    "    real_raw_data[y] = np.sum(case)\n",
    "    real_radii_means[y] = np.mean(case)\n",
    "    real_radii_stdev[y] = np.std(case)"
   ]
  },
  {
   "cell_type": "code",
   "execution_count": 56,
   "id": "1b402b6a-1bda-4b77-8b90-daee7738d094",
   "metadata": {},
   "outputs": [],
   "source": [
    "all_radii_percentile=np.array(all_radii_percentile, dtype='object')\n",
    "y16 = all_radii_percentile[:,0]\n",
    "y50 = all_radii_percentile[:,1]\n",
    "y84 = all_radii_percentile[:,2]"
   ]
  },
  {
   "cell_type": "code",
   "execution_count": 116,
   "id": "73790e3c-bffd-46f4-8dd9-269116c3cea0",
   "metadata": {},
   "outputs": [
    {
     "data": {
      "image/png": "[encoded data removed]",
      "text/plain": [
       "<Figure size 1200x700 with 1 Axes>"
      ]
     },
     "metadata": {},
     "output_type": "display_data"
    }
   ],
   "source": [
    "fig, ax = plt.subplots(figsize=(12, 7))\n",
    "\n",
    "plt.errorbar(radii_array, all_radii_means, yerr=(np.abs(y50-y16), np.abs(y84-y50)), capsize=4, \n",
    "             color='#007CBE', label='background COSMOS', zorder=1, fmt='none', linewidth=2, markeredgewidth=2)\n",
    "plt.errorbar(radii_array, real_radii_means, real_radii_stdev, capsize=4, color='#EE6C4D', label='9 QGs', \n",
    "             fmt='none', linewidth=2, markeredgewidth=2)\n",
    "plt.legend(fontsize=15)\n",
    "plt.xlabel('search radius (arcsec)', fontsize=15)\n",
    "plt.ylabel('average number of neighbors', fontsize=15)\n",
    "plt.xticks(fontsize=13)\n",
    "plt.yticks(fontsize=13)\n",
    "\n",
    "fig = fig.savefig('centipede_plot.png')"
   ]
  },
  {
   "cell_type": "code",
   "execution_count": null,
   "id": "f93231e0-dea3-4b1d-8e18-891d5847dfc2",
   "metadata": {},
   "outputs": [],
   "source": []
  }
 ],
 "metadata": {
  "kernelspec": {
   "display_name": "Python 3 (ipykernel)",
   "language": "python",
   "name": "python3"
  },
  "language_info": {
   "codemirror_mode": {
    "name": "ipython",
    "version": 3
   },
   "file_extension": ".py",
   "mimetype": "text/x-python",
   "name": "python",
   "nbconvert_exporter": "python",
   "pygments_lexer": "ipython3",
   "version": "3.12.2"
  }
 },
 "nbformat": 4,
 "nbformat_minor": 5
}
